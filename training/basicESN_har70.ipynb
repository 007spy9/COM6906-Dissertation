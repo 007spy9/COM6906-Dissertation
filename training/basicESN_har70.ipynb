{
 "cells": [
  {
   "cell_type": "code",
   "id": "5e906190049577ae",
   "metadata": {
    "collapsed": true,
    "ExecuteTime": {
     "end_time": "2024-07-12T15:06:57.540304Z",
     "start_time": "2024-07-12T15:06:56.733957Z"
    }
   },
   "source": [
    "import collections\n",
    "# Prepare paths to local utilities\n",
    "import os\n",
    "import sys\n",
    "\n",
    "import matplotlib\n",
    "import numpy as np\n",
    "import pandas as pd\n",
    "import matplotlib.pyplot as plt"
   ],
   "outputs": [],
   "execution_count": 55
  },
  {
   "metadata": {
    "ExecuteTime": {
     "end_time": "2024-07-12T15:06:58.067936Z",
     "start_time": "2024-07-12T15:06:57.541806Z"
    }
   },
   "cell_type": "code",
   "source": [
    "models_path = os.path.abspath(os.path.join('..', 'model'))\n",
    "utils_path = os.path.abspath(os.path.join('..', 'util'))\n",
    "sys.path.append(models_path)\n",
    "sys.path.append(utils_path)"
   ],
   "id": "ee5051c4ff4ec4c3",
   "outputs": [],
   "execution_count": 56
  },
  {
   "metadata": {
    "ExecuteTime": {
     "end_time": "2024-07-12T15:06:59.628036Z",
     "start_time": "2024-07-12T15:06:58.070434Z"
    }
   },
   "cell_type": "code",
   "source": [
    "\n",
    "%load_ext autoreload\n",
    "%autoreload 2"
   ],
   "id": "36ee306e17e7081c",
   "outputs": [
    {
     "name": "stdout",
     "output_type": "stream",
     "text": [
      "The autoreload extension is already loaded. To reload it, use:\n",
      "  %reload_ext autoreload\n"
     ]
    }
   ],
   "execution_count": 57
  },
  {
   "metadata": {
    "ExecuteTime": {
     "end_time": "2024-07-12T15:07:00.159701Z",
     "start_time": "2024-07-12T15:06:59.629543Z"
    }
   },
   "cell_type": "code",
   "source": [
    "from download.DataDownloader import DataDownloader\n",
    "from collect.DataframeCollector import DataframeCollector\n",
    "from collect.TestSetSplitter import TestSetSplitter\n",
    "from reservoir.BasicESN import BasicESN"
   ],
   "id": "initial_id",
   "outputs": [],
   "execution_count": 58
  },
  {
   "metadata": {
    "ExecuteTime": {
     "end_time": "2024-07-12T15:07:00.693629Z",
     "start_time": "2024-07-12T15:07:00.161121Z"
    }
   },
   "cell_type": "code",
   "source": "data_path = os.path.abspath(os.path.join('..', 'data'))",
   "id": "fe8df007280f955c",
   "outputs": [],
   "execution_count": 59
  },
  {
   "metadata": {
    "ExecuteTime": {
     "end_time": "2024-07-12T15:07:02.253725Z",
     "start_time": "2024-07-12T15:07:00.695633Z"
    }
   },
   "cell_type": "code",
   "source": [
    "# Download data\n",
    "downloader = DataDownloader()\n",
    "downloader.download_data('har70plus', data_path)"
   ],
   "id": "d52bf14d95afdc74",
   "outputs": [
    {
     "name": "stdout",
     "output_type": "stream",
     "text": [
      "Dataset already downloaded\n"
     ]
    },
    {
     "data": {
      "text/plain": [
       "True"
      ]
     },
     "execution_count": 60,
     "metadata": {},
     "output_type": "execute_result"
    }
   ],
   "execution_count": 60
  },
  {
   "metadata": {
    "ExecuteTime": {
     "end_time": "2024-07-12T15:07:04.913323Z",
     "start_time": "2024-07-12T15:07:02.255227Z"
    }
   },
   "cell_type": "code",
   "source": [
    "# Collect data into dataframes\n",
    "collector = DataframeCollector()\n",
    "collector.load_full_dataset(data_path + '/har70plus')"
   ],
   "id": "939134ebf0819fe2",
   "outputs": [
    {
     "name": "stdout",
     "output_type": "stream",
     "text": [
      "Discovered  18  csv files in  E:\\PyCharm\\COM6906-Dissertation\\data/har70plus\n",
      "Loading the csv files into dataframes\n",
      "Loaded  18  dataframes\n",
      "Concatenating the dataframes\n"
     ]
    },
    {
     "data": {
      "text/plain": [
       "                       timestamp    back_x    back_y    back_z   thigh_x  \\\n",
       "0        2021-03-24 14:42:03.839 -0.999023 -0.063477  0.140625 -0.980469   \n",
       "1        2021-03-24 14:42:03.859 -0.980225 -0.079346  0.140625 -0.961182   \n",
       "2        2021-03-24 14:42:03.880 -0.950195 -0.076416  0.140625 -0.949463   \n",
       "3        2021-03-24 14:42:03.900 -0.954834 -0.059082  0.140381 -0.957520   \n",
       "4        2021-03-24 14:42:03.920 -0.972412 -0.042969  0.142822 -0.977051   \n",
       "...                          ...       ...       ...       ...       ...   \n",
       "2259592  2021-06-11 11:13:14.098 -0.960693 -0.199951 -0.330566 -0.977051   \n",
       "2259593  2021-06-11 11:13:14.118 -0.942627 -0.210205 -0.331543 -0.969482   \n",
       "2259594  2021-06-11 11:13:14.138 -0.907227 -0.190918 -0.320312 -1.048096   \n",
       "2259595  2021-06-11 11:13:14.159 -0.883057 -0.156982 -0.311279 -1.007080   \n",
       "2259596  2021-06-11 11:13:14.178 -0.877197 -0.128418 -0.315186 -0.995361   \n",
       "\n",
       "          thigh_y   thigh_z  label  record_num  \n",
       "0       -0.112061 -0.048096      6           0  \n",
       "1       -0.121582 -0.051758      6           1  \n",
       "2       -0.080566 -0.067139      6           2  \n",
       "3       -0.046143 -0.050781      6           3  \n",
       "4       -0.023682 -0.026611      6           4  \n",
       "...           ...       ...    ...         ...  \n",
       "2259592  0.006104 -0.246826      1     2259592  \n",
       "2259593  0.004883 -0.231445      1     2259593  \n",
       "2259594  0.067627 -0.234375      1     2259594  \n",
       "2259595  0.063965 -0.248047      1     2259595  \n",
       "2259596  0.083496 -0.232178      1     2259596  \n",
       "\n",
       "[2259597 rows x 9 columns]"
      ],
      "text/html": [
       "<div>\n",
       "<style scoped>\n",
       "    .dataframe tbody tr th:only-of-type {\n",
       "        vertical-align: middle;\n",
       "    }\n",
       "\n",
       "    .dataframe tbody tr th {\n",
       "        vertical-align: top;\n",
       "    }\n",
       "\n",
       "    .dataframe thead th {\n",
       "        text-align: right;\n",
       "    }\n",
       "</style>\n",
       "<table border=\"1\" class=\"dataframe\">\n",
       "  <thead>\n",
       "    <tr style=\"text-align: right;\">\n",
       "      <th></th>\n",
       "      <th>timestamp</th>\n",
       "      <th>back_x</th>\n",
       "      <th>back_y</th>\n",
       "      <th>back_z</th>\n",
       "      <th>thigh_x</th>\n",
       "      <th>thigh_y</th>\n",
       "      <th>thigh_z</th>\n",
       "      <th>label</th>\n",
       "      <th>record_num</th>\n",
       "    </tr>\n",
       "  </thead>\n",
       "  <tbody>\n",
       "    <tr>\n",
       "      <th>0</th>\n",
       "      <td>2021-03-24 14:42:03.839</td>\n",
       "      <td>-0.999023</td>\n",
       "      <td>-0.063477</td>\n",
       "      <td>0.140625</td>\n",
       "      <td>-0.980469</td>\n",
       "      <td>-0.112061</td>\n",
       "      <td>-0.048096</td>\n",
       "      <td>6</td>\n",
       "      <td>0</td>\n",
       "    </tr>\n",
       "    <tr>\n",
       "      <th>1</th>\n",
       "      <td>2021-03-24 14:42:03.859</td>\n",
       "      <td>-0.980225</td>\n",
       "      <td>-0.079346</td>\n",
       "      <td>0.140625</td>\n",
       "      <td>-0.961182</td>\n",
       "      <td>-0.121582</td>\n",
       "      <td>-0.051758</td>\n",
       "      <td>6</td>\n",
       "      <td>1</td>\n",
       "    </tr>\n",
       "    <tr>\n",
       "      <th>2</th>\n",
       "      <td>2021-03-24 14:42:03.880</td>\n",
       "      <td>-0.950195</td>\n",
       "      <td>-0.076416</td>\n",
       "      <td>0.140625</td>\n",
       "      <td>-0.949463</td>\n",
       "      <td>-0.080566</td>\n",
       "      <td>-0.067139</td>\n",
       "      <td>6</td>\n",
       "      <td>2</td>\n",
       "    </tr>\n",
       "    <tr>\n",
       "      <th>3</th>\n",
       "      <td>2021-03-24 14:42:03.900</td>\n",
       "      <td>-0.954834</td>\n",
       "      <td>-0.059082</td>\n",
       "      <td>0.140381</td>\n",
       "      <td>-0.957520</td>\n",
       "      <td>-0.046143</td>\n",
       "      <td>-0.050781</td>\n",
       "      <td>6</td>\n",
       "      <td>3</td>\n",
       "    </tr>\n",
       "    <tr>\n",
       "      <th>4</th>\n",
       "      <td>2021-03-24 14:42:03.920</td>\n",
       "      <td>-0.972412</td>\n",
       "      <td>-0.042969</td>\n",
       "      <td>0.142822</td>\n",
       "      <td>-0.977051</td>\n",
       "      <td>-0.023682</td>\n",
       "      <td>-0.026611</td>\n",
       "      <td>6</td>\n",
       "      <td>4</td>\n",
       "    </tr>\n",
       "    <tr>\n",
       "      <th>...</th>\n",
       "      <td>...</td>\n",
       "      <td>...</td>\n",
       "      <td>...</td>\n",
       "      <td>...</td>\n",
       "      <td>...</td>\n",
       "      <td>...</td>\n",
       "      <td>...</td>\n",
       "      <td>...</td>\n",
       "      <td>...</td>\n",
       "    </tr>\n",
       "    <tr>\n",
       "      <th>2259592</th>\n",
       "      <td>2021-06-11 11:13:14.098</td>\n",
       "      <td>-0.960693</td>\n",
       "      <td>-0.199951</td>\n",
       "      <td>-0.330566</td>\n",
       "      <td>-0.977051</td>\n",
       "      <td>0.006104</td>\n",
       "      <td>-0.246826</td>\n",
       "      <td>1</td>\n",
       "      <td>2259592</td>\n",
       "    </tr>\n",
       "    <tr>\n",
       "      <th>2259593</th>\n",
       "      <td>2021-06-11 11:13:14.118</td>\n",
       "      <td>-0.942627</td>\n",
       "      <td>-0.210205</td>\n",
       "      <td>-0.331543</td>\n",
       "      <td>-0.969482</td>\n",
       "      <td>0.004883</td>\n",
       "      <td>-0.231445</td>\n",
       "      <td>1</td>\n",
       "      <td>2259593</td>\n",
       "    </tr>\n",
       "    <tr>\n",
       "      <th>2259594</th>\n",
       "      <td>2021-06-11 11:13:14.138</td>\n",
       "      <td>-0.907227</td>\n",
       "      <td>-0.190918</td>\n",
       "      <td>-0.320312</td>\n",
       "      <td>-1.048096</td>\n",
       "      <td>0.067627</td>\n",
       "      <td>-0.234375</td>\n",
       "      <td>1</td>\n",
       "      <td>2259594</td>\n",
       "    </tr>\n",
       "    <tr>\n",
       "      <th>2259595</th>\n",
       "      <td>2021-06-11 11:13:14.159</td>\n",
       "      <td>-0.883057</td>\n",
       "      <td>-0.156982</td>\n",
       "      <td>-0.311279</td>\n",
       "      <td>-1.007080</td>\n",
       "      <td>0.063965</td>\n",
       "      <td>-0.248047</td>\n",
       "      <td>1</td>\n",
       "      <td>2259595</td>\n",
       "    </tr>\n",
       "    <tr>\n",
       "      <th>2259596</th>\n",
       "      <td>2021-06-11 11:13:14.178</td>\n",
       "      <td>-0.877197</td>\n",
       "      <td>-0.128418</td>\n",
       "      <td>-0.315186</td>\n",
       "      <td>-0.995361</td>\n",
       "      <td>0.083496</td>\n",
       "      <td>-0.232178</td>\n",
       "      <td>1</td>\n",
       "      <td>2259596</td>\n",
       "    </tr>\n",
       "  </tbody>\n",
       "</table>\n",
       "<p>2259597 rows × 9 columns</p>\n",
       "</div>"
      ]
     },
     "execution_count": 61,
     "metadata": {},
     "output_type": "execute_result"
    }
   ],
   "execution_count": 61
  },
  {
   "metadata": {
    "ExecuteTime": {
     "end_time": "2024-07-12T15:14:27.031564Z",
     "start_time": "2024-07-12T15:14:24.306191Z"
    }
   },
   "cell_type": "code",
   "source": [
    "# The collector provides one large dataframe with all the data concatenated, and also an array of dataframes, one for each subject\n",
    "dataframes = collector.get_dataframes()\n",
    "\n",
    "test_split = 0.2\n",
    "train_split = 1 - test_split\n",
    "validation_split = 0.2\n",
    "\n",
    "validation_from_train = True\n",
    "use_slices = True\n",
    "\n",
    "splitter = TestSetSplitter(test_split=test_split, val_split=validation_split, val_from_train=validation_from_train, seed=1234)\n",
    "train, val, test = splitter.split(dataframes, use_slices=use_slices)"
   ],
   "id": "80642e06b6ed24b9",
   "outputs": [
    {
     "name": "stdout",
     "output_type": "stream",
     "text": [
      "Data shape:  [(103860, 9), (131367, 9), (116413, 9), (150758, 9), (87006, 9), (122714, 9), (120125, 9), (130494, 9), (121763, 9), (122061, 9), (128063, 9), (119310, 9), (123599, 9), (101510, 9), (153517, 9), (138278, 9), (147045, 9), (141714, 9)]\n"
     ]
    }
   ],
   "execution_count": 69
  },
  {
   "metadata": {
    "ExecuteTime": {
     "end_time": "2024-07-12T15:16:10.054825Z",
     "start_time": "2024-07-12T15:16:09.378022Z"
    }
   },
   "cell_type": "code",
   "source": [
    "slice_size = 128\n",
    "slices_in_df_1 = len(collector.get_dataframes()[0]) // slice_size\n",
    "\n",
    "print(len(train), len(val), len(test))"
   ],
   "id": "e9eae5f5134357ed",
   "outputs": [
    {
     "name": "stdout",
     "output_type": "stream",
     "text": [
      "3240 10033 4390\n"
     ]
    }
   ],
   "execution_count": 75
  },
  {
   "metadata": {
    "ExecuteTime": {
     "end_time": "2024-07-12T15:16:13.124457Z",
     "start_time": "2024-07-12T15:16:10.056828Z"
    }
   },
   "cell_type": "code",
   "source": [
    "# Lets plot the data on a graph, colouring by whether it is train, val or test data\n",
    "# Plot the column for back_x\n",
    "plt.figure(figsize=(15, 5))\n",
    "if (use_slices):\n",
    "    train_slice = int(((slices_in_df_1 * train_split) * (1 - validation_split)) if validation_from_train else (slices_in_df_1 * (1 - test_split - validation_split)))\n",
    "    for i, df in enumerate(train[:train_slice]):\n",
    "        plt.plot(df['back_x'], label='Train', color='blue')\n",
    "    \n",
    "    val_slice = int((slices_in_df_1 * train_split) * validation_split) if validation_from_train else (slices_in_df_1 * validation_split)\n",
    "    for i, df in enumerate(val[:val_slice]):\n",
    "        plt.plot(df['back_x'], label='Val', color='orange')\n",
    "    \n",
    "    test_slice = int((slices_in_df_1 * test_split))\n",
    "    for i, df in enumerate(test[:test_slice]):\n",
    "        plt.plot(df['back_x'], label='Test', color='green')\n",
    "        \n",
    "    # Define a custom legend\n",
    "    from matplotlib.lines import Line2D\n",
    "    custom_lines = [Line2D([0], [0], color='blue', lw=2),\n",
    "                    Line2D([0], [0], color='orange', lw=2),\n",
    "                    Line2D([0], [0], color='green', lw=2)]\n",
    "    plt.legend(custom_lines, ['Train', 'Val', 'Test'])\n",
    "else:\n",
    "    plt.plot(train[0]['back_x'], label='Train', color='blue')\n",
    "    plt.plot(val[0]['back_x'], label='Val', color='orange')\n",
    "    plt.plot(test[0]['back_x'], label='Test', color='green')\n",
    "    plt.legend()\n",
    "    \n",
    "plt.title(f'Example of train, val and test data for one subject (back_x) using the properties (test_split={test_split}, val_split={validation_split}, val_from_train={validation_from_train}, use_slices={use_slices})')\n",
    "plt.tight_layout()\n",
    "plt.show()"
   ],
   "id": "d8902301a8aa8019",
   "outputs": [
    {
     "data": {
      "text/plain": [
       "<Figure size 1500x500 with 1 Axes>"
      ],
      "image/png": "[encoded data removed]"
     },
     "metadata": {},
     "output_type": "display_data"
    }
   ],
   "execution_count": 76
  }
 ],
 "metadata": {
  "kernelspec": {
   "display_name": "Python 3",
   "language": "python",
   "name": "python3"
  },
  "language_info": {
   "codemirror_mode": {
    "name": "ipython",
    "version": 2
   },
   "file_extension": ".py",
   "mimetype": "text/x-python",
   "name": "python",
   "nbconvert_exporter": "python",
   "pygments_lexer": "ipython2",
   "version": "2.7.6"
  }
 },
 "nbformat": 4,
 "nbformat_minor": 5
}
