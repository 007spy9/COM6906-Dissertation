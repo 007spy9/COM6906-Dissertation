{
 "cells": [
  {
   "cell_type": "code",
   "id": "5e906190049577ae",
   "metadata": {
    "collapsed": true,
    "jupyter": {
     "outputs_hidden": true
    },
    "ExecuteTime": {
     "end_time": "2024-08-06T12:45:43.359595Z",
     "start_time": "2024-08-06T12:45:43.344562Z"
    }
   },
   "source": [
    "import collections\n",
    "# Prepare paths to local utilities\n",
    "import os\n",
    "import sys\n",
    "\n",
    "import matplotlib\n",
    "import numpy as np\n",
    "import pandas as pd\n",
    "import matplotlib.pyplot as plt"
   ],
   "outputs": [],
   "execution_count": 1
  },
  {
   "metadata": {
    "ExecuteTime": {
     "end_time": "2024-08-06T12:45:43.404183Z",
     "start_time": "2024-08-06T12:45:43.362607Z"
    }
   },
   "cell_type": "code",
   "source": [
    "is_kaggle = (os.environ.get(\"PWD\", \"\") == \"/kaggle/working\")\n",
    "print(f\"Are we running in Kaggle? {is_kaggle}\")"
   ],
   "id": "a0937184d362b384",
   "outputs": [
    {
     "name": "stdout",
     "output_type": "stream",
     "text": [
      "Are we running in Kaggle? False\n"
     ]
    }
   ],
   "execution_count": 2
  },
  {
   "cell_type": "code",
   "id": "ee5051c4ff4ec4c3",
   "metadata": {
    "ExecuteTime": {
     "end_time": "2024-08-06T12:46:04.390476Z",
     "start_time": "2024-08-06T12:45:43.408688Z"
    }
   },
   "source": [
    "if not is_kaggle:\n",
    "    models_path = os.path.abspath(os.path.join('..', 'model'))\n",
    "    utils_path = os.path.abspath(os.path.join('..', 'util'))\n",
    "    sys.path.append(models_path)\n",
    "    sys.path.append(utils_path)\n",
    "\n",
    "    %load_ext autoreload\n",
    "    %autoreload 2\n",
    "\n",
    "    from download.DataDownloader import DataDownloader\n",
    "    from collect.DataframeCollector import DataframeCollector\n",
    "    from collect.TestSetSplitter import TestSetSplitter\n",
    "    from reservoir.BasicESNCuda import BasicESNCuda as BasicESN\n",
    "    from reservoir.ESNUtil import generate_input_weights\n",
    "\n",
    "else:\n",
    "    from datadownloader.datadownloader import DataDownloader\n",
    "    from dataframecollector.dataframecollector import DataframeCollector\n",
    "    from testsetsplitter.testsetsplitter import TestSetSplitter\n",
    "    from basicesncuda.basicesncuda import BasicESNCuda as BasicESN\n",
    "    from esnutil.esnutil import generate_input_weights"
   ],
   "outputs": [],
   "execution_count": 3
  },
  {
   "metadata": {
    "ExecuteTime": {
     "end_time": "2024-08-06T12:46:06.222125Z",
     "start_time": "2024-08-06T12:46:04.391902Z"
    }
   },
   "cell_type": "code",
   "source": [
    "import joblib\n",
    "from joblib import Parallel, delayed\n",
    "from tqdm import tqdm\n",
    "import contextlib\n",
    "\n",
    "@contextlib.contextmanager\n",
    "def tqdm_joblib(tqdm_object):\n",
    "    '''\n",
    "    Context manager to patch joblib to report into tqdm progress bar given as argument\n",
    "    :param tqdm_object: The tqdm progress bar\n",
    "    '''\n",
    "    class TqdmBatchCompletionCallback(joblib.parallel.BatchCompletionCallBack):\n",
    "\n",
    "        def __call__(self, *args, **kwargs):\n",
    "            tqdm_object.update(n=self.batch_size)\n",
    "            return super().__call__(*args, **kwargs)\n",
    "\n",
    "    old_batch_callback = joblib.parallel.BatchCompletionCallBack\n",
    "    joblib.parallel.BatchCompletionCallBack = TqdmBatchCompletionCallback\n",
    "\n",
    "    try:\n",
    "        yield tqdm_object\n",
    "    finally:\n",
    "        joblib.parallel.BatchCompletionCallBack = old_batch_callback\n",
    "        tqdm_object.close()"
   ],
   "id": "93d688dede7ba64",
   "outputs": [],
   "execution_count": 4
  },
  {
   "cell_type": "code",
   "id": "fe8df007280f955c",
   "metadata": {
    "ExecuteTime": {
     "end_time": "2024-08-06T12:46:06.986851Z",
     "start_time": "2024-08-06T12:46:06.224011Z"
    }
   },
   "source": [
    "if is_kaggle:\n",
    "    data_path = '/kaggle/input/har70'\n",
    "else:\n",
    "    data_path = os.path.abspath(os.path.join('..', 'data'))"
   ],
   "outputs": [],
   "execution_count": 5
  },
  {
   "cell_type": "code",
   "id": "d52bf14d95afdc74",
   "metadata": {
    "ExecuteTime": {
     "end_time": "2024-08-06T12:46:07.749871Z",
     "start_time": "2024-08-06T12:46:06.988352Z"
    }
   },
   "source": [
    "if not is_kaggle:\n",
    "    # Download data\n",
    "    downloader = DataDownloader()\n",
    "    downloader.download_data('har70plus', data_path)"
   ],
   "outputs": [
    {
     "name": "stdout",
     "output_type": "stream",
     "text": [
      "Dataset already downloaded\n"
     ]
    }
   ],
   "execution_count": 6
  },
  {
   "cell_type": "code",
   "id": "939134ebf0819fe2",
   "metadata": {
    "ExecuteTime": {
     "end_time": "2024-08-06T12:46:12.937996Z",
     "start_time": "2024-08-06T12:46:07.751834Z"
    }
   },
   "source": [
    "# Collect data into dataframes\n",
    "collector = DataframeCollector()\n",
    "collector.load_full_dataset(data_path + '/har70plus')"
   ],
   "outputs": [
    {
     "name": "stdout",
     "output_type": "stream",
     "text": [
      "Discovered  18  csv files in  E:\\PyCharm\\COM6906-Dissertation\\data/har70plus\n",
      "Loading the csv files into dataframes\n",
      "Loaded  18  dataframes\n",
      "Concatenating the dataframes\n"
     ]
    },
    {
     "data": {
      "text/plain": [
       "                       timestamp    back_x    back_y    back_z   thigh_x  \\\n",
       "0        2021-03-24 14:42:03.839 -0.999023 -0.063477  0.140625 -0.980469   \n",
       "1        2021-03-24 14:42:03.859 -0.980225 -0.079346  0.140625 -0.961182   \n",
       "2        2021-03-24 14:42:03.880 -0.950195 -0.076416  0.140625 -0.949463   \n",
       "3        2021-03-24 14:42:03.900 -0.954834 -0.059082  0.140381 -0.957520   \n",
       "4        2021-03-24 14:42:03.920 -0.972412 -0.042969  0.142822 -0.977051   \n",
       "...                          ...       ...       ...       ...       ...   \n",
       "2259592  2021-06-11 11:13:14.098 -0.960693 -0.199951 -0.330566 -0.977051   \n",
       "2259593  2021-06-11 11:13:14.118 -0.942627 -0.210205 -0.331543 -0.969482   \n",
       "2259594  2021-06-11 11:13:14.138 -0.907227 -0.190918 -0.320312 -1.048096   \n",
       "2259595  2021-06-11 11:13:14.159 -0.883057 -0.156982 -0.311279 -1.007080   \n",
       "2259596  2021-06-11 11:13:14.178 -0.877197 -0.128418 -0.315186 -0.995361   \n",
       "\n",
       "          thigh_y   thigh_z  label  record_num  \n",
       "0       -0.112061 -0.048096      6           0  \n",
       "1       -0.121582 -0.051758      6           1  \n",
       "2       -0.080566 -0.067139      6           2  \n",
       "3       -0.046143 -0.050781      6           3  \n",
       "4       -0.023682 -0.026611      6           4  \n",
       "...           ...       ...    ...         ...  \n",
       "2259592  0.006104 -0.246826      1     2259592  \n",
       "2259593  0.004883 -0.231445      1     2259593  \n",
       "2259594  0.067627 -0.234375      1     2259594  \n",
       "2259595  0.063965 -0.248047      1     2259595  \n",
       "2259596  0.083496 -0.232178      1     2259596  \n",
       "\n",
       "[2259597 rows x 9 columns]"
      ],
      "text/html": [
       "<div>\n",
       "<style scoped>\n",
       "    .dataframe tbody tr th:only-of-type {\n",
       "        vertical-align: middle;\n",
       "    }\n",
       "\n",
       "    .dataframe tbody tr th {\n",
       "        vertical-align: top;\n",
       "    }\n",
       "\n",
       "    .dataframe thead th {\n",
       "        text-align: right;\n",
       "    }\n",
       "</style>\n",
       "<table border=\"1\" class=\"dataframe\">\n",
       "  <thead>\n",
       "    <tr style=\"text-align: right;\">\n",
       "      <th></th>\n",
       "      <th>timestamp</th>\n",
       "      <th>back_x</th>\n",
       "      <th>back_y</th>\n",
       "      <th>back_z</th>\n",
       "      <th>thigh_x</th>\n",
       "      <th>thigh_y</th>\n",
       "      <th>thigh_z</th>\n",
       "      <th>label</th>\n",
       "      <th>record_num</th>\n",
       "    </tr>\n",
       "  </thead>\n",
       "  <tbody>\n",
       "    <tr>\n",
       "      <th>0</th>\n",
       "      <td>2021-03-24 14:42:03.839</td>\n",
       "      <td>-0.999023</td>\n",
       "      <td>-0.063477</td>\n",
       "      <td>0.140625</td>\n",
       "      <td>-0.980469</td>\n",
       "      <td>-0.112061</td>\n",
       "      <td>-0.048096</td>\n",
       "      <td>6</td>\n",
       "      <td>0</td>\n",
       "    </tr>\n",
       "    <tr>\n",
       "      <th>1</th>\n",
       "      <td>2021-03-24 14:42:03.859</td>\n",
       "      <td>-0.980225</td>\n",
       "      <td>-0.079346</td>\n",
       "      <td>0.140625</td>\n",
       "      <td>-0.961182</td>\n",
       "      <td>-0.121582</td>\n",
       "      <td>-0.051758</td>\n",
       "      <td>6</td>\n",
       "      <td>1</td>\n",
       "    </tr>\n",
       "    <tr>\n",
       "      <th>2</th>\n",
       "      <td>2021-03-24 14:42:03.880</td>\n",
       "      <td>-0.950195</td>\n",
       "      <td>-0.076416</td>\n",
       "      <td>0.140625</td>\n",
       "      <td>-0.949463</td>\n",
       "      <td>-0.080566</td>\n",
       "      <td>-0.067139</td>\n",
       "      <td>6</td>\n",
       "      <td>2</td>\n",
       "    </tr>\n",
       "    <tr>\n",
       "      <th>3</th>\n",
       "      <td>2021-03-24 14:42:03.900</td>\n",
       "      <td>-0.954834</td>\n",
       "      <td>-0.059082</td>\n",
       "      <td>0.140381</td>\n",
       "      <td>-0.957520</td>\n",
       "      <td>-0.046143</td>\n",
       "      <td>-0.050781</td>\n",
       "      <td>6</td>\n",
       "      <td>3</td>\n",
       "    </tr>\n",
       "    <tr>\n",
       "      <th>4</th>\n",
       "      <td>2021-03-24 14:42:03.920</td>\n",
       "      <td>-0.972412</td>\n",
       "      <td>-0.042969</td>\n",
       "      <td>0.142822</td>\n",
       "      <td>-0.977051</td>\n",
       "      <td>-0.023682</td>\n",
       "      <td>-0.026611</td>\n",
       "      <td>6</td>\n",
       "      <td>4</td>\n",
       "    </tr>\n",
       "    <tr>\n",
       "      <th>...</th>\n",
       "      <td>...</td>\n",
       "      <td>...</td>\n",
       "      <td>...</td>\n",
       "      <td>...</td>\n",
       "      <td>...</td>\n",
       "      <td>...</td>\n",
       "      <td>...</td>\n",
       "      <td>...</td>\n",
       "      <td>...</td>\n",
       "    </tr>\n",
       "    <tr>\n",
       "      <th>2259592</th>\n",
       "      <td>2021-06-11 11:13:14.098</td>\n",
       "      <td>-0.960693</td>\n",
       "      <td>-0.199951</td>\n",
       "      <td>-0.330566</td>\n",
       "      <td>-0.977051</td>\n",
       "      <td>0.006104</td>\n",
       "      <td>-0.246826</td>\n",
       "      <td>1</td>\n",
       "      <td>2259592</td>\n",
       "    </tr>\n",
       "    <tr>\n",
       "      <th>2259593</th>\n",
       "      <td>2021-06-11 11:13:14.118</td>\n",
       "      <td>-0.942627</td>\n",
       "      <td>-0.210205</td>\n",
       "      <td>-0.331543</td>\n",
       "      <td>-0.969482</td>\n",
       "      <td>0.004883</td>\n",
       "      <td>-0.231445</td>\n",
       "      <td>1</td>\n",
       "      <td>2259593</td>\n",
       "    </tr>\n",
       "    <tr>\n",
       "      <th>2259594</th>\n",
       "      <td>2021-06-11 11:13:14.138</td>\n",
       "      <td>-0.907227</td>\n",
       "      <td>-0.190918</td>\n",
       "      <td>-0.320312</td>\n",
       "      <td>-1.048096</td>\n",
       "      <td>0.067627</td>\n",
       "      <td>-0.234375</td>\n",
       "      <td>1</td>\n",
       "      <td>2259594</td>\n",
       "    </tr>\n",
       "    <tr>\n",
       "      <th>2259595</th>\n",
       "      <td>2021-06-11 11:13:14.159</td>\n",
       "      <td>-0.883057</td>\n",
       "      <td>-0.156982</td>\n",
       "      <td>-0.311279</td>\n",
       "      <td>-1.007080</td>\n",
       "      <td>0.063965</td>\n",
       "      <td>-0.248047</td>\n",
       "      <td>1</td>\n",
       "      <td>2259595</td>\n",
       "    </tr>\n",
       "    <tr>\n",
       "      <th>2259596</th>\n",
       "      <td>2021-06-11 11:13:14.178</td>\n",
       "      <td>-0.877197</td>\n",
       "      <td>-0.128418</td>\n",
       "      <td>-0.315186</td>\n",
       "      <td>-0.995361</td>\n",
       "      <td>0.083496</td>\n",
       "      <td>-0.232178</td>\n",
       "      <td>1</td>\n",
       "      <td>2259596</td>\n",
       "    </tr>\n",
       "  </tbody>\n",
       "</table>\n",
       "<p>2259597 rows × 9 columns</p>\n",
       "</div>"
      ]
     },
     "execution_count": 7,
     "metadata": {},
     "output_type": "execute_result"
    }
   ],
   "execution_count": 7
  },
  {
   "cell_type": "code",
   "id": "80642e06b6ed24b9",
   "metadata": {
    "ExecuteTime": {
     "end_time": "2024-08-06T12:46:14.054039Z",
     "start_time": "2024-08-06T12:46:12.939497Z"
    }
   },
   "source": [
    "# The collector provides one large dataframe with all the data concatenated, and also an array of dataframes, one for each subject\n",
    "dataframes = collector.get_dataframes()\n",
    "full_data = collector.get_collected_data()\n",
    "\n",
    "features = full_data[['back_x', 'back_y', 'back_z', 'thigh_x', 'thigh_y', 'thigh_z', 'record_num', 'timestamp']]\n",
    "labels = full_data['label']\n",
    "\n",
    "test_split = 0.2\n",
    "train_split = 1 - test_split\n",
    "validation_split = 0.2\n",
    "\n",
    "validation_from_train = True\n",
    "use_slices = False\n",
    "\n",
    "splitter = TestSetSplitter(test_split=test_split, val_split=validation_split, val_from_train=validation_from_train, seed=1234)\n",
    "train, val, test = splitter.split(dataframes, use_slices=use_slices)"
   ],
   "outputs": [
    {
     "name": "stdout",
     "output_type": "stream",
     "text": [
      "Data shape:  [(103860, 9), (131367, 9), (116413, 9), (150758, 9), (87006, 9), (122714, 9), (120125, 9), (130494, 9), (121763, 9), (122061, 9), (128063, 9), (119310, 9), (123599, 9), (101510, 9), (153517, 9), (138278, 9), (147045, 9), (141714, 9)]\n"
     ]
    }
   ],
   "execution_count": 8
  },
  {
   "metadata": {
    "ExecuteTime": {
     "end_time": "2024-08-06T12:46:15.890821Z",
     "start_time": "2024-08-06T12:46:14.057045Z"
    }
   },
   "cell_type": "code",
   "source": [
    "slice_size = 128\n",
    "slices_in_df_1 = len(collector.get_dataframes()[0]) // slice_size\n",
    "\n",
    "print(len(train), len(val), len(test))"
   ],
   "id": "2ce5120c67372faa",
   "outputs": [
    {
     "name": "stdout",
     "output_type": "stream",
     "text": [
      "17 17 18\n"
     ]
    }
   ],
   "execution_count": 9
  },
  {
   "cell_type": "code",
   "id": "d8902301a8aa8019",
   "metadata": {
    "ExecuteTime": {
     "end_time": "2024-08-06T12:46:17.584864Z",
     "start_time": "2024-08-06T12:46:15.892324Z"
    }
   },
   "source": [
    "# Lets plot the data on a graph, colouring by whether it is train, val or test data\n",
    "# Plot the column for back_x\n",
    "plt.figure(figsize=(15, 5))\n",
    "if (use_slices):\n",
    "    train_slice = int(((slices_in_df_1 * train_split) * (1 - validation_split)) if validation_from_train else (slices_in_df_1 * (1 - test_split - validation_split)))\n",
    "    for i, df in enumerate(train[:train_slice]):\n",
    "        plt.plot(df['back_x'], label='Train', color='blue')\n",
    "\n",
    "    val_slice = int((slices_in_df_1 * train_split) * validation_split) if validation_from_train else (slices_in_df_1 * validation_split)\n",
    "    for i, df in enumerate(val[:val_slice]):\n",
    "        plt.plot(df['back_x'], label='Val', color='orange')\n",
    "\n",
    "    test_slice = int((slices_in_df_1 * test_split))\n",
    "    for i, df in enumerate(test[:test_slice]):\n",
    "        plt.plot(df['back_x'], label='Test', color='green')\n",
    "\n",
    "    # Define a custom legend\n",
    "    from matplotlib.lines import Line2D\n",
    "    custom_lines = [Line2D([0], [0], color='blue', lw=2),\n",
    "                    Line2D([0], [0], color='orange', lw=2),\n",
    "                    Line2D([0], [0], color='green', lw=2)]\n",
    "    plt.legend(custom_lines, ['Train', 'Val', 'Test'])\n",
    "else:\n",
    "    plt.plot(train[0]['back_x'], label='Train', color='blue')\n",
    "    plt.plot(val[0]['back_x'], label='Val', color='orange')\n",
    "    plt.plot(test[0]['back_x'], label='Test', color='green')\n",
    "    plt.legend()\n",
    "    \n",
    "plt.title(f'Example of train, val and test data for one subject (back_x) using the properties (test_split={test_split}, val_split={validation_split}, val_from_train={validation_from_train}, use_slices={use_slices})')\n",
    "plt.tight_layout()\n",
    "plt.show()"
   ],
   "outputs": [
    {
     "data": {
      "text/plain": [
       "<Figure size 1500x500 with 1 Axes>"
      ],
      "image/png": "[encoded data removed]"
     },
     "metadata": {},
     "output_type": "display_data"
    }
   ],
   "execution_count": 10
  },
  {
   "cell_type": "code",
   "id": "b115545c53094840",
   "metadata": {
    "ExecuteTime": {
     "end_time": "2024-08-06T12:46:19.403121Z",
     "start_time": "2024-08-06T12:46:17.585864Z"
    }
   },
   "source": [
    "# To use this ESN, we need to concatenate all of the training data into one large dataframe\n",
    "train_df = pd.concat(train)"
   ],
   "outputs": [],
   "execution_count": 11
  },
  {
   "cell_type": "code",
   "id": "fbaf422a2e34b5d",
   "metadata": {
    "ExecuteTime": {
     "end_time": "2024-08-06T12:46:20.118254Z",
     "start_time": "2024-08-06T12:46:19.408126Z"
    }
   },
   "source": [
    "# Check the shape of the dataframe\n",
    "train_df.shape"
   ],
   "outputs": [
    {
     "data": {
      "text/plain": [
       "(1357646, 9)"
      ]
     },
     "execution_count": 12,
     "metadata": {},
     "output_type": "execute_result"
    }
   ],
   "execution_count": 12
  },
  {
   "cell_type": "code",
   "id": "5c86ebcd442ba583",
   "metadata": {
    "ExecuteTime": {
     "end_time": "2024-08-06T12:46:21.019867Z",
     "start_time": "2024-08-06T12:46:20.120255Z"
    }
   },
   "source": [
    "# Let's split the data into input and output, where the input is the 6 columns ['back_x', 'back_y', 'back_z', 'thigh_x', 'thigh_y', 'thigh_z'] and the output is the label column 'label'\n",
    "input_columns = ['back_x', 'back_y', 'back_z', 'thigh_x', 'thigh_y', 'thigh_z']\n",
    "output_columns = ['label']\n",
    "\n",
    "X_train = train_df[input_columns].values\n",
    "y_train = train_df[output_columns].values\n",
    "\n",
    "X_train.shape, y_train.shape"
   ],
   "outputs": [
    {
     "data": {
      "text/plain": [
       "((1357646, 6), (1357646, 1))"
      ]
     },
     "execution_count": 13,
     "metadata": {},
     "output_type": "execute_result"
    }
   ],
   "execution_count": 13
  },
  {
   "cell_type": "code",
   "id": "38e1622d5033b8d6",
   "metadata": {
    "ExecuteTime": {
     "end_time": "2024-08-06T12:46:22.851951Z",
     "start_time": "2024-08-06T12:46:21.021367Z"
    }
   },
   "source": [
    "# The label can be one of 7 values, so we need to one-hot encode it\n",
    "from sklearn.preprocessing import OneHotEncoder\n",
    "\n",
    "# The 7 values it can be are [1,3,4,5,6,7,8]\n",
    "\n",
    "# Create the encoder\n",
    "encoder = OneHotEncoder(categories='auto')\n",
    "\n",
    "# Fit the encoder to the labels\n",
    "encoder.fit(y_train)\n",
    "\n",
    "# Transform the labels\n",
    "y_train = encoder.transform(y_train).toarray()\n",
    "\n",
    "# Check the shape of the one-hot encoded labels\n",
    "y_train.shape\n"
   ],
   "outputs": [
    {
     "data": {
      "text/plain": [
       "(1357646, 7)"
      ]
     },
     "execution_count": 14,
     "metadata": {},
     "output_type": "execute_result"
    }
   ],
   "execution_count": 14
  },
  {
   "cell_type": "code",
   "id": "7dc99e6ca813ae49",
   "metadata": {
    "ExecuteTime": {
     "end_time": "2024-08-06T12:46:23.540386Z",
     "start_time": "2024-08-06T12:46:22.853455Z"
    }
   },
   "source": [
    "# Get the first few rows of the one-hot encoded labels\n",
    "y_train[:5]"
   ],
   "outputs": [
    {
     "data": {
      "text/plain": [
       "array([[0., 0., 0., 0., 1., 0., 0.],\n",
       "       [0., 0., 0., 0., 1., 0., 0.],\n",
       "       [0., 0., 0., 0., 1., 0., 0.],\n",
       "       [0., 0., 0., 0., 1., 0., 0.],\n",
       "       [0., 0., 0., 0., 1., 0., 0.]])"
      ]
     },
     "execution_count": 15,
     "metadata": {},
     "output_type": "execute_result"
    }
   ],
   "execution_count": 15
  },
  {
   "metadata": {
    "ExecuteTime": {
     "end_time": "2024-08-06T12:46:24.384341Z",
     "start_time": "2024-08-06T12:46:23.541830Z"
    }
   },
   "cell_type": "code",
   "source": [
    "# The x data should be normalised to between -1 and 1\n",
    "from sklearn.preprocessing import MinMaxScaler\n",
    "\n",
    "# Create the scaler\n",
    "scaler = MinMaxScaler(feature_range=(-1, 1))\n",
    "\n",
    "# Fit the scaler to the data\n",
    "scaler.fit(X_train)\n",
    "\n",
    "# Transform the data\n",
    "X_train = scaler.transform(X_train)\n",
    "\n",
    "# Check the shape of the normalised data\n",
    "X_train.shape"
   ],
   "id": "115b0c785297082a",
   "outputs": [
    {
     "data": {
      "text/plain": [
       "(1357646, 6)"
      ]
     },
     "execution_count": 16,
     "metadata": {},
     "output_type": "execute_result"
    }
   ],
   "execution_count": 16
  },
  {
   "metadata": {
    "ExecuteTime": {
     "end_time": "2024-08-06T12:46:25.115696Z",
     "start_time": "2024-08-06T12:46:24.385850Z"
    }
   },
   "cell_type": "code",
   "source": [
    "# Get the first few rows of the normalised data\n",
    "X_train[:5]"
   ],
   "id": "fd8ac424dd796175",
   "outputs": [
    {
     "data": {
      "text/plain": [
       "array([[ 0.419942  , -0.07997786,  0.36006019,  0.25384288, -0.19988966,\n",
       "         0.09211758],\n",
       "       [ 0.42794747, -0.09042709,  0.36006019,  0.25744639, -0.2018468 ,\n",
       "         0.09128671],\n",
       "       [ 0.44073629, -0.08849778,  0.36006019,  0.25963591, -0.19341553,\n",
       "         0.08779696],\n",
       "       [ 0.43876069, -0.0770839 ,  0.35990984,  0.25813058, -0.18633951,\n",
       "         0.09150838],\n",
       "       [ 0.43127478, -0.066474  ,  0.36141392,  0.25448149, -0.18172242,\n",
       "         0.09699225]])"
      ]
     },
     "execution_count": 17,
     "metadata": {},
     "output_type": "execute_result"
    }
   ],
   "execution_count": 17
  },
  {
   "cell_type": "code",
   "id": "fcfd870dc6e7424",
   "metadata": {
    "ExecuteTime": {
     "end_time": "2024-08-06T12:46:25.924184Z",
     "start_time": "2024-08-06T12:46:25.117198Z"
    }
   },
   "source": [
    "# Now we need to create the ESN\n",
    "\n",
    "# We can star by defining the input weights for the data\n",
    "\n",
    "# To do this, we will create a matrix of shape (n_neurons, n_features) where n_neurons is the number of neurons in the reservoir and n_features is the number of features in the input signal\n",
    "# We will then populate this matrix from a density function where elements are 1 for a value p, and 0 for a value of 1-p\n",
    "# This will give us a sparse matrix with a density of p\n",
    "\n",
    "n_features = 6\n",
    "density = 0.9\n",
    "n_neurons = 500\n",
    "\n",
    "# Generate the input weights\n",
    "input_weights = np.random.rand(n_neurons, n_features) < density\n",
    "\n",
    "# Check the shape of the input weights\n",
    "print(input_weights.shape)\n",
    "\n"
   ],
   "outputs": [
    {
     "name": "stdout",
     "output_type": "stream",
     "text": [
      "(500, 6)\n"
     ]
    }
   ],
   "execution_count": 18
  },
  {
   "cell_type": "code",
   "id": "da04bc2981f08416",
   "metadata": {
    "ExecuteTime": {
     "end_time": "2024-08-06T12:46:28.551727Z",
     "start_time": "2024-08-06T12:46:25.926188Z"
    }
   },
   "source": [
    "# Next, we initialise the ESN\n",
    "# We will use the BasicESN class from the reservoir.BasicESN module\n",
    "\n",
    "leakage_rate = 0.9\n",
    "spectral_radius = 0.9\n",
    "gamma = 1.0\n",
    "sparsity = 0.9\n",
    "W_in = input_weights\n",
    "\n",
    "esn = BasicESN(leakage_rate=leakage_rate, spectral_radius=spectral_radius, gamma=gamma, n_neurons=n_neurons, W_in=W_in, sparsity=sparsity)"
   ],
   "outputs": [
    {
     "name": "stdout",
     "output_type": "stream",
     "text": [
      "[]\n",
      "Is CUDA available: True\n",
      "BasicESN initialised with leakage_rate: 0.9, spectral_radius: 0.9, gamma: 1.0, n_neurons: 500, sparsity: 0.9\n"
     ]
    }
   ],
   "execution_count": 19
  },
  {
   "cell_type": "code",
   "id": "5a25e02e0a0d836d",
   "metadata": {
    "ExecuteTime": {
     "end_time": "2024-08-06T12:54:35.104348Z",
     "start_time": "2024-08-06T12:46:28.553124Z"
    }
   },
   "source": [
    "# Now we need to train the ESN\n",
    "# We will train the ESN using the training data\n",
    "\n",
    "# As a test, lets only take the first 1000 samples\n",
    "n_samples = 500000\n",
    "data_in = X_train\n",
    "data_out = y_train\n",
    "\n",
    "esn.fit(data_in, data_out)\n"
   ],
   "outputs": [
    {
     "name": "stderr",
     "output_type": "stream",
     "text": [
      "51357354it [07:42, 111006.55it/s]                          \n"
     ]
    },
    {
     "name": "stdout",
     "output_type": "stream",
     "text": [
      "Shape of previous_states: (1357646, 500)\n",
      "Reservoir state computed, fitting readout layer...\n",
      "Readout layer fitted.\n"
     ]
    }
   ],
   "execution_count": 20
  },
  {
   "metadata": {
    "ExecuteTime": {
     "end_time": "2024-08-06T12:54:36.194127Z",
     "start_time": "2024-08-06T12:54:35.105849Z"
    }
   },
   "cell_type": "code",
   "source": [
    "# Now we can use the ESN to predict the output for the test data\n",
    "\n",
    "# First we need to concatenate the test data into one large dataframe\n",
    "test_df = pd.concat(test)\n",
    "# \n",
    "# # Check the shape of the dataframe\n",
    "test_df.shape"
   ],
   "id": "e5a8be1dfbfce101",
   "outputs": [
    {
     "data": {
      "text/plain": [
       "(562547, 9)"
      ]
     },
     "execution_count": 21,
     "metadata": {},
     "output_type": "execute_result"
    }
   ],
   "execution_count": 21
  },
  {
   "metadata": {
    "ExecuteTime": {
     "end_time": "2024-08-06T12:54:36.878492Z",
     "start_time": "2024-08-06T12:54:36.195629Z"
    }
   },
   "cell_type": "code",
   "source": [
    "# Split the data into input and output\n",
    "X_test = test_df[input_columns].values\n",
    "y_test = test_df[output_columns].values\n",
    "\n",
    "# One-hot encode the labels\n",
    "y_test = encoder.transform(y_test).toarray()\n",
    "\n",
    "# Normalise the input data\n",
    "X_test = scaler.transform(X_test)\n",
    "\n",
    "# Check the shape of the data\n",
    "X_test.shape, y_test.shape"
   ],
   "id": "9306683243e4cdf2",
   "outputs": [
    {
     "data": {
      "text/plain": [
       "((562547, 6), (562547, 7))"
      ]
     },
     "execution_count": 22,
     "metadata": {},
     "output_type": "execute_result"
    }
   ],
   "execution_count": 22
  },
  {
   "metadata": {
    "ExecuteTime": {
     "end_time": "2024-08-06T12:54:37.517873Z",
     "start_time": "2024-08-06T12:54:36.879993Z"
    }
   },
   "cell_type": "code",
   "source": [
    "# Get the first few rows of the data\n",
    "X_test[:5], y_test[:5]"
   ],
   "id": "a0c8e8797005ed02",
   "outputs": [
    {
     "data": {
      "text/plain": [
       "(array([[ 0.34695373, -0.09830435,  0.14960493,  0.2295761 , -0.18277633,\n",
       "          0.14058597],\n",
       "        [ 0.36265336, -0.05666743,  0.17954101,  0.24075168, -0.17770741,\n",
       "          0.14728845],\n",
       "        [ 0.42763574, -0.04718286,  0.20767232,  0.26729917, -0.16626509,\n",
       "          0.1066858 ],\n",
       "        [ 0.50966944, -0.03769829,  0.20631798,  0.25370612, -0.19988966,\n",
       "          0.10552254],\n",
       "        [ 0.56664592, -0.03496498,  0.20285817,  0.25407101, -0.22874625,\n",
       "          0.09887542]]),\n",
       " array([[1., 0., 0., 0., 0., 0., 0.],\n",
       "        [1., 0., 0., 0., 0., 0., 0.],\n",
       "        [1., 0., 0., 0., 0., 0., 0.],\n",
       "        [1., 0., 0., 0., 0., 0., 0.],\n",
       "        [1., 0., 0., 0., 0., 0., 0.]]))"
      ]
     },
     "execution_count": 23,
     "metadata": {},
     "output_type": "execute_result"
    }
   ],
   "execution_count": 23
  },
  {
   "metadata": {
    "ExecuteTime": {
     "end_time": "2024-08-06T12:57:41.495633Z",
     "start_time": "2024-08-06T12:54:37.519373Z"
    }
   },
   "cell_type": "code",
   "source": [
    "# Now we can use the ESN to predict the output for the test data\n",
    "y_pred = esn.forward(X_test)\n",
    "\n",
    "# Check the shape of the predicted output\n",
    "y_pred.shape\n"
   ],
   "id": "4eb1bbea11d2032",
   "outputs": [
    {
     "name": "stderr",
     "output_type": "stream",
     "text": [
      "50572453it [03:01, 278038.51it/s]                        \n"
     ]
    },
    {
     "name": "stdout",
     "output_type": "stream",
     "text": [
      "Shape of previous_states: (562547, 500)\n"
     ]
    },
    {
     "data": {
      "text/plain": [
       "(562547, 7)"
      ]
     },
     "execution_count": 24,
     "metadata": {},
     "output_type": "execute_result"
    }
   ],
   "execution_count": 24
  },
  {
   "metadata": {
    "ExecuteTime": {
     "end_time": "2024-08-06T12:57:42.180Z",
     "start_time": "2024-08-06T12:57:41.497133Z"
    }
   },
   "cell_type": "code",
   "source": [
    "# Get the first few rows of the predicted output\n",
    "y_pred[:5]"
   ],
   "id": "b59385168f467714",
   "outputs": [
    {
     "data": {
      "text/plain": [
       "array([[ 1.0598383 , -0.0738681 , -0.08645895,  0.2473056 ,  0.30469286,\n",
       "         0.02985647, -0.4813792 ],\n",
       "       [ 0.66499734, -0.0611496 , -0.07975099,  0.20550692,  0.60942054,\n",
       "         0.02762905, -0.3666631 ],\n",
       "       [ 0.24289489, -0.03961886, -0.07536396,  0.15762779,  0.92837214,\n",
       "         0.02966145, -0.24357706],\n",
       "       [-0.15282536, -0.01315094, -0.07308827,  0.09856012,  1.234256  ,\n",
       "         0.03737631, -0.13113654],\n",
       "       [-0.5081744 ,  0.01697861, -0.07214827,  0.03710982,  1.5107572 ,\n",
       "         0.04248014, -0.02701324]], dtype=float32)"
      ]
     },
     "execution_count": 25,
     "metadata": {},
     "output_type": "execute_result"
    }
   ],
   "execution_count": 25
  },
  {
   "metadata": {
    "ExecuteTime": {
     "end_time": "2024-08-06T12:57:42.833263Z",
     "start_time": "2024-08-06T12:57:42.181012Z"
    }
   },
   "cell_type": "code",
   "source": [
    "# The predicted output is a one-hot encoded array, so we need to decode it back to the original labels\n",
    "y_pred_decoded = encoder.inverse_transform(y_pred)\n",
    "\n",
    "# Check the shape of the decoded output\n",
    "y_pred_decoded.shape"
   ],
   "id": "e8e20d6d5a52856d",
   "outputs": [
    {
     "data": {
      "text/plain": [
       "(562547, 1)"
      ]
     },
     "execution_count": 26,
     "metadata": {},
     "output_type": "execute_result"
    }
   ],
   "execution_count": 26
  },
  {
   "metadata": {
    "ExecuteTime": {
     "end_time": "2024-08-06T12:57:44.514267Z",
     "start_time": "2024-08-06T12:57:42.834764Z"
    }
   },
   "cell_type": "code",
   "source": [
    "# Get the first few rows of the decoded output\n",
    "y_pred_decoded[:5]"
   ],
   "id": "e571742e1c413cc2",
   "outputs": [
    {
     "data": {
      "text/plain": [
       "array([[1],\n",
       "       [1],\n",
       "       [6],\n",
       "       [6],\n",
       "       [6]], dtype=int64)"
      ]
     },
     "execution_count": 27,
     "metadata": {},
     "output_type": "execute_result"
    }
   ],
   "execution_count": 27
  },
  {
   "metadata": {
    "ExecuteTime": {
     "end_time": "2024-08-06T12:57:45.167249Z",
     "start_time": "2024-08-06T12:57:44.515774Z"
    }
   },
   "cell_type": "code",
   "source": [
    "y_test_decoded = encoder.inverse_transform(y_test)\n",
    "\n",
    "# Check the shape of the decoded output\n",
    "y_test_decoded.shape"
   ],
   "id": "3deeb30dd9707b9e",
   "outputs": [
    {
     "data": {
      "text/plain": [
       "(562547, 1)"
      ]
     },
     "execution_count": 28,
     "metadata": {},
     "output_type": "execute_result"
    }
   ],
   "execution_count": 28
  },
  {
   "metadata": {
    "ExecuteTime": {
     "end_time": "2024-08-06T12:57:45.807291Z",
     "start_time": "2024-08-06T12:57:45.168750Z"
    }
   },
   "cell_type": "code",
   "source": "y_test_decoded[:5]",
   "id": "c6c7ccc56da713d7",
   "outputs": [
    {
     "data": {
      "text/plain": [
       "array([[1],\n",
       "       [1],\n",
       "       [1],\n",
       "       [1],\n",
       "       [1]], dtype=int64)"
      ]
     },
     "execution_count": 29,
     "metadata": {},
     "output_type": "execute_result"
    }
   ],
   "execution_count": 29
  },
  {
   "metadata": {
    "ExecuteTime": {
     "end_time": "2024-08-06T12:57:47.701227Z",
     "start_time": "2024-08-06T12:57:45.808793Z"
    }
   },
   "cell_type": "code",
   "source": [
    "# Now we can evaluate the accuracy of the ESN on the test data\n",
    "# Start by plotting the true label and the predicted label on a graph\n",
    "plt.figure(figsize=(15, 5))\n",
    "plt.plot(y_test_decoded[:10000], label='True', color='blue')\n",
    "plt.plot(y_pred_decoded[:10000], label='Predicted', color='orange')\n",
    "plt.legend()\n",
    "plt.title('True vs Predicted labels for the first 1000 samples of the test data')\n",
    "\n",
    "plt.tight_layout()\n",
    "plt.show()"
   ],
   "id": "35f5d59b51f3666d",
   "outputs": [
    {
     "data": {
      "text/plain": [
       "<Figure size 1500x500 with 1 Axes>"
      ],
      "image/png": "[encoded data removed]"
     },
     "metadata": {},
     "output_type": "display_data"
    }
   ],
   "execution_count": 30
  },
  {
   "metadata": {
    "ExecuteTime": {
     "end_time": "2024-08-06T12:57:48.359108Z",
     "start_time": "2024-08-06T12:57:47.702640Z"
    }
   },
   "cell_type": "code",
   "source": [
    "# Now we can calculate the accuracy of the ESN on the test data\n",
    "from sklearn.metrics import accuracy_score\n",
    "\n",
    "accuracy = accuracy_score(y_test_decoded, y_pred_decoded)\n",
    "\n",
    "accuracy"
   ],
   "id": "ffde2f6173c13f65",
   "outputs": [
    {
     "data": {
      "text/plain": [
       "0.9063153834257405"
      ]
     },
     "execution_count": 31,
     "metadata": {},
     "output_type": "execute_result"
    }
   ],
   "execution_count": 31
  },
  {
   "metadata": {
    "ExecuteTime": {
     "end_time": "2024-08-06T12:57:50.283067Z",
     "start_time": "2024-08-06T12:57:48.360615Z"
    }
   },
   "cell_type": "code",
   "source": [
    "# Now we can calculate the confusion matrix for the ESN on the test data\n",
    "from sklearn.metrics import confusion_matrix\n",
    "\n",
    "conf_matrix = confusion_matrix(y_test_decoded, y_pred_decoded)\n",
    "\n",
    "conf_matrix"
   ],
   "id": "d430391865fb428a",
   "outputs": [
    {
     "data": {
      "text/plain": [
       "array([[335041,      0,      0,      0,  11460,     77,      3],\n",
       "       [ 12426,      0,      0,      0,   7204,     10,      0],\n",
       "       [  2465,      0,      0,      0,    217,     26,      0],\n",
       "       [   365,      0,      0,      5,      0,      0,      0],\n",
       "       [ 18301,      1,      0,      0, 123476,     18,      0],\n",
       "       [   127,      0,      0,      0,      0,  43077,      0],\n",
       "       [     2,      0,      0,      0,      0,      0,   8246]],\n",
       "      dtype=int64)"
      ]
     },
     "execution_count": 32,
     "metadata": {},
     "output_type": "execute_result"
    }
   ],
   "execution_count": 32
  },
  {
   "metadata": {
    "ExecuteTime": {
     "end_time": "2024-08-06T12:57:51.248542Z",
     "start_time": "2024-08-06T12:57:50.284572Z"
    }
   },
   "cell_type": "code",
   "source": [
    "# Now we can plot the confusion matrix\n",
    "# Our labels are \n",
    "# 1: walking\t\n",
    "# 3: shuffling\n",
    "# 4: stairs (ascending)\n",
    "# 5: stairs (descending)\n",
    "# 6: standing\n",
    "# 7: sitting\n",
    "# 8: lying\n",
    "# So we will use these labels for the x and y axis of the confusion matrix\n",
    "import seaborn as sns\n",
    "\n",
    "labels = ['walking', 'shuffling', 'stairs (ascending)', 'stairs (descending)', 'standing', 'sitting', 'lying']\n",
    "\n",
    "plt.figure(figsize=(10, 7))\n",
    "\n",
    "sns.heatmap(conf_matrix, annot=True, fmt='d', xticklabels=labels, yticklabels=labels, cmap='Blues')\n",
    "\n",
    "plt.xlabel('Predicted')\n",
    "plt.ylabel('True')\n",
    "\n",
    "plt.title('Confusion Matrix for the ESN on the test data')\n",
    "\n",
    "plt.tight_layout()\n",
    "plt.show()\n"
   ],
   "id": "d010e5be9564a796",
   "outputs": [
    {
     "data": {
      "text/plain": [
       "<Figure size 1000x700 with 2 Axes>"
      ],
      "image/png": "[encoded data removed]"
     },
     "metadata": {},
     "output_type": "display_data"
    }
   ],
   "execution_count": 33
  },
  {
   "metadata": {
    "ExecuteTime": {
     "end_time": "2024-08-06T12:57:52.218772Z",
     "start_time": "2024-08-06T12:57:51.250543Z"
    }
   },
   "cell_type": "code",
   "source": [
    "# Let's plot a normalised confusion matrix as there is a class imbalance\n",
    "\n",
    "conf_matrix_norm = conf_matrix / conf_matrix.sum(axis=1)[:, np.newaxis]\n",
    "\n",
    "# Plot the normalised confusion matrix\n",
    "plt.figure(figsize=(10, 7))\n",
    "\n",
    "sns.heatmap(conf_matrix_norm, annot=True, fmt='.2f', xticklabels=labels, yticklabels=labels, cmap='Blues')\n",
    "\n",
    "plt.xlabel('Predicted')\n",
    "plt.ylabel('True')\n",
    "\n",
    "plt.title('Normalised Confusion Matrix for the ESN on the test data')\n",
    "\n",
    "plt.tight_layout()\n",
    "plt.show()"
   ],
   "id": "19fe51904137ca34",
   "outputs": [
    {
     "data": {
      "text/plain": [
       "<Figure size 1000x700 with 2 Axes>"
      ],
      "image/png": "[encoded data removed]"
     },
     "metadata": {},
     "output_type": "display_data"
    }
   ],
   "execution_count": 34
  },
  {
   "metadata": {
    "ExecuteTime": {
     "end_time": "2024-08-06T12:57:54.397480Z",
     "start_time": "2024-08-06T12:57:52.220225Z"
    }
   },
   "cell_type": "code",
   "source": [
    "# Now we can calculate the precision, recall and f1-score for the ESN on the test data\n",
    "from sklearn.metrics import classification_report\n",
    "\n",
    "report = classification_report(y_test_decoded, y_pred_decoded, target_names=labels)\n",
    "\n",
    "print(report)"
   ],
   "id": "72e46a656729c9fa",
   "outputs": [
    {
     "name": "stderr",
     "output_type": "stream",
     "text": [
      "C:\\Users\\mail\\anaconda3\\envs\\training\\lib\\site-packages\\sklearn\\metrics\\_classification.py:1471: UndefinedMetricWarning: Precision and F-score are ill-defined and being set to 0.0 in labels with no predicted samples. Use `zero_division` parameter to control this behavior.\n",
      "  _warn_prf(average, modifier, msg_start, len(result))\n"
     ]
    },
    {
     "name": "stdout",
     "output_type": "stream",
     "text": [
      "                     precision    recall  f1-score   support\n",
      "\n",
      "            walking       0.91      0.97      0.94    346581\n",
      "          shuffling       0.00      0.00      0.00     19640\n",
      " stairs (ascending)       0.00      0.00      0.00      2708\n",
      "stairs (descending)       1.00      0.01      0.03       370\n",
      "           standing       0.87      0.87      0.87    141796\n",
      "            sitting       1.00      1.00      1.00     43204\n",
      "              lying       1.00      1.00      1.00      8248\n",
      "\n",
      "           accuracy                           0.91    562547\n",
      "          macro avg       0.68      0.55      0.55    562547\n",
      "       weighted avg       0.87      0.91      0.89    562547\n",
      "\n"
     ]
    },
    {
     "name": "stderr",
     "output_type": "stream",
     "text": [
      "C:\\Users\\mail\\anaconda3\\envs\\training\\lib\\site-packages\\sklearn\\metrics\\_classification.py:1471: UndefinedMetricWarning: Precision and F-score are ill-defined and being set to 0.0 in labels with no predicted samples. Use `zero_division` parameter to control this behavior.\n",
      "  _warn_prf(average, modifier, msg_start, len(result))\n",
      "C:\\Users\\mail\\anaconda3\\envs\\training\\lib\\site-packages\\sklearn\\metrics\\_classification.py:1471: UndefinedMetricWarning: Precision and F-score are ill-defined and being set to 0.0 in labels with no predicted samples. Use `zero_division` parameter to control this behavior.\n",
      "  _warn_prf(average, modifier, msg_start, len(result))\n"
     ]
    }
   ],
   "execution_count": 35
  },
  {
   "metadata": {
    "ExecuteTime": {
     "end_time": "2024-08-06T12:57:55.065208Z",
     "start_time": "2024-08-06T12:57:54.398984Z"
    }
   },
   "cell_type": "code",
   "source": [
    "# Now, we prepare the validation data\n",
    "val_df = pd.concat(val)\n",
    "\n",
    "X_val = val_df[input_columns].values\n",
    "y_val = val_df[output_columns].values\n",
    "\n",
    "y_val = encoder.transform(y_val).toarray()\n",
    "\n",
    "X_val = scaler.transform(X_val)\n",
    "\n",
    "X_val.shape, y_val.shape"
   ],
   "id": "2f1170f152cb84e1",
   "outputs": [
    {
     "data": {
      "text/plain": [
       "((339404, 6), (339404, 7))"
      ]
     },
     "execution_count": 36,
     "metadata": {},
     "output_type": "execute_result"
    }
   ],
   "execution_count": 36
  },
  {
   "metadata": {
    "ExecuteTime": {
     "end_time": "2024-08-06T12:57:55.701986Z",
     "start_time": "2024-08-06T12:57:55.066712Z"
    }
   },
   "cell_type": "code",
   "source": "y_val_decoded = encoder.inverse_transform(y_val)",
   "id": "5a05744ceb8c765e",
   "outputs": [],
   "execution_count": 37
  },
  {
   "metadata": {
    "ExecuteTime": {
     "end_time": "2024-08-06T12:57:57.373293Z",
     "start_time": "2024-08-06T12:57:55.703486Z"
    }
   },
   "cell_type": "code",
   "source": "run_radii = False",
   "id": "d0fdceb019b9491d",
   "outputs": [],
   "execution_count": 38
  },
  {
   "metadata": {
    "ExecuteTime": {
     "end_time": "2024-08-06T15:21:22.549856Z",
     "start_time": "2024-08-06T12:57:57.374796Z"
    }
   },
   "cell_type": "code",
   "source": [
    "# Now that there is a working version, we can optimise the hyperparameters\n",
    "from sklearn.metrics import mean_squared_error\n",
    "\n",
    "# The number of neurons will be fixed at 500\n",
    "n_neurons = 500\n",
    "\n",
    "density = 0.1\n",
    "leakage_rate = 0.3\n",
    "spectral_radius = 0.9\n",
    "gamma = 1.\n",
    "sparsity = 0.1\n",
    "\n",
    "input_weights = np.random.rand(n_neurons, n_features) < density\n",
    "W_in = input_weights\n",
    "\n",
    "# We will first try to optimise the spectral radius\n",
    "# In our implementation, the spectral radius is used to scale the reservoir weights\n",
    "# It is a value between 0 and 1\n",
    "# A value of 1 will mean that the reservoir weights are not scaled\n",
    "# A value of 0 will mean that the reservoir weights are all 0\n",
    "rseed = 1234\n",
    "spectral_radii = [0.001, 0.005, 0.05, 0.1, 0.2, 0.3, 0.4, 0.5, 0.6, 0.7, 0.8, 0.9, 0.95, 0.99, 0.999, 0.9999]\n",
    "\n",
    "# We will train the ESN on the training data and evaluate it on the validation data\n",
    "radii_scores = []\n",
    "if run_radii:\n",
    "    # There are 12 spectral radii to test, so let's parallelise the process\n",
    "    def evaluate_spectral_radius(radius):\n",
    "        esn = BasicESN(leakage_rate=leakage_rate, spectral_radius=radius, gamma=gamma, n_neurons=n_neurons, W_in=W_in, sparsity=sparsity, is_optimising=False)\n",
    "        esn.fit(data_in, data_out)\n",
    "    \n",
    "        y_pred = esn.forward(X_val)\n",
    "        y_pred_decoded = encoder.inverse_transform(y_pred)\n",
    "    \n",
    "        # Calculate the NRMSE\n",
    "        # The NRMSE is the normalised root mean squared error\n",
    "        # It is calculated as the RMSE divided by the range of the true values\n",
    "    \n",
    "        nrmse = np.sqrt(mean_squared_error(y_val_decoded, y_pred_decoded)) / (y_val_decoded.max() - y_val_decoded.min())\n",
    "    \n",
    "        radii_scores.append(nrmse)\n",
    "    \n",
    "        # Return the radius and the NRMSE via joblib\n",
    "        print(f'Spectral Radius: {radius}, NRMSE: {nrmse}')\n",
    "        \n",
    "        return {'radius': radius, 'nrmse': nrmse}\n",
    "    \n",
    "    #with tqdm_joblib(tqdm(desc=\"Spectral Radius\", total=len(spectral_radii))) as progress_bar:\n",
    "        #results = Parallel(n_jobs=4)(delayed(evaluate_spectral_radius)(radius) for radius in spectral_radii)\n",
    "    results = []\n",
    "    for radius in spectral_radii:\n",
    "        print(f'Running for radius: {radius}')\n",
    "        results.append(evaluate_spectral_radius(radius))\n",
    "else:\n",
    "    # Previously run results so that we don't need to re-run the optimisation process\n",
    "    results = [{'radius': 0.001, 'nrmse': 0.4045154553590346}, {'radius': 0.005, 'nrmse': 0.40054010074185736}, {'radius': 0.05, 'nrmse': 0.385664937057774}, {'radius': 0.1, 'nrmse': 0.3635513636618184}, {'radius': 0.2, 'nrmse': 0.32638225520035935}, {'radius': 0.3, 'nrmse': 0.315003633747932}, {'radius': 0.4, 'nrmse': 0.29430270861272567}, {'radius': 0.5, 'nrmse': 0.2801342996732534}, {'radius': 0.6, 'nrmse': 0.27067665031220783}, {'radius': 0.7, 'nrmse': 0.2689030699397987}, {'radius': 0.8, 'nrmse': 0.2566241697652791}, {'radius': 0.9, 'nrmse': 0.24395668729025763}, {'radius': 0.95, 'nrmse': 0.23089869706218724}, {'radius': 0.99, 'nrmse': 0.20328967417321184}, {'radius': 0.999, 'nrmse': 0.1997435120317759}, {'radius': 0.9999, 'nrmse': 0.23445378842663522}]"
   ],
   "id": "667e67be915b579e",
   "outputs": [
    {
     "name": "stdout",
     "output_type": "stream",
     "text": [
      "Running for radius: 0.001\n",
      "[]\n",
      "Is CUDA available: True\n",
      "BasicESN initialised with leakage_rate: 0.3, spectral_radius: 0.001, gamma: 1.0, n_neurons: 500, sparsity: 0.1\n"
     ]
    },
    {
     "name": "stderr",
     "output_type": "stream",
     "text": [
      "51357354it [06:47, 126163.95it/s]                          \n"
     ]
    },
    {
     "name": "stdout",
     "output_type": "stream",
     "text": [
      "Shape of previous_states: (1357646, 500)\n",
      "Reservoir state computed, fitting readout layer...\n",
      "Readout layer fitted.\n"
     ]
    },
    {
     "name": "stderr",
     "output_type": "stream",
     "text": [
      "50335596it [01:46, 472725.55it/s]                        \n"
     ]
    },
    {
     "name": "stdout",
     "output_type": "stream",
     "text": [
      "Shape of previous_states: (339404, 500)\n",
      "Spectral Radius: 0.001, NRMSE: 0.4045154553590346\n",
      "Running for radius: 0.005\n",
      "[]\n",
      "Is CUDA available: True\n",
      "BasicESN initialised with leakage_rate: 0.3, spectral_radius: 0.005, gamma: 1.0, n_neurons: 500, sparsity: 0.1\n"
     ]
    },
    {
     "name": "stderr",
     "output_type": "stream",
     "text": [
      "51357354it [07:07, 120021.86it/s]                          \n"
     ]
    },
    {
     "name": "stdout",
     "output_type": "stream",
     "text": [
      "Shape of previous_states: (1357646, 500)\n",
      "Reservoir state computed, fitting readout layer...\n",
      "Readout layer fitted.\n"
     ]
    },
    {
     "name": "stderr",
     "output_type": "stream",
     "text": [
      "50335596it [01:48, 464491.07it/s]                        \n"
     ]
    },
    {
     "name": "stdout",
     "output_type": "stream",
     "text": [
      "Shape of previous_states: (339404, 500)\n",
      "Spectral Radius: 0.005, NRMSE: 0.40054010074185736\n",
      "Running for radius: 0.05\n",
      "[]\n",
      "Is CUDA available: True\n",
      "BasicESN initialised with leakage_rate: 0.3, spectral_radius: 0.05, gamma: 1.0, n_neurons: 500, sparsity: 0.1\n"
     ]
    },
    {
     "name": "stderr",
     "output_type": "stream",
     "text": [
      "51357354it [07:16, 117549.51it/s]                          \n"
     ]
    },
    {
     "name": "stdout",
     "output_type": "stream",
     "text": [
      "Shape of previous_states: (1357646, 500)\n",
      "Reservoir state computed, fitting readout layer...\n",
      "Readout layer fitted.\n"
     ]
    },
    {
     "name": "stderr",
     "output_type": "stream",
     "text": [
      "50335596it [01:47, 469636.98it/s]                        \n"
     ]
    },
    {
     "name": "stdout",
     "output_type": "stream",
     "text": [
      "Shape of previous_states: (339404, 500)\n",
      "Spectral Radius: 0.05, NRMSE: 0.385664937057774\n",
      "Running for radius: 0.1\n",
      "[]\n",
      "Is CUDA available: True\n",
      "BasicESN initialised with leakage_rate: 0.3, spectral_radius: 0.1, gamma: 1.0, n_neurons: 500, sparsity: 0.1\n"
     ]
    },
    {
     "name": "stderr",
     "output_type": "stream",
     "text": [
      "51357354it [07:01, 121842.89it/s]                          \n"
     ]
    },
    {
     "name": "stdout",
     "output_type": "stream",
     "text": [
      "Shape of previous_states: (1357646, 500)\n",
      "Reservoir state computed, fitting readout layer...\n",
      "Readout layer fitted.\n"
     ]
    },
    {
     "name": "stderr",
     "output_type": "stream",
     "text": [
      "50335596it [01:50, 454643.06it/s]                        \n"
     ]
    },
    {
     "name": "stdout",
     "output_type": "stream",
     "text": [
      "Shape of previous_states: (339404, 500)\n",
      "Spectral Radius: 0.1, NRMSE: 0.3635513636618184\n",
      "Running for radius: 0.2\n",
      "[]\n",
      "Is CUDA available: True\n",
      "BasicESN initialised with leakage_rate: 0.3, spectral_radius: 0.2, gamma: 1.0, n_neurons: 500, sparsity: 0.1\n"
     ]
    },
    {
     "name": "stderr",
     "output_type": "stream",
     "text": [
      "51357354it [07:23, 115865.17it/s]                          \n"
     ]
    },
    {
     "name": "stdout",
     "output_type": "stream",
     "text": [
      "Shape of previous_states: (1357646, 500)\n",
      "Reservoir state computed, fitting readout layer...\n",
      "Readout layer fitted.\n"
     ]
    },
    {
     "name": "stderr",
     "output_type": "stream",
     "text": [
      "50335596it [01:42, 489324.33it/s]                        \n"
     ]
    },
    {
     "name": "stdout",
     "output_type": "stream",
     "text": [
      "Shape of previous_states: (339404, 500)\n",
      "Spectral Radius: 0.2, NRMSE: 0.32638225520035935\n",
      "Running for radius: 0.3\n",
      "[]\n",
      "Is CUDA available: True\n",
      "BasicESN initialised with leakage_rate: 0.3, spectral_radius: 0.3, gamma: 1.0, n_neurons: 500, sparsity: 0.1\n"
     ]
    },
    {
     "name": "stderr",
     "output_type": "stream",
     "text": [
      "51357354it [06:50, 125170.17it/s]                          \n"
     ]
    },
    {
     "name": "stdout",
     "output_type": "stream",
     "text": [
      "Shape of previous_states: (1357646, 500)\n",
      "Reservoir state computed, fitting readout layer...\n",
      "Readout layer fitted.\n"
     ]
    },
    {
     "name": "stderr",
     "output_type": "stream",
     "text": [
      "50335596it [01:42, 493447.95it/s]                        \n"
     ]
    },
    {
     "name": "stdout",
     "output_type": "stream",
     "text": [
      "Shape of previous_states: (339404, 500)\n",
      "Spectral Radius: 0.3, NRMSE: 0.315003633747932\n",
      "Running for radius: 0.4\n",
      "[]\n",
      "Is CUDA available: True\n",
      "BasicESN initialised with leakage_rate: 0.3, spectral_radius: 0.4, gamma: 1.0, n_neurons: 500, sparsity: 0.1\n"
     ]
    },
    {
     "name": "stderr",
     "output_type": "stream",
     "text": [
      "51357354it [06:55, 123735.45it/s]                          \n"
     ]
    },
    {
     "name": "stdout",
     "output_type": "stream",
     "text": [
      "Shape of previous_states: (1357646, 500)\n",
      "Reservoir state computed, fitting readout layer...\n",
      "Readout layer fitted.\n"
     ]
    },
    {
     "name": "stderr",
     "output_type": "stream",
     "text": [
      "50335596it [01:47, 470271.12it/s]                        \n"
     ]
    },
    {
     "name": "stdout",
     "output_type": "stream",
     "text": [
      "Shape of previous_states: (339404, 500)\n",
      "Spectral Radius: 0.4, NRMSE: 0.29430270861272567\n",
      "Running for radius: 0.5\n",
      "[]\n",
      "Is CUDA available: True\n",
      "BasicESN initialised with leakage_rate: 0.3, spectral_radius: 0.5, gamma: 1.0, n_neurons: 500, sparsity: 0.1\n"
     ]
    },
    {
     "name": "stderr",
     "output_type": "stream",
     "text": [
      "51357354it [06:51, 124769.49it/s]                          \n"
     ]
    },
    {
     "name": "stdout",
     "output_type": "stream",
     "text": [
      "Shape of previous_states: (1357646, 500)\n",
      "Reservoir state computed, fitting readout layer...\n",
      "Readout layer fitted.\n"
     ]
    },
    {
     "name": "stderr",
     "output_type": "stream",
     "text": [
      "50335596it [01:42, 491165.07it/s]                        \n"
     ]
    },
    {
     "name": "stdout",
     "output_type": "stream",
     "text": [
      "Shape of previous_states: (339404, 500)\n",
      "Spectral Radius: 0.5, NRMSE: 0.2801342996732534\n",
      "Running for radius: 0.6\n",
      "[]\n",
      "Is CUDA available: True\n",
      "BasicESN initialised with leakage_rate: 0.3, spectral_radius: 0.6, gamma: 1.0, n_neurons: 500, sparsity: 0.1\n"
     ]
    },
    {
     "name": "stderr",
     "output_type": "stream",
     "text": [
      "51357354it [07:06, 120429.46it/s]                          \n"
     ]
    },
    {
     "name": "stdout",
     "output_type": "stream",
     "text": [
      "Shape of previous_states: (1357646, 500)\n",
      "Reservoir state computed, fitting readout layer...\n"
     ]
    },
    {
     "name": "stderr",
     "output_type": "stream",
     "text": [
      "C:\\Users\\mail\\anaconda3\\envs\\training\\lib\\site-packages\\sklearn\\linear_model\\_ridge.py:200: LinAlgWarning: Ill-conditioned matrix (rcond=1.63249e-09): result may not be accurate.\n",
      "  return linalg.solve(A, Xy, assume_a=\"pos\", overwrite_a=True).T\n"
     ]
    },
    {
     "name": "stdout",
     "output_type": "stream",
     "text": [
      "Readout layer fitted.\n"
     ]
    },
    {
     "name": "stderr",
     "output_type": "stream",
     "text": [
      "50335596it [01:47, 468952.86it/s]                        \n"
     ]
    },
    {
     "name": "stdout",
     "output_type": "stream",
     "text": [
      "Shape of previous_states: (339404, 500)\n",
      "Spectral Radius: 0.6, NRMSE: 0.27067665031220783\n",
      "Running for radius: 0.7\n",
      "[]\n",
      "Is CUDA available: True\n",
      "BasicESN initialised with leakage_rate: 0.3, spectral_radius: 0.7, gamma: 1.0, n_neurons: 500, sparsity: 0.1\n"
     ]
    },
    {
     "name": "stderr",
     "output_type": "stream",
     "text": [
      "51357354it [07:25, 115311.45it/s]                          \n"
     ]
    },
    {
     "name": "stdout",
     "output_type": "stream",
     "text": [
      "Shape of previous_states: (1357646, 500)\n",
      "Reservoir state computed, fitting readout layer...\n"
     ]
    },
    {
     "name": "stderr",
     "output_type": "stream",
     "text": [
      "C:\\Users\\mail\\anaconda3\\envs\\training\\lib\\site-packages\\sklearn\\linear_model\\_ridge.py:200: LinAlgWarning: Ill-conditioned matrix (rcond=2.65074e-09): result may not be accurate.\n",
      "  return linalg.solve(A, Xy, assume_a=\"pos\", overwrite_a=True).T\n"
     ]
    },
    {
     "name": "stdout",
     "output_type": "stream",
     "text": [
      "Readout layer fitted.\n"
     ]
    },
    {
     "name": "stderr",
     "output_type": "stream",
     "text": [
      "50335596it [01:46, 473137.76it/s]                        \n"
     ]
    },
    {
     "name": "stdout",
     "output_type": "stream",
     "text": [
      "Shape of previous_states: (339404, 500)\n",
      "Spectral Radius: 0.7, NRMSE: 0.2689030699397987\n",
      "Running for radius: 0.8\n",
      "[]\n",
      "Is CUDA available: True\n",
      "BasicESN initialised with leakage_rate: 0.3, spectral_radius: 0.8, gamma: 1.0, n_neurons: 500, sparsity: 0.1\n"
     ]
    },
    {
     "name": "stderr",
     "output_type": "stream",
     "text": [
      "51357354it [06:57, 122906.05it/s]                          \n"
     ]
    },
    {
     "name": "stdout",
     "output_type": "stream",
     "text": [
      "Shape of previous_states: (1357646, 500)\n",
      "Reservoir state computed, fitting readout layer...\n"
     ]
    },
    {
     "name": "stderr",
     "output_type": "stream",
     "text": [
      "C:\\Users\\mail\\anaconda3\\envs\\training\\lib\\site-packages\\sklearn\\linear_model\\_ridge.py:200: LinAlgWarning: Ill-conditioned matrix (rcond=2.89299e-09): result may not be accurate.\n",
      "  return linalg.solve(A, Xy, assume_a=\"pos\", overwrite_a=True).T\n"
     ]
    },
    {
     "name": "stdout",
     "output_type": "stream",
     "text": [
      "Readout layer fitted.\n"
     ]
    },
    {
     "name": "stderr",
     "output_type": "stream",
     "text": [
      "50335596it [01:45, 477749.64it/s]                        \n"
     ]
    },
    {
     "name": "stdout",
     "output_type": "stream",
     "text": [
      "Shape of previous_states: (339404, 500)\n",
      "Spectral Radius: 0.8, NRMSE: 0.2566241697652791\n",
      "Running for radius: 0.9\n",
      "[]\n",
      "Is CUDA available: True\n",
      "BasicESN initialised with leakage_rate: 0.3, spectral_radius: 0.9, gamma: 1.0, n_neurons: 500, sparsity: 0.1\n"
     ]
    },
    {
     "name": "stderr",
     "output_type": "stream",
     "text": [
      "51357354it [06:53, 124280.76it/s]                          \n"
     ]
    },
    {
     "name": "stdout",
     "output_type": "stream",
     "text": [
      "Shape of previous_states: (1357646, 500)\n",
      "Reservoir state computed, fitting readout layer...\n"
     ]
    },
    {
     "name": "stderr",
     "output_type": "stream",
     "text": [
      "C:\\Users\\mail\\anaconda3\\envs\\training\\lib\\site-packages\\sklearn\\linear_model\\_ridge.py:200: LinAlgWarning: Ill-conditioned matrix (rcond=5.5118e-09): result may not be accurate.\n",
      "  return linalg.solve(A, Xy, assume_a=\"pos\", overwrite_a=True).T\n"
     ]
    },
    {
     "name": "stdout",
     "output_type": "stream",
     "text": [
      "Readout layer fitted.\n"
     ]
    },
    {
     "name": "stderr",
     "output_type": "stream",
     "text": [
      "50335596it [01:43, 488109.03it/s]                        \n"
     ]
    },
    {
     "name": "stdout",
     "output_type": "stream",
     "text": [
      "Shape of previous_states: (339404, 500)\n",
      "Spectral Radius: 0.9, NRMSE: 0.24395668729025763\n",
      "Running for radius: 0.95\n",
      "[]\n",
      "Is CUDA available: True\n",
      "BasicESN initialised with leakage_rate: 0.3, spectral_radius: 0.95, gamma: 1.0, n_neurons: 500, sparsity: 0.1\n"
     ]
    },
    {
     "name": "stderr",
     "output_type": "stream",
     "text": [
      "51357354it [06:51, 124664.86it/s]                          \n"
     ]
    },
    {
     "name": "stdout",
     "output_type": "stream",
     "text": [
      "Shape of previous_states: (1357646, 500)\n",
      "Reservoir state computed, fitting readout layer...\n"
     ]
    },
    {
     "name": "stderr",
     "output_type": "stream",
     "text": [
      "C:\\Users\\mail\\anaconda3\\envs\\training\\lib\\site-packages\\sklearn\\linear_model\\_ridge.py:200: LinAlgWarning: Ill-conditioned matrix (rcond=6.07388e-09): result may not be accurate.\n",
      "  return linalg.solve(A, Xy, assume_a=\"pos\", overwrite_a=True).T\n"
     ]
    },
    {
     "name": "stdout",
     "output_type": "stream",
     "text": [
      "Readout layer fitted.\n"
     ]
    },
    {
     "name": "stderr",
     "output_type": "stream",
     "text": [
      "50335596it [01:42, 490496.34it/s]                        \n"
     ]
    },
    {
     "name": "stdout",
     "output_type": "stream",
     "text": [
      "Shape of previous_states: (339404, 500)\n",
      "Spectral Radius: 0.95, NRMSE: 0.23089869706218724\n",
      "Running for radius: 0.99\n",
      "[]\n",
      "Is CUDA available: True\n",
      "BasicESN initialised with leakage_rate: 0.3, spectral_radius: 0.99, gamma: 1.0, n_neurons: 500, sparsity: 0.1\n"
     ]
    },
    {
     "name": "stderr",
     "output_type": "stream",
     "text": [
      "51357354it [06:47, 125995.91it/s]                          \n"
     ]
    },
    {
     "name": "stdout",
     "output_type": "stream",
     "text": [
      "Shape of previous_states: (1357646, 500)\n",
      "Reservoir state computed, fitting readout layer...\n"
     ]
    },
    {
     "name": "stderr",
     "output_type": "stream",
     "text": [
      "C:\\Users\\mail\\anaconda3\\envs\\training\\lib\\site-packages\\sklearn\\linear_model\\_ridge.py:200: LinAlgWarning: Ill-conditioned matrix (rcond=4.31761e-09): result may not be accurate.\n",
      "  return linalg.solve(A, Xy, assume_a=\"pos\", overwrite_a=True).T\n"
     ]
    },
    {
     "name": "stdout",
     "output_type": "stream",
     "text": [
      "Readout layer fitted.\n"
     ]
    },
    {
     "name": "stderr",
     "output_type": "stream",
     "text": [
      "50335596it [01:42, 491753.93it/s]                        \n"
     ]
    },
    {
     "name": "stdout",
     "output_type": "stream",
     "text": [
      "Shape of previous_states: (339404, 500)\n",
      "Spectral Radius: 0.99, NRMSE: 0.20328967417321184\n",
      "Running for radius: 0.999\n",
      "[]\n",
      "Is CUDA available: True\n",
      "BasicESN initialised with leakage_rate: 0.3, spectral_radius: 0.999, gamma: 1.0, n_neurons: 500, sparsity: 0.1\n"
     ]
    },
    {
     "name": "stderr",
     "output_type": "stream",
     "text": [
      "51357354it [06:49, 125545.62it/s]                          \n"
     ]
    },
    {
     "name": "stdout",
     "output_type": "stream",
     "text": [
      "Shape of previous_states: (1357646, 500)\n",
      "Reservoir state computed, fitting readout layer...\n"
     ]
    },
    {
     "name": "stderr",
     "output_type": "stream",
     "text": [
      "C:\\Users\\mail\\anaconda3\\envs\\training\\lib\\site-packages\\sklearn\\linear_model\\_ridge.py:200: LinAlgWarning: Ill-conditioned matrix (rcond=5.33213e-09): result may not be accurate.\n",
      "  return linalg.solve(A, Xy, assume_a=\"pos\", overwrite_a=True).T\n"
     ]
    },
    {
     "name": "stdout",
     "output_type": "stream",
     "text": [
      "Readout layer fitted.\n"
     ]
    },
    {
     "name": "stderr",
     "output_type": "stream",
     "text": [
      "50335596it [01:42, 490881.47it/s]                        \n"
     ]
    },
    {
     "name": "stdout",
     "output_type": "stream",
     "text": [
      "Shape of previous_states: (339404, 500)\n",
      "Spectral Radius: 0.999, NRMSE: 0.1997435120317759\n",
      "Running for radius: 0.9999\n",
      "[]\n",
      "Is CUDA available: True\n",
      "BasicESN initialised with leakage_rate: 0.3, spectral_radius: 0.9999, gamma: 1.0, n_neurons: 500, sparsity: 0.1\n"
     ]
    },
    {
     "name": "stderr",
     "output_type": "stream",
     "text": [
      "51357354it [06:47, 125991.63it/s]                          \n"
     ]
    },
    {
     "name": "stdout",
     "output_type": "stream",
     "text": [
      "Shape of previous_states: (1357646, 500)\n",
      "Reservoir state computed, fitting readout layer...\n"
     ]
    },
    {
     "name": "stderr",
     "output_type": "stream",
     "text": [
      "C:\\Users\\mail\\anaconda3\\envs\\training\\lib\\site-packages\\sklearn\\linear_model\\_ridge.py:200: LinAlgWarning: Ill-conditioned matrix (rcond=5.16237e-09): result may not be accurate.\n",
      "  return linalg.solve(A, Xy, assume_a=\"pos\", overwrite_a=True).T\n"
     ]
    },
    {
     "name": "stdout",
     "output_type": "stream",
     "text": [
      "Readout layer fitted.\n"
     ]
    },
    {
     "name": "stderr",
     "output_type": "stream",
     "text": [
      "50335596it [01:43, 488160.10it/s]                        \n"
     ]
    },
    {
     "name": "stdout",
     "output_type": "stream",
     "text": [
      "Shape of previous_states: (339404, 500)\n",
      "Spectral Radius: 0.9999, NRMSE: 0.23445378842663522\n"
     ]
    }
   ],
   "execution_count": 39
  },
  {
   "metadata": {
    "ExecuteTime": {
     "end_time": "2024-08-06T15:21:23.575153Z",
     "start_time": "2024-08-06T15:21:22.551861Z"
    }
   },
   "cell_type": "code",
   "source": "print(results)",
   "id": "73d3da5878760620",
   "outputs": [
    {
     "name": "stdout",
     "output_type": "stream",
     "text": [
      "[{'radius': 0.001, 'nrmse': 0.4045154553590346}, {'radius': 0.005, 'nrmse': 0.40054010074185736}, {'radius': 0.05, 'nrmse': 0.385664937057774}, {'radius': 0.1, 'nrmse': 0.3635513636618184}, {'radius': 0.2, 'nrmse': 0.32638225520035935}, {'radius': 0.3, 'nrmse': 0.315003633747932}, {'radius': 0.4, 'nrmse': 0.29430270861272567}, {'radius': 0.5, 'nrmse': 0.2801342996732534}, {'radius': 0.6, 'nrmse': 0.27067665031220783}, {'radius': 0.7, 'nrmse': 0.2689030699397987}, {'radius': 0.8, 'nrmse': 0.2566241697652791}, {'radius': 0.9, 'nrmse': 0.24395668729025763}, {'radius': 0.95, 'nrmse': 0.23089869706218724}, {'radius': 0.99, 'nrmse': 0.20328967417321184}, {'radius': 0.999, 'nrmse': 0.1997435120317759}, {'radius': 0.9999, 'nrmse': 0.23445378842663522}]\n"
     ]
    }
   ],
   "execution_count": 40
  },
  {
   "metadata": {
    "ExecuteTime": {
     "end_time": "2024-08-06T15:21:25.473618Z",
     "start_time": "2024-08-06T15:21:23.576562Z"
    }
   },
   "cell_type": "code",
   "source": [
    "# Now we can plot the NRMSE for each spectral radius\n",
    "radii = [result['radius'] for result in results]\n",
    "nrmse = [result['nrmse'] for result in results]\n",
    "\n",
    "plt.figure(figsize=(10, 7))\n",
    "plt.plot(radii, nrmse, marker='o')\n",
    "\n",
    "plt.xlabel('Spectral Radius')\n",
    "plt.ylabel('NRMSE')\n",
    "plt.title('NRMSE for different Spectral Radii')\n",
    "\n",
    "plt.tight_layout()\n",
    "plt.show()"
   ],
   "id": "fc4afd605aead321",
   "outputs": [
    {
     "data": {
      "text/plain": [
       "<Figure size 1000x700 with 1 Axes>"
      ],
      "image/png": "[encoded data removed]"
     },
     "metadata": {},
     "output_type": "display_data"
    }
   ],
   "execution_count": 41
  },
  {
   "metadata": {
    "ExecuteTime": {
     "end_time": "2024-08-06T15:21:26.112858Z",
     "start_time": "2024-08-06T15:21:25.475118Z"
    }
   },
   "cell_type": "code",
   "source": [
    "# Get the best spectral radius\n",
    "best_radius = results[np.argmin(nrmse)]['radius']\n",
    "\n",
    "print(f'Best Spectral Radius: {best_radius}')"
   ],
   "id": "c15ae7ff6cb0205f",
   "outputs": [
    {
     "name": "stdout",
     "output_type": "stream",
     "text": [
      "Best Spectral Radius: 0.999\n"
     ]
    }
   ],
   "execution_count": 42
  },
  {
   "metadata": {
    "ExecuteTime": {
     "end_time": "2024-08-06T15:21:26.734013Z",
     "start_time": "2024-08-06T15:21:26.114363Z"
    }
   },
   "cell_type": "code",
   "source": "run_leakage = True",
   "id": "8d380f0e8a8d642e",
   "outputs": [],
   "execution_count": 43
  },
  {
   "metadata": {
    "ExecuteTime": {
     "end_time": "2024-08-06T18:50:41.378277Z",
     "start_time": "2024-08-06T16:20:08.294549Z"
    }
   },
   "cell_type": "code",
   "source": [
    "# Now that there is a working version, we can optimise the hyperparameters\n",
    "from sklearn.metrics import mean_squared_error\n",
    "\n",
    "# The number of neurons will be fixed at 500\n",
    "n_neurons = 500 \n",
    "\n",
    "density = 0.1\n",
    "leakage_rate = 0.3\n",
    "spectral_radius = best_radius\n",
    "gamma = 1.\n",
    "sparsity = 0.1\n",
    "\n",
    "input_weights = np.random.rand(n_neurons, n_features) < density\n",
    "W_in = input_weights\n",
    "\n",
    "# Now we will optimise the leakage rate\n",
    "# The leakage rate is a value between 0 and 1 and is used to determine how much of the previous state of the reservoir is retained\n",
    "# A value of 0 will mean that none of the previous state is retained\n",
    "# A value of 1 will mean that all of the previous state is retained and no new information is added\n",
    "leakage_rates = [0.001, 0.01, 0.05, 0.1, 0.2, 0.3, 0.4, 0.5, 0.6, 0.7, 0.8, 0.9, 0.95, 0.99, 0.999, 0.9999]\n",
    "\n",
    "# We will train the ESN on the training data and evaluate it on the validation data\n",
    "leakage_scores = []\n",
    "\n",
    "if run_leakage:\n",
    "    # There are 13 leakage rates to test, so let's parallelise the process\n",
    "    def evaluate_leakage_rate(rate):\n",
    "        esn = BasicESN(leakage_rate=rate, spectral_radius=spectral_radius, gamma=gamma, n_neurons=n_neurons, W_in=W_in, sparsity=sparsity, is_optimising=False)\n",
    "        esn.fit(data_in, data_out)\n",
    "        \n",
    "        y_pred = esn.forward(X_val)\n",
    "        \n",
    "        y_pred_decoded = encoder.inverse_transform(y_pred)\n",
    "        \n",
    "        # Calculate the NRMSE\n",
    "        # The NRMSE is the normalised root mean squared error\n",
    "        # It is calculated as the RMSE divided by the range of the true values\n",
    "        \n",
    "        nrmse = np.sqrt(mean_squared_error(y_val_decoded, y_pred_decoded)) / (y_val_decoded.max() - y_val_decoded.min())\n",
    "        \n",
    "        leakage_scores.append(nrmse)\n",
    "        \n",
    "        # Return the rate and the NRMSE via joblib\n",
    "        print(f'Leakage Rate: {rate}, NRMSE: {nrmse}')\n",
    "        \n",
    "        return {'rate': rate, 'nrmse': nrmse}\n",
    "    \n",
    "    # with tqdm_joblib(tqdm(desc=\"Leakage Rate\", total=len(leakage_rates))) as progress_bar:\n",
    "    #     results = Parallel(n_jobs=4)(delayed(evaluate_leakage_rate)(rate) for rate in leakage_rates)\n",
    "    results = []\n",
    "    for rate in leakage_rates:\n",
    "        print(f'Running for rate: {rate}')\n",
    "        results.append(evaluate_leakage_rate(rate))\n",
    "else:\n",
    "    #results = [{'rate': 0.01, 'nrmse': 0.25124190818488}, {'rate': 0.05, 'nrmse': 0.2681906893923783}, {'rate': 0.1, 'nrmse': 0.26706317039377186}, {'rate': 0.2, 'nrmse': 0.24336720609682508}, {'rate': 0.3, 'nrmse': 0.24555088370120406}, {'rate': 0.4, 'nrmse': 0.2319308621095861}, {'rate': 0.5, 'nrmse': 0.22497402886748671}, {'rate': 0.6, 'nrmse': 0.20125566822625374}, {'rate': 0.7, 'nrmse': 0.19946100171160389}, {'rate': 0.8, 'nrmse': 0.19053586646013923}, {'rate': 0.9, 'nrmse': 0.1741566448003967}, {'rate': 0.95, 'nrmse': 0.18456934433880887}, {'rate': 0.99, 'nrmse': 0.19656424015426976}]\n",
    "    results = [{'rate': 0.001, 'nrmse': 0.26707297676991476}, {'rate': 0.01, 'nrmse': 0.250970083113299}, {'rate': 0.05, 'nrmse': 0.25301912026608314}, {'rate': 0.1, 'nrmse': 0.25511859257053365}, {'rate': 0.2, 'nrmse': 0.24619581105920343}, {'rate': 0.3, 'nrmse': 0.2382642595057004}, {'rate': 0.4, 'nrmse': 0.20641254880960855}, {'rate': 0.5, 'nrmse': 0.20912268504338702}, {'rate': 0.6, 'nrmse': 0.2104041891979563}, {'rate': 0.7, 'nrmse': 0.17574158250828867}, {'rate': 0.8, 'nrmse': 0.1640287025012348}, {'rate': 0.9, 'nrmse': 0.18299601514727024}, {'rate': 0.95, 'nrmse': 0.17130497657569846}, {'rate': 0.99, 'nrmse': 0.20360445875838262}, {'rate': 0.999, 'nrmse': 0.31569787506224634}, {'rate': 0.9999, 'nrmse': 0.9011325539068648}]\n"
   ],
   "id": "7d9790a8b6e03528",
   "outputs": [
    {
     "name": "stdout",
     "output_type": "stream",
     "text": [
      "Running for rate: 0.001\n",
      "[]\n",
      "Is CUDA available: True\n",
      "BasicESN initialised with leakage_rate: 0.001, spectral_radius: 0.999, gamma: 1.0, n_neurons: 500, sparsity: 0.1\n"
     ]
    },
    {
     "name": "stderr",
     "output_type": "stream",
     "text": [
      "51357354it [06:54, 123802.32it/s]                          \n"
     ]
    },
    {
     "name": "stdout",
     "output_type": "stream",
     "text": [
      "Shape of previous_states: (1357646, 500)\n",
      "Reservoir state computed, fitting readout layer...\n"
     ]
    },
    {
     "name": "stderr",
     "output_type": "stream",
     "text": [
      "C:\\Users\\mail\\anaconda3\\envs\\training\\lib\\site-packages\\sklearn\\linear_model\\_ridge.py:200: LinAlgWarning: Ill-conditioned matrix (rcond=2.13335e-08): result may not be accurate.\n",
      "  return linalg.solve(A, Xy, assume_a=\"pos\", overwrite_a=True).T\n"
     ]
    },
    {
     "name": "stdout",
     "output_type": "stream",
     "text": [
      "Readout layer fitted.\n"
     ]
    },
    {
     "name": "stderr",
     "output_type": "stream",
     "text": [
      "50335596it [01:43, 487966.50it/s]                        \n"
     ]
    },
    {
     "name": "stdout",
     "output_type": "stream",
     "text": [
      "Shape of previous_states: (339404, 500)\n",
      "Leakage Rate: 0.001, NRMSE: 0.26707297676991476\n",
      "Running for rate: 0.01\n",
      "[]\n",
      "Is CUDA available: True\n",
      "BasicESN initialised with leakage_rate: 0.01, spectral_radius: 0.999, gamma: 1.0, n_neurons: 500, sparsity: 0.1\n"
     ]
    },
    {
     "name": "stderr",
     "output_type": "stream",
     "text": [
      "51357354it [06:53, 124109.26it/s]                          \n"
     ]
    },
    {
     "name": "stdout",
     "output_type": "stream",
     "text": [
      "Shape of previous_states: (1357646, 500)\n",
      "Reservoir state computed, fitting readout layer...\n"
     ]
    },
    {
     "name": "stderr",
     "output_type": "stream",
     "text": [
      "C:\\Users\\mail\\anaconda3\\envs\\training\\lib\\site-packages\\sklearn\\linear_model\\_ridge.py:200: LinAlgWarning: Ill-conditioned matrix (rcond=1.85443e-08): result may not be accurate.\n",
      "  return linalg.solve(A, Xy, assume_a=\"pos\", overwrite_a=True).T\n"
     ]
    },
    {
     "name": "stdout",
     "output_type": "stream",
     "text": [
      "Readout layer fitted.\n"
     ]
    },
    {
     "name": "stderr",
     "output_type": "stream",
     "text": [
      "50335596it [01:42, 489405.11it/s]                        \n"
     ]
    },
    {
     "name": "stdout",
     "output_type": "stream",
     "text": [
      "Shape of previous_states: (339404, 500)\n",
      "Leakage Rate: 0.01, NRMSE: 0.250970083113299\n",
      "Running for rate: 0.05\n",
      "[]\n",
      "Is CUDA available: True\n",
      "BasicESN initialised with leakage_rate: 0.05, spectral_radius: 0.999, gamma: 1.0, n_neurons: 500, sparsity: 0.1\n"
     ]
    },
    {
     "name": "stderr",
     "output_type": "stream",
     "text": [
      "51357354it [07:00, 122219.58it/s]                          \n"
     ]
    },
    {
     "name": "stdout",
     "output_type": "stream",
     "text": [
      "Shape of previous_states: (1357646, 500)\n",
      "Reservoir state computed, fitting readout layer...\n"
     ]
    },
    {
     "name": "stderr",
     "output_type": "stream",
     "text": [
      "C:\\Users\\mail\\anaconda3\\envs\\training\\lib\\site-packages\\sklearn\\linear_model\\_ridge.py:200: LinAlgWarning: Ill-conditioned matrix (rcond=1.10804e-08): result may not be accurate.\n",
      "  return linalg.solve(A, Xy, assume_a=\"pos\", overwrite_a=True).T\n"
     ]
    },
    {
     "name": "stdout",
     "output_type": "stream",
     "text": [
      "Readout layer fitted.\n"
     ]
    },
    {
     "name": "stderr",
     "output_type": "stream",
     "text": [
      "50335596it [01:43, 488099.97it/s]                        \n"
     ]
    },
    {
     "name": "stdout",
     "output_type": "stream",
     "text": [
      "Shape of previous_states: (339404, 500)\n",
      "Leakage Rate: 0.05, NRMSE: 0.25301912026608314\n",
      "Running for rate: 0.1\n",
      "[]\n",
      "Is CUDA available: True\n",
      "BasicESN initialised with leakage_rate: 0.1, spectral_radius: 0.999, gamma: 1.0, n_neurons: 500, sparsity: 0.1\n"
     ]
    },
    {
     "name": "stderr",
     "output_type": "stream",
     "text": [
      "51357354it [06:50, 125001.86it/s]                          \n"
     ]
    },
    {
     "name": "stdout",
     "output_type": "stream",
     "text": [
      "Shape of previous_states: (1357646, 500)\n",
      "Reservoir state computed, fitting readout layer...\n"
     ]
    },
    {
     "name": "stderr",
     "output_type": "stream",
     "text": [
      "C:\\Users\\mail\\anaconda3\\envs\\training\\lib\\site-packages\\sklearn\\linear_model\\_ridge.py:200: LinAlgWarning: Ill-conditioned matrix (rcond=1.0415e-08): result may not be accurate.\n",
      "  return linalg.solve(A, Xy, assume_a=\"pos\", overwrite_a=True).T\n"
     ]
    },
    {
     "name": "stdout",
     "output_type": "stream",
     "text": [
      "Readout layer fitted.\n"
     ]
    },
    {
     "name": "stderr",
     "output_type": "stream",
     "text": [
      "50335596it [01:42, 489036.93it/s]                        \n"
     ]
    },
    {
     "name": "stdout",
     "output_type": "stream",
     "text": [
      "Shape of previous_states: (339404, 500)\n",
      "Leakage Rate: 0.1, NRMSE: 0.25511859257053365\n",
      "Running for rate: 0.2\n",
      "[]\n",
      "Is CUDA available: True\n",
      "BasicESN initialised with leakage_rate: 0.2, spectral_radius: 0.999, gamma: 1.0, n_neurons: 500, sparsity: 0.1\n"
     ]
    },
    {
     "name": "stderr",
     "output_type": "stream",
     "text": [
      "51357354it [06:57, 123112.40it/s]                          \n"
     ]
    },
    {
     "name": "stdout",
     "output_type": "stream",
     "text": [
      "Shape of previous_states: (1357646, 500)\n",
      "Reservoir state computed, fitting readout layer...\n"
     ]
    },
    {
     "name": "stderr",
     "output_type": "stream",
     "text": [
      "C:\\Users\\mail\\anaconda3\\envs\\training\\lib\\site-packages\\sklearn\\linear_model\\_ridge.py:200: LinAlgWarning: Ill-conditioned matrix (rcond=8.82194e-09): result may not be accurate.\n",
      "  return linalg.solve(A, Xy, assume_a=\"pos\", overwrite_a=True).T\n"
     ]
    },
    {
     "name": "stdout",
     "output_type": "stream",
     "text": [
      "Readout layer fitted.\n"
     ]
    },
    {
     "name": "stderr",
     "output_type": "stream",
     "text": [
      "50335596it [01:43, 484810.18it/s]                        \n"
     ]
    },
    {
     "name": "stdout",
     "output_type": "stream",
     "text": [
      "Shape of previous_states: (339404, 500)\n",
      "Leakage Rate: 0.2, NRMSE: 0.24619581105920343\n",
      "Running for rate: 0.3\n",
      "[]\n",
      "Is CUDA available: True\n",
      "BasicESN initialised with leakage_rate: 0.3, spectral_radius: 0.999, gamma: 1.0, n_neurons: 500, sparsity: 0.1\n"
     ]
    },
    {
     "name": "stderr",
     "output_type": "stream",
     "text": [
      "51357354it [06:50, 125122.60it/s]                          \n"
     ]
    },
    {
     "name": "stdout",
     "output_type": "stream",
     "text": [
      "Shape of previous_states: (1357646, 500)\n",
      "Reservoir state computed, fitting readout layer...\n"
     ]
    },
    {
     "name": "stderr",
     "output_type": "stream",
     "text": [
      "C:\\Users\\mail\\anaconda3\\envs\\training\\lib\\site-packages\\sklearn\\linear_model\\_ridge.py:200: LinAlgWarning: Ill-conditioned matrix (rcond=3.30571e-09): result may not be accurate.\n",
      "  return linalg.solve(A, Xy, assume_a=\"pos\", overwrite_a=True).T\n"
     ]
    },
    {
     "name": "stdout",
     "output_type": "stream",
     "text": [
      "Readout layer fitted.\n"
     ]
    },
    {
     "name": "stderr",
     "output_type": "stream",
     "text": [
      "50335596it [01:41, 495875.43it/s]                        \n"
     ]
    },
    {
     "name": "stdout",
     "output_type": "stream",
     "text": [
      "Shape of previous_states: (339404, 500)\n",
      "Leakage Rate: 0.3, NRMSE: 0.2382642595057004\n",
      "Running for rate: 0.4\n",
      "[]\n",
      "Is CUDA available: True\n",
      "BasicESN initialised with leakage_rate: 0.4, spectral_radius: 0.999, gamma: 1.0, n_neurons: 500, sparsity: 0.1\n"
     ]
    },
    {
     "name": "stderr",
     "output_type": "stream",
     "text": [
      "51357354it [06:48, 125608.27it/s]                          \n"
     ]
    },
    {
     "name": "stdout",
     "output_type": "stream",
     "text": [
      "Shape of previous_states: (1357646, 500)\n",
      "Reservoir state computed, fitting readout layer...\n"
     ]
    },
    {
     "name": "stderr",
     "output_type": "stream",
     "text": [
      "C:\\Users\\mail\\anaconda3\\envs\\training\\lib\\site-packages\\sklearn\\linear_model\\_ridge.py:200: LinAlgWarning: Ill-conditioned matrix (rcond=5.68085e-09): result may not be accurate.\n",
      "  return linalg.solve(A, Xy, assume_a=\"pos\", overwrite_a=True).T\n"
     ]
    },
    {
     "name": "stdout",
     "output_type": "stream",
     "text": [
      "Readout layer fitted.\n"
     ]
    },
    {
     "name": "stderr",
     "output_type": "stream",
     "text": [
      "50335596it [01:41, 494088.48it/s]                        \n"
     ]
    },
    {
     "name": "stdout",
     "output_type": "stream",
     "text": [
      "Shape of previous_states: (339404, 500)\n",
      "Leakage Rate: 0.4, NRMSE: 0.20641254880960855\n",
      "Running for rate: 0.5\n",
      "[]\n",
      "Is CUDA available: True\n",
      "BasicESN initialised with leakage_rate: 0.5, spectral_radius: 0.999, gamma: 1.0, n_neurons: 500, sparsity: 0.1\n"
     ]
    },
    {
     "name": "stderr",
     "output_type": "stream",
     "text": [
      "51357354it [07:04, 120908.75it/s]                          \n"
     ]
    },
    {
     "name": "stdout",
     "output_type": "stream",
     "text": [
      "Shape of previous_states: (1357646, 500)\n",
      "Reservoir state computed, fitting readout layer...\n"
     ]
    },
    {
     "name": "stderr",
     "output_type": "stream",
     "text": [
      "C:\\Users\\mail\\anaconda3\\envs\\training\\lib\\site-packages\\sklearn\\linear_model\\_ridge.py:200: LinAlgWarning: Ill-conditioned matrix (rcond=1.09932e-09): result may not be accurate.\n",
      "  return linalg.solve(A, Xy, assume_a=\"pos\", overwrite_a=True).T\n"
     ]
    },
    {
     "name": "stdout",
     "output_type": "stream",
     "text": [
      "Readout layer fitted.\n"
     ]
    },
    {
     "name": "stderr",
     "output_type": "stream",
     "text": [
      "50335596it [01:50, 453521.69it/s]                        \n"
     ]
    },
    {
     "name": "stdout",
     "output_type": "stream",
     "text": [
      "Shape of previous_states: (339404, 500)\n",
      "Leakage Rate: 0.5, NRMSE: 0.20912268504338702\n",
      "Running for rate: 0.6\n",
      "[]\n",
      "Is CUDA available: True\n",
      "BasicESN initialised with leakage_rate: 0.6, spectral_radius: 0.999, gamma: 1.0, n_neurons: 500, sparsity: 0.1\n"
     ]
    },
    {
     "name": "stderr",
     "output_type": "stream",
     "text": [
      "51357354it [07:27, 114718.06it/s]                          \n"
     ]
    },
    {
     "name": "stdout",
     "output_type": "stream",
     "text": [
      "Shape of previous_states: (1357646, 500)\n",
      "Reservoir state computed, fitting readout layer...\n"
     ]
    },
    {
     "name": "stderr",
     "output_type": "stream",
     "text": [
      "C:\\Users\\mail\\anaconda3\\envs\\training\\lib\\site-packages\\sklearn\\linear_model\\_ridge.py:200: LinAlgWarning: Ill-conditioned matrix (rcond=1.972e-10): result may not be accurate.\n",
      "  return linalg.solve(A, Xy, assume_a=\"pos\", overwrite_a=True).T\n"
     ]
    },
    {
     "name": "stdout",
     "output_type": "stream",
     "text": [
      "Readout layer fitted.\n"
     ]
    },
    {
     "name": "stderr",
     "output_type": "stream",
     "text": [
      "50335596it [01:57, 427273.66it/s]                        \n"
     ]
    },
    {
     "name": "stdout",
     "output_type": "stream",
     "text": [
      "Shape of previous_states: (339404, 500)\n",
      "Leakage Rate: 0.6, NRMSE: 0.2104041891979563\n",
      "Running for rate: 0.7\n",
      "[]\n",
      "Is CUDA available: True\n",
      "BasicESN initialised with leakage_rate: 0.7, spectral_radius: 0.999, gamma: 1.0, n_neurons: 500, sparsity: 0.1\n"
     ]
    },
    {
     "name": "stderr",
     "output_type": "stream",
     "text": [
      "51357354it [07:37, 112146.53it/s]                          \n"
     ]
    },
    {
     "name": "stdout",
     "output_type": "stream",
     "text": [
      "Shape of previous_states: (1357646, 500)\n",
      "Reservoir state computed, fitting readout layer...\n"
     ]
    },
    {
     "name": "stderr",
     "output_type": "stream",
     "text": [
      "C:\\Users\\mail\\anaconda3\\envs\\training\\lib\\site-packages\\sklearn\\linear_model\\_ridge.py:200: LinAlgWarning: Ill-conditioned matrix (rcond=2.55674e-11): result may not be accurate.\n",
      "  return linalg.solve(A, Xy, assume_a=\"pos\", overwrite_a=True).T\n"
     ]
    },
    {
     "name": "stdout",
     "output_type": "stream",
     "text": [
      "Readout layer fitted.\n"
     ]
    },
    {
     "name": "stderr",
     "output_type": "stream",
     "text": [
      "50335596it [01:53, 445391.32it/s]                        \n"
     ]
    },
    {
     "name": "stdout",
     "output_type": "stream",
     "text": [
      "Shape of previous_states: (339404, 500)\n",
      "Leakage Rate: 0.7, NRMSE: 0.17574158250828867\n",
      "Running for rate: 0.8\n",
      "[]\n",
      "Is CUDA available: True\n",
      "BasicESN initialised with leakage_rate: 0.8, spectral_radius: 0.999, gamma: 1.0, n_neurons: 500, sparsity: 0.1\n"
     ]
    },
    {
     "name": "stderr",
     "output_type": "stream",
     "text": [
      "51357354it [07:50, 109107.59it/s]                          \n"
     ]
    },
    {
     "name": "stdout",
     "output_type": "stream",
     "text": [
      "Shape of previous_states: (1357646, 500)\n",
      "Reservoir state computed, fitting readout layer...\n",
      "Readout layer fitted.\n"
     ]
    },
    {
     "name": "stderr",
     "output_type": "stream",
     "text": [
      "50335596it [01:52, 446359.89it/s]                        \n"
     ]
    },
    {
     "name": "stdout",
     "output_type": "stream",
     "text": [
      "Shape of previous_states: (339404, 500)\n",
      "Leakage Rate: 0.8, NRMSE: 0.1640287025012348\n",
      "Running for rate: 0.9\n",
      "[]\n",
      "Is CUDA available: True\n",
      "BasicESN initialised with leakage_rate: 0.9, spectral_radius: 0.999, gamma: 1.0, n_neurons: 500, sparsity: 0.1\n"
     ]
    },
    {
     "name": "stderr",
     "output_type": "stream",
     "text": [
      "51357354it [07:42, 111019.35it/s]                          \n"
     ]
    },
    {
     "name": "stdout",
     "output_type": "stream",
     "text": [
      "Shape of previous_states: (1357646, 500)\n",
      "Reservoir state computed, fitting readout layer...\n",
      "Readout layer fitted.\n"
     ]
    },
    {
     "name": "stderr",
     "output_type": "stream",
     "text": [
      "50335596it [02:03, 406445.16it/s]                        \n"
     ]
    },
    {
     "name": "stdout",
     "output_type": "stream",
     "text": [
      "Shape of previous_states: (339404, 500)\n",
      "Leakage Rate: 0.9, NRMSE: 0.18299601514727024\n",
      "Running for rate: 0.95\n",
      "[]\n",
      "Is CUDA available: True\n",
      "BasicESN initialised with leakage_rate: 0.95, spectral_radius: 0.999, gamma: 1.0, n_neurons: 500, sparsity: 0.1\n"
     ]
    },
    {
     "name": "stderr",
     "output_type": "stream",
     "text": [
      "51357354it [07:27, 114885.00it/s]                          \n"
     ]
    },
    {
     "name": "stdout",
     "output_type": "stream",
     "text": [
      "Shape of previous_states: (1357646, 500)\n",
      "Reservoir state computed, fitting readout layer...\n",
      "Readout layer fitted.\n"
     ]
    },
    {
     "name": "stderr",
     "output_type": "stream",
     "text": [
      "50335596it [01:55, 434826.38it/s]                        \n"
     ]
    },
    {
     "name": "stdout",
     "output_type": "stream",
     "text": [
      "Shape of previous_states: (339404, 500)\n",
      "Leakage Rate: 0.95, NRMSE: 0.17130497657569846\n",
      "Running for rate: 0.99\n",
      "[]\n",
      "Is CUDA available: True\n",
      "BasicESN initialised with leakage_rate: 0.99, spectral_radius: 0.999, gamma: 1.0, n_neurons: 500, sparsity: 0.1\n"
     ]
    },
    {
     "name": "stderr",
     "output_type": "stream",
     "text": [
      "51357354it [07:48, 109647.18it/s]                          \n"
     ]
    },
    {
     "name": "stdout",
     "output_type": "stream",
     "text": [
      "Shape of previous_states: (1357646, 500)\n",
      "Reservoir state computed, fitting readout layer...\n"
     ]
    },
    {
     "name": "stderr",
     "output_type": "stream",
     "text": [
      "C:\\Users\\mail\\anaconda3\\envs\\training\\lib\\site-packages\\sklearn\\linear_model\\_ridge.py:200: LinAlgWarning: Ill-conditioned matrix (rcond=5.55746e-10): result may not be accurate.\n",
      "  return linalg.solve(A, Xy, assume_a=\"pos\", overwrite_a=True).T\n"
     ]
    },
    {
     "name": "stdout",
     "output_type": "stream",
     "text": [
      "Readout layer fitted.\n"
     ]
    },
    {
     "name": "stderr",
     "output_type": "stream",
     "text": [
      "50335596it [01:58, 423152.88it/s]                        \n"
     ]
    },
    {
     "name": "stdout",
     "output_type": "stream",
     "text": [
      "Shape of previous_states: (339404, 500)\n",
      "Leakage Rate: 0.99, NRMSE: 0.20360445875838262\n",
      "Running for rate: 0.999\n",
      "[]\n",
      "Is CUDA available: True\n",
      "BasicESN initialised with leakage_rate: 0.999, spectral_radius: 0.999, gamma: 1.0, n_neurons: 500, sparsity: 0.1\n"
     ]
    },
    {
     "name": "stderr",
     "output_type": "stream",
     "text": [
      "51357354it [09:06, 93960.85it/s]                           \n"
     ]
    },
    {
     "name": "stdout",
     "output_type": "stream",
     "text": [
      "Shape of previous_states: (1357646, 500)\n",
      "Reservoir state computed, fitting readout layer...\n"
     ]
    },
    {
     "name": "stderr",
     "output_type": "stream",
     "text": [
      "C:\\Users\\mail\\anaconda3\\envs\\training\\lib\\site-packages\\sklearn\\linear_model\\_ridge.py:200: LinAlgWarning: Ill-conditioned matrix (rcond=6.08832e-09): result may not be accurate.\n",
      "  return linalg.solve(A, Xy, assume_a=\"pos\", overwrite_a=True).T\n"
     ]
    },
    {
     "name": "stdout",
     "output_type": "stream",
     "text": [
      "Readout layer fitted.\n"
     ]
    },
    {
     "name": "stderr",
     "output_type": "stream",
     "text": [
      "50335596it [02:07, 393302.71it/s]                        \n"
     ]
    },
    {
     "name": "stdout",
     "output_type": "stream",
     "text": [
      "Shape of previous_states: (339404, 500)\n",
      "Leakage Rate: 0.999, NRMSE: 0.31569787506224634\n",
      "Running for rate: 0.9999\n",
      "[]\n",
      "Is CUDA available: True\n",
      "BasicESN initialised with leakage_rate: 0.9999, spectral_radius: 0.999, gamma: 1.0, n_neurons: 500, sparsity: 0.1\n"
     ]
    },
    {
     "name": "stderr",
     "output_type": "stream",
     "text": [
      "51357354it [08:10, 104776.94it/s]                          \n"
     ]
    },
    {
     "name": "stdout",
     "output_type": "stream",
     "text": [
      "Shape of previous_states: (1357646, 500)\n",
      "Reservoir state computed, fitting readout layer...\n"
     ]
    },
    {
     "name": "stderr",
     "output_type": "stream",
     "text": [
      "C:\\Users\\mail\\anaconda3\\envs\\training\\lib\\site-packages\\sklearn\\linear_model\\_ridge.py:200: LinAlgWarning: Ill-conditioned matrix (rcond=2.67526e-08): result may not be accurate.\n",
      "  return linalg.solve(A, Xy, assume_a=\"pos\", overwrite_a=True).T\n"
     ]
    },
    {
     "name": "stdout",
     "output_type": "stream",
     "text": [
      "Readout layer fitted.\n"
     ]
    },
    {
     "name": "stderr",
     "output_type": "stream",
     "text": [
      "50335596it [02:08, 391799.42it/s]                        \n"
     ]
    },
    {
     "name": "stdout",
     "output_type": "stream",
     "text": [
      "Shape of previous_states: (339404, 500)\n",
      "Leakage Rate: 0.9999, NRMSE: 0.9011325539068648\n"
     ]
    }
   ],
   "execution_count": 45
  },
  {
   "metadata": {
    "ExecuteTime": {
     "end_time": "2024-08-06T18:50:43.539976Z",
     "start_time": "2024-08-06T18:50:41.385794Z"
    }
   },
   "cell_type": "code",
   "source": "print(results)\n",
   "id": "20f07e2a51e462f5",
   "outputs": [
    {
     "name": "stdout",
     "output_type": "stream",
     "text": [
      "[{'rate': 0.001, 'nrmse': 0.26707297676991476}, {'rate': 0.01, 'nrmse': 0.250970083113299}, {'rate': 0.05, 'nrmse': 0.25301912026608314}, {'rate': 0.1, 'nrmse': 0.25511859257053365}, {'rate': 0.2, 'nrmse': 0.24619581105920343}, {'rate': 0.3, 'nrmse': 0.2382642595057004}, {'rate': 0.4, 'nrmse': 0.20641254880960855}, {'rate': 0.5, 'nrmse': 0.20912268504338702}, {'rate': 0.6, 'nrmse': 0.2104041891979563}, {'rate': 0.7, 'nrmse': 0.17574158250828867}, {'rate': 0.8, 'nrmse': 0.1640287025012348}, {'rate': 0.9, 'nrmse': 0.18299601514727024}, {'rate': 0.95, 'nrmse': 0.17130497657569846}, {'rate': 0.99, 'nrmse': 0.20360445875838262}, {'rate': 0.999, 'nrmse': 0.31569787506224634}, {'rate': 0.9999, 'nrmse': 0.9011325539068648}]\n"
     ]
    }
   ],
   "execution_count": 46
  },
  {
   "metadata": {
    "ExecuteTime": {
     "end_time": "2024-08-06T18:50:44.766630Z",
     "start_time": "2024-08-06T18:50:43.541476Z"
    }
   },
   "cell_type": "code",
   "source": [
    "# Now we can plot the NRMSE for each leakage rate\n",
    "rates = [result['rate'] for result in results]\n",
    "nrmse = [result['nrmse'] for result in results]\n",
    "\n",
    "plt.figure(figsize=(10, 7))\n",
    "plt.plot(rates, nrmse, marker='o')\n",
    "    \n",
    "plt.xlabel('Leakage Rate')\n",
    "plt.ylabel('NRMSE')\n",
    "plt.title('NRMSE for different Leakage Rates')\n",
    "\n",
    "plt.tight_layout()\n",
    "plt.show()"
   ],
   "id": "ff5475ee1efae37b",
   "outputs": [
    {
     "data": {
      "text/plain": [
       "<Figure size 1000x700 with 1 Axes>"
      ],
      "image/png": "[encoded data removed]"
     },
     "metadata": {},
     "output_type": "display_data"
    }
   ],
   "execution_count": 47
  },
  {
   "metadata": {
    "ExecuteTime": {
     "end_time": "2024-08-06T18:50:46.336491Z",
     "start_time": "2024-08-06T18:50:44.769130Z"
    }
   },
   "cell_type": "code",
   "source": [
    "# Get the best leakage rate\n",
    "best_rate = results[np.argmin(nrmse)]['rate']\n",
    "\n",
    "print(f'Best Leakage Rate: {best_rate}')"
   ],
   "id": "a1e1e8055b795372",
   "outputs": [
    {
     "name": "stdout",
     "output_type": "stream",
     "text": [
      "Best Leakage Rate: 0.8\n"
     ]
    }
   ],
   "execution_count": 48
  },
  {
   "metadata": {
    "ExecuteTime": {
     "end_time": "2024-08-06T18:50:47.163389Z",
     "start_time": "2024-08-06T18:50:46.339995Z"
    }
   },
   "cell_type": "code",
   "source": "run_gamma = False",
   "id": "95c629b9b35b8a92",
   "outputs": [],
   "execution_count": 49
  },
  {
   "metadata": {
    "ExecuteTime": {
     "end_time": "2024-08-06T21:14:31.249456Z",
     "start_time": "2024-08-06T18:50:47.165308Z"
    }
   },
   "cell_type": "code",
   "source": [
    "# Now we can optimise the gamma parameter\n",
    "# The gamma parameter is used to scale the input weights\n",
    "# It is a value between 0 and 1\n",
    "# A value of 1 will mean that the input weights are not scaled\n",
    "# A value of 0 will mean that the input weights are all 0\n",
    "\n",
    "# The number of neurons will be fixed at 500\n",
    "n_neurons = 500\n",
    "\n",
    "density = 0.1\n",
    "leakage_rate = best_rate\n",
    "spectral_radius = best_radius\n",
    "gamma = 1\n",
    "sparsity = 0.1\n",
    "\n",
    "input_weights = np.random.rand(n_neurons, n_features) < density\n",
    "\n",
    "W_in = input_weights\n",
    "\n",
    "# We will optimise the gamma parameter\n",
    "\n",
    "gammas = [0.005, 0.01, 0.05, 0.1, 0.2, 0.3, 0.4, 0.5, 0.6, 0.7, 0.8, 0.9, 0.95, 0.99, 0.999]\n",
    "\n",
    "# We will train the ESN on the training data and evaluate it on the validation data\n",
    "gamma_scores = []\n",
    "\n",
    "if run_gamma:\n",
    "    # There are 13 gamma values to test, so let's parallelise the process\n",
    "    def evaluate_gamma(gamma):\n",
    "        esn = BasicESN(leakage_rate=leakage_rate, spectral_radius=spectral_radius, gamma=gamma, n_neurons=n_neurons, W_in=W_in, sparsity=sparsity, is_optimising=False)\n",
    "        esn.fit(data_in, data_out)\n",
    "        \n",
    "        y_pred = esn.forward(X_val)\n",
    "        \n",
    "        y_pred_decoded = encoder.inverse_transform(y_pred)\n",
    "        \n",
    "        # Calculate the NRMSE\n",
    "        # The NRMSE is the normalised root mean squared error\n",
    "        # It is calculated as the RMSE divided by the range of the true values\n",
    "        \n",
    "        nrmse = np.sqrt(mean_squared_error(y_val_decoded, y_pred_decoded)) / (y_val_decoded.max() - y_val_decoded.min())\n",
    "        \n",
    "        gamma_scores.append(nrmse)\n",
    "        \n",
    "        # Return the gamma and the NRMSE via joblib\n",
    "        print(f'Gamma: {gamma}, NRMSE: {nrmse}')\n",
    "        \n",
    "        return {'gamma': gamma, 'nrmse': nrmse}\n",
    "    \n",
    "    # with tqdm_joblib(tqdm(desc=\"Gamma\", total=len(gammas))) as progress_bar:\n",
    "    #     results = Parallel(n_jobs=4)(delayed(evaluate_gamma)(gamma) for gamma in gammas)\n",
    "    results = []\n",
    "    for gamma in gammas:\n",
    "        print(f'Running for gamma: {gamma}')\n",
    "        results.append(evaluate_gamma(gamma))\n",
    "        \n",
    "else:\n",
    "    results = [{'gamma': 0.005, 'nrmse': 0.34504279288129075}, {'gamma': 0.01, 'nrmse': 0.3350269825617671}, {'gamma': 0.05, 'nrmse': 0.33088847975504443}, {'gamma': 0.1, 'nrmse': 0.32363543335394845}, {'gamma': 0.2, 'nrmse': 0.290630273731353}, {'gamma': 0.3, 'nrmse': 0.2472228712624572}, {'gamma': 0.4, 'nrmse': 0.2501520177259931}, {'gamma': 0.5, 'nrmse': 0.2220304636208608}, {'gamma': 0.6, 'nrmse': 0.2188426878086991}, {'gamma': 0.7, 'nrmse': 0.19613679129610148}, {'gamma': 0.8, 'nrmse': 0.2069502968917438}, {'gamma': 0.9, 'nrmse': 0.17985038699725894}, {'gamma': 0.95, 'nrmse': 0.18878409524310988}, {'gamma': 0.99, 'nrmse': 0.16055385218520643}, {'gamma': 0.999, 'nrmse': 0.14371419624976714}]"
   ],
   "id": "24fd7eef1a1af8d8",
   "outputs": [
    {
     "name": "stdout",
     "output_type": "stream",
     "text": [
      "Running for gamma: 0.005\n",
      "[]\n",
      "Is CUDA available: True\n",
      "BasicESN initialised with leakage_rate: 0.8, spectral_radius: 0.999, gamma: 0.005, n_neurons: 500, sparsity: 0.1\n"
     ]
    },
    {
     "name": "stderr",
     "output_type": "stream",
     "text": [
      "100%|██████████| 1357646/1357646 [07:31<00:00, 3006.18it/s]\n"
     ]
    },
    {
     "name": "stdout",
     "output_type": "stream",
     "text": [
      "Shape of previous_states: (1357646, 500)\n",
      "Reservoir state computed, fitting readout layer...\n",
      "Readout layer fitted.\n"
     ]
    },
    {
     "name": "stderr",
     "output_type": "stream",
     "text": [
      "100%|██████████| 339404/339404 [01:48<00:00, 3131.95it/s]\n"
     ]
    },
    {
     "name": "stdout",
     "output_type": "stream",
     "text": [
      "Shape of previous_states: (339404, 500)\n",
      "Gamma: 0.005, NRMSE: 0.34504279288129075\n",
      "Running for gamma: 0.01\n",
      "[]\n",
      "Is CUDA available: True\n",
      "BasicESN initialised with leakage_rate: 0.8, spectral_radius: 0.999, gamma: 0.01, n_neurons: 500, sparsity: 0.1\n"
     ]
    },
    {
     "name": "stderr",
     "output_type": "stream",
     "text": [
      "100%|██████████| 1357646/1357646 [07:39<00:00, 2953.40it/s]\n"
     ]
    },
    {
     "name": "stdout",
     "output_type": "stream",
     "text": [
      "Shape of previous_states: (1357646, 500)\n",
      "Reservoir state computed, fitting readout layer...\n",
      "Readout layer fitted.\n"
     ]
    },
    {
     "name": "stderr",
     "output_type": "stream",
     "text": [
      "100%|██████████| 339404/339404 [01:59<00:00, 2838.51it/s]\n"
     ]
    },
    {
     "name": "stdout",
     "output_type": "stream",
     "text": [
      "Shape of previous_states: (339404, 500)\n",
      "Gamma: 0.01, NRMSE: 0.3350269825617671\n",
      "Running for gamma: 0.05\n",
      "[]\n",
      "Is CUDA available: True\n",
      "BasicESN initialised with leakage_rate: 0.8, spectral_radius: 0.999, gamma: 0.05, n_neurons: 500, sparsity: 0.1\n"
     ]
    },
    {
     "name": "stderr",
     "output_type": "stream",
     "text": [
      "100%|██████████| 1357646/1357646 [07:17<00:00, 3104.51it/s]\n"
     ]
    },
    {
     "name": "stdout",
     "output_type": "stream",
     "text": [
      "Shape of previous_states: (1357646, 500)\n",
      "Reservoir state computed, fitting readout layer...\n",
      "Readout layer fitted.\n"
     ]
    },
    {
     "name": "stderr",
     "output_type": "stream",
     "text": [
      "100%|██████████| 339404/339404 [01:57<00:00, 2881.51it/s]\n"
     ]
    },
    {
     "name": "stdout",
     "output_type": "stream",
     "text": [
      "Shape of previous_states: (339404, 500)\n",
      "Gamma: 0.05, NRMSE: 0.33088847975504443\n",
      "Running for gamma: 0.1\n",
      "[]\n",
      "Is CUDA available: True\n",
      "BasicESN initialised with leakage_rate: 0.8, spectral_radius: 0.999, gamma: 0.1, n_neurons: 500, sparsity: 0.1\n"
     ]
    },
    {
     "name": "stderr",
     "output_type": "stream",
     "text": [
      "100%|██████████| 1357646/1357646 [08:15<00:00, 2737.82it/s]\n"
     ]
    },
    {
     "name": "stdout",
     "output_type": "stream",
     "text": [
      "Shape of previous_states: (1357646, 500)\n",
      "Reservoir state computed, fitting readout layer...\n",
      "Readout layer fitted.\n"
     ]
    },
    {
     "name": "stderr",
     "output_type": "stream",
     "text": [
      "100%|██████████| 339404/339404 [01:59<00:00, 2840.86it/s]\n"
     ]
    },
    {
     "name": "stdout",
     "output_type": "stream",
     "text": [
      "Shape of previous_states: (339404, 500)\n",
      "Gamma: 0.1, NRMSE: 0.32363543335394845\n",
      "Running for gamma: 0.2\n",
      "[]\n",
      "Is CUDA available: True\n",
      "BasicESN initialised with leakage_rate: 0.8, spectral_radius: 0.999, gamma: 0.2, n_neurons: 500, sparsity: 0.1\n"
     ]
    },
    {
     "name": "stderr",
     "output_type": "stream",
     "text": [
      "100%|██████████| 1357646/1357646 [08:14<00:00, 2744.92it/s]\n"
     ]
    },
    {
     "name": "stdout",
     "output_type": "stream",
     "text": [
      "Shape of previous_states: (1357646, 500)\n",
      "Reservoir state computed, fitting readout layer...\n"
     ]
    },
    {
     "name": "stderr",
     "output_type": "stream",
     "text": [
      "C:\\Users\\mail\\anaconda3\\envs\\training\\lib\\site-packages\\sklearn\\linear_model\\_ridge.py:200: LinAlgWarning: Ill-conditioned matrix (rcond=1.29383e-08): result may not be accurate.\n",
      "  return linalg.solve(A, Xy, assume_a=\"pos\", overwrite_a=True).T\n"
     ]
    },
    {
     "name": "stdout",
     "output_type": "stream",
     "text": [
      "Readout layer fitted.\n"
     ]
    },
    {
     "name": "stderr",
     "output_type": "stream",
     "text": [
      "100%|██████████| 339404/339404 [01:58<00:00, 2869.21it/s]\n"
     ]
    },
    {
     "name": "stdout",
     "output_type": "stream",
     "text": [
      "Shape of previous_states: (339404, 500)\n",
      "Gamma: 0.2, NRMSE: 0.290630273731353\n",
      "Running for gamma: 0.3\n",
      "[]\n",
      "Is CUDA available: True\n",
      "BasicESN initialised with leakage_rate: 0.8, spectral_radius: 0.999, gamma: 0.3, n_neurons: 500, sparsity: 0.1\n"
     ]
    },
    {
     "name": "stderr",
     "output_type": "stream",
     "text": [
      "100%|██████████| 1357646/1357646 [09:03<00:00, 2496.52it/s]\n"
     ]
    },
    {
     "name": "stdout",
     "output_type": "stream",
     "text": [
      "Shape of previous_states: (1357646, 500)\n",
      "Reservoir state computed, fitting readout layer...\n"
     ]
    },
    {
     "name": "stderr",
     "output_type": "stream",
     "text": [
      "C:\\Users\\mail\\anaconda3\\envs\\training\\lib\\site-packages\\sklearn\\linear_model\\_ridge.py:200: LinAlgWarning: Ill-conditioned matrix (rcond=1.72542e-08): result may not be accurate.\n",
      "  return linalg.solve(A, Xy, assume_a=\"pos\", overwrite_a=True).T\n"
     ]
    },
    {
     "name": "stdout",
     "output_type": "stream",
     "text": [
      "Readout layer fitted.\n"
     ]
    },
    {
     "name": "stderr",
     "output_type": "stream",
     "text": [
      "100%|██████████| 339404/339404 [02:09<00:00, 2627.44it/s]\n"
     ]
    },
    {
     "name": "stdout",
     "output_type": "stream",
     "text": [
      "Shape of previous_states: (339404, 500)\n",
      "Gamma: 0.3, NRMSE: 0.2472228712624572\n",
      "Running for gamma: 0.4\n",
      "[]\n",
      "Is CUDA available: True\n",
      "BasicESN initialised with leakage_rate: 0.8, spectral_radius: 0.999, gamma: 0.4, n_neurons: 500, sparsity: 0.1\n"
     ]
    },
    {
     "name": "stderr",
     "output_type": "stream",
     "text": [
      "100%|██████████| 1357646/1357646 [07:58<00:00, 2840.24it/s]\n"
     ]
    },
    {
     "name": "stdout",
     "output_type": "stream",
     "text": [
      "Shape of previous_states: (1357646, 500)\n",
      "Reservoir state computed, fitting readout layer...\n",
      "Readout layer fitted.\n"
     ]
    },
    {
     "name": "stderr",
     "output_type": "stream",
     "text": [
      "100%|██████████| 339404/339404 [01:50<00:00, 3085.45it/s]\n"
     ]
    },
    {
     "name": "stdout",
     "output_type": "stream",
     "text": [
      "Shape of previous_states: (339404, 500)\n",
      "Gamma: 0.4, NRMSE: 0.2501520177259931\n",
      "Running for gamma: 0.5\n",
      "[]\n",
      "Is CUDA available: True\n",
      "BasicESN initialised with leakage_rate: 0.8, spectral_radius: 0.999, gamma: 0.5, n_neurons: 500, sparsity: 0.1\n"
     ]
    },
    {
     "name": "stderr",
     "output_type": "stream",
     "text": [
      "100%|██████████| 1357646/1357646 [07:11<00:00, 3148.26it/s]\n"
     ]
    },
    {
     "name": "stdout",
     "output_type": "stream",
     "text": [
      "Shape of previous_states: (1357646, 500)\n",
      "Reservoir state computed, fitting readout layer...\n"
     ]
    },
    {
     "name": "stderr",
     "output_type": "stream",
     "text": [
      "C:\\Users\\mail\\anaconda3\\envs\\training\\lib\\site-packages\\sklearn\\linear_model\\_ridge.py:200: LinAlgWarning: Ill-conditioned matrix (rcond=1.10203e-08): result may not be accurate.\n",
      "  return linalg.solve(A, Xy, assume_a=\"pos\", overwrite_a=True).T\n"
     ]
    },
    {
     "name": "stdout",
     "output_type": "stream",
     "text": [
      "Readout layer fitted.\n"
     ]
    },
    {
     "name": "stderr",
     "output_type": "stream",
     "text": [
      "100%|██████████| 339404/339404 [01:48<00:00, 3116.42it/s]\n"
     ]
    },
    {
     "name": "stdout",
     "output_type": "stream",
     "text": [
      "Shape of previous_states: (339404, 500)\n",
      "Gamma: 0.5, NRMSE: 0.2220304636208608\n",
      "Running for gamma: 0.6\n",
      "[]\n",
      "Is CUDA available: True\n",
      "BasicESN initialised with leakage_rate: 0.8, spectral_radius: 0.999, gamma: 0.6, n_neurons: 500, sparsity: 0.1\n"
     ]
    },
    {
     "name": "stderr",
     "output_type": "stream",
     "text": [
      "100%|██████████| 1357646/1357646 [07:10<00:00, 3152.88it/s]\n"
     ]
    },
    {
     "name": "stdout",
     "output_type": "stream",
     "text": [
      "Shape of previous_states: (1357646, 500)\n",
      "Reservoir state computed, fitting readout layer...\n"
     ]
    },
    {
     "name": "stderr",
     "output_type": "stream",
     "text": [
      "C:\\Users\\mail\\anaconda3\\envs\\training\\lib\\site-packages\\sklearn\\linear_model\\_ridge.py:200: LinAlgWarning: Ill-conditioned matrix (rcond=1.22974e-09): result may not be accurate.\n",
      "  return linalg.solve(A, Xy, assume_a=\"pos\", overwrite_a=True).T\n"
     ]
    },
    {
     "name": "stdout",
     "output_type": "stream",
     "text": [
      "Readout layer fitted.\n"
     ]
    },
    {
     "name": "stderr",
     "output_type": "stream",
     "text": [
      "100%|██████████| 339404/339404 [01:42<00:00, 3305.82it/s]\n"
     ]
    },
    {
     "name": "stdout",
     "output_type": "stream",
     "text": [
      "Shape of previous_states: (339404, 500)\n",
      "Gamma: 0.6, NRMSE: 0.2188426878086991\n",
      "Running for gamma: 0.7\n",
      "[]\n",
      "Is CUDA available: True\n",
      "BasicESN initialised with leakage_rate: 0.8, spectral_radius: 0.999, gamma: 0.7, n_neurons: 500, sparsity: 0.1\n"
     ]
    },
    {
     "name": "stderr",
     "output_type": "stream",
     "text": [
      "100%|██████████| 1357646/1357646 [06:55<00:00, 3269.10it/s]\n"
     ]
    },
    {
     "name": "stdout",
     "output_type": "stream",
     "text": [
      "Shape of previous_states: (1357646, 500)\n",
      "Reservoir state computed, fitting readout layer...\n",
      "Readout layer fitted.\n"
     ]
    },
    {
     "name": "stderr",
     "output_type": "stream",
     "text": [
      "100%|██████████| 339404/339404 [01:47<00:00, 3157.94it/s]\n"
     ]
    },
    {
     "name": "stdout",
     "output_type": "stream",
     "text": [
      "Shape of previous_states: (339404, 500)\n",
      "Gamma: 0.7, NRMSE: 0.19613679129610148\n",
      "Running for gamma: 0.8\n",
      "[]\n",
      "Is CUDA available: True\n",
      "BasicESN initialised with leakage_rate: 0.8, spectral_radius: 0.999, gamma: 0.8, n_neurons: 500, sparsity: 0.1\n"
     ]
    },
    {
     "name": "stderr",
     "output_type": "stream",
     "text": [
      "100%|██████████| 1357646/1357646 [07:08<00:00, 3171.07it/s]\n"
     ]
    },
    {
     "name": "stdout",
     "output_type": "stream",
     "text": [
      "Shape of previous_states: (1357646, 500)\n",
      "Reservoir state computed, fitting readout layer...\n"
     ]
    },
    {
     "name": "stderr",
     "output_type": "stream",
     "text": [
      "C:\\Users\\mail\\anaconda3\\envs\\training\\lib\\site-packages\\sklearn\\linear_model\\_ridge.py:200: LinAlgWarning: Ill-conditioned matrix (rcond=4.31718e-10): result may not be accurate.\n",
      "  return linalg.solve(A, Xy, assume_a=\"pos\", overwrite_a=True).T\n"
     ]
    },
    {
     "name": "stdout",
     "output_type": "stream",
     "text": [
      "Readout layer fitted.\n"
     ]
    },
    {
     "name": "stderr",
     "output_type": "stream",
     "text": [
      "100%|██████████| 339404/339404 [01:47<00:00, 3157.26it/s]\n"
     ]
    },
    {
     "name": "stdout",
     "output_type": "stream",
     "text": [
      "Shape of previous_states: (339404, 500)\n",
      "Gamma: 0.8, NRMSE: 0.2069502968917438\n",
      "Running for gamma: 0.9\n",
      "[]\n",
      "Is CUDA available: True\n",
      "BasicESN initialised with leakage_rate: 0.8, spectral_radius: 0.999, gamma: 0.9, n_neurons: 500, sparsity: 0.1\n"
     ]
    },
    {
     "name": "stderr",
     "output_type": "stream",
     "text": [
      "100%|██████████| 1357646/1357646 [07:08<00:00, 3170.63it/s]\n"
     ]
    },
    {
     "name": "stdout",
     "output_type": "stream",
     "text": [
      "Shape of previous_states: (1357646, 500)\n",
      "Reservoir state computed, fitting readout layer...\n",
      "Readout layer fitted.\n"
     ]
    },
    {
     "name": "stderr",
     "output_type": "stream",
     "text": [
      "100%|██████████| 339404/339404 [01:46<00:00, 3172.82it/s]\n"
     ]
    },
    {
     "name": "stdout",
     "output_type": "stream",
     "text": [
      "Shape of previous_states: (339404, 500)\n",
      "Gamma: 0.9, NRMSE: 0.17985038699725894\n",
      "Running for gamma: 0.95\n",
      "[]\n",
      "Is CUDA available: True\n",
      "BasicESN initialised with leakage_rate: 0.8, spectral_radius: 0.999, gamma: 0.95, n_neurons: 500, sparsity: 0.1\n"
     ]
    },
    {
     "name": "stderr",
     "output_type": "stream",
     "text": [
      "100%|██████████| 1357646/1357646 [07:08<00:00, 3168.18it/s]\n"
     ]
    },
    {
     "name": "stdout",
     "output_type": "stream",
     "text": [
      "Shape of previous_states: (1357646, 500)\n",
      "Reservoir state computed, fitting readout layer...\n",
      "Readout layer fitted.\n"
     ]
    },
    {
     "name": "stderr",
     "output_type": "stream",
     "text": [
      "100%|██████████| 339404/339404 [01:47<00:00, 3164.62it/s]\n"
     ]
    },
    {
     "name": "stdout",
     "output_type": "stream",
     "text": [
      "Shape of previous_states: (339404, 500)\n",
      "Gamma: 0.95, NRMSE: 0.18878409524310988\n",
      "Running for gamma: 0.99\n",
      "[]\n",
      "Is CUDA available: True\n",
      "BasicESN initialised with leakage_rate: 0.8, spectral_radius: 0.999, gamma: 0.99, n_neurons: 500, sparsity: 0.1\n"
     ]
    },
    {
     "name": "stderr",
     "output_type": "stream",
     "text": [
      "100%|██████████| 1357646/1357646 [07:07<00:00, 3176.10it/s]\n"
     ]
    },
    {
     "name": "stdout",
     "output_type": "stream",
     "text": [
      "Shape of previous_states: (1357646, 500)\n",
      "Reservoir state computed, fitting readout layer...\n",
      "Readout layer fitted.\n"
     ]
    },
    {
     "name": "stderr",
     "output_type": "stream",
     "text": [
      "100%|██████████| 339404/339404 [01:47<00:00, 3164.56it/s]\n"
     ]
    },
    {
     "name": "stdout",
     "output_type": "stream",
     "text": [
      "Shape of previous_states: (339404, 500)\n",
      "Gamma: 0.99, NRMSE: 0.16055385218520643\n",
      "Running for gamma: 0.999\n",
      "[]\n",
      "Is CUDA available: True\n",
      "BasicESN initialised with leakage_rate: 0.8, spectral_radius: 0.999, gamma: 0.999, n_neurons: 500, sparsity: 0.1\n"
     ]
    },
    {
     "name": "stderr",
     "output_type": "stream",
     "text": [
      "100%|██████████| 1357646/1357646 [07:07<00:00, 3175.69it/s]\n"
     ]
    },
    {
     "name": "stdout",
     "output_type": "stream",
     "text": [
      "Shape of previous_states: (1357646, 500)\n",
      "Reservoir state computed, fitting readout layer...\n",
      "Readout layer fitted.\n"
     ]
    },
    {
     "name": "stderr",
     "output_type": "stream",
     "text": [
      "100%|██████████| 339404/339404 [01:46<00:00, 3184.83it/s]\n"
     ]
    },
    {
     "name": "stdout",
     "output_type": "stream",
     "text": [
      "Shape of previous_states: (339404, 500)\n",
      "Gamma: 0.999, NRMSE: 0.14371419624976714\n"
     ]
    }
   ],
   "execution_count": 50
  },
  {
   "metadata": {
    "ExecuteTime": {
     "end_time": "2024-08-06T21:14:32.288040Z",
     "start_time": "2024-08-06T21:14:31.250966Z"
    }
   },
   "cell_type": "code",
   "source": "print(results)",
   "id": "8b9835fe39b7199b",
   "outputs": [
    {
     "name": "stdout",
     "output_type": "stream",
     "text": [
      "[{'gamma': 0.005, 'nrmse': 0.34504279288129075}, {'gamma': 0.01, 'nrmse': 0.3350269825617671}, {'gamma': 0.05, 'nrmse': 0.33088847975504443}, {'gamma': 0.1, 'nrmse': 0.32363543335394845}, {'gamma': 0.2, 'nrmse': 0.290630273731353}, {'gamma': 0.3, 'nrmse': 0.2472228712624572}, {'gamma': 0.4, 'nrmse': 0.2501520177259931}, {'gamma': 0.5, 'nrmse': 0.2220304636208608}, {'gamma': 0.6, 'nrmse': 0.2188426878086991}, {'gamma': 0.7, 'nrmse': 0.19613679129610148}, {'gamma': 0.8, 'nrmse': 0.2069502968917438}, {'gamma': 0.9, 'nrmse': 0.17985038699725894}, {'gamma': 0.95, 'nrmse': 0.18878409524310988}, {'gamma': 0.99, 'nrmse': 0.16055385218520643}, {'gamma': 0.999, 'nrmse': 0.14371419624976714}]\n"
     ]
    }
   ],
   "execution_count": 51
  },
  {
   "metadata": {
    "ExecuteTime": {
     "end_time": "2024-08-06T21:14:33.210708Z",
     "start_time": "2024-08-06T21:14:32.289819Z"
    }
   },
   "cell_type": "code",
   "source": [
    "# Now we can plot the NRMSE for each gamma value\n",
    "gammas = [result['gamma'] for result in results]\n",
    "nrmse = [result['nrmse'] for result in results]\n",
    "\n",
    "plt.figure(figsize=(10, 7))\n",
    "plt.plot(gammas, nrmse, marker='o')\n",
    "\n",
    "plt.xlabel('Gamma')\n",
    "plt.ylabel('NRMSE')\n",
    "plt.title('NRMSE for different Gamma values')\n",
    "\n",
    "plt.tight_layout()\n",
    "plt.show()"
   ],
   "id": "b46b74b032460c2a",
   "outputs": [
    {
     "data": {
      "text/plain": [
       "<Figure size 1000x700 with 1 Axes>"
      ],
      "image/png": "[encoded data removed]"
     },
     "metadata": {},
     "output_type": "display_data"
    }
   ],
   "execution_count": 52
  },
  {
   "metadata": {
    "ExecuteTime": {
     "end_time": "2024-08-06T21:14:33.865716Z",
     "start_time": "2024-08-06T21:14:33.212218Z"
    }
   },
   "cell_type": "code",
   "source": [
    "# Get the best gamma value\n",
    "best_gamma = results[np.argmin(nrmse)]['gamma']\n",
    "\n",
    "print(f'Best Gamma: {best_gamma}')"
   ],
   "id": "d225c089f868be66",
   "outputs": [
    {
     "name": "stdout",
     "output_type": "stream",
     "text": [
      "Best Gamma: 0.999\n"
     ]
    }
   ],
   "execution_count": 53
  },
  {
   "metadata": {
    "ExecuteTime": {
     "end_time": "2024-08-06T21:14:34.492563Z",
     "start_time": "2024-08-06T21:14:33.867220Z"
    }
   },
   "cell_type": "code",
   "source": "run_density = True",
   "id": "3875e29f85d500a6",
   "outputs": [],
   "execution_count": 54
  },
  {
   "metadata": {
    "ExecuteTime": {
     "end_time": "2024-08-06T21:17:59.616467Z",
     "start_time": "2024-08-06T21:14:34.494069Z"
    }
   },
   "cell_type": "code",
   "source": [
    "# Now we can optimise the density parameter\n",
    "# The density parameter is used to determine the sparsity of the input weights\n",
    "# It is a value between 0 and 1\n",
    "# A value of 1 will mean that all of the input weights are 1\n",
    "# A value of 0 will mean that all of the input weights are 0\n",
    "\n",
    "# The number of neurons will be fixed at 500\n",
    "n_neurons = 500\n",
    "\n",
    "density = 0.1\n",
    "leakage_rate = best_rate\n",
    "spectral_radius = best_radius\n",
    "gamma = best_gamma\n",
    "sparsity = 0.1\n",
    "\n",
    "input_weights = np.random.rand(n_neurons, n_features) < density\n",
    "\n",
    "W_in = input_weights\n",
    "\n",
    "# We will optimise the density parameter\n",
    "\n",
    "densities = [0.001, 0.01, 0.05, 0.1, 0.2, 0.3, 0.4, 0.5, 0.6, 0.7, 0.8, 0.9, 0.95, 0.99, 0.999]\n",
    "\n",
    "# We will train the ESN on the training data and evaluate it on the validation data\n",
    "density_scores = []\n",
    "\n",
    "if run_density:\n",
    "    # There are 13 density values to test, so let's parallelise the process\n",
    "    def evaluate_density(density):\n",
    "        input_weights = np.random.rand(n_neurons, n_features) < density\n",
    "        W_in = input_weights\n",
    "        \n",
    "        esn = BasicESN(leakage_rate=leakage_rate, spectral_radius=spectral_radius, gamma=gamma, n_neurons=n_neurons, W_in=W_in,\n",
    "                          sparsity=sparsity, is_optimising=True)\n",
    "        esn.fit(data_in, data_out)\n",
    "        \n",
    "        y_pred = esn.forward(X_val)\n",
    "        \n",
    "        y_pred_decoded = encoder.inverse_transform(y_pred)\n",
    "        \n",
    "        # Calculate the NRMSE\n",
    "        # The NRMSE is the normalised root mean squared error\n",
    "        # It is calculated as the RMSE divided by the range of the true values\n",
    "        \n",
    "        nrmse = np.sqrt(mean_squared_error(y_val_decoded, y_pred_decoded)) / (y_val_decoded.max() - y_val_decoded.min())\n",
    "        \n",
    "        density_scores.append(nrmse)\n",
    "        \n",
    "        # Return the density and the NRMSE via joblib\n",
    "        print(f'Density: {density}, NRMSE: {nrmse}')\n",
    "        \n",
    "        return {'density': density, 'nrmse': nrmse}\n",
    "    \n",
    "    # with tqdm_joblib(tqdm(desc=\"Density\", total=len(densities))) as progress_bar:\n",
    "    #     results = Parallel(n_jobs=4)(delayed(evaluate_density)(density) for density in densities)\n",
    "    results = []\n",
    "    for density in densities:\n",
    "        print(f'Running for density: {density}')\n",
    "        results.append(evaluate_density(density))\n",
    "        \n",
    "else:\n",
    "    results = [{'density': 0.01, 'nrmse': 0.23353197949175228}, {'density': 0.05, 'nrmse': 0.21794291184600953}, {'density': 0.1, 'nrmse': 0.17650854637966737}, {'density': 0.2, 'nrmse': 0.1499906587161872}, {'density': 0.3, 'nrmse': 0.15278724892963502}, {'density': 0.4, 'nrmse': 0.13531609959415156}, {'density': 0.5, 'nrmse': 0.13072468336037607}, {'density': 0.6, 'nrmse': 0.14543399578391006}, {'density': 0.7, 'nrmse': 0.13741609370096877}, {'density': 0.8, 'nrmse': 0.14272817051782377}, {'density': 0.9, 'nrmse': 0.14367831433239842}, {'density': 0.95, 'nrmse': 0.14945441480562682}]"
   ],
   "id": "7f79dbdbde341cc",
   "outputs": [
    {
     "name": "stdout",
     "output_type": "stream",
     "text": [
      "Running for density: 0.001\n",
      "[]\n",
      "Is CUDA available: True\n",
      "BasicESN initialised with leakage_rate: 0.8, spectral_radius: 0.999, gamma: 0.999, n_neurons: 500, sparsity: 0.1\n",
      "Unexpected exception formatting exception. Falling back to standard exception\n"
     ]
    },
    {
     "name": "stderr",
     "output_type": "stream",
     "text": [
      "Traceback (most recent call last):\n",
      "  File \"C:\\Users\\mail\\anaconda3\\envs\\training\\lib\\site-packages\\IPython\\core\\interactiveshell.py\", line 3508, in run_code\n",
      "    exec(code_obj, self.user_global_ns, self.user_ns)\n",
      "  File \"C:\\Users\\mail\\AppData\\Local\\Temp\\ipykernel_41868\\3412873167.py\", line 59, in <module>\n",
      "    results.append(evaluate_density(density))\n",
      "  File \"C:\\Users\\mail\\AppData\\Local\\Temp\\ipykernel_41868\\3412873167.py\", line 35, in evaluate_density\n",
      "    esn.fit(data_in, data_out)\n",
      "  File \"E:\\PyCharm\\COM6906-Dissertation\\model\\reservoir\\BasicESNCuda.py\", line 164, in fit\n",
      "    state = self.compute_reservoir_state(x)\n",
      "  File \"E:\\PyCharm\\COM6906-Dissertation\\model\\reservoir\\BasicESNCuda.py\", line 124, in compute_reservoir_state\n",
      "    previous_states = self.recurrent_unit(x)\n",
      "  File \"E:\\PyCharm\\COM6906-Dissertation\\model\\reservoir\\BasicESNCuda.py\", line 87, in recurrent_unit\n",
      "    (self.gamma * torch.matmul(self.W_in, x_cuda[i].reshape(-1, 1))) + (self.spectral_radius * torch.matmul(self.W_res, state)))\n",
      "KeyboardInterrupt\n",
      "\n",
      "During handling of the above exception, another exception occurred:\n",
      "\n",
      "Traceback (most recent call last):\n",
      "  File \"C:\\Users\\mail\\anaconda3\\envs\\training\\lib\\site-packages\\IPython\\core\\interactiveshell.py\", line 2105, in showtraceback\n",
      "    stb = self.InteractiveTB.structured_traceback(\n",
      "  File \"C:\\Users\\mail\\anaconda3\\envs\\training\\lib\\site-packages\\IPython\\core\\ultratb.py\", line 1396, in structured_traceback\n",
      "    return FormattedTB.structured_traceback(\n",
      "  File \"C:\\Users\\mail\\anaconda3\\envs\\training\\lib\\site-packages\\IPython\\core\\ultratb.py\", line 1287, in structured_traceback\n",
      "    return VerboseTB.structured_traceback(\n",
      "  File \"C:\\Users\\mail\\anaconda3\\envs\\training\\lib\\site-packages\\IPython\\core\\ultratb.py\", line 1140, in structured_traceback\n",
      "    formatted_exception = self.format_exception_as_a_whole(etype, evalue, etb, number_of_lines_of_context,\n",
      "  File \"C:\\Users\\mail\\anaconda3\\envs\\training\\lib\\site-packages\\IPython\\core\\ultratb.py\", line 1055, in format_exception_as_a_whole\n",
      "    frames.append(self.format_record(record))\n",
      "  File \"C:\\Users\\mail\\anaconda3\\envs\\training\\lib\\site-packages\\IPython\\core\\ultratb.py\", line 955, in format_record\n",
      "    frame_info.lines, Colors, self.has_colors, lvals\n",
      "  File \"C:\\Users\\mail\\anaconda3\\envs\\training\\lib\\site-packages\\IPython\\core\\ultratb.py\", line 778, in lines\n",
      "    return self._sd.lines\n",
      "  File \"C:\\Users\\mail\\anaconda3\\envs\\training\\lib\\site-packages\\stack_data\\utils.py\", line 145, in cached_property_wrapper\n",
      "    value = obj.__dict__[self.func.__name__] = self.func(obj)\n",
      "  File \"C:\\Users\\mail\\anaconda3\\envs\\training\\lib\\site-packages\\stack_data\\core.py\", line 698, in lines\n",
      "    pieces = self.included_pieces\n",
      "  File \"C:\\Users\\mail\\anaconda3\\envs\\training\\lib\\site-packages\\stack_data\\utils.py\", line 145, in cached_property_wrapper\n",
      "    value = obj.__dict__[self.func.__name__] = self.func(obj)\n",
      "  File \"C:\\Users\\mail\\anaconda3\\envs\\training\\lib\\site-packages\\stack_data\\core.py\", line 649, in included_pieces\n",
      "    pos = scope_pieces.index(self.executing_piece)\n",
      "  File \"C:\\Users\\mail\\anaconda3\\envs\\training\\lib\\site-packages\\stack_data\\utils.py\", line 145, in cached_property_wrapper\n",
      "    value = obj.__dict__[self.func.__name__] = self.func(obj)\n",
      "  File \"C:\\Users\\mail\\anaconda3\\envs\\training\\lib\\site-packages\\stack_data\\core.py\", line 628, in executing_piece\n",
      "    return only(\n",
      "  File \"C:\\Users\\mail\\anaconda3\\envs\\training\\lib\\site-packages\\executing\\executing.py\", line 164, in only\n",
      "    raise NotOneValueFound('Expected one value, found 0')\n",
      "executing.executing.NotOneValueFound: Expected one value, found 0\n"
     ]
    }
   ],
   "execution_count": 55
  },
  {
   "metadata": {},
   "cell_type": "code",
   "source": "print(results)",
   "id": "5f953e904f2e279",
   "outputs": [],
   "execution_count": null
  },
  {
   "metadata": {},
   "cell_type": "code",
   "source": [
    "# Now we can plot the NRMSE for each density value\n",
    "densities = [result['density'] for result in results]\n",
    "nrmse = [result['nrmse'] for result in results]\n",
    "\n",
    "plt.figure(figsize=(10, 7))\n",
    "plt.plot(densities, nrmse, marker='o')\n",
    "\n",
    "plt.xlabel('Density')\n",
    "plt.ylabel('NRMSE')\n",
    "plt.title('NRMSE for different Density values')\n",
    "\n",
    "plt.tight_layout()\n",
    "plt.show()"
   ],
   "id": "1f265687082f56e1",
   "outputs": [],
   "execution_count": null
  },
  {
   "metadata": {},
   "cell_type": "code",
   "source": [
    "# Get the best density value\n",
    "best_density = results[np.argmin(nrmse)]['density']\n",
    "\n",
    "print(f'Best Density: {best_density}')"
   ],
   "id": "7ae1e7a2f67a1d48",
   "outputs": [],
   "execution_count": null
  },
  {
   "metadata": {},
   "cell_type": "code",
   "source": "run_neurons = False",
   "id": "38aa3a037bf81e81",
   "outputs": [],
   "execution_count": null
  },
  {
   "metadata": {},
   "cell_type": "code",
   "source": [
    "# Now we can optimise the number of neurons\n",
    "# The number of neurons is the number of nodes in the reservoir\n",
    "\n",
    "n_neurons = 500\n",
    "\n",
    "density = best_density\n",
    "leakage_rate = best_rate\n",
    "spectral_radius = best_radius\n",
    "gamma = best_gamma\n",
    "sparsity = 0.1\n",
    "\n",
    "input_weights = np.random.rand(n_neurons, n_features) < density\n",
    "\n",
    "W_in = input_weights\n",
    "\n",
    "# We will optimise the number of neurons\n",
    "\n",
    "neurons = [100, 250, 500, 750, 1000]\n",
    "\n",
    "# We will train the ESN on the training data and evaluate it on the validation data\n",
    "\n",
    "neuron_scores = []\n",
    "\n",
    "if run_neurons:\n",
    "    # There are 5 neuron values to test, so let's parallelise the process\n",
    "    def evaluate_neurons(n_neurons):\n",
    "        input_weights = np.random.rand(n_neurons, n_features) < density\n",
    "        W_in = input_weights\n",
    "        \n",
    "        esn = BasicESN(leakage_rate=leakage_rate, spectral_radius=spectral_radius, gamma=gamma, n_neurons=n_neurons, W_in=W_in,\n",
    "                            sparsity=sparsity, is_optimising=False)\n",
    "        esn.fit(data_in, data_out)\n",
    "        \n",
    "        y_pred = esn.forward(X_val)\n",
    "        \n",
    "        y_pred_decoded = encoder.inverse_transform(y_pred)\n",
    "        \n",
    "        # Calculate the NRMSE\n",
    "        # The NRMSE is the normalised root mean squared error\n",
    "        # It is calculated as the RMSE divided by the range of the true values\n",
    "        \n",
    "        nrmse = np.sqrt(mean_squared_error(y_val_decoded, y_pred_decoded)) / (y_val_decoded.max() - y_val_decoded.min())\n",
    "        \n",
    "        neuron_scores.append(nrmse)\n",
    "        \n",
    "        # Return the number of neurons and the NRMSE via joblib\n",
    "        print(f'Neurons: {n_neurons}, NRMSE: {nrmse}')\n",
    "        \n",
    "        return {'neurons': n_neurons, 'nrmse': nrmse}\n",
    "    \n",
    "    # with tqdm_joblib(tqdm(desc=\"Neurons\", total=len(neurons))) as progress_bar:\n",
    "    #     results = Parallel(n_jobs=5)(delayed(evaluate_neurons)(n_neurons) for n_neurons in neurons)\n",
    "    results = []\n",
    "    for n_neurons in neurons:\n",
    "        print(f'Running for neurons: {n_neurons}')\n",
    "        results.append(evaluate_neurons(n_neurons))\n",
    "        \n",
    "else:\n",
    "    results = [{'neurons': 100, 'nrmse': 0.18322173124370597}, {'neurons': 250, 'nrmse': 0.15066900805978828}, {'neurons': 500, 'nrmse': 0.1361232530363811}, {'neurons': 750, 'nrmse': 0.12739381499580593}, {'neurons': 1000, 'nrmse': 0.12691977638276095}]"
   ],
   "id": "c4599dae89ab12b3",
   "outputs": [],
   "execution_count": null
  },
  {
   "metadata": {},
   "cell_type": "code",
   "source": "print(results)",
   "id": "de9ee9bd0b60ce20",
   "outputs": [],
   "execution_count": null
  },
  {
   "metadata": {},
   "cell_type": "code",
   "source": [
    "# Now we can plot the NRMSE for each number of neurons\n",
    "\n",
    "neurons = [result['neurons'] for result in results]\n",
    "nrmse = [result['nrmse'] for result in results]\n",
    "\n",
    "plt.figure(figsize=(10, 7))\n",
    "plt.plot(neurons, nrmse, marker='o')\n",
    "\n",
    "plt.xlabel('Number of Neurons')\n",
    "plt.ylabel('NRMSE')\n",
    "\n",
    "plt.title('NRMSE for different Number of Neurons')\n",
    "\n",
    "plt.tight_layout()\n",
    "plt.show()"
   ],
   "id": "f8e7b8b2cb40a8c8",
   "outputs": [],
   "execution_count": null
  },
  {
   "metadata": {},
   "cell_type": "code",
   "source": [
    "# Get the best number of neurons\n",
    "best_neurons = results[np.argmin(nrmse)]['neurons']\n",
    "\n",
    "print(f'Best Number of Neurons: {best_neurons}')"
   ],
   "id": "92fe036600593c36",
   "outputs": [],
   "execution_count": null
  },
  {
   "metadata": {},
   "cell_type": "code",
   "source": [
    "# Looking at the graph, there is diminishing returns after 500 neurons, but to check, lets calculate the change in NRMSE for each number of neurons\n",
    "\n",
    "# Calculate the change in NRMSE for each number of neurons as a percentage of the previous value\n",
    "nrmse_change = [((nrmse[i] - nrmse[i-1]) / nrmse[i-1]) * 100 for i in range(1, len(nrmse))]\n",
    "\n",
    "print(nrmse_change)"
   ],
   "id": "5d7cd5ccd2071e54",
   "outputs": [],
   "execution_count": null
  },
  {
   "metadata": {},
   "cell_type": "code",
   "source": [
    "# The difference between 1000 and 750 neurons is only 0.4%, so we will use less neurons to reduce computation time\n",
    "# The best number of neurons is 750, however this leads to significant computation time\n",
    "# We will use 500 neurons instead\n",
    "best_neurons = 500"
   ],
   "id": "24421f91f3d9850c",
   "outputs": [],
   "execution_count": null
  },
  {
   "metadata": {},
   "cell_type": "code",
   "source": "run_weights = True",
   "id": "60f24f02701e33bd",
   "outputs": [],
   "execution_count": null
  },
  {
   "metadata": {},
   "cell_type": "code",
   "source": [
    "# Next, we can try different input weight sampling methods\n",
    "# The input weights are the weights between the input and the reservoir\n",
    "\n",
    "n_neurons = best_neurons\n",
    "\n",
    "density = best_density\n",
    "leakage_rate = best_rate\n",
    "spectral_radius = best_radius\n",
    "gamma = best_gamma\n",
    "sparsity = 0.1\n",
    "\n",
    "input_weights = np.random.rand(n_neurons, n_features) < density\n",
    "\n",
    "W_in = input_weights\n",
    "\n",
    "# We will optimise the input weight sampling method\n",
    "\n",
    "weight_methods = ['0/1', 'normal', 'uniform', '-1/1']\n",
    "\n",
    "# We will train the ESN on the training data and evaluate it on the validation data\n",
    "weight_scores = []\n",
    "\n",
    "if run_weights:\n",
    "    # There are 4 weight methods to test, so let's parallelise the process\n",
    "    def evaluate_weight_method(method):\n",
    "        # Let's set a seed for reproducibility\n",
    "        np.random.seed(1234)\n",
    "        \n",
    "        if method == '0/1':\n",
    "            input_weights = np.random.rand(n_neurons, n_features) < density\n",
    "        elif method == 'normal':\n",
    "            input_weights = np.random.normal(0, 1, (n_neurons, n_features))\n",
    "        elif method == 'uniform':\n",
    "            input_weights = np.random.uniform(-1, 1, (n_neurons, n_features))\n",
    "        elif method == '-1/1':\n",
    "            input_weights = np.random.uniform(-1, 1, (n_neurons, n_features)) < density\n",
    "        \n",
    "        W_in = input_weights\n",
    "        \n",
    "        esn = BasicESN(leakage_rate=leakage_rate, spectral_radius=spectral_radius, gamma=gamma, n_neurons=n_neurons, W_in=W_in, sparsity=sparsity, is_optimising=False)\n",
    "        esn.fit(data_in, data_out)\n",
    "        \n",
    "        y_pred = esn.forward(X_val)\n",
    "        \n",
    "        y_pred_decoded = encoder.inverse_transform(y_pred)\n",
    "        \n",
    "        # Calculate the NRMSE\n",
    "        # The NRMSE is the normalised root mean squared error\n",
    "        # It is calculated as the RMSE divided by the range of the true values\n",
    "        \n",
    "        nrmse = np.sqrt(mean_squared_error(y_val_decoded, y_pred_decoded)) / (y_val_decoded.max() - y_val_decoded.min())\n",
    "        \n",
    "        weight_scores.append(nrmse)\n",
    "        \n",
    "        # Return the method and the NRMSE via joblib\n",
    "        print(f'Method: {method}, NRMSE: {nrmse}')\n",
    "        \n",
    "        return {'method': method, 'nrmse': nrmse}\n",
    "    \n",
    "    # with tqdm_joblib(tqdm(desc=\"Weight Method\", total=len(weight_methods))) as progress_bar:\n",
    "    #     results = Parallel(n_jobs=4)(delayed(evaluate_weight_method)(method) for method in weight_methods)\n",
    "    results = []\n",
    "    for method in weight_methods:\n",
    "        print(f'Running for method: {method}')\n",
    "        results.append(evaluate_weight_method(method))\n",
    "        \n",
    "else:\n",
    "    results = [{'method': '0/1', 'nrmse': 0.14073219709693063}, {'method': 'normal', 'nrmse': 0.13132028435177762}, {'method': 'uniform', 'nrmse': 0.14063271688341764}, {'method': '-1/1', 'nrmse': 0.13572163315383687}]"
   ],
   "id": "b2a8c87664fcb673",
   "outputs": [],
   "execution_count": null
  },
  {
   "metadata": {},
   "cell_type": "code",
   "source": "print(results)",
   "id": "e8020280758e4261",
   "outputs": [],
   "execution_count": null
  },
  {
   "metadata": {},
   "cell_type": "code",
   "source": [
    "# Now we can plot the NRMSE for each weight method\n",
    "methods = [result['method'] for result in results]\n",
    "nrmse = [result['nrmse'] for result in results]\n",
    "\n",
    "plt.figure(figsize=(10, 7))\n",
    "plt.bar(methods, nrmse)\n",
    "\n",
    "plt.xlabel('Weight Method')\n",
    "plt.ylabel('NRMSE')\n",
    "plt.title('NRMSE for different Weight Methods')\n",
    "\n",
    "plt.tight_layout()\n",
    "plt.show()"
   ],
   "id": "8ad2ca828730d8d7",
   "outputs": [],
   "execution_count": null
  },
  {
   "metadata": {},
   "cell_type": "code",
   "source": [
    "# Get the best weight method\n",
    "best_method = results[np.argmin(nrmse)]['method']\n",
    "\n",
    "print(f'Best Weight Method: {best_method}')"
   ],
   "id": "626df2f6e664144a",
   "outputs": [],
   "execution_count": null
  },
  {
   "metadata": {},
   "cell_type": "code",
   "source": "run_sparsity = True",
   "id": "7a258314b36c0854",
   "outputs": [],
   "execution_count": null
  },
  {
   "metadata": {},
   "cell_type": "code",
   "source": [
    "# Finally, we can optimise the sparsity parameter\n",
    "# The sparsity parameter is used to determine the sparsity of the reservoir weights\n",
    "# It is a value between 0 and 1\n",
    "# A value of 1 will mean that all reservoir weights are connected\n",
    "# A value of 0 will mean that no reservoir weights are connected\n",
    "\n",
    "# The number of neurons will be fixed at 500\n",
    "n_neurons = best_neurons\n",
    "\n",
    "density = best_density\n",
    "leakage_rate = best_rate\n",
    "spectral_radius = best_radius\n",
    "gamma = best_gamma\n",
    "sparsity = 0.1\n",
    "\n",
    "input_weights = generate_input_weights(n_neurons, n_features, density, best_method)\n",
    "\n",
    "W_in = input_weights\n",
    "\n",
    "# We will optimise the sparsity parameter\n",
    "\n",
    "sparsities = [0.001, 0.01, 0.05, 0.1, 0.2, 0.3, 0.4, 0.5, 0.6, 0.7, 0.8, 0.9, 0.95, 0.99, 0.999]\n",
    "\n",
    "# We will train the ESN on the training data and evaluate it on the validation data\n",
    "sparsity_scores = []\n",
    "\n",
    "if run_sparsity:\n",
    "    # There are 13 sparsity values to test, so let's parallelise the process\n",
    "    def evaluate_sparsity(sparsity):\n",
    "        esn = BasicESN(leakage_rate=leakage_rate, spectral_radius=spectral_radius, gamma=gamma, n_neurons=n_neurons, W_in=W_in, sparsity=sparsity, is_optimising=False)\n",
    "        \n",
    "        esn.fit(data_in, data_out)\n",
    "        \n",
    "        y_pred = esn.forward(X_val)\n",
    "        \n",
    "        y_pred_decoded = encoder.inverse_transform(y_pred)\n",
    "        \n",
    "        # Calculate the NRMSE\n",
    "        \n",
    "        nrmse = np.sqrt(mean_squared_error(y_val_decoded, y_pred_decoded)) / (y_val_decoded.max() - y_val_decoded.min())\n",
    "        \n",
    "        sparsity_scores.append(nrmse)\n",
    "        \n",
    "        # Return the sparsity and the NRMSE via joblib\n",
    "        print(f'Sparsity: {sparsity}, NRMSE: {nrmse}')\n",
    "        \n",
    "        return {'sparsity': sparsity, 'nrmse': nrmse}\n",
    "    \n",
    "    # with tqdm_joblib(tqdm(desc=\"Sparsity\", total=len(sparsities))) as progress_bar:\n",
    "    #     results = Parallel(n_jobs=4)(delayed(evaluate_sparsity)(sparsity) for sparsity in sparsities)\n",
    "    results = []\n",
    "    for sparsity in sparsities:\n",
    "        print(f'Running for sparsity: {sparsity}')\n",
    "        results.append(evaluate_sparsity(sparsity))\n",
    "        \n",
    "else:\n",
    "    results = [{'sparsity': 0.01, 'nrmse': 0.13029135072379394}, {'sparsity': 0.05, 'nrmse': 0.13565649139847283}, {'sparsity': 0.1, 'nrmse': 0.13149778509577562}, {'sparsity': 0.2, 'nrmse': 0.1303334301330403}, {'sparsity': 0.3, 'nrmse': 0.13096549852897035}, {'sparsity': 0.4, 'nrmse': 0.12841601100974473}, {'sparsity': 0.5, 'nrmse': 0.1275029829269864}, {'sparsity': 0.6, 'nrmse': 0.1293289216233986}, {'sparsity': 0.7, 'nrmse': 0.13077851430315893}, {'sparsity': 0.8, 'nrmse': 0.12445118495281327}, {'sparsity': 0.9, 'nrmse': 0.1299768951059773}, {'sparsity': 0.95, 'nrmse': 0.130972372456204}]"
   ],
   "id": "46f15591d44ed44a",
   "outputs": [],
   "execution_count": null
  },
  {
   "metadata": {},
   "cell_type": "code",
   "source": "print(results)",
   "id": "3a145cf99eb5f0a8",
   "outputs": [],
   "execution_count": null
  },
  {
   "metadata": {},
   "cell_type": "code",
   "source": [
    "# Now we can plot the NRMSE for each sparsity value\n",
    "sparsities = [result['sparsity'] for result in results]\n",
    "nrmse = [result['nrmse'] for result in results]\n",
    "\n",
    "plt.figure(figsize=(10, 7))\n",
    "plt.plot(sparsities, nrmse, marker='o')\n",
    "\n",
    "plt.xlabel('Sparsity')\n",
    "plt.ylabel('NRMSE')\n",
    "plt.title('NRMSE for different Sparsity values')\n",
    "\n",
    "plt.tight_layout()\n",
    "plt.show()"
   ],
   "id": "4e65b0c3bbf182",
   "outputs": [],
   "execution_count": null
  },
  {
   "metadata": {},
   "cell_type": "code",
   "source": [
    "# Get the best sparsity value\n",
    "best_sparsity = results[np.argmin(nrmse)]['sparsity']\n",
    "\n",
    "print(f'Best Sparsity: {best_sparsity}')"
   ],
   "id": "9529f36a0c55e938",
   "outputs": [],
   "execution_count": null
  },
  {
   "metadata": {},
   "cell_type": "code",
   "source": [
    "from sklearn.utils import compute_class_weight\n",
    "\n",
    "# Now that all the hyperparameters have been optimised, we can now apply them to the ESN, along with class weights\n",
    "# The class weights are used to balance the classes in the training data\n",
    "\n",
    "dataset = collector.get_collected_data()\n",
    "\n",
    "labels = dataset['label'].values\n",
    "\n",
    "# Calculate the class weights\n",
    "class_weights = compute_class_weight('balanced', classes=np.unique(labels), y=labels)\n",
    "\n",
    "# Print the class weight for each class and the labels\n",
    "\n",
    "weight_map = {label: weight for label, weight in zip(np.unique(labels), class_weights)}\n",
    "\n",
    "for label, weight in weight_map.items():\n",
    "    print(f'Class: {label}, Weight: {weight}')\n",
    "    "
   ],
   "id": "349af364614dd04e",
   "outputs": [],
   "execution_count": null
  },
  {
   "metadata": {},
   "cell_type": "code",
   "source": [
    "# Now we can train the ESN on the training data with the optimised hyperparameters and the class weights\n",
    "n_neurons = best_neurons\n",
    "\n",
    "density = best_density\n",
    "leakage_rate = best_rate\n",
    "spectral_radius = best_radius\n",
    "gamma = best_gamma\n",
    "sparsity = best_sparsity\n",
    "\n",
    "input_weights = generate_input_weights(n_neurons, n_features, density, best_method)\n",
    "\n",
    "W_in = input_weights\n",
    "\n",
    "esn = BasicESN(leakage_rate=leakage_rate, spectral_radius=spectral_radius, gamma=gamma, n_neurons=n_neurons, W_in=W_in, sparsity=sparsity, class_weights=class_weights)\n",
    "\n",
    "esn.fit(data_in, data_out, x_val=X_val, y_val=y_val)"
   ],
   "id": "9ba24393ca5a61d",
   "outputs": [],
   "execution_count": null
  },
  {
   "metadata": {},
   "cell_type": "code",
   "source": [
    "# Now we can evaluate the ESN on the test data\n",
    "y_pred = esn.forward(X_test)\n",
    "\n",
    "y_pred_decoded = encoder.inverse_transform(y_pred)"
   ],
   "id": "d21dbc2e670677b7",
   "outputs": [],
   "execution_count": null
  },
  {
   "metadata": {},
   "cell_type": "code",
   "source": [
    "\n",
    "accuracy = accuracy_score(y_test_decoded, y_pred_decoded)\n",
    "\n",
    "conf_matrix = confusion_matrix(y_test_decoded, y_pred_decoded)\n",
    "\n",
    "# The labels are\n",
    "# 1: walking\n",
    "# 3: shuffling\n",
    "# 4: stairs (ascending)\n",
    "# 5: stairs (descending)\n",
    "# 6: standing\n",
    "# 7: sitting\n",
    "# 8: lying\n",
    "# So we will use these labels for the classification report\n",
    "label_names = ['walking', 'shuffling', 'stairs (ascending)', 'stairs (descending)', 'standing', 'sitting', 'lying']\n",
    "\n",
    "report = classification_report(y_test_decoded, y_pred_decoded, target_names=label_names)\n",
    "\n",
    "print(f'Accuracy: {accuracy}')\n",
    "print(f'Confusion Matrix: {conf_matrix}')\n",
    "print(f'Report: {report}')"
   ],
   "id": "975ed67e7285fb67",
   "outputs": [],
   "execution_count": null
  },
  {
   "metadata": {},
   "cell_type": "code",
   "source": [
    "# Now we can plot the confusion matrix\n",
    "plt.figure(figsize=(10, 7))\n",
    "\n",
    "sns.heatmap(conf_matrix, annot=True, fmt='d', xticklabels=label_names, yticklabels=label_names, cmap='Blues')\n",
    "\n",
    "plt.xlabel('Predicted')\n",
    "plt.ylabel('True')\n",
    "\n",
    "plt.title('Confusion Matrix for the ESN on the test data')\n",
    "    \n",
    "plt.tight_layout()\n",
    "plt.show()"
   ],
   "id": "8b0b84993ecbeca1",
   "outputs": [],
   "execution_count": null
  },
  {
   "metadata": {},
   "cell_type": "code",
   "source": [
    "# The confusion matrix is tricky to interpret, as there is a serious class imbalance\n",
    "# To get a better idea of the performance of the ESN, we can plot the normalised confusion matrix\n",
    "norm_conf_matrix = conf_matrix / conf_matrix.sum(axis=1)[:, np.newaxis]\n",
    "\n",
    "plt.figure(figsize=(10, 7))\n",
    "\n",
    "sns.heatmap(norm_conf_matrix, annot=True, fmt='.2f', xticklabels=label_names, yticklabels=label_names, cmap='Blues')\n",
    "\n",
    "plt.xlabel('Predicted')\n",
    "plt.ylabel('True')\n",
    "\n",
    "plt.title('Normalised Confusion Matrix for the ESN on the test data')\n",
    "\n",
    "plt.tight_layout()\n",
    "plt.show()"
   ],
   "id": "873ee13bb52bc4a",
   "outputs": [],
   "execution_count": null
  },
  {
   "metadata": {},
   "cell_type": "code",
   "source": [
    "# After looking at the normalised confusion matrix, we can see that the ESN is performing well on the test data, but there is room for improvement\n",
    "# Especially in some of the classes with less data"
   ],
   "id": "b29c5b4247d4f54f",
   "outputs": [],
   "execution_count": null
  },
  {
   "metadata": {},
   "cell_type": "code",
   "source": [
    "# Let's plot the ground truth and the predicted labels for the test data on two subplots\n",
    "\n",
    "plt.figure(figsize=(25, 15))\n",
    "\n",
    "plt.subplot2grid((2, 1), (0, 0))\n",
    "plt.plot(y_test_decoded, label='True')\n",
    "plt.title('True Labels')\n",
    "plt.xlabel('Sample')\n",
    "\n",
    "plt.subplot2grid((2, 1), (1, 0))\n",
    "plt.plot(y_pred_decoded, label='Predicted')\n",
    "plt.title('Predicted Labels')\n",
    "plt.xlabel('Sample')\n",
    "\n",
    "plt.tight_layout()\n",
    "plt.show()"
   ],
   "id": "2932148b7e47abc",
   "outputs": [],
   "execution_count": null
  },
  {
   "metadata": {},
   "cell_type": "code",
   "source": [
    "# Pickle the ESN for later use in case we need to use it\n",
    "import pickle\n",
    "\n",
    "with open('basicESN_har70.pkl', 'wb') as f:\n",
    "    pickle.dump(esn, f)"
   ],
   "id": "66b0e0a795ccd9e9",
   "outputs": [],
   "execution_count": null
  }
 ],
 "metadata": {
  "kernelspec": {
   "display_name": "Python 3 (ipykernel)",
   "language": "python",
   "name": "python3"
  },
  "language_info": {
   "codemirror_mode": {
    "name": "ipython",
    "version": 3
   },
   "file_extension": ".py",
   "mimetype": "text/x-python",
   "name": "python",
   "nbconvert_exporter": "python",
   "pygments_lexer": "ipython3",
   "version": "3.8.18"
  }
 },
 "nbformat": 4,
 "nbformat_minor": 5
}
