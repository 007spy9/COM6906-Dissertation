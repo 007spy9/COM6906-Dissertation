{
 "cells": [
  {
   "cell_type": "code",
   "id": "5e906190049577ae",
   "metadata": {
    "collapsed": true,
    "jupyter": {
     "outputs_hidden": true
    },
    "ExecuteTime": {
     "end_time": "2024-07-15T21:43:34.439146Z",
     "start_time": "2024-07-15T21:43:32.934659Z"
    }
   },
   "source": [
    "import collections\n",
    "# Prepare paths to local utilities\n",
    "import os\n",
    "import sys\n",
    "\n",
    "import matplotlib\n",
    "import numpy as np\n",
    "import pandas as pd\n",
    "import matplotlib.pyplot as plt"
   ],
   "outputs": [],
   "execution_count": 268
  },
  {
   "cell_type": "code",
   "id": "ee5051c4ff4ec4c3",
   "metadata": {
    "ExecuteTime": {
     "end_time": "2024-07-15T21:43:36.118812Z",
     "start_time": "2024-07-15T21:43:34.441156Z"
    }
   },
   "source": [
    "models_path = os.path.abspath(os.path.join('..', 'model'))\n",
    "utils_path = os.path.abspath(os.path.join('..', 'util'))\n",
    "sys.path.append(models_path)\n",
    "sys.path.append(utils_path)"
   ],
   "outputs": [],
   "execution_count": 269
  },
  {
   "cell_type": "code",
   "id": "36ee306e17e7081c",
   "metadata": {
    "ExecuteTime": {
     "end_time": "2024-07-15T21:43:36.724072Z",
     "start_time": "2024-07-15T21:43:36.120312Z"
    }
   },
   "source": [
    "\n",
    "%load_ext autoreload\n",
    "%autoreload 2"
   ],
   "outputs": [
    {
     "name": "stdout",
     "output_type": "stream",
     "text": [
      "The autoreload extension is already loaded. To reload it, use:\n",
      "  %reload_ext autoreload\n"
     ]
    }
   ],
   "execution_count": 270
  },
  {
   "cell_type": "code",
   "id": "initial_id",
   "metadata": {
    "ExecuteTime": {
     "end_time": "2024-07-15T21:43:37.331991Z",
     "start_time": "2024-07-15T21:43:36.725578Z"
    }
   },
   "source": [
    "from download.DataDownloader import DataDownloader\n",
    "from collect.DataframeCollector import DataframeCollector\n",
    "from collect.TestSetSplitter import TestSetSplitter\n",
    "from reservoir.BasicESN import BasicESN"
   ],
   "outputs": [],
   "execution_count": 271
  },
  {
   "cell_type": "code",
   "id": "fe8df007280f955c",
   "metadata": {
    "ExecuteTime": {
     "end_time": "2024-07-15T21:43:38.987944Z",
     "start_time": "2024-07-15T21:43:37.334993Z"
    }
   },
   "source": [
    "data_path = os.path.abspath(os.path.join('..', 'data'))"
   ],
   "outputs": [],
   "execution_count": 272
  },
  {
   "cell_type": "code",
   "id": "d52bf14d95afdc74",
   "metadata": {
    "ExecuteTime": {
     "end_time": "2024-07-15T21:43:39.580745Z",
     "start_time": "2024-07-15T21:43:38.989944Z"
    }
   },
   "source": [
    "# Download data\n",
    "downloader = DataDownloader()\n",
    "downloader.download_data('har70plus', data_path)"
   ],
   "outputs": [
    {
     "name": "stdout",
     "output_type": "stream",
     "text": [
      "Dataset already downloaded\n"
     ]
    },
    {
     "data": {
      "text/plain": [
       "True"
      ]
     },
     "execution_count": 273,
     "metadata": {},
     "output_type": "execute_result"
    }
   ],
   "execution_count": 273
  },
  {
   "cell_type": "code",
   "id": "939134ebf0819fe2",
   "metadata": {
    "ExecuteTime": {
     "end_time": "2024-07-15T21:43:42.663172Z",
     "start_time": "2024-07-15T21:43:39.582247Z"
    }
   },
   "source": [
    "# Collect data into dataframes\n",
    "collector = DataframeCollector()\n",
    "collector.load_full_dataset(data_path + '/har70plus')"
   ],
   "outputs": [
    {
     "name": "stdout",
     "output_type": "stream",
     "text": [
      "Discovered  18  csv files in  E:\\PyCharm\\COM6906-Dissertation\\data/har70plus\n",
      "Loading the csv files into dataframes\n",
      "Loaded  18  dataframes\n",
      "Concatenating the dataframes\n"
     ]
    },
    {
     "data": {
      "text/plain": [
       "                       timestamp    back_x    back_y    back_z   thigh_x  \\\n",
       "0        2021-03-24 14:42:03.839 -0.999023 -0.063477  0.140625 -0.980469   \n",
       "1        2021-03-24 14:42:03.859 -0.980225 -0.079346  0.140625 -0.961182   \n",
       "2        2021-03-24 14:42:03.880 -0.950195 -0.076416  0.140625 -0.949463   \n",
       "3        2021-03-24 14:42:03.900 -0.954834 -0.059082  0.140381 -0.957520   \n",
       "4        2021-03-24 14:42:03.920 -0.972412 -0.042969  0.142822 -0.977051   \n",
       "...                          ...       ...       ...       ...       ...   \n",
       "2259592  2021-06-11 11:13:14.098 -0.960693 -0.199951 -0.330566 -0.977051   \n",
       "2259593  2021-06-11 11:13:14.118 -0.942627 -0.210205 -0.331543 -0.969482   \n",
       "2259594  2021-06-11 11:13:14.138 -0.907227 -0.190918 -0.320312 -1.048096   \n",
       "2259595  2021-06-11 11:13:14.159 -0.883057 -0.156982 -0.311279 -1.007080   \n",
       "2259596  2021-06-11 11:13:14.178 -0.877197 -0.128418 -0.315186 -0.995361   \n",
       "\n",
       "          thigh_y   thigh_z  label  record_num  \n",
       "0       -0.112061 -0.048096      6           0  \n",
       "1       -0.121582 -0.051758      6           1  \n",
       "2       -0.080566 -0.067139      6           2  \n",
       "3       -0.046143 -0.050781      6           3  \n",
       "4       -0.023682 -0.026611      6           4  \n",
       "...           ...       ...    ...         ...  \n",
       "2259592  0.006104 -0.246826      1     2259592  \n",
       "2259593  0.004883 -0.231445      1     2259593  \n",
       "2259594  0.067627 -0.234375      1     2259594  \n",
       "2259595  0.063965 -0.248047      1     2259595  \n",
       "2259596  0.083496 -0.232178      1     2259596  \n",
       "\n",
       "[2259597 rows x 9 columns]"
      ],
      "text/html": [
       "<div>\n",
       "<style scoped>\n",
       "    .dataframe tbody tr th:only-of-type {\n",
       "        vertical-align: middle;\n",
       "    }\n",
       "\n",
       "    .dataframe tbody tr th {\n",
       "        vertical-align: top;\n",
       "    }\n",
       "\n",
       "    .dataframe thead th {\n",
       "        text-align: right;\n",
       "    }\n",
       "</style>\n",
       "<table border=\"1\" class=\"dataframe\">\n",
       "  <thead>\n",
       "    <tr style=\"text-align: right;\">\n",
       "      <th></th>\n",
       "      <th>timestamp</th>\n",
       "      <th>back_x</th>\n",
       "      <th>back_y</th>\n",
       "      <th>back_z</th>\n",
       "      <th>thigh_x</th>\n",
       "      <th>thigh_y</th>\n",
       "      <th>thigh_z</th>\n",
       "      <th>label</th>\n",
       "      <th>record_num</th>\n",
       "    </tr>\n",
       "  </thead>\n",
       "  <tbody>\n",
       "    <tr>\n",
       "      <th>0</th>\n",
       "      <td>2021-03-24 14:42:03.839</td>\n",
       "      <td>-0.999023</td>\n",
       "      <td>-0.063477</td>\n",
       "      <td>0.140625</td>\n",
       "      <td>-0.980469</td>\n",
       "      <td>-0.112061</td>\n",
       "      <td>-0.048096</td>\n",
       "      <td>6</td>\n",
       "      <td>0</td>\n",
       "    </tr>\n",
       "    <tr>\n",
       "      <th>1</th>\n",
       "      <td>2021-03-24 14:42:03.859</td>\n",
       "      <td>-0.980225</td>\n",
       "      <td>-0.079346</td>\n",
       "      <td>0.140625</td>\n",
       "      <td>-0.961182</td>\n",
       "      <td>-0.121582</td>\n",
       "      <td>-0.051758</td>\n",
       "      <td>6</td>\n",
       "      <td>1</td>\n",
       "    </tr>\n",
       "    <tr>\n",
       "      <th>2</th>\n",
       "      <td>2021-03-24 14:42:03.880</td>\n",
       "      <td>-0.950195</td>\n",
       "      <td>-0.076416</td>\n",
       "      <td>0.140625</td>\n",
       "      <td>-0.949463</td>\n",
       "      <td>-0.080566</td>\n",
       "      <td>-0.067139</td>\n",
       "      <td>6</td>\n",
       "      <td>2</td>\n",
       "    </tr>\n",
       "    <tr>\n",
       "      <th>3</th>\n",
       "      <td>2021-03-24 14:42:03.900</td>\n",
       "      <td>-0.954834</td>\n",
       "      <td>-0.059082</td>\n",
       "      <td>0.140381</td>\n",
       "      <td>-0.957520</td>\n",
       "      <td>-0.046143</td>\n",
       "      <td>-0.050781</td>\n",
       "      <td>6</td>\n",
       "      <td>3</td>\n",
       "    </tr>\n",
       "    <tr>\n",
       "      <th>4</th>\n",
       "      <td>2021-03-24 14:42:03.920</td>\n",
       "      <td>-0.972412</td>\n",
       "      <td>-0.042969</td>\n",
       "      <td>0.142822</td>\n",
       "      <td>-0.977051</td>\n",
       "      <td>-0.023682</td>\n",
       "      <td>-0.026611</td>\n",
       "      <td>6</td>\n",
       "      <td>4</td>\n",
       "    </tr>\n",
       "    <tr>\n",
       "      <th>...</th>\n",
       "      <td>...</td>\n",
       "      <td>...</td>\n",
       "      <td>...</td>\n",
       "      <td>...</td>\n",
       "      <td>...</td>\n",
       "      <td>...</td>\n",
       "      <td>...</td>\n",
       "      <td>...</td>\n",
       "      <td>...</td>\n",
       "    </tr>\n",
       "    <tr>\n",
       "      <th>2259592</th>\n",
       "      <td>2021-06-11 11:13:14.098</td>\n",
       "      <td>-0.960693</td>\n",
       "      <td>-0.199951</td>\n",
       "      <td>-0.330566</td>\n",
       "      <td>-0.977051</td>\n",
       "      <td>0.006104</td>\n",
       "      <td>-0.246826</td>\n",
       "      <td>1</td>\n",
       "      <td>2259592</td>\n",
       "    </tr>\n",
       "    <tr>\n",
       "      <th>2259593</th>\n",
       "      <td>2021-06-11 11:13:14.118</td>\n",
       "      <td>-0.942627</td>\n",
       "      <td>-0.210205</td>\n",
       "      <td>-0.331543</td>\n",
       "      <td>-0.969482</td>\n",
       "      <td>0.004883</td>\n",
       "      <td>-0.231445</td>\n",
       "      <td>1</td>\n",
       "      <td>2259593</td>\n",
       "    </tr>\n",
       "    <tr>\n",
       "      <th>2259594</th>\n",
       "      <td>2021-06-11 11:13:14.138</td>\n",
       "      <td>-0.907227</td>\n",
       "      <td>-0.190918</td>\n",
       "      <td>-0.320312</td>\n",
       "      <td>-1.048096</td>\n",
       "      <td>0.067627</td>\n",
       "      <td>-0.234375</td>\n",
       "      <td>1</td>\n",
       "      <td>2259594</td>\n",
       "    </tr>\n",
       "    <tr>\n",
       "      <th>2259595</th>\n",
       "      <td>2021-06-11 11:13:14.159</td>\n",
       "      <td>-0.883057</td>\n",
       "      <td>-0.156982</td>\n",
       "      <td>-0.311279</td>\n",
       "      <td>-1.007080</td>\n",
       "      <td>0.063965</td>\n",
       "      <td>-0.248047</td>\n",
       "      <td>1</td>\n",
       "      <td>2259595</td>\n",
       "    </tr>\n",
       "    <tr>\n",
       "      <th>2259596</th>\n",
       "      <td>2021-06-11 11:13:14.178</td>\n",
       "      <td>-0.877197</td>\n",
       "      <td>-0.128418</td>\n",
       "      <td>-0.315186</td>\n",
       "      <td>-0.995361</td>\n",
       "      <td>0.083496</td>\n",
       "      <td>-0.232178</td>\n",
       "      <td>1</td>\n",
       "      <td>2259596</td>\n",
       "    </tr>\n",
       "  </tbody>\n",
       "</table>\n",
       "<p>2259597 rows × 9 columns</p>\n",
       "</div>"
      ]
     },
     "execution_count": 274,
     "metadata": {},
     "output_type": "execute_result"
    }
   ],
   "execution_count": 274
  },
  {
   "cell_type": "code",
   "id": "80642e06b6ed24b9",
   "metadata": {
    "ExecuteTime": {
     "end_time": "2024-07-15T21:43:44.388371Z",
     "start_time": "2024-07-15T21:43:42.665176Z"
    }
   },
   "source": [
    "# The collector provides one large dataframe with all the data concatenated, and also an array of dataframes, one for each subject\n",
    "dataframes = collector.get_dataframes()\n",
    "\n",
    "test_split = 0.2\n",
    "train_split = 1 - test_split\n",
    "validation_split = 0.2\n",
    "\n",
    "validation_from_train = True\n",
    "use_slices = False\n",
    "\n",
    "splitter = TestSetSplitter(test_split=test_split, val_split=validation_split, val_from_train=validation_from_train, seed=1234)\n",
    "train, val, test = splitter.split(dataframes, use_slices=use_slices)"
   ],
   "outputs": [
    {
     "name": "stdout",
     "output_type": "stream",
     "text": [
      "Data shape:  [(103860, 9), (131367, 9), (116413, 9), (150758, 9), (87006, 9), (122714, 9), (120125, 9), (130494, 9), (121763, 9), (122061, 9), (128063, 9), (119310, 9), (123599, 9), (101510, 9), (153517, 9), (138278, 9), (147045, 9), (141714, 9)]\n"
     ]
    }
   ],
   "execution_count": 275
  },
  {
   "cell_type": "code",
   "id": "e9eae5f5134357ed",
   "metadata": {
    "ExecuteTime": {
     "end_time": "2024-07-15T21:43:45.164522Z",
     "start_time": "2024-07-15T21:43:44.390549Z"
    }
   },
   "source": [
    "slice_size = 128\n",
    "slices_in_df_1 = len(collector.get_dataframes()[0]) // slice_size\n",
    "\n",
    "print(len(train), len(val), len(test))"
   ],
   "outputs": [
    {
     "name": "stdout",
     "output_type": "stream",
     "text": [
      "17 17 18\n"
     ]
    }
   ],
   "execution_count": 276
  },
  {
   "cell_type": "code",
   "id": "d8902301a8aa8019",
   "metadata": {
    "ExecuteTime": {
     "end_time": "2024-07-15T21:43:46.282318Z",
     "start_time": "2024-07-15T21:43:45.167028Z"
    }
   },
   "source": [
    "# Lets plot the data on a graph, colouring by whether it is train, val or test data\n",
    "# Plot the column for back_x\n",
    "plt.figure(figsize=(15, 5))\n",
    "if (use_slices):\n",
    "    train_slice = int(((slices_in_df_1 * train_split) * (1 - validation_split)) if validation_from_train else (slices_in_df_1 * (1 - test_split - validation_split)))\n",
    "    for i, df in enumerate(train[:train_slice]):\n",
    "        plt.plot(df['back_x'], label='Train', color='blue')\n",
    "    \n",
    "    val_slice = int((slices_in_df_1 * train_split) * validation_split) if validation_from_train else (slices_in_df_1 * validation_split)\n",
    "    for i, df in enumerate(val[:val_slice]):\n",
    "        plt.plot(df['back_x'], label='Val', color='orange')\n",
    "    \n",
    "    test_slice = int((slices_in_df_1 * test_split))\n",
    "    for i, df in enumerate(test[:test_slice]):\n",
    "        plt.plot(df['back_x'], label='Test', color='green')\n",
    "        \n",
    "    # Define a custom legend\n",
    "    from matplotlib.lines import Line2D\n",
    "    custom_lines = [Line2D([0], [0], color='blue', lw=2),\n",
    "                    Line2D([0], [0], color='orange', lw=2),\n",
    "                    Line2D([0], [0], color='green', lw=2)]\n",
    "    plt.legend(custom_lines, ['Train', 'Val', 'Test'])\n",
    "else:\n",
    "    plt.plot(train[0]['back_x'], label='Train', color='blue')\n",
    "    plt.plot(val[0]['back_x'], label='Val', color='orange')\n",
    "    plt.plot(test[0]['back_x'], label='Test', color='green')\n",
    "    plt.legend()\n",
    "    \n",
    "plt.title(f'Example of train, val and test data for one subject (back_x) using the properties (test_split={test_split}, val_split={validation_split}, val_from_train={validation_from_train}, use_slices={use_slices})')\n",
    "plt.tight_layout()\n",
    "plt.show()"
   ],
   "outputs": [
    {
     "data": {
      "text/plain": [
       "<Figure size 1500x500 with 1 Axes>"
      ],
      "image/png": "[encoded data removed]"
     },
     "metadata": {},
     "output_type": "display_data"
    }
   ],
   "execution_count": 277
  },
  {
   "cell_type": "code",
   "id": "b115545c53094840",
   "metadata": {
    "ExecuteTime": {
     "end_time": "2024-07-15T21:43:48.033409Z",
     "start_time": "2024-07-15T21:43:46.283992Z"
    }
   },
   "source": [
    "# To use this ESN, we need to concatenate all of the training data into one large dataframe\n",
    "train_df = pd.concat(train)"
   ],
   "outputs": [],
   "execution_count": 278
  },
  {
   "cell_type": "code",
   "id": "fbaf422a2e34b5d",
   "metadata": {
    "ExecuteTime": {
     "end_time": "2024-07-15T21:43:48.699792Z",
     "start_time": "2024-07-15T21:43:48.035409Z"
    }
   },
   "source": [
    "# Check the shape of the dataframe\n",
    "train_df.shape"
   ],
   "outputs": [
    {
     "data": {
      "text/plain": [
       "(1357646, 9)"
      ]
     },
     "execution_count": 279,
     "metadata": {},
     "output_type": "execute_result"
    }
   ],
   "execution_count": 279
  },
  {
   "cell_type": "code",
   "id": "5c86ebcd442ba583",
   "metadata": {
    "ExecuteTime": {
     "end_time": "2024-07-15T21:43:49.399623Z",
     "start_time": "2024-07-15T21:43:48.701798Z"
    }
   },
   "source": [
    "# Let's split the data into input and output, where the input is the 6 columns ['back_x', 'back_y', 'back_z', 'thigh_x', 'thigh_y', 'thigh_z'] and the output is the label column 'label'\n",
    "input_columns = ['back_x', 'back_y', 'back_z', 'thigh_x', 'thigh_y', 'thigh_z']\n",
    "output_columns = ['label']\n",
    "\n",
    "X_train = train_df[input_columns].values\n",
    "y_train = train_df[output_columns].values\n",
    "\n",
    "X_train.shape, y_train.shape"
   ],
   "outputs": [
    {
     "data": {
      "text/plain": [
       "((1357646, 6), (1357646, 1))"
      ]
     },
     "execution_count": 280,
     "metadata": {},
     "output_type": "execute_result"
    }
   ],
   "execution_count": 280
  },
  {
   "cell_type": "code",
   "id": "38e1622d5033b8d6",
   "metadata": {
    "ExecuteTime": {
     "end_time": "2024-07-15T21:43:51.212094Z",
     "start_time": "2024-07-15T21:43:49.403628Z"
    }
   },
   "source": [
    "# The label can be one of 7 values, so we need to one-hot encode it\n",
    "from sklearn.preprocessing import OneHotEncoder\n",
    "\n",
    "# The 7 values it can be are [1,3,4,5,6,7,8]\n",
    "\n",
    "# Create the encoder\n",
    "encoder = OneHotEncoder(categories='auto')\n",
    "\n",
    "# Fit the encoder to the labels\n",
    "encoder.fit(y_train)\n",
    "\n",
    "# Transform the labels\n",
    "y_train = encoder.transform(y_train).toarray()\n",
    "\n",
    "# Check the shape of the one-hot encoded labels\n",
    "y_train.shape\n"
   ],
   "outputs": [
    {
     "data": {
      "text/plain": [
       "(1357646, 7)"
      ]
     },
     "execution_count": 281,
     "metadata": {},
     "output_type": "execute_result"
    }
   ],
   "execution_count": 281
  },
  {
   "cell_type": "code",
   "id": "7dc99e6ca813ae49",
   "metadata": {
    "ExecuteTime": {
     "end_time": "2024-07-15T21:43:51.822295Z",
     "start_time": "2024-07-15T21:43:51.214434Z"
    }
   },
   "source": [
    "# Get the first few rows of the one-hot encoded labels\n",
    "y_train[:5]"
   ],
   "outputs": [
    {
     "data": {
      "text/plain": [
       "array([[0., 0., 0., 0., 1., 0., 0.],\n",
       "       [0., 0., 0., 0., 1., 0., 0.],\n",
       "       [0., 0., 0., 0., 1., 0., 0.],\n",
       "       [0., 0., 0., 0., 1., 0., 0.],\n",
       "       [0., 0., 0., 0., 1., 0., 0.]])"
      ]
     },
     "execution_count": 282,
     "metadata": {},
     "output_type": "execute_result"
    }
   ],
   "execution_count": 282
  },
  {
   "metadata": {
    "ExecuteTime": {
     "end_time": "2024-07-15T21:43:52.477528Z",
     "start_time": "2024-07-15T21:43:51.824300Z"
    }
   },
   "cell_type": "code",
   "source": [
    "# The x data should be normalised to between -1 and 1\n",
    "from sklearn.preprocessing import MinMaxScaler\n",
    "\n",
    "# Create the scaler\n",
    "scaler = MinMaxScaler(feature_range=(-1, 1))\n",
    "\n",
    "# Fit the scaler to the data\n",
    "scaler.fit(X_train)\n",
    "\n",
    "# Transform the data\n",
    "X_train = scaler.transform(X_train)\n",
    "\n",
    "# Check the shape of the normalised data\n",
    "X_train.shape"
   ],
   "id": "115b0c785297082a",
   "outputs": [
    {
     "data": {
      "text/plain": [
       "(1357646, 6)"
      ]
     },
     "execution_count": 283,
     "metadata": {},
     "output_type": "execute_result"
    }
   ],
   "execution_count": 283
  },
  {
   "metadata": {
    "ExecuteTime": {
     "end_time": "2024-07-15T21:43:54.129023Z",
     "start_time": "2024-07-15T21:43:52.479529Z"
    }
   },
   "cell_type": "code",
   "source": [
    "# Get the first few rows of the normalised data\n",
    "X_train[:5]"
   ],
   "id": "fd8ac424dd796175",
   "outputs": [
    {
     "data": {
      "text/plain": [
       "array([[ 0.419942  , -0.07997786,  0.36006019,  0.25384288, -0.19988966,\n",
       "         0.09211758],\n",
       "       [ 0.42794747, -0.09042709,  0.36006019,  0.25744639, -0.2018468 ,\n",
       "         0.09128671],\n",
       "       [ 0.44073629, -0.08849778,  0.36006019,  0.25963591, -0.19341553,\n",
       "         0.08779696],\n",
       "       [ 0.43876069, -0.0770839 ,  0.35990984,  0.25813058, -0.18633951,\n",
       "         0.09150838],\n",
       "       [ 0.43127478, -0.066474  ,  0.36141392,  0.25448149, -0.18172242,\n",
       "         0.09699225]])"
      ]
     },
     "execution_count": 284,
     "metadata": {},
     "output_type": "execute_result"
    }
   ],
   "execution_count": 284
  },
  {
   "cell_type": "code",
   "id": "fcfd870dc6e7424",
   "metadata": {
    "ExecuteTime": {
     "end_time": "2024-07-15T21:43:54.719149Z",
     "start_time": "2024-07-15T21:43:54.131024Z"
    }
   },
   "source": [
    "# Now we need to create the ESN\n",
    "\n",
    "# We can star by defining the input weights for the data\n",
    "\n",
    "# To do this, we will create a matrix of shape (n_neurons, n_features) where n_neurons is the number of neurons in the reservoir and n_features is the number of features in the input signal\n",
    "# We will then populate this matrix from a density function where elements are 1 for a value p, and 0 for a value of 1-p\n",
    "# This will give us a sparse matrix with a density of p\n",
    "\n",
    "n_features = 6\n",
    "density = 0.1\n",
    "n_neurons = 100\n",
    "\n",
    "# Generate the input weights\n",
    "input_weights = np.random.rand(n_neurons, n_features) < density\n",
    "\n",
    "# Check the shape of the input weights\n",
    "print(input_weights.shape)\n",
    "\n"
   ],
   "outputs": [
    {
     "name": "stdout",
     "output_type": "stream",
     "text": [
      "(100, 6)\n"
     ]
    }
   ],
   "execution_count": 285
  },
  {
   "cell_type": "code",
   "id": "da04bc2981f08416",
   "metadata": {
    "ExecuteTime": {
     "end_time": "2024-07-15T21:43:55.341035Z",
     "start_time": "2024-07-15T21:43:54.721150Z"
    }
   },
   "source": [
    "# Next, we initialise the ESN\n",
    "# We will use the BasicESN class from the reservoir.BasicESN module\n",
    "\n",
    "leakage_rate = 0.3\n",
    "spectral_radius = 0.9\n",
    "gamma = 1.0\n",
    "W_in = input_weights\n",
    "\n",
    "esn = BasicESN(leakage_rate=leakage_rate, spectral_radius=spectral_radius, gamma=gamma, n_neurons=n_neurons, W_in=W_in)"
   ],
   "outputs": [
    {
     "name": "stdout",
     "output_type": "stream",
     "text": [
      "BasicESN initialised with leakage_rate: 0.3, spectral_radius: 0.9, gamma: 1.0, n_neurons: 100\n"
     ]
    }
   ],
   "execution_count": 286
  },
  {
   "cell_type": "code",
   "id": "5a25e02e0a0d836d",
   "metadata": {
    "ExecuteTime": {
     "end_time": "2024-07-15T21:47:14.800145Z",
     "start_time": "2024-07-15T21:43:55.342541Z"
    }
   },
   "source": [
    "# Now we need to train the ESN\n",
    "# We will train the ESN using the training data\n",
    "\n",
    "# As a test, lets only take the first 1000 samples\n",
    "n_samples = 500000\n",
    "data_in = X_train\n",
    "data_out = y_train\n",
    "\n",
    "esn.fit(data_in, data_out)\n"
   ],
   "outputs": [
    {
     "name": "stderr",
     "output_type": "stream",
     "text": [
      "100%|██████████| 1357646/1357646 [03:15<00:00, 6940.28it/s] \n"
     ]
    },
    {
     "name": "stdout",
     "output_type": "stream",
     "text": [
      "Shape of previous_states: (1357646, 100)\n",
      "Shape of state before fitting: (1357646, 100)\n",
      "Shape of y before fitting: (1357646, 7)\n"
     ]
    }
   ],
   "execution_count": 287
  },
  {
   "metadata": {
    "ExecuteTime": {
     "end_time": "2024-07-15T21:47:15.907871Z",
     "start_time": "2024-07-15T21:47:14.803090Z"
    }
   },
   "cell_type": "code",
   "source": [
    "# Now we can use the ESN to predict the output for the test data\n",
    "\n",
    "# First we need to concatenate the test data into one large dataframe\n",
    "test_df = pd.concat(test)\n",
    "\n",
    "# Check the shape of the dataframe\n",
    "test_df.shape"
   ],
   "id": "e5a8be1dfbfce101",
   "outputs": [
    {
     "data": {
      "text/plain": [
       "(562547, 9)"
      ]
     },
     "execution_count": 288,
     "metadata": {},
     "output_type": "execute_result"
    }
   ],
   "execution_count": 288
  },
  {
   "metadata": {
    "ExecuteTime": {
     "end_time": "2024-07-15T21:47:16.635964Z",
     "start_time": "2024-07-15T21:47:15.910880Z"
    }
   },
   "cell_type": "code",
   "source": [
    "# Split the data into input and output\n",
    "X_test = test_df[input_columns].values\n",
    "y_test = test_df[output_columns].values\n",
    "\n",
    "# One-hot encode the labels\n",
    "y_test = encoder.transform(y_test).toarray()\n",
    "\n",
    "# Normalise the input data\n",
    "X_test = scaler.transform(X_test)\n",
    "\n",
    "# Check the shape of the data\n",
    "X_test.shape, y_test.shape"
   ],
   "id": "9306683243e4cdf2",
   "outputs": [
    {
     "data": {
      "text/plain": [
       "((562547, 6), (562547, 7))"
      ]
     },
     "execution_count": 289,
     "metadata": {},
     "output_type": "execute_result"
    }
   ],
   "execution_count": 289
  },
  {
   "metadata": {
    "ExecuteTime": {
     "end_time": "2024-07-15T21:47:17.258390Z",
     "start_time": "2024-07-15T21:47:16.638474Z"
    }
   },
   "cell_type": "code",
   "source": [
    "# Get the first few rows of the data\n",
    "X_test[:5], y_test[:5]"
   ],
   "id": "a0c8e8797005ed02",
   "outputs": [
    {
     "data": {
      "text/plain": [
       "(array([[ 0.34695373, -0.09830435,  0.14960493,  0.2295761 , -0.18277633,\n",
       "          0.14058597],\n",
       "        [ 0.36265336, -0.05666743,  0.17954101,  0.24075168, -0.17770741,\n",
       "          0.14728845],\n",
       "        [ 0.42763574, -0.04718286,  0.20767232,  0.26729917, -0.16626509,\n",
       "          0.1066858 ],\n",
       "        [ 0.50966944, -0.03769829,  0.20631798,  0.25370612, -0.19988966,\n",
       "          0.10552254],\n",
       "        [ 0.56664592, -0.03496498,  0.20285817,  0.25407101, -0.22874625,\n",
       "          0.09887542]]),\n",
       " array([[1., 0., 0., 0., 0., 0., 0.],\n",
       "        [1., 0., 0., 0., 0., 0., 0.],\n",
       "        [1., 0., 0., 0., 0., 0., 0.],\n",
       "        [1., 0., 0., 0., 0., 0., 0.],\n",
       "        [1., 0., 0., 0., 0., 0., 0.]]))"
      ]
     },
     "execution_count": 290,
     "metadata": {},
     "output_type": "execute_result"
    }
   ],
   "execution_count": 290
  },
  {
   "metadata": {
    "ExecuteTime": {
     "end_time": "2024-07-15T21:48:32.092625Z",
     "start_time": "2024-07-15T21:47:17.260400Z"
    }
   },
   "cell_type": "code",
   "source": [
    "# Now we can use the ESN to predict the output for the test data\n",
    "y_pred = esn.forward(X_test)\n",
    "\n",
    "# Check the shape of the predicted output\n",
    "y_pred.shape\n"
   ],
   "id": "4eb1bbea11d2032",
   "outputs": [
    {
     "name": "stderr",
     "output_type": "stream",
     "text": [
      "100%|██████████| 562547/562547 [01:12<00:00, 7748.71it/s] \n"
     ]
    },
    {
     "name": "stdout",
     "output_type": "stream",
     "text": [
      "Shape of previous_states: (562547, 100)\n"
     ]
    },
    {
     "data": {
      "text/plain": [
       "(562547, 7)"
      ]
     },
     "execution_count": 291,
     "metadata": {},
     "output_type": "execute_result"
    }
   ],
   "execution_count": 291
  },
  {
   "metadata": {
    "ExecuteTime": {
     "end_time": "2024-07-15T21:48:34.644370Z",
     "start_time": "2024-07-15T21:48:32.122190Z"
    }
   },
   "cell_type": "code",
   "source": [
    "# Get the first few rows of the predicted output\n",
    "y_pred[:5]"
   ],
   "id": "b59385168f467714",
   "outputs": [
    {
     "data": {
      "text/plain": [
       "array([[ 2.847094  , -0.27608233, -0.02580748,  0.03483189, -1.79776244,\n",
       "         0.06614935,  0.151577  ],\n",
       "       [ 2.48745115, -0.24259055, -0.02232707,  0.02583461, -1.55076549,\n",
       "         0.04817075,  0.2542266 ],\n",
       "       [ 2.24923573, -0.20098395, -0.02064833,  0.02453343, -1.37179131,\n",
       "         0.04391944,  0.27573499],\n",
       "       [ 1.95099593, -0.19086906, -0.01032233,  0.02044786, -1.09825138,\n",
       "         0.00810275,  0.31989623],\n",
       "       [ 1.80283892, -0.18206322, -0.00683612,  0.01753104, -0.93865407,\n",
       "        -0.02108345,  0.3282669 ]])"
      ]
     },
     "execution_count": 292,
     "metadata": {},
     "output_type": "execute_result"
    }
   ],
   "execution_count": 292
  },
  {
   "metadata": {
    "ExecuteTime": {
     "end_time": "2024-07-15T21:48:36.825865Z",
     "start_time": "2024-07-15T21:48:34.646374Z"
    }
   },
   "cell_type": "code",
   "source": [
    "# The predicted output is a one-hot encoded array, so we need to decode it back to the original labels\n",
    "y_pred_decoded = encoder.inverse_transform(y_pred)\n",
    "\n",
    "# Check the shape of the decoded output\n",
    "y_pred_decoded.shape"
   ],
   "id": "e8e20d6d5a52856d",
   "outputs": [
    {
     "data": {
      "text/plain": [
       "(562547, 1)"
      ]
     },
     "execution_count": 293,
     "metadata": {},
     "output_type": "execute_result"
    }
   ],
   "execution_count": 293
  },
  {
   "metadata": {
    "ExecuteTime": {
     "end_time": "2024-07-15T21:48:38.006048Z",
     "start_time": "2024-07-15T21:48:36.828370Z"
    }
   },
   "cell_type": "code",
   "source": [
    "# Get the first few rows of the decoded output\n",
    "y_pred_decoded[:5]"
   ],
   "id": "e571742e1c413cc2",
   "outputs": [
    {
     "data": {
      "text/plain": [
       "array([[1],\n",
       "       [1],\n",
       "       [1],\n",
       "       [1],\n",
       "       [1]], dtype=int64)"
      ]
     },
     "execution_count": 294,
     "metadata": {},
     "output_type": "execute_result"
    }
   ],
   "execution_count": 294
  },
  {
   "metadata": {
    "ExecuteTime": {
     "end_time": "2024-07-15T21:48:39.045841Z",
     "start_time": "2024-07-15T21:48:38.008048Z"
    }
   },
   "cell_type": "code",
   "source": [
    "y_test_decoded = encoder.inverse_transform(y_test)\n",
    "\n",
    "# Check the shape of the decoded output\n",
    "y_test_decoded.shape"
   ],
   "id": "3deeb30dd9707b9e",
   "outputs": [
    {
     "data": {
      "text/plain": [
       "(562547, 1)"
      ]
     },
     "execution_count": 295,
     "metadata": {},
     "output_type": "execute_result"
    }
   ],
   "execution_count": 295
  },
  {
   "metadata": {
    "ExecuteTime": {
     "end_time": "2024-07-15T21:48:41.470319Z",
     "start_time": "2024-07-15T21:48:39.048340Z"
    }
   },
   "cell_type": "code",
   "source": "y_test_decoded[:5]",
   "id": "c6c7ccc56da713d7",
   "outputs": [
    {
     "data": {
      "text/plain": [
       "array([[1],\n",
       "       [1],\n",
       "       [1],\n",
       "       [1],\n",
       "       [1]], dtype=int64)"
      ]
     },
     "execution_count": 296,
     "metadata": {},
     "output_type": "execute_result"
    }
   ],
   "execution_count": 296
  },
  {
   "metadata": {
    "ExecuteTime": {
     "end_time": "2024-07-15T21:48:42.973523Z",
     "start_time": "2024-07-15T21:48:41.472829Z"
    }
   },
   "cell_type": "code",
   "source": [
    "# Now we can evaluate the accuracy of the ESN on the test data\n",
    "# Start by plotting the true label and the predicted label on a graph\n",
    "plt.figure(figsize=(15, 5))\n",
    "plt.plot(y_test_decoded[:10000], label='True', color='blue')\n",
    "plt.plot(y_pred_decoded[:10000], label='Predicted', color='orange')\n",
    "plt.legend()\n",
    "plt.title('True vs Predicted labels for the first 1000 samples of the test data')\n",
    "\n",
    "plt.tight_layout()\n",
    "plt.show()"
   ],
   "id": "35f5d59b51f3666d",
   "outputs": [
    {
     "data": {
      "text/plain": [
       "<Figure size 1500x500 with 1 Axes>"
      ],
      "image/png": "[encoded data removed]"
     },
     "metadata": {},
     "output_type": "display_data"
    }
   ],
   "execution_count": 297
  },
  {
   "metadata": {
    "ExecuteTime": {
     "end_time": "2024-07-15T21:48:46.233638Z",
     "start_time": "2024-07-15T21:48:42.976025Z"
    }
   },
   "cell_type": "code",
   "source": [
    "# Now we can calculate the accuracy of the ESN on the test data\n",
    "from sklearn.metrics import accuracy_score\n",
    "\n",
    "accuracy = accuracy_score(y_test_decoded, y_pred_decoded)\n",
    "\n",
    "accuracy"
   ],
   "id": "ffde2f6173c13f65",
   "outputs": [
    {
     "data": {
      "text/plain": [
       "0.7902308607103051"
      ]
     },
     "execution_count": 298,
     "metadata": {},
     "output_type": "execute_result"
    }
   ],
   "execution_count": 298
  },
  {
   "metadata": {
    "ExecuteTime": {
     "end_time": "2024-07-15T21:48:53.082337Z",
     "start_time": "2024-07-15T21:48:46.343157Z"
    }
   },
   "cell_type": "code",
   "source": [
    "# Now we can calculate the confusion matrix for the ESN on the test data\n",
    "from sklearn.metrics import confusion_matrix\n",
    "\n",
    "conf_matrix = confusion_matrix(y_test_decoded, y_pred_decoded)\n",
    "\n",
    "conf_matrix"
   ],
   "id": "d430391865fb428a",
   "outputs": [
    {
     "data": {
      "text/plain": [
       "array([[321042,      0,      0,      0,  24134,   1402,      3],\n",
       "       [ 15741,      0,      0,      0,   3887,     12,      0],\n",
       "       [  2507,      0,      0,      0,    105,     96,      0],\n",
       "       [   360,      0,      0,      0,     10,      0,      0],\n",
       "       [ 67913,      0,      0,      0,  73877,      6,      0],\n",
       "       [  1818,      0,      0,      0,      7,  41378,      1],\n",
       "       [     3,      0,      0,      0,      0,      0,   8245]],\n",
       "      dtype=int64)"
      ]
     },
     "execution_count": 299,
     "metadata": {},
     "output_type": "execute_result"
    }
   ],
   "execution_count": 299
  },
  {
   "metadata": {
    "ExecuteTime": {
     "end_time": "2024-07-15T21:48:57.650299Z",
     "start_time": "2024-07-15T21:48:53.157097Z"
    }
   },
   "cell_type": "code",
   "source": [
    "# Now we can plot the confusion matrix\n",
    "# Our labels are \n",
    "# 1: walking\t\n",
    "# 3: shuffling\n",
    "# 4: stairs (ascending)\n",
    "# 5: stairs (descending)\n",
    "# 6: standing\n",
    "# 7: sitting\n",
    "# 8: lying\n",
    "# So we will use these labels for the x and y axis of the confusion matrix\n",
    "import seaborn as sns\n",
    "\n",
    "labels = ['walking', 'shuffling', 'stairs (ascending)', 'stairs (descending)', 'standing', 'sitting', 'lying']\n",
    "\n",
    "plt.figure(figsize=(10, 7))\n",
    "\n",
    "sns.heatmap(conf_matrix, annot=True, fmt='d', xticklabels=labels, yticklabels=labels, cmap='Blues')\n",
    "\n",
    "plt.xlabel('Predicted')\n",
    "plt.ylabel('True')\n",
    "\n",
    "plt.title('Confusion Matrix for the ESN on the test data')\n",
    "\n",
    "plt.tight_layout()\n",
    "plt.show()\n"
   ],
   "id": "d010e5be9564a796",
   "outputs": [
    {
     "data": {
      "text/plain": [
       "<Figure size 1000x700 with 2 Axes>"
      ],
      "image/png": "[encoded data removed]"
     },
     "metadata": {},
     "output_type": "display_data"
    }
   ],
   "execution_count": 300
  },
  {
   "metadata": {
    "ExecuteTime": {
     "end_time": "2024-07-15T21:49:00.869962Z",
     "start_time": "2024-07-15T21:48:57.669330Z"
    }
   },
   "cell_type": "code",
   "source": [
    "# Now we can calculate the precision, recall and f1-score for the ESN on the test data\n",
    "from sklearn.metrics import classification_report\n",
    "\n",
    "report = classification_report(y_test_decoded, y_pred_decoded, target_names=labels)\n",
    "\n",
    "print(report)"
   ],
   "id": "72e46a656729c9fa",
   "outputs": [
    {
     "name": "stderr",
     "output_type": "stream",
     "text": [
      "C:\\Users\\mail\\anaconda3\\envs\\training\\lib\\site-packages\\sklearn\\metrics\\_classification.py:1471: UndefinedMetricWarning: Precision and F-score are ill-defined and being set to 0.0 in labels with no predicted samples. Use `zero_division` parameter to control this behavior.\n",
      "  _warn_prf(average, modifier, msg_start, len(result))\n"
     ]
    },
    {
     "name": "stdout",
     "output_type": "stream",
     "text": [
      "                     precision    recall  f1-score   support\n",
      "\n",
      "            walking       0.78      0.93      0.85    346581\n",
      "          shuffling       0.00      0.00      0.00     19640\n",
      " stairs (ascending)       0.00      0.00      0.00      2708\n",
      "stairs (descending)       0.00      0.00      0.00       370\n",
      "           standing       0.72      0.52      0.61    141796\n",
      "            sitting       0.96      0.96      0.96     43204\n",
      "              lying       1.00      1.00      1.00      8248\n",
      "\n",
      "           accuracy                           0.79    562547\n",
      "          macro avg       0.50      0.49      0.49    562547\n",
      "       weighted avg       0.75      0.79      0.76    562547\n",
      "\n"
     ]
    },
    {
     "name": "stderr",
     "output_type": "stream",
     "text": [
      "C:\\Users\\mail\\anaconda3\\envs\\training\\lib\\site-packages\\sklearn\\metrics\\_classification.py:1471: UndefinedMetricWarning: Precision and F-score are ill-defined and being set to 0.0 in labels with no predicted samples. Use `zero_division` parameter to control this behavior.\n",
      "  _warn_prf(average, modifier, msg_start, len(result))\n",
      "C:\\Users\\mail\\anaconda3\\envs\\training\\lib\\site-packages\\sklearn\\metrics\\_classification.py:1471: UndefinedMetricWarning: Precision and F-score are ill-defined and being set to 0.0 in labels with no predicted samples. Use `zero_division` parameter to control this behavior.\n",
      "  _warn_prf(average, modifier, msg_start, len(result))\n"
     ]
    }
   ],
   "execution_count": 301
  },
  {
   "metadata": {
    "ExecuteTime": {
     "end_time": "2024-07-15T23:29:49.800002Z",
     "start_time": "2024-07-15T21:49:00.871468Z"
    }
   },
   "cell_type": "code",
   "source": [
    "# Now that we have done a test with basic properties, we can tune the hyperparameters of the ESN to see if we can improve the accuracy\n",
    "\n",
    "# First, lets define the search space for the hyperparameters\n",
    "from hyperopt import hp\n",
    "\n",
    "space = {\n",
    "    'leakage_rate': hp.uniform('leakage_rate', 0.1, 0.9),\n",
    "    'spectral_radius': hp.uniform('spectral_radius', 0.1, 1.0),\n",
    "    'gamma': hp.uniform('gamma', 0.1, 1.0),\n",
    "    'n_neurons': hp.choice('n_neurons', [100, 200, 300]),\n",
    "    'density': hp.uniform('density', 0.1, 0.9)\n",
    "}\n",
    "\n",
    "# Next, we define the objective function\n",
    "from hyperopt import fmin, tpe, Trials\n",
    "from sklearn.metrics import mean_squared_error\n",
    "\n",
    "def objective(params):\n",
    "    # Create the input weights\n",
    "    input_weights = np.random.rand(params['n_neurons'], n_features) < params['density']\n",
    "    \n",
    "    # Create the ESN\n",
    "    esn = BasicESN(leakage_rate=params['leakage_rate'], spectral_radius=params['spectral_radius'], gamma=params['gamma'], n_neurons=params['n_neurons'], W_in=input_weights, is_optimising=True)\n",
    "    \n",
    "    # Train the ESN\n",
    "    esn.fit(data_in, data_out)\n",
    "    \n",
    "    # Predict the output\n",
    "    y_pred = esn.forward(X_test)\n",
    "    \n",
    "    # Decode the output\n",
    "    y_pred_decoded = encoder.inverse_transform(y_pred)\n",
    "    \n",
    "    # Calculate the mean squared error\n",
    "    mse = mean_squared_error(y_test_decoded, y_pred_decoded)\n",
    "    \n",
    "    return mse\n",
    "\n",
    "# Now we can run the hyperparameter search\n",
    "trials = Trials()\n",
    "\n",
    "best = fmin(fn=objective, space=space, algo=tpe.suggest, max_evals=100, trials=trials)\n",
    "\n",
    "best"
   ],
   "id": "a5325aabdcaf2846",
   "outputs": [
    {
     "name": "stdout",
     "output_type": "stream",
     "text": [
      "BasicESN initialised with leakage_rate: 0.5625103781971709, spectral_radius: 0.6651094578815644, gamma: 0.23173932391980892, n_neurons: 300\n",
      "Shape of previous_states: (1357646, 300)               \n",
      "Shape of state before fitting: (1357646, 300)          \n",
      "Shape of y before fitting: (1357646, 7)                \n",
      "Shape of previous_states: (562547, 300)                \n",
      "BasicESN initialised with leakage_rate: 0.713372473029893, spectral_radius: 0.5003219165119968, gamma: 0.5452579356527695, n_neurons: 100\n",
      "Shape of previous_states: (1357646, 100)                                              \n",
      "Shape of state before fitting: (1357646, 100)                                         \n",
      "Shape of y before fitting: (1357646, 7)                                               \n",
      "Shape of previous_states: (562547, 100)                                               \n",
      "BasicESN initialised with leakage_rate: 0.6101048889080144, spectral_radius: 0.6992342700934937, gamma: 0.16040378067482491, n_neurons: 50\n",
      "Shape of previous_states: (1357646, 50)                                              \n",
      "Shape of state before fitting: (1357646, 50)                                         \n",
      "Shape of y before fitting: (1357646, 7)                                              \n",
      "Shape of previous_states: (562547, 50)                                               \n",
      "BasicESN initialised with leakage_rate: 0.8718187175329455, spectral_radius: 0.8575632712818527, gamma: 0.9668573213660627, n_neurons: 50\n",
      "Shape of previous_states: (1357646, 50)                                              \n",
      "Shape of state before fitting: (1357646, 50)                                         \n",
      "Shape of y before fitting: (1357646, 7)                                              \n",
      "Shape of previous_states: (562547, 50)                                               \n",
      "BasicESN initialised with leakage_rate: 0.11403936808019442, spectral_radius: 0.17289727288446358, gamma: 0.7430080879983217, n_neurons: 50\n",
      "Shape of previous_states: (1357646, 50)                                             \n",
      "Shape of state before fitting: (1357646, 50)                                        \n",
      "Shape of y before fitting: (1357646, 7)                                             \n",
      "Shape of previous_states: (562547, 50)                                              \n",
      "BasicESN initialised with leakage_rate: 0.45342332197055, spectral_radius: 0.8345360822773353, gamma: 0.7211422755481242, n_neurons: 300\n",
      "Shape of previous_states: (1357646, 300)                                            \n",
      "Shape of state before fitting: (1357646, 300)                                       \n",
      "Shape of y before fitting: (1357646, 7)                                             \n",
      "Shape of previous_states: (562547, 300)                                             \n",
      "BasicESN initialised with leakage_rate: 0.15209644661003452, spectral_radius: 0.8078423063709146, gamma: 0.40390493996847265, n_neurons: 200\n",
      "Shape of previous_states: (1357646, 200)                                             \n",
      "Shape of state before fitting: (1357646, 200)                                        \n",
      "Shape of y before fitting: (1357646, 7)                                              \n",
      "Shape of previous_states: (562547, 200)                                              \n",
      "BasicESN initialised with leakage_rate: 0.5681711123109067, spectral_radius: 0.2314171725206287, gamma: 0.9015295517020885, n_neurons: 300\n",
      "Shape of previous_states: (1357646, 300)                                             \n",
      "Shape of state before fitting: (1357646, 300)                                        \n",
      "Shape of y before fitting: (1357646, 7)                                              \n",
      "Shape of previous_states: (562547, 300)                                              \n",
      "BasicESN initialised with leakage_rate: 0.7961855491705796, spectral_radius: 0.6602066323023874, gamma: 0.6102920945170288, n_neurons: 100\n",
      "Shape of previous_states: (1357646, 100)                                              \n",
      "Shape of state before fitting: (1357646, 100)                                         \n",
      "Shape of y before fitting: (1357646, 7)                                               \n",
      "Shape of previous_states: (562547, 100)                                               \n",
      "BasicESN initialised with leakage_rate: 0.650944569200619, spectral_radius: 0.32942598354388497, gamma: 0.6603380398347061, n_neurons: 300\n",
      "Shape of previous_states: (1357646, 300)                                             \n",
      "Shape of state before fitting: (1357646, 300)                                        \n",
      "Shape of y before fitting: (1357646, 7)                                              \n",
      "Shape of previous_states: (562547, 300)                                              \n",
      "BasicESN initialised with leakage_rate: 0.36526347084030375, spectral_radius: 0.12036923727473742, gamma: 0.25365921242076495, n_neurons: 300\n",
      "Shape of previous_states: (1357646, 300)                                               \n",
      "Shape of state before fitting: (1357646, 300)                                            \n",
      "Shape of y before fitting: (1357646, 7)                                                  \n",
      "Shape of previous_states: (562547, 300)                                                  \n",
      "BasicESN initialised with leakage_rate: 0.6911638928735602, spectral_radius: 0.9004303105601249, gamma: 0.8583623410427479, n_neurons: 200\n",
      "Shape of previous_states: (1357646, 200)                                                 \n",
      "Shape of state before fitting: (1357646, 200)                                            \n",
      "Shape of y before fitting: (1357646, 7)                                                  \n",
      "Shape of previous_states: (562547, 200)                                                  \n",
      "BasicESN initialised with leakage_rate: 0.3361450234447333, spectral_radius: 0.9583598721539177, gamma: 0.47319657322515196, n_neurons: 100\n",
      "Shape of previous_states: (1357646, 100)                                                 \n",
      "Shape of state before fitting: (1357646, 100)                                            \n",
      "Shape of y before fitting: (1357646, 7)                                                  \n",
      "Shape of previous_states: (562547, 100)                                                  \n",
      "BasicESN initialised with leakage_rate: 0.10998998975286299, spectral_radius: 0.9006348042375603, gamma: 0.3912199787509618, n_neurons: 100\n",
      "Shape of previous_states: (1357646, 100)                                                 \n",
      "Shape of state before fitting: (1357646, 100)                                            \n",
      "Shape of y before fitting: (1357646, 7)                                                  \n",
      "Shape of previous_states: (562547, 100)                                                  \n",
      "BasicESN initialised with leakage_rate: 0.23064528299453058, spectral_radius: 0.9847845792306343, gamma: 0.5388749569112378, n_neurons: 200\n",
      "Shape of previous_states: (1357646, 200)                                                \n",
      "Shape of state before fitting: (1357646, 200)                                           \n",
      "Shape of y before fitting: (1357646, 7)                                                 \n",
      "Shape of previous_states: (562547, 200)                                                 \n",
      "BasicESN initialised with leakage_rate: 0.7251946127657929, spectral_radius: 0.8553395153188211, gamma: 0.14490243383413962, n_neurons: 50\n",
      "Shape of previous_states: (1357646, 50)                                                  \n",
      "Shape of state before fitting: (1357646, 50)                                             \n",
      "Shape of y before fitting: (1357646, 7)                                                  \n",
      "Shape of previous_states: (562547, 50)                                                   \n",
      "BasicESN initialised with leakage_rate: 0.5886362596081883, spectral_radius: 0.7441841171711803, gamma: 0.6767255683923938, n_neurons: 200\n",
      "Shape of previous_states: (1357646, 200)                                                \n",
      "Shape of state before fitting: (1357646, 200)                                           \n",
      "Shape of y before fitting: (1357646, 7)                                                 \n",
      " 16%|█▌        | 16/100 [1:40:47<8:49:09, 377.96s/trial, best loss: -0.8431686596853241]\n"
     ]
    },
    {
     "ename": "KeyboardInterrupt",
     "evalue": "",
     "output_type": "error",
     "traceback": [
      "\u001B[1;31m---------------------------------------------------------------------------\u001B[0m",
      "\u001B[1;31mKeyboardInterrupt\u001B[0m                         Traceback (most recent call last)",
      "Cell \u001B[1;32mIn[302], line 41\u001B[0m\n\u001B[0;32m     38\u001B[0m \u001B[38;5;66;03m# Now we can run the hyperparameter search\u001B[39;00m\n\u001B[0;32m     39\u001B[0m trials \u001B[38;5;241m=\u001B[39m Trials()\n\u001B[1;32m---> 41\u001B[0m best \u001B[38;5;241m=\u001B[39m \u001B[43mfmin\u001B[49m\u001B[43m(\u001B[49m\u001B[43mfn\u001B[49m\u001B[38;5;241;43m=\u001B[39;49m\u001B[43mobjective\u001B[49m\u001B[43m,\u001B[49m\u001B[43m \u001B[49m\u001B[43mspace\u001B[49m\u001B[38;5;241;43m=\u001B[39;49m\u001B[43mspace\u001B[49m\u001B[43m,\u001B[49m\u001B[43m \u001B[49m\u001B[43malgo\u001B[49m\u001B[38;5;241;43m=\u001B[39;49m\u001B[43mtpe\u001B[49m\u001B[38;5;241;43m.\u001B[39;49m\u001B[43msuggest\u001B[49m\u001B[43m,\u001B[49m\u001B[43m \u001B[49m\u001B[43mmax_evals\u001B[49m\u001B[38;5;241;43m=\u001B[39;49m\u001B[38;5;241;43m100\u001B[39;49m\u001B[43m,\u001B[49m\u001B[43m \u001B[49m\u001B[43mtrials\u001B[49m\u001B[38;5;241;43m=\u001B[39;49m\u001B[43mtrials\u001B[49m\u001B[43m)\u001B[49m\n\u001B[0;32m     43\u001B[0m best\n",
      "File \u001B[1;32m~\\anaconda3\\envs\\training\\lib\\site-packages\\hyperopt\\fmin.py:540\u001B[0m, in \u001B[0;36mfmin\u001B[1;34m(fn, space, algo, max_evals, timeout, loss_threshold, trials, rstate, allow_trials_fmin, pass_expr_memo_ctrl, catch_eval_exceptions, verbose, return_argmin, points_to_evaluate, max_queue_len, show_progressbar, early_stop_fn, trials_save_file)\u001B[0m\n\u001B[0;32m    537\u001B[0m     fn \u001B[38;5;241m=\u001B[39m __objective_fmin_wrapper(fn)\n\u001B[0;32m    539\u001B[0m \u001B[38;5;28;01mif\u001B[39;00m allow_trials_fmin \u001B[38;5;129;01mand\u001B[39;00m \u001B[38;5;28mhasattr\u001B[39m(trials, \u001B[38;5;124m\"\u001B[39m\u001B[38;5;124mfmin\u001B[39m\u001B[38;5;124m\"\u001B[39m):\n\u001B[1;32m--> 540\u001B[0m     \u001B[38;5;28;01mreturn\u001B[39;00m \u001B[43mtrials\u001B[49m\u001B[38;5;241;43m.\u001B[39;49m\u001B[43mfmin\u001B[49m\u001B[43m(\u001B[49m\n\u001B[0;32m    541\u001B[0m \u001B[43m        \u001B[49m\u001B[43mfn\u001B[49m\u001B[43m,\u001B[49m\n\u001B[0;32m    542\u001B[0m \u001B[43m        \u001B[49m\u001B[43mspace\u001B[49m\u001B[43m,\u001B[49m\n\u001B[0;32m    543\u001B[0m \u001B[43m        \u001B[49m\u001B[43malgo\u001B[49m\u001B[38;5;241;43m=\u001B[39;49m\u001B[43malgo\u001B[49m\u001B[43m,\u001B[49m\n\u001B[0;32m    544\u001B[0m \u001B[43m        \u001B[49m\u001B[43mmax_evals\u001B[49m\u001B[38;5;241;43m=\u001B[39;49m\u001B[43mmax_evals\u001B[49m\u001B[43m,\u001B[49m\n\u001B[0;32m    545\u001B[0m \u001B[43m        \u001B[49m\u001B[43mtimeout\u001B[49m\u001B[38;5;241;43m=\u001B[39;49m\u001B[43mtimeout\u001B[49m\u001B[43m,\u001B[49m\n\u001B[0;32m    546\u001B[0m \u001B[43m        \u001B[49m\u001B[43mloss_threshold\u001B[49m\u001B[38;5;241;43m=\u001B[39;49m\u001B[43mloss_threshold\u001B[49m\u001B[43m,\u001B[49m\n\u001B[0;32m    547\u001B[0m \u001B[43m        \u001B[49m\u001B[43mmax_queue_len\u001B[49m\u001B[38;5;241;43m=\u001B[39;49m\u001B[43mmax_queue_len\u001B[49m\u001B[43m,\u001B[49m\n\u001B[0;32m    548\u001B[0m \u001B[43m        \u001B[49m\u001B[43mrstate\u001B[49m\u001B[38;5;241;43m=\u001B[39;49m\u001B[43mrstate\u001B[49m\u001B[43m,\u001B[49m\n\u001B[0;32m    549\u001B[0m \u001B[43m        \u001B[49m\u001B[43mpass_expr_memo_ctrl\u001B[49m\u001B[38;5;241;43m=\u001B[39;49m\u001B[43mpass_expr_memo_ctrl\u001B[49m\u001B[43m,\u001B[49m\n\u001B[0;32m    550\u001B[0m \u001B[43m        \u001B[49m\u001B[43mverbose\u001B[49m\u001B[38;5;241;43m=\u001B[39;49m\u001B[43mverbose\u001B[49m\u001B[43m,\u001B[49m\n\u001B[0;32m    551\u001B[0m \u001B[43m        \u001B[49m\u001B[43mcatch_eval_exceptions\u001B[49m\u001B[38;5;241;43m=\u001B[39;49m\u001B[43mcatch_eval_exceptions\u001B[49m\u001B[43m,\u001B[49m\n\u001B[0;32m    552\u001B[0m \u001B[43m        \u001B[49m\u001B[43mreturn_argmin\u001B[49m\u001B[38;5;241;43m=\u001B[39;49m\u001B[43mreturn_argmin\u001B[49m\u001B[43m,\u001B[49m\n\u001B[0;32m    553\u001B[0m \u001B[43m        \u001B[49m\u001B[43mshow_progressbar\u001B[49m\u001B[38;5;241;43m=\u001B[39;49m\u001B[43mshow_progressbar\u001B[49m\u001B[43m,\u001B[49m\n\u001B[0;32m    554\u001B[0m \u001B[43m        \u001B[49m\u001B[43mearly_stop_fn\u001B[49m\u001B[38;5;241;43m=\u001B[39;49m\u001B[43mearly_stop_fn\u001B[49m\u001B[43m,\u001B[49m\n\u001B[0;32m    555\u001B[0m \u001B[43m        \u001B[49m\u001B[43mtrials_save_file\u001B[49m\u001B[38;5;241;43m=\u001B[39;49m\u001B[43mtrials_save_file\u001B[49m\u001B[43m,\u001B[49m\n\u001B[0;32m    556\u001B[0m \u001B[43m    \u001B[49m\u001B[43m)\u001B[49m\n\u001B[0;32m    558\u001B[0m \u001B[38;5;28;01mif\u001B[39;00m trials \u001B[38;5;129;01mis\u001B[39;00m \u001B[38;5;28;01mNone\u001B[39;00m:\n\u001B[0;32m    559\u001B[0m     \u001B[38;5;28;01mif\u001B[39;00m os\u001B[38;5;241m.\u001B[39mpath\u001B[38;5;241m.\u001B[39mexists(trials_save_file):\n",
      "File \u001B[1;32m~\\anaconda3\\envs\\training\\lib\\site-packages\\hyperopt\\base.py:671\u001B[0m, in \u001B[0;36mTrials.fmin\u001B[1;34m(self, fn, space, algo, max_evals, timeout, loss_threshold, max_queue_len, rstate, verbose, pass_expr_memo_ctrl, catch_eval_exceptions, return_argmin, show_progressbar, early_stop_fn, trials_save_file)\u001B[0m\n\u001B[0;32m    666\u001B[0m \u001B[38;5;66;03m# -- Stop-gap implementation!\u001B[39;00m\n\u001B[0;32m    667\u001B[0m \u001B[38;5;66;03m#    fmin should have been a Trials method in the first place\u001B[39;00m\n\u001B[0;32m    668\u001B[0m \u001B[38;5;66;03m#    but for now it's still sitting in another file.\u001B[39;00m\n\u001B[0;32m    669\u001B[0m \u001B[38;5;28;01mfrom\u001B[39;00m \u001B[38;5;21;01m.\u001B[39;00m\u001B[38;5;21;01mfmin\u001B[39;00m \u001B[38;5;28;01mimport\u001B[39;00m fmin\n\u001B[1;32m--> 671\u001B[0m \u001B[38;5;28;01mreturn\u001B[39;00m \u001B[43mfmin\u001B[49m\u001B[43m(\u001B[49m\n\u001B[0;32m    672\u001B[0m \u001B[43m    \u001B[49m\u001B[43mfn\u001B[49m\u001B[43m,\u001B[49m\n\u001B[0;32m    673\u001B[0m \u001B[43m    \u001B[49m\u001B[43mspace\u001B[49m\u001B[43m,\u001B[49m\n\u001B[0;32m    674\u001B[0m \u001B[43m    \u001B[49m\u001B[43malgo\u001B[49m\u001B[38;5;241;43m=\u001B[39;49m\u001B[43malgo\u001B[49m\u001B[43m,\u001B[49m\n\u001B[0;32m    675\u001B[0m \u001B[43m    \u001B[49m\u001B[43mmax_evals\u001B[49m\u001B[38;5;241;43m=\u001B[39;49m\u001B[43mmax_evals\u001B[49m\u001B[43m,\u001B[49m\n\u001B[0;32m    676\u001B[0m \u001B[43m    \u001B[49m\u001B[43mtimeout\u001B[49m\u001B[38;5;241;43m=\u001B[39;49m\u001B[43mtimeout\u001B[49m\u001B[43m,\u001B[49m\n\u001B[0;32m    677\u001B[0m \u001B[43m    \u001B[49m\u001B[43mloss_threshold\u001B[49m\u001B[38;5;241;43m=\u001B[39;49m\u001B[43mloss_threshold\u001B[49m\u001B[43m,\u001B[49m\n\u001B[0;32m    678\u001B[0m \u001B[43m    \u001B[49m\u001B[43mtrials\u001B[49m\u001B[38;5;241;43m=\u001B[39;49m\u001B[38;5;28;43mself\u001B[39;49m\u001B[43m,\u001B[49m\n\u001B[0;32m    679\u001B[0m \u001B[43m    \u001B[49m\u001B[43mrstate\u001B[49m\u001B[38;5;241;43m=\u001B[39;49m\u001B[43mrstate\u001B[49m\u001B[43m,\u001B[49m\n\u001B[0;32m    680\u001B[0m \u001B[43m    \u001B[49m\u001B[43mverbose\u001B[49m\u001B[38;5;241;43m=\u001B[39;49m\u001B[43mverbose\u001B[49m\u001B[43m,\u001B[49m\n\u001B[0;32m    681\u001B[0m \u001B[43m    \u001B[49m\u001B[43mmax_queue_len\u001B[49m\u001B[38;5;241;43m=\u001B[39;49m\u001B[43mmax_queue_len\u001B[49m\u001B[43m,\u001B[49m\n\u001B[0;32m    682\u001B[0m \u001B[43m    \u001B[49m\u001B[43mallow_trials_fmin\u001B[49m\u001B[38;5;241;43m=\u001B[39;49m\u001B[38;5;28;43;01mFalse\u001B[39;49;00m\u001B[43m,\u001B[49m\u001B[43m  \u001B[49m\u001B[38;5;66;43;03m# -- prevent recursion\u001B[39;49;00m\n\u001B[0;32m    683\u001B[0m \u001B[43m    \u001B[49m\u001B[43mpass_expr_memo_ctrl\u001B[49m\u001B[38;5;241;43m=\u001B[39;49m\u001B[43mpass_expr_memo_ctrl\u001B[49m\u001B[43m,\u001B[49m\n\u001B[0;32m    684\u001B[0m \u001B[43m    \u001B[49m\u001B[43mcatch_eval_exceptions\u001B[49m\u001B[38;5;241;43m=\u001B[39;49m\u001B[43mcatch_eval_exceptions\u001B[49m\u001B[43m,\u001B[49m\n\u001B[0;32m    685\u001B[0m \u001B[43m    \u001B[49m\u001B[43mreturn_argmin\u001B[49m\u001B[38;5;241;43m=\u001B[39;49m\u001B[43mreturn_argmin\u001B[49m\u001B[43m,\u001B[49m\n\u001B[0;32m    686\u001B[0m \u001B[43m    \u001B[49m\u001B[43mshow_progressbar\u001B[49m\u001B[38;5;241;43m=\u001B[39;49m\u001B[43mshow_progressbar\u001B[49m\u001B[43m,\u001B[49m\n\u001B[0;32m    687\u001B[0m \u001B[43m    \u001B[49m\u001B[43mearly_stop_fn\u001B[49m\u001B[38;5;241;43m=\u001B[39;49m\u001B[43mearly_stop_fn\u001B[49m\u001B[43m,\u001B[49m\n\u001B[0;32m    688\u001B[0m \u001B[43m    \u001B[49m\u001B[43mtrials_save_file\u001B[49m\u001B[38;5;241;43m=\u001B[39;49m\u001B[43mtrials_save_file\u001B[49m\u001B[43m,\u001B[49m\n\u001B[0;32m    689\u001B[0m \u001B[43m\u001B[49m\u001B[43m)\u001B[49m\n",
      "File \u001B[1;32m~\\anaconda3\\envs\\training\\lib\\site-packages\\hyperopt\\fmin.py:586\u001B[0m, in \u001B[0;36mfmin\u001B[1;34m(fn, space, algo, max_evals, timeout, loss_threshold, trials, rstate, allow_trials_fmin, pass_expr_memo_ctrl, catch_eval_exceptions, verbose, return_argmin, points_to_evaluate, max_queue_len, show_progressbar, early_stop_fn, trials_save_file)\u001B[0m\n\u001B[0;32m    583\u001B[0m rval\u001B[38;5;241m.\u001B[39mcatch_eval_exceptions \u001B[38;5;241m=\u001B[39m catch_eval_exceptions\n\u001B[0;32m    585\u001B[0m \u001B[38;5;66;03m# next line is where the fmin is actually executed\u001B[39;00m\n\u001B[1;32m--> 586\u001B[0m \u001B[43mrval\u001B[49m\u001B[38;5;241;43m.\u001B[39;49m\u001B[43mexhaust\u001B[49m\u001B[43m(\u001B[49m\u001B[43m)\u001B[49m\n\u001B[0;32m    588\u001B[0m \u001B[38;5;28;01mif\u001B[39;00m return_argmin:\n\u001B[0;32m    589\u001B[0m     \u001B[38;5;28;01mif\u001B[39;00m \u001B[38;5;28mlen\u001B[39m(trials\u001B[38;5;241m.\u001B[39mtrials) \u001B[38;5;241m==\u001B[39m \u001B[38;5;241m0\u001B[39m:\n",
      "File \u001B[1;32m~\\anaconda3\\envs\\training\\lib\\site-packages\\hyperopt\\fmin.py:364\u001B[0m, in \u001B[0;36mFMinIter.exhaust\u001B[1;34m(self)\u001B[0m\n\u001B[0;32m    362\u001B[0m \u001B[38;5;28;01mdef\u001B[39;00m \u001B[38;5;21mexhaust\u001B[39m(\u001B[38;5;28mself\u001B[39m):\n\u001B[0;32m    363\u001B[0m     n_done \u001B[38;5;241m=\u001B[39m \u001B[38;5;28mlen\u001B[39m(\u001B[38;5;28mself\u001B[39m\u001B[38;5;241m.\u001B[39mtrials)\n\u001B[1;32m--> 364\u001B[0m     \u001B[38;5;28;43mself\u001B[39;49m\u001B[38;5;241;43m.\u001B[39;49m\u001B[43mrun\u001B[49m\u001B[43m(\u001B[49m\u001B[38;5;28;43mself\u001B[39;49m\u001B[38;5;241;43m.\u001B[39;49m\u001B[43mmax_evals\u001B[49m\u001B[43m \u001B[49m\u001B[38;5;241;43m-\u001B[39;49m\u001B[43m \u001B[49m\u001B[43mn_done\u001B[49m\u001B[43m,\u001B[49m\u001B[43m \u001B[49m\u001B[43mblock_until_done\u001B[49m\u001B[38;5;241;43m=\u001B[39;49m\u001B[38;5;28;43mself\u001B[39;49m\u001B[38;5;241;43m.\u001B[39;49m\u001B[43masynchronous\u001B[49m\u001B[43m)\u001B[49m\n\u001B[0;32m    365\u001B[0m     \u001B[38;5;28mself\u001B[39m\u001B[38;5;241m.\u001B[39mtrials\u001B[38;5;241m.\u001B[39mrefresh()\n\u001B[0;32m    366\u001B[0m     \u001B[38;5;28;01mreturn\u001B[39;00m \u001B[38;5;28mself\u001B[39m\n",
      "File \u001B[1;32m~\\anaconda3\\envs\\training\\lib\\site-packages\\hyperopt\\fmin.py:300\u001B[0m, in \u001B[0;36mFMinIter.run\u001B[1;34m(self, N, block_until_done)\u001B[0m\n\u001B[0;32m    297\u001B[0m     time\u001B[38;5;241m.\u001B[39msleep(\u001B[38;5;28mself\u001B[39m\u001B[38;5;241m.\u001B[39mpoll_interval_secs)\n\u001B[0;32m    298\u001B[0m \u001B[38;5;28;01melse\u001B[39;00m:\n\u001B[0;32m    299\u001B[0m     \u001B[38;5;66;03m# -- loop over trials and do the jobs directly\u001B[39;00m\n\u001B[1;32m--> 300\u001B[0m     \u001B[38;5;28;43mself\u001B[39;49m\u001B[38;5;241;43m.\u001B[39;49m\u001B[43mserial_evaluate\u001B[49m\u001B[43m(\u001B[49m\u001B[43m)\u001B[49m\n\u001B[0;32m    302\u001B[0m \u001B[38;5;28mself\u001B[39m\u001B[38;5;241m.\u001B[39mtrials\u001B[38;5;241m.\u001B[39mrefresh()\n\u001B[0;32m    303\u001B[0m \u001B[38;5;28;01mif\u001B[39;00m \u001B[38;5;28mself\u001B[39m\u001B[38;5;241m.\u001B[39mtrials_save_file \u001B[38;5;241m!=\u001B[39m \u001B[38;5;124m\"\u001B[39m\u001B[38;5;124m\"\u001B[39m:\n",
      "File \u001B[1;32m~\\anaconda3\\envs\\training\\lib\\site-packages\\hyperopt\\fmin.py:178\u001B[0m, in \u001B[0;36mFMinIter.serial_evaluate\u001B[1;34m(self, N)\u001B[0m\n\u001B[0;32m    176\u001B[0m ctrl \u001B[38;5;241m=\u001B[39m base\u001B[38;5;241m.\u001B[39mCtrl(\u001B[38;5;28mself\u001B[39m\u001B[38;5;241m.\u001B[39mtrials, current_trial\u001B[38;5;241m=\u001B[39mtrial)\n\u001B[0;32m    177\u001B[0m \u001B[38;5;28;01mtry\u001B[39;00m:\n\u001B[1;32m--> 178\u001B[0m     result \u001B[38;5;241m=\u001B[39m \u001B[38;5;28;43mself\u001B[39;49m\u001B[38;5;241;43m.\u001B[39;49m\u001B[43mdomain\u001B[49m\u001B[38;5;241;43m.\u001B[39;49m\u001B[43mevaluate\u001B[49m\u001B[43m(\u001B[49m\u001B[43mspec\u001B[49m\u001B[43m,\u001B[49m\u001B[43m \u001B[49m\u001B[43mctrl\u001B[49m\u001B[43m)\u001B[49m\n\u001B[0;32m    179\u001B[0m \u001B[38;5;28;01mexcept\u001B[39;00m \u001B[38;5;167;01mException\u001B[39;00m \u001B[38;5;28;01mas\u001B[39;00m e:\n\u001B[0;32m    180\u001B[0m     logger\u001B[38;5;241m.\u001B[39merror(\u001B[38;5;124m\"\u001B[39m\u001B[38;5;124mjob exception: \u001B[39m\u001B[38;5;132;01m%s\u001B[39;00m\u001B[38;5;124m\"\u001B[39m \u001B[38;5;241m%\u001B[39m \u001B[38;5;28mstr\u001B[39m(e))\n",
      "File \u001B[1;32m~\\anaconda3\\envs\\training\\lib\\site-packages\\hyperopt\\base.py:892\u001B[0m, in \u001B[0;36mDomain.evaluate\u001B[1;34m(self, config, ctrl, attach_attachments)\u001B[0m\n\u001B[0;32m    883\u001B[0m \u001B[38;5;28;01melse\u001B[39;00m:\n\u001B[0;32m    884\u001B[0m     \u001B[38;5;66;03m# -- the \"work\" of evaluating `config` can be written\u001B[39;00m\n\u001B[0;32m    885\u001B[0m     \u001B[38;5;66;03m#    either into the pyll part (self.expr)\u001B[39;00m\n\u001B[0;32m    886\u001B[0m     \u001B[38;5;66;03m#    or the normal Python part (self.fn)\u001B[39;00m\n\u001B[0;32m    887\u001B[0m     pyll_rval \u001B[38;5;241m=\u001B[39m pyll\u001B[38;5;241m.\u001B[39mrec_eval(\n\u001B[0;32m    888\u001B[0m         \u001B[38;5;28mself\u001B[39m\u001B[38;5;241m.\u001B[39mexpr,\n\u001B[0;32m    889\u001B[0m         memo\u001B[38;5;241m=\u001B[39mmemo,\n\u001B[0;32m    890\u001B[0m         print_node_on_error\u001B[38;5;241m=\u001B[39m\u001B[38;5;28mself\u001B[39m\u001B[38;5;241m.\u001B[39mrec_eval_print_node_on_error,\n\u001B[0;32m    891\u001B[0m     )\n\u001B[1;32m--> 892\u001B[0m     rval \u001B[38;5;241m=\u001B[39m \u001B[38;5;28;43mself\u001B[39;49m\u001B[38;5;241;43m.\u001B[39;49m\u001B[43mfn\u001B[49m\u001B[43m(\u001B[49m\u001B[43mpyll_rval\u001B[49m\u001B[43m)\u001B[49m\n\u001B[0;32m    894\u001B[0m \u001B[38;5;28;01mif\u001B[39;00m \u001B[38;5;28misinstance\u001B[39m(rval, (\u001B[38;5;28mfloat\u001B[39m, \u001B[38;5;28mint\u001B[39m, np\u001B[38;5;241m.\u001B[39mnumber)):\n\u001B[0;32m    895\u001B[0m     dict_rval \u001B[38;5;241m=\u001B[39m {\u001B[38;5;124m\"\u001B[39m\u001B[38;5;124mloss\u001B[39m\u001B[38;5;124m\"\u001B[39m: \u001B[38;5;28mfloat\u001B[39m(rval), \u001B[38;5;124m\"\u001B[39m\u001B[38;5;124mstatus\u001B[39m\u001B[38;5;124m\"\u001B[39m: STATUS_OK}\n",
      "Cell \u001B[1;32mIn[302], line 28\u001B[0m, in \u001B[0;36mobjective\u001B[1;34m(params)\u001B[0m\n\u001B[0;32m     25\u001B[0m esn\u001B[38;5;241m.\u001B[39mfit(data_in, data_out)\n\u001B[0;32m     27\u001B[0m \u001B[38;5;66;03m# Predict the output\u001B[39;00m\n\u001B[1;32m---> 28\u001B[0m y_pred \u001B[38;5;241m=\u001B[39m \u001B[43mesn\u001B[49m\u001B[38;5;241;43m.\u001B[39;49m\u001B[43mforward\u001B[49m\u001B[43m(\u001B[49m\u001B[43mX_test\u001B[49m\u001B[43m)\u001B[49m\n\u001B[0;32m     30\u001B[0m \u001B[38;5;66;03m# Decode the output\u001B[39;00m\n\u001B[0;32m     31\u001B[0m y_pred_decoded \u001B[38;5;241m=\u001B[39m encoder\u001B[38;5;241m.\u001B[39minverse_transform(y_pred)\n",
      "File \u001B[1;32mE:\\PyCharm\\COM6906-Dissertation\\model\\reservoir\\BasicESN.py:74\u001B[0m, in \u001B[0;36mBasicESN.forward\u001B[1;34m(self, x)\u001B[0m\n\u001B[0;32m     71\u001B[0m y \u001B[38;5;241m=\u001B[39m tf\u001B[38;5;241m.\u001B[39mzeros((\u001B[38;5;241m1\u001B[39m, \u001B[38;5;241m1\u001B[39m), dtype\u001B[38;5;241m=\u001B[39mtf\u001B[38;5;241m.\u001B[39mfloat32)\n\u001B[0;32m     73\u001B[0m \u001B[38;5;66;03m# Compute the reservoir state\u001B[39;00m\n\u001B[1;32m---> 74\u001B[0m state \u001B[38;5;241m=\u001B[39m \u001B[38;5;28;43mself\u001B[39;49m\u001B[38;5;241;43m.\u001B[39;49m\u001B[43mcompute_reservoir_state\u001B[49m\u001B[43m(\u001B[49m\u001B[43mx\u001B[49m\u001B[43m)\u001B[49m\n\u001B[0;32m     76\u001B[0m \u001B[38;5;66;03m# Compute the output from the readout layer\u001B[39;00m\n\u001B[0;32m     77\u001B[0m y \u001B[38;5;241m=\u001B[39m \u001B[38;5;28mself\u001B[39m\u001B[38;5;241m.\u001B[39mreadout\u001B[38;5;241m.\u001B[39mpredict(state)\n",
      "File \u001B[1;32mE:\\PyCharm\\COM6906-Dissertation\\model\\reservoir\\BasicESN.py:61\u001B[0m, in \u001B[0;36mBasicESN.compute_reservoir_state\u001B[1;34m(self, x)\u001B[0m\n\u001B[0;32m     59\u001B[0m         \u001B[38;5;28mself\u001B[39m\u001B[38;5;241m.\u001B[39mrecurrent_unit(x, pbar)\n\u001B[0;32m     60\u001B[0m \u001B[38;5;28;01melse\u001B[39;00m:\n\u001B[1;32m---> 61\u001B[0m     \u001B[38;5;28;43mself\u001B[39;49m\u001B[38;5;241;43m.\u001B[39;49m\u001B[43mrecurrent_unit\u001B[49m\u001B[43m(\u001B[49m\u001B[43mx\u001B[49m\u001B[43m)\u001B[49m\n\u001B[0;32m     63\u001B[0m \u001B[38;5;66;03m# Flatten the previous_states list to a 2D array of shape (n_samples, n_neurons)\u001B[39;00m\n\u001B[0;32m     64\u001B[0m \u001B[38;5;28mself\u001B[39m\u001B[38;5;241m.\u001B[39mprevious_states \u001B[38;5;241m=\u001B[39m np\u001B[38;5;241m.\u001B[39marray(\u001B[38;5;28mself\u001B[39m\u001B[38;5;241m.\u001B[39mprevious_states)\n",
      "File \u001B[1;32mE:\\PyCharm\\COM6906-Dissertation\\model\\reservoir\\BasicESN.py:39\u001B[0m, in \u001B[0;36mBasicESN.recurrent_unit\u001B[1;34m(self, x, pbar)\u001B[0m\n\u001B[0;32m     33\u001B[0m state \u001B[38;5;241m=\u001B[39m np\u001B[38;5;241m.\u001B[39mzeros((\u001B[38;5;28mself\u001B[39m\u001B[38;5;241m.\u001B[39mN, \u001B[38;5;241m1\u001B[39m))\n\u001B[0;32m     35\u001B[0m \u001B[38;5;28;01mfor\u001B[39;00m i \u001B[38;5;129;01min\u001B[39;00m \u001B[38;5;28mrange\u001B[39m(x\u001B[38;5;241m.\u001B[39mshape[\u001B[38;5;241m0\u001B[39m]):\n\u001B[0;32m     36\u001B[0m     \u001B[38;5;66;03m# Compute the reservoir state using the equation\u001B[39;00m\n\u001B[0;32m     37\u001B[0m     \u001B[38;5;66;03m# h(t+1) = h(t) * leakage_rate  + (1 - leakage_rate) * tanh((gamma * W_in * x(t)) + (spectral_radius * W_res * h(t)) + bias)\u001B[39;00m\n\u001B[0;32m     38\u001B[0m     non_linear \u001B[38;5;241m=\u001B[39m np\u001B[38;5;241m.\u001B[39mtanh(\n\u001B[1;32m---> 39\u001B[0m         (\u001B[38;5;28mself\u001B[39m\u001B[38;5;241m.\u001B[39mgamma \u001B[38;5;241m*\u001B[39m \u001B[38;5;28mself\u001B[39m\u001B[38;5;241m.\u001B[39mW_in \u001B[38;5;241m@\u001B[39m x[i]\u001B[38;5;241m.\u001B[39mreshape(\u001B[38;5;241m-\u001B[39m\u001B[38;5;241m1\u001B[39m, \u001B[38;5;241m1\u001B[39m)) \u001B[38;5;241m+\u001B[39m (\u001B[38;5;28;43mself\u001B[39;49m\u001B[38;5;241;43m.\u001B[39;49m\u001B[43mspectral_radius\u001B[49m\u001B[43m \u001B[49m\u001B[38;5;241;43m*\u001B[39;49m\u001B[43m \u001B[49m\u001B[38;5;28;43mself\u001B[39;49m\u001B[38;5;241;43m.\u001B[39;49m\u001B[43mW_res\u001B[49m \u001B[38;5;241m@\u001B[39m state))\n\u001B[0;32m     41\u001B[0m     state \u001B[38;5;241m=\u001B[39m (state \u001B[38;5;241m*\u001B[39m \u001B[38;5;28mself\u001B[39m\u001B[38;5;241m.\u001B[39mleakage_rate) \u001B[38;5;241m+\u001B[39m ((\u001B[38;5;241m1\u001B[39m \u001B[38;5;241m-\u001B[39m \u001B[38;5;28mself\u001B[39m\u001B[38;5;241m.\u001B[39mleakage_rate) \u001B[38;5;241m*\u001B[39m non_linear)\n\u001B[0;32m     43\u001B[0m     \u001B[38;5;66;03m# Append the state after ravel\u001B[39;00m\n",
      "\u001B[1;31mKeyboardInterrupt\u001B[0m: "
     ]
    }
   ],
   "execution_count": 302
  }
 ],
 "metadata": {
  "kernelspec": {
   "display_name": "Python 3 (ipykernel)",
   "language": "python",
   "name": "python3"
  },
  "language_info": {
   "codemirror_mode": {
    "name": "ipython",
    "version": 3
   },
   "file_extension": ".py",
   "mimetype": "text/x-python",
   "name": "python",
   "nbconvert_exporter": "python",
   "pygments_lexer": "ipython3",
   "version": "3.8.18"
  }
 },
 "nbformat": 4,
 "nbformat_minor": 5
}
