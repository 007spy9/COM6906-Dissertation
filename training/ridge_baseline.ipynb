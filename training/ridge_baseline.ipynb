{
 "cells": [
  {
   "cell_type": "code",
   "id": "e913d543ef180d0d",
   "metadata": {
    "collapsed": true,
    "ExecuteTime": {
     "end_time": "2024-08-02T13:36:19.871877Z",
     "start_time": "2024-08-02T13:36:19.858787Z"
    }
   },
   "source": [
    "import collections\n",
    "# Prepare paths to local utilities\n",
    "import os\n",
    "import sys\n",
    "\n",
    "import matplotlib\n",
    "import numpy as np\n",
    "import pandas as pd\n",
    "import matplotlib.pyplot as plt"
   ],
   "outputs": [],
   "execution_count": 1
  },
  {
   "metadata": {
    "ExecuteTime": {
     "end_time": "2024-08-02T13:36:19.887907Z",
     "start_time": "2024-08-02T13:36:19.873832Z"
    }
   },
   "cell_type": "code",
   "source": [
    "is_kaggle = (os.environ.get(\"PWD\", \"\") == \"/kaggle/working\")\n",
    "print(f\"Are we running in Kaggle? {is_kaggle}\")"
   ],
   "id": "77b386a1e2d480db",
   "outputs": [
    {
     "name": "stdout",
     "output_type": "stream",
     "text": [
      "Are we running in Kaggle? False\n"
     ]
    }
   ],
   "execution_count": 2
  },
  {
   "metadata": {
    "ExecuteTime": {
     "end_time": "2024-08-02T13:36:40.483223Z",
     "start_time": "2024-08-02T13:36:19.891910Z"
    }
   },
   "cell_type": "code",
   "source": [
    "if not is_kaggle:\n",
    "    models_path = os.path.abspath(os.path.join('..', 'model'))\n",
    "    utils_path = os.path.abspath(os.path.join('..', 'util'))\n",
    "    sys.path.append(models_path)\n",
    "    sys.path.append(utils_path)\n",
    "\n",
    "    %load_ext autoreload\n",
    "    %autoreload 2\n",
    "\n",
    "    from download.DataDownloader import DataDownloader\n",
    "    from collect.DataframeCollector import DataframeCollector\n",
    "    from collect.TestSetSplitter import TestSetSplitter\n",
    "    from collect.BinnedTestSetSplitter import BinnedTestSetSplitter\n",
    "    from reservoir.BasicESNCuda import BasicESNCuda as BasicESN\n",
    "    from reservoir.ESNUtil import generate_input_weights\n",
    "\n",
    "else:\n",
    "    from datadownloader.datadownloader import DataDownloader\n",
    "    from dataframecollector.dataframecollector import DataframeCollector\n",
    "    from testsetsplitter.testsetsplitter import TestSetSplitter\n",
    "    from binnedtestsetsplitter.binnedtestsetsplitter import BinnedTestSetSplitter\n",
    "    from basicesncuda.basicesncuda import BasicESNCuda as BasicESN\n",
    "    from esnutil.esnutil import generate_input_weights"
   ],
   "id": "fdeb956101d1e77a",
   "outputs": [],
   "execution_count": 3
  },
  {
   "metadata": {
    "ExecuteTime": {
     "end_time": "2024-08-02T13:36:41.316448Z",
     "start_time": "2024-08-02T13:36:40.486150Z"
    }
   },
   "cell_type": "code",
   "source": [
    "import joblib\n",
    "from joblib import Parallel, delayed\n",
    "from tqdm import tqdm\n",
    "import contextlib"
   ],
   "id": "9fd5ef876feb9d07",
   "outputs": [],
   "execution_count": 4
  },
  {
   "metadata": {
    "ExecuteTime": {
     "end_time": "2024-08-02T13:36:42.138341Z",
     "start_time": "2024-08-02T13:36:41.317538Z"
    }
   },
   "cell_type": "code",
   "source": [
    "@contextlib.contextmanager\n",
    "def tqdm_joblib(tqdm_object):\n",
    "    '''\n",
    "    Context manager to patch joblib to report into tqdm progress bar given as argument\n",
    "    :param tqdm_object: The tqdm progress bar\n",
    "    '''\n",
    "\n",
    "    class TqdmBatchCompletionCallback(joblib.parallel.BatchCompletionCallBack):\n",
    "\n",
    "        def __call__(self, *args, **kwargs):\n",
    "            tqdm_object.update(n=self.batch_size)\n",
    "            return super().__call__(*args, **kwargs)\n",
    "\n",
    "    old_batch_callback = joblib.parallel.BatchCompletionCallBack\n",
    "    joblib.parallel.BatchCompletionCallBack = TqdmBatchCompletionCallback\n",
    "\n",
    "    try:\n",
    "        yield tqdm_object\n",
    "    finally:\n",
    "        joblib.parallel.BatchCompletionCallBack = old_batch_callback\n",
    "        tqdm_object.close()\n"
   ],
   "id": "446b93c33cf5e15d",
   "outputs": [],
   "execution_count": 5
  },
  {
   "metadata": {
    "ExecuteTime": {
     "end_time": "2024-08-02T13:36:44.001861Z",
     "start_time": "2024-08-02T13:36:42.139585Z"
    }
   },
   "cell_type": "code",
   "source": [
    "if is_kaggle:\n",
    "    data_path = '/kaggle/input/har70'\n",
    "else:\n",
    "    data_path = os.path.abspath(os.path.join('..', 'data'))"
   ],
   "id": "343efe0e83a35caf",
   "outputs": [],
   "execution_count": 6
  },
  {
   "metadata": {
    "ExecuteTime": {
     "end_time": "2024-08-02T13:36:44.947303Z",
     "start_time": "2024-08-02T13:36:44.003864Z"
    }
   },
   "cell_type": "code",
   "source": [
    "if not is_kaggle:\n",
    "    # Download data\n",
    "    downloader = DataDownloader()\n",
    "    downloader.download_data('har70plus', data_path)"
   ],
   "id": "16e1422c97638c3",
   "outputs": [
    {
     "name": "stdout",
     "output_type": "stream",
     "text": [
      "Dataset already downloaded\n"
     ]
    }
   ],
   "execution_count": 7
  },
  {
   "metadata": {
    "ExecuteTime": {
     "end_time": "2024-08-02T13:36:49.207864Z",
     "start_time": "2024-08-02T13:36:44.951306Z"
    }
   },
   "cell_type": "code",
   "source": [
    "# Collect data into dataframes\n",
    "collector = DataframeCollector()\n",
    "collector.load_full_dataset(data_path + '/har70plus')"
   ],
   "id": "initial_id",
   "outputs": [
    {
     "name": "stdout",
     "output_type": "stream",
     "text": [
      "Discovered  18  csv files in  D:\\Pycharm\\COM6906-Dissertation\\data/har70plus\n",
      "Loading the csv files into dataframes\n",
      "Loaded  18  dataframes\n",
      "Concatenating the dataframes\n"
     ]
    },
    {
     "data": {
      "text/plain": [
       "                       timestamp    back_x    back_y    back_z   thigh_x  \\\n",
       "0        2021-03-24 14:42:03.839 -0.999023 -0.063477  0.140625 -0.980469   \n",
       "1        2021-03-24 14:42:03.859 -0.980225 -0.079346  0.140625 -0.961182   \n",
       "2        2021-03-24 14:42:03.880 -0.950195 -0.076416  0.140625 -0.949463   \n",
       "3        2021-03-24 14:42:03.900 -0.954834 -0.059082  0.140381 -0.957520   \n",
       "4        2021-03-24 14:42:03.920 -0.972412 -0.042969  0.142822 -0.977051   \n",
       "...                          ...       ...       ...       ...       ...   \n",
       "2259592  2021-06-11 11:13:14.098 -0.960693 -0.199951 -0.330566 -0.977051   \n",
       "2259593  2021-06-11 11:13:14.118 -0.942627 -0.210205 -0.331543 -0.969482   \n",
       "2259594  2021-06-11 11:13:14.138 -0.907227 -0.190918 -0.320312 -1.048096   \n",
       "2259595  2021-06-11 11:13:14.159 -0.883057 -0.156982 -0.311279 -1.007080   \n",
       "2259596  2021-06-11 11:13:14.178 -0.877197 -0.128418 -0.315186 -0.995361   \n",
       "\n",
       "          thigh_y   thigh_z  label  record_num  \n",
       "0       -0.112061 -0.048096      6           0  \n",
       "1       -0.121582 -0.051758      6           1  \n",
       "2       -0.080566 -0.067139      6           2  \n",
       "3       -0.046143 -0.050781      6           3  \n",
       "4       -0.023682 -0.026611      6           4  \n",
       "...           ...       ...    ...         ...  \n",
       "2259592  0.006104 -0.246826      1     2259592  \n",
       "2259593  0.004883 -0.231445      1     2259593  \n",
       "2259594  0.067627 -0.234375      1     2259594  \n",
       "2259595  0.063965 -0.248047      1     2259595  \n",
       "2259596  0.083496 -0.232178      1     2259596  \n",
       "\n",
       "[2259597 rows x 9 columns]"
      ],
      "text/html": [
       "<div>\n",
       "<style scoped>\n",
       "    .dataframe tbody tr th:only-of-type {\n",
       "        vertical-align: middle;\n",
       "    }\n",
       "\n",
       "    .dataframe tbody tr th {\n",
       "        vertical-align: top;\n",
       "    }\n",
       "\n",
       "    .dataframe thead th {\n",
       "        text-align: right;\n",
       "    }\n",
       "</style>\n",
       "<table border=\"1\" class=\"dataframe\">\n",
       "  <thead>\n",
       "    <tr style=\"text-align: right;\">\n",
       "      <th></th>\n",
       "      <th>timestamp</th>\n",
       "      <th>back_x</th>\n",
       "      <th>back_y</th>\n",
       "      <th>back_z</th>\n",
       "      <th>thigh_x</th>\n",
       "      <th>thigh_y</th>\n",
       "      <th>thigh_z</th>\n",
       "      <th>label</th>\n",
       "      <th>record_num</th>\n",
       "    </tr>\n",
       "  </thead>\n",
       "  <tbody>\n",
       "    <tr>\n",
       "      <th>0</th>\n",
       "      <td>2021-03-24 14:42:03.839</td>\n",
       "      <td>-0.999023</td>\n",
       "      <td>-0.063477</td>\n",
       "      <td>0.140625</td>\n",
       "      <td>-0.980469</td>\n",
       "      <td>-0.112061</td>\n",
       "      <td>-0.048096</td>\n",
       "      <td>6</td>\n",
       "      <td>0</td>\n",
       "    </tr>\n",
       "    <tr>\n",
       "      <th>1</th>\n",
       "      <td>2021-03-24 14:42:03.859</td>\n",
       "      <td>-0.980225</td>\n",
       "      <td>-0.079346</td>\n",
       "      <td>0.140625</td>\n",
       "      <td>-0.961182</td>\n",
       "      <td>-0.121582</td>\n",
       "      <td>-0.051758</td>\n",
       "      <td>6</td>\n",
       "      <td>1</td>\n",
       "    </tr>\n",
       "    <tr>\n",
       "      <th>2</th>\n",
       "      <td>2021-03-24 14:42:03.880</td>\n",
       "      <td>-0.950195</td>\n",
       "      <td>-0.076416</td>\n",
       "      <td>0.140625</td>\n",
       "      <td>-0.949463</td>\n",
       "      <td>-0.080566</td>\n",
       "      <td>-0.067139</td>\n",
       "      <td>6</td>\n",
       "      <td>2</td>\n",
       "    </tr>\n",
       "    <tr>\n",
       "      <th>3</th>\n",
       "      <td>2021-03-24 14:42:03.900</td>\n",
       "      <td>-0.954834</td>\n",
       "      <td>-0.059082</td>\n",
       "      <td>0.140381</td>\n",
       "      <td>-0.957520</td>\n",
       "      <td>-0.046143</td>\n",
       "      <td>-0.050781</td>\n",
       "      <td>6</td>\n",
       "      <td>3</td>\n",
       "    </tr>\n",
       "    <tr>\n",
       "      <th>4</th>\n",
       "      <td>2021-03-24 14:42:03.920</td>\n",
       "      <td>-0.972412</td>\n",
       "      <td>-0.042969</td>\n",
       "      <td>0.142822</td>\n",
       "      <td>-0.977051</td>\n",
       "      <td>-0.023682</td>\n",
       "      <td>-0.026611</td>\n",
       "      <td>6</td>\n",
       "      <td>4</td>\n",
       "    </tr>\n",
       "    <tr>\n",
       "      <th>...</th>\n",
       "      <td>...</td>\n",
       "      <td>...</td>\n",
       "      <td>...</td>\n",
       "      <td>...</td>\n",
       "      <td>...</td>\n",
       "      <td>...</td>\n",
       "      <td>...</td>\n",
       "      <td>...</td>\n",
       "      <td>...</td>\n",
       "    </tr>\n",
       "    <tr>\n",
       "      <th>2259592</th>\n",
       "      <td>2021-06-11 11:13:14.098</td>\n",
       "      <td>-0.960693</td>\n",
       "      <td>-0.199951</td>\n",
       "      <td>-0.330566</td>\n",
       "      <td>-0.977051</td>\n",
       "      <td>0.006104</td>\n",
       "      <td>-0.246826</td>\n",
       "      <td>1</td>\n",
       "      <td>2259592</td>\n",
       "    </tr>\n",
       "    <tr>\n",
       "      <th>2259593</th>\n",
       "      <td>2021-06-11 11:13:14.118</td>\n",
       "      <td>-0.942627</td>\n",
       "      <td>-0.210205</td>\n",
       "      <td>-0.331543</td>\n",
       "      <td>-0.969482</td>\n",
       "      <td>0.004883</td>\n",
       "      <td>-0.231445</td>\n",
       "      <td>1</td>\n",
       "      <td>2259593</td>\n",
       "    </tr>\n",
       "    <tr>\n",
       "      <th>2259594</th>\n",
       "      <td>2021-06-11 11:13:14.138</td>\n",
       "      <td>-0.907227</td>\n",
       "      <td>-0.190918</td>\n",
       "      <td>-0.320312</td>\n",
       "      <td>-1.048096</td>\n",
       "      <td>0.067627</td>\n",
       "      <td>-0.234375</td>\n",
       "      <td>1</td>\n",
       "      <td>2259594</td>\n",
       "    </tr>\n",
       "    <tr>\n",
       "      <th>2259595</th>\n",
       "      <td>2021-06-11 11:13:14.159</td>\n",
       "      <td>-0.883057</td>\n",
       "      <td>-0.156982</td>\n",
       "      <td>-0.311279</td>\n",
       "      <td>-1.007080</td>\n",
       "      <td>0.063965</td>\n",
       "      <td>-0.248047</td>\n",
       "      <td>1</td>\n",
       "      <td>2259595</td>\n",
       "    </tr>\n",
       "    <tr>\n",
       "      <th>2259596</th>\n",
       "      <td>2021-06-11 11:13:14.178</td>\n",
       "      <td>-0.877197</td>\n",
       "      <td>-0.128418</td>\n",
       "      <td>-0.315186</td>\n",
       "      <td>-0.995361</td>\n",
       "      <td>0.083496</td>\n",
       "      <td>-0.232178</td>\n",
       "      <td>1</td>\n",
       "      <td>2259596</td>\n",
       "    </tr>\n",
       "  </tbody>\n",
       "</table>\n",
       "<p>2259597 rows × 9 columns</p>\n",
       "</div>"
      ]
     },
     "execution_count": 8,
     "metadata": {},
     "output_type": "execute_result"
    }
   ],
   "execution_count": 8
  },
  {
   "metadata": {
    "ExecuteTime": {
     "end_time": "2024-08-02T13:36:49.223372Z",
     "start_time": "2024-08-02T13:36:49.209836Z"
    }
   },
   "cell_type": "code",
   "source": [
    "# Split data into training and testing sets\n",
    "splitter = TestSetSplitter()\n",
    "\n"
   ],
   "id": "557e9e452caaeddf",
   "outputs": [],
   "execution_count": 8
  }
 ],
 "metadata": {
  "kernelspec": {
   "display_name": "Python 3",
   "language": "python",
   "name": "python3"
  },
  "language_info": {
   "codemirror_mode": {
    "name": "ipython",
    "version": 2
   },
   "file_extension": ".py",
   "mimetype": "text/x-python",
   "name": "python",
   "nbconvert_exporter": "python",
   "pygments_lexer": "ipython2",
   "version": "2.7.6"
  }
 },
 "nbformat": 4,
 "nbformat_minor": 5
}
