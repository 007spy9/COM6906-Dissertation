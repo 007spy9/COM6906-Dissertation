{
 "cells": [
  {
   "cell_type": "code",
   "id": "fd1d53da23bba2ab",
   "metadata": {
    "collapsed": true,
    "ExecuteTime": {
     "end_time": "2024-07-08T19:22:33.015579Z",
     "start_time": "2024-07-08T19:22:30.607416Z"
    }
   },
   "source": [
    "# Prepare paths to local utilities\n",
    "import os\n",
    "import sys\n",
    "\n",
    "import matplotlib\n",
    "import numpy as np\n",
    "import pandas as pd\n",
    "import matplotlib.pyplot as plt\n",
    "import tensorflow as tf\n",
    "import keras"
   ],
   "outputs": [],
   "execution_count": 8
  },
  {
   "metadata": {
    "ExecuteTime": {
     "end_time": "2024-07-08T19:22:34.706114Z",
     "start_time": "2024-07-08T19:22:33.017606Z"
    }
   },
   "cell_type": "code",
   "source": [
    "\n",
    "utils_path = os.path.abspath(os.path.join('..', 'model'))\n",
    "sys.path.append(utils_path)\n",
    "\n",
    "%load_ext autoreload\n",
    "%autoreload 2"
   ],
   "id": "initial_id",
   "outputs": [
    {
     "name": "stdout",
     "output_type": "stream",
     "text": [
      "The autoreload extension is already loaded. To reload it, use:\n",
      "  %reload_ext autoreload\n"
     ]
    }
   ],
   "execution_count": 9
  },
  {
   "metadata": {
    "ExecuteTime": {
     "end_time": "2024-07-08T19:22:35.326013Z",
     "start_time": "2024-07-08T19:22:34.708090Z"
    }
   },
   "cell_type": "code",
   "source": "from reservoir.BasicESN import BasicESN\n",
   "id": "3d2e02475d5b1c38",
   "outputs": [],
   "execution_count": 10
  },
  {
   "metadata": {
    "ExecuteTime": {
     "end_time": "2024-07-08T19:22:36.132685Z",
     "start_time": "2024-07-08T19:22:35.328014Z"
    }
   },
   "cell_type": "code",
   "source": [
    "from tensorflow.keras.datasets import mnist\n",
    "(x_train, y_train), (x_test, y_test) = mnist.load_data()"
   ],
   "id": "2b84cb72eb1ac524",
   "outputs": [],
   "execution_count": 11
  },
  {
   "metadata": {
    "ExecuteTime": {
     "end_time": "2024-07-08T19:22:37.817689Z",
     "start_time": "2024-07-08T19:22:36.134577Z"
    }
   },
   "cell_type": "code",
   "source": [
    "# Reshape the data into 1D arrays\n",
    "x_train = x_train.reshape(x_train.shape[0], -1)\n",
    "x_test = x_test.reshape(x_test.shape[0], -1)"
   ],
   "id": "9b508552d9ebebf2",
   "outputs": [],
   "execution_count": 12
  },
  {
   "metadata": {
    "ExecuteTime": {
     "end_time": "2024-07-08T19:22:38.451364Z",
     "start_time": "2024-07-08T19:22:37.818697Z"
    }
   },
   "cell_type": "code",
   "source": [
    "W_in = np.random.randn(np.shape(x_train)[1], 100)\n",
    "print(W_in.shape)"
   ],
   "id": "b1d03ee3a2f67e52",
   "outputs": [
    {
     "name": "stdout",
     "output_type": "stream",
     "text": [
      "(784, 100)\n"
     ]
    }
   ],
   "execution_count": 13
  },
  {
   "metadata": {
    "ExecuteTime": {
     "end_time": "2024-07-08T19:22:39.087636Z",
     "start_time": "2024-07-08T19:22:38.453365Z"
    }
   },
   "cell_type": "code",
   "source": "esn = BasicESN(input_size=784, reservoir_size=100, output_size=10, spectral_radius=0.9, leakage_rate=0.3)\n",
   "id": "ab02690f3cbc8fa",
   "outputs": [],
   "execution_count": 14
  },
  {
   "metadata": {
    "ExecuteTime": {
     "end_time": "2024-07-08T19:22:39.103165Z",
     "start_time": "2024-07-08T19:22:39.090138Z"
    }
   },
   "cell_type": "code",
   "source": "",
   "id": "9bc775550541ca6f",
   "outputs": [],
   "execution_count": 14
  }
 ],
 "metadata": {
  "kernelspec": {
   "display_name": "Python 3",
   "language": "python",
   "name": "python3"
  },
  "language_info": {
   "codemirror_mode": {
    "name": "ipython",
    "version": 2
   },
   "file_extension": ".py",
   "mimetype": "text/x-python",
   "name": "python",
   "nbconvert_exporter": "python",
   "pygments_lexer": "ipython2",
   "version": "2.7.6"
  }
 },
 "nbformat": 4,
 "nbformat_minor": 5
}
