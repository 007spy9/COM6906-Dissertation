{
 "cells": [
  {
   "cell_type": "code",
   "id": "5e906190049577ae",
   "metadata": {
    "collapsed": true,
    "jupyter": {
     "outputs_hidden": true
    },
    "ExecuteTime": {
     "end_time": "2024-07-26T11:22:05.052166Z",
     "start_time": "2024-07-26T11:22:05.038135Z"
    }
   },
   "source": [
    "import collections\n",
    "# Prepare paths to local utilities\n",
    "import os\n",
    "import sys\n",
    "\n",
    "import matplotlib\n",
    "import numpy as np\n",
    "import pandas as pd\n",
    "import matplotlib.pyplot as plt"
   ],
   "outputs": [],
   "execution_count": 1
  },
  {
   "metadata": {
    "ExecuteTime": {
     "end_time": "2024-07-26T11:22:05.068163Z",
     "start_time": "2024-07-26T11:22:05.054132Z"
    }
   },
   "cell_type": "code",
   "source": [
    "is_kaggle = (os.environ.get(\"PWD\", \"\") == \"/kaggle/working\")\n",
    "print(f\"Are we running in Kaggle? {is_kaggle}\")"
   ],
   "id": "a0937184d362b384",
   "outputs": [
    {
     "name": "stdout",
     "output_type": "stream",
     "text": [
      "Are we running in Kaggle? False\n"
     ]
    }
   ],
   "execution_count": 2
  },
  {
   "cell_type": "code",
   "id": "ee5051c4ff4ec4c3",
   "metadata": {
    "ExecuteTime": {
     "end_time": "2024-07-26T11:22:26.651799Z",
     "start_time": "2024-07-26T11:22:05.070136Z"
    }
   },
   "source": [
    "if not is_kaggle:\n",
    "    models_path = os.path.abspath(os.path.join('..', 'model'))\n",
    "    utils_path = os.path.abspath(os.path.join('..', 'util'))\n",
    "    sys.path.append(models_path)\n",
    "    sys.path.append(utils_path)\n",
    "\n",
    "    %load_ext autoreload\n",
    "    %autoreload 2\n",
    "\n",
    "    from download.DataDownloader import DataDownloader\n",
    "    from collect.DataframeCollector import DataframeCollector\n",
    "    from collect.TestSetSplitter import TestSetSplitter\n",
    "    from collect.BinnedTestSetSplitter import BinnedTestSetSplitter\n",
    "    from reservoir.BasicESNCuda import BasicESNCuda as BasicESN\n",
    "    from reservoir.ESNUtil import generate_input_weights\n",
    "\n",
    "else:\n",
    "    from datadownloader.datadownloader import DataDownloader\n",
    "    from dataframecollector.dataframecollector import DataframeCollector\n",
    "    from testsetsplitter.testsetsplitter import TestSetSplitter\n",
    "    from binnedtestsetsplitter.binnedtestsetsplitter import BinnedTestSetSplitter\n",
    "    from basicesncuda.basicesncuda import BasicESNCuda as BasicESN\n",
    "    from esnutil.esnutil import generate_input_weights"
   ],
   "outputs": [],
   "execution_count": 3
  },
  {
   "metadata": {
    "ExecuteTime": {
     "end_time": "2024-07-26T11:22:27.488362Z",
     "start_time": "2024-07-26T11:22:26.655785Z"
    }
   },
   "cell_type": "code",
   "source": [
    "import joblib\n",
    "from joblib import Parallel, delayed\n",
    "from tqdm import tqdm\n",
    "import contextlib\n",
    "\n",
    "@contextlib.contextmanager\n",
    "def tqdm_joblib(tqdm_object):\n",
    "    '''\n",
    "    Context manager to patch joblib to report into tqdm progress bar given as argument\n",
    "    :param tqdm_object: The tqdm progress bar\n",
    "    '''\n",
    "    class TqdmBatchCompletionCallback(joblib.parallel.BatchCompletionCallBack):\n",
    "\n",
    "        def __call__(self, *args, **kwargs):\n",
    "            tqdm_object.update(n=self.batch_size)\n",
    "            return super().__call__(*args, **kwargs)\n",
    "\n",
    "    old_batch_callback = joblib.parallel.BatchCompletionCallBack\n",
    "    joblib.parallel.BatchCompletionCallBack = TqdmBatchCompletionCallback\n",
    "\n",
    "    try:\n",
    "        yield tqdm_object\n",
    "    finally:\n",
    "        joblib.parallel.BatchCompletionCallBack = old_batch_callback\n",
    "        tqdm_object.close()"
   ],
   "id": "93d688dede7ba64",
   "outputs": [],
   "execution_count": 4
  },
  {
   "cell_type": "code",
   "id": "fe8df007280f955c",
   "metadata": {
    "ExecuteTime": {
     "end_time": "2024-07-26T11:22:28.319433Z",
     "start_time": "2024-07-26T11:22:27.489854Z"
    }
   },
   "source": [
    "if is_kaggle:\n",
    "    data_path = '/kaggle/input/har70'\n",
    "else:\n",
    "    data_path = os.path.abspath(os.path.join('..', 'data'))"
   ],
   "outputs": [],
   "execution_count": 5
  },
  {
   "cell_type": "code",
   "id": "d52bf14d95afdc74",
   "metadata": {
    "ExecuteTime": {
     "end_time": "2024-07-26T11:22:29.327122Z",
     "start_time": "2024-07-26T11:22:28.322445Z"
    }
   },
   "source": [
    "if not is_kaggle:\n",
    "    # Download data\n",
    "    downloader = DataDownloader()\n",
    "    downloader.download_data('har70plus', data_path)"
   ],
   "outputs": [
    {
     "name": "stdout",
     "output_type": "stream",
     "text": [
      "Dataset already downloaded\n"
     ]
    }
   ],
   "execution_count": 6
  },
  {
   "cell_type": "code",
   "id": "939134ebf0819fe2",
   "metadata": {
    "ExecuteTime": {
     "end_time": "2024-07-26T11:22:34.963043Z",
     "start_time": "2024-07-26T11:22:29.331115Z"
    }
   },
   "source": [
    "# Collect data into dataframes\n",
    "collector = DataframeCollector()\n",
    "collector.load_full_dataset(data_path + '/har70plus')"
   ],
   "outputs": [
    {
     "name": "stdout",
     "output_type": "stream",
     "text": [
      "Discovered  18  csv files in  D:\\Pycharm\\COM6906-Dissertation\\data/har70plus\n",
      "Loading the csv files into dataframes\n",
      "Loaded  18  dataframes\n",
      "Concatenating the dataframes\n"
     ]
    },
    {
     "data": {
      "text/plain": [
       "                       timestamp    back_x    back_y    back_z   thigh_x  \\\n",
       "0        2021-03-24 14:42:03.839 -0.999023 -0.063477  0.140625 -0.980469   \n",
       "1        2021-03-24 14:42:03.859 -0.980225 -0.079346  0.140625 -0.961182   \n",
       "2        2021-03-24 14:42:03.880 -0.950195 -0.076416  0.140625 -0.949463   \n",
       "3        2021-03-24 14:42:03.900 -0.954834 -0.059082  0.140381 -0.957520   \n",
       "4        2021-03-24 14:42:03.920 -0.972412 -0.042969  0.142822 -0.977051   \n",
       "...                          ...       ...       ...       ...       ...   \n",
       "2259592  2021-06-11 11:13:14.098 -0.960693 -0.199951 -0.330566 -0.977051   \n",
       "2259593  2021-06-11 11:13:14.118 -0.942627 -0.210205 -0.331543 -0.969482   \n",
       "2259594  2021-06-11 11:13:14.138 -0.907227 -0.190918 -0.320312 -1.048096   \n",
       "2259595  2021-06-11 11:13:14.159 -0.883057 -0.156982 -0.311279 -1.007080   \n",
       "2259596  2021-06-11 11:13:14.178 -0.877197 -0.128418 -0.315186 -0.995361   \n",
       "\n",
       "          thigh_y   thigh_z  label  record_num  \n",
       "0       -0.112061 -0.048096      6           0  \n",
       "1       -0.121582 -0.051758      6           1  \n",
       "2       -0.080566 -0.067139      6           2  \n",
       "3       -0.046143 -0.050781      6           3  \n",
       "4       -0.023682 -0.026611      6           4  \n",
       "...           ...       ...    ...         ...  \n",
       "2259592  0.006104 -0.246826      1     2259592  \n",
       "2259593  0.004883 -0.231445      1     2259593  \n",
       "2259594  0.067627 -0.234375      1     2259594  \n",
       "2259595  0.063965 -0.248047      1     2259595  \n",
       "2259596  0.083496 -0.232178      1     2259596  \n",
       "\n",
       "[2259597 rows x 9 columns]"
      ],
      "text/html": [
       "<div>\n",
       "<style scoped>\n",
       "    .dataframe tbody tr th:only-of-type {\n",
       "        vertical-align: middle;\n",
       "    }\n",
       "\n",
       "    .dataframe tbody tr th {\n",
       "        vertical-align: top;\n",
       "    }\n",
       "\n",
       "    .dataframe thead th {\n",
       "        text-align: right;\n",
       "    }\n",
       "</style>\n",
       "<table border=\"1\" class=\"dataframe\">\n",
       "  <thead>\n",
       "    <tr style=\"text-align: right;\">\n",
       "      <th></th>\n",
       "      <th>timestamp</th>\n",
       "      <th>back_x</th>\n",
       "      <th>back_y</th>\n",
       "      <th>back_z</th>\n",
       "      <th>thigh_x</th>\n",
       "      <th>thigh_y</th>\n",
       "      <th>thigh_z</th>\n",
       "      <th>label</th>\n",
       "      <th>record_num</th>\n",
       "    </tr>\n",
       "  </thead>\n",
       "  <tbody>\n",
       "    <tr>\n",
       "      <th>0</th>\n",
       "      <td>2021-03-24 14:42:03.839</td>\n",
       "      <td>-0.999023</td>\n",
       "      <td>-0.063477</td>\n",
       "      <td>0.140625</td>\n",
       "      <td>-0.980469</td>\n",
       "      <td>-0.112061</td>\n",
       "      <td>-0.048096</td>\n",
       "      <td>6</td>\n",
       "      <td>0</td>\n",
       "    </tr>\n",
       "    <tr>\n",
       "      <th>1</th>\n",
       "      <td>2021-03-24 14:42:03.859</td>\n",
       "      <td>-0.980225</td>\n",
       "      <td>-0.079346</td>\n",
       "      <td>0.140625</td>\n",
       "      <td>-0.961182</td>\n",
       "      <td>-0.121582</td>\n",
       "      <td>-0.051758</td>\n",
       "      <td>6</td>\n",
       "      <td>1</td>\n",
       "    </tr>\n",
       "    <tr>\n",
       "      <th>2</th>\n",
       "      <td>2021-03-24 14:42:03.880</td>\n",
       "      <td>-0.950195</td>\n",
       "      <td>-0.076416</td>\n",
       "      <td>0.140625</td>\n",
       "      <td>-0.949463</td>\n",
       "      <td>-0.080566</td>\n",
       "      <td>-0.067139</td>\n",
       "      <td>6</td>\n",
       "      <td>2</td>\n",
       "    </tr>\n",
       "    <tr>\n",
       "      <th>3</th>\n",
       "      <td>2021-03-24 14:42:03.900</td>\n",
       "      <td>-0.954834</td>\n",
       "      <td>-0.059082</td>\n",
       "      <td>0.140381</td>\n",
       "      <td>-0.957520</td>\n",
       "      <td>-0.046143</td>\n",
       "      <td>-0.050781</td>\n",
       "      <td>6</td>\n",
       "      <td>3</td>\n",
       "    </tr>\n",
       "    <tr>\n",
       "      <th>4</th>\n",
       "      <td>2021-03-24 14:42:03.920</td>\n",
       "      <td>-0.972412</td>\n",
       "      <td>-0.042969</td>\n",
       "      <td>0.142822</td>\n",
       "      <td>-0.977051</td>\n",
       "      <td>-0.023682</td>\n",
       "      <td>-0.026611</td>\n",
       "      <td>6</td>\n",
       "      <td>4</td>\n",
       "    </tr>\n",
       "    <tr>\n",
       "      <th>...</th>\n",
       "      <td>...</td>\n",
       "      <td>...</td>\n",
       "      <td>...</td>\n",
       "      <td>...</td>\n",
       "      <td>...</td>\n",
       "      <td>...</td>\n",
       "      <td>...</td>\n",
       "      <td>...</td>\n",
       "      <td>...</td>\n",
       "    </tr>\n",
       "    <tr>\n",
       "      <th>2259592</th>\n",
       "      <td>2021-06-11 11:13:14.098</td>\n",
       "      <td>-0.960693</td>\n",
       "      <td>-0.199951</td>\n",
       "      <td>-0.330566</td>\n",
       "      <td>-0.977051</td>\n",
       "      <td>0.006104</td>\n",
       "      <td>-0.246826</td>\n",
       "      <td>1</td>\n",
       "      <td>2259592</td>\n",
       "    </tr>\n",
       "    <tr>\n",
       "      <th>2259593</th>\n",
       "      <td>2021-06-11 11:13:14.118</td>\n",
       "      <td>-0.942627</td>\n",
       "      <td>-0.210205</td>\n",
       "      <td>-0.331543</td>\n",
       "      <td>-0.969482</td>\n",
       "      <td>0.004883</td>\n",
       "      <td>-0.231445</td>\n",
       "      <td>1</td>\n",
       "      <td>2259593</td>\n",
       "    </tr>\n",
       "    <tr>\n",
       "      <th>2259594</th>\n",
       "      <td>2021-06-11 11:13:14.138</td>\n",
       "      <td>-0.907227</td>\n",
       "      <td>-0.190918</td>\n",
       "      <td>-0.320312</td>\n",
       "      <td>-1.048096</td>\n",
       "      <td>0.067627</td>\n",
       "      <td>-0.234375</td>\n",
       "      <td>1</td>\n",
       "      <td>2259594</td>\n",
       "    </tr>\n",
       "    <tr>\n",
       "      <th>2259595</th>\n",
       "      <td>2021-06-11 11:13:14.159</td>\n",
       "      <td>-0.883057</td>\n",
       "      <td>-0.156982</td>\n",
       "      <td>-0.311279</td>\n",
       "      <td>-1.007080</td>\n",
       "      <td>0.063965</td>\n",
       "      <td>-0.248047</td>\n",
       "      <td>1</td>\n",
       "      <td>2259595</td>\n",
       "    </tr>\n",
       "    <tr>\n",
       "      <th>2259596</th>\n",
       "      <td>2021-06-11 11:13:14.178</td>\n",
       "      <td>-0.877197</td>\n",
       "      <td>-0.128418</td>\n",
       "      <td>-0.315186</td>\n",
       "      <td>-0.995361</td>\n",
       "      <td>0.083496</td>\n",
       "      <td>-0.232178</td>\n",
       "      <td>1</td>\n",
       "      <td>2259596</td>\n",
       "    </tr>\n",
       "  </tbody>\n",
       "</table>\n",
       "<p>2259597 rows × 9 columns</p>\n",
       "</div>"
      ]
     },
     "execution_count": 7,
     "metadata": {},
     "output_type": "execute_result"
    }
   ],
   "execution_count": 7
  },
  {
   "cell_type": "code",
   "id": "80642e06b6ed24b9",
   "metadata": {
    "ExecuteTime": {
     "end_time": "2024-07-26T11:22:38.996894Z",
     "start_time": "2024-07-26T11:22:34.967011Z"
    }
   },
   "source": [
    "# The collector provides one large dataframe with all the data concatenated, and also an array of dataframes, one for each subject\n",
    "dataframes = collector.get_dataframes()\n",
    "full_data = collector.get_collected_data()\n",
    "\n",
    "features = full_data[['back_x', 'back_y', 'back_z', 'thigh_x', 'thigh_y', 'thigh_z', 'record_num', 'timestamp']]\n",
    "labels = full_data['label']\n",
    "\n",
    "test_split = 0.2\n",
    "train_split = 1 - test_split\n",
    "validation_split = 0.2\n",
    "\n",
    "validation_from_train = True\n",
    "use_slices = False\n",
    "\n",
    "sampling_rate = 50\n",
    "seconds_per_chunk = 10\n",
    "required_chunks = sampling_rate * seconds_per_chunk\n",
    "\n",
    "splitter = BinnedTestSetSplitter(test_size=test_split, val_size=validation_split, val_from_train=validation_from_train, seed=1234)\n",
    "\n",
    "splitter.generate_splits(features, labels, chunk_size=required_chunks)\n",
    "\n",
    "train_x, train_y, val_x, val_y, test_x, test_y = splitter.get_splits()"
   ],
   "outputs": [
    {
     "name": "stdout",
     "output_type": "stream",
     "text": [
      "Chunks shape:  (4520, 500, 8)\n",
      "Data shape:  (4520, 4000) (4520, 500)\n"
     ]
    }
   ],
   "execution_count": 8
  },
  {
   "metadata": {
    "ExecuteTime": {
     "end_time": "2024-07-26T11:22:40.185344Z",
     "start_time": "2024-07-26T11:22:38.999899Z"
    }
   },
   "cell_type": "code",
   "source": [
    "# The (new) splitter provides the data as a numpy array, so we need to convert it back to a dataframe\n",
    "train_x = pd.DataFrame(train_x, columns=features.columns)\n",
    "\n",
    "# Set the index of the dataframe to be the record number\n",
    "train_x.set_index('record_num', inplace=True)\n",
    "\n",
    "# Check the shape of the dataframe\n",
    "train_x.shape"
   ],
   "id": "f61a4d4764acc34b",
   "outputs": [
    {
     "data": {
      "text/plain": [
       "(1446000, 7)"
      ]
     },
     "execution_count": 9,
     "metadata": {},
     "output_type": "execute_result"
    }
   ],
   "execution_count": 9
  },
  {
   "metadata": {
    "ExecuteTime": {
     "end_time": "2024-07-26T11:22:41.347780Z",
     "start_time": "2024-07-26T11:22:40.187350Z"
    }
   },
   "cell_type": "code",
   "source": [
    "# Let's do the same for the validation data and the test data\n",
    "val_x = pd.DataFrame(val_x, columns=features.columns)\n",
    "val_x.set_index('record_num', inplace=True)\n",
    "\n",
    "test_x = pd.DataFrame(test_x, columns=features.columns)\n",
    "test_x.set_index('record_num', inplace=True)\n",
    "\n",
    "val_x.shape, test_x.shape"
   ],
   "id": "3dd21b63d396c10",
   "outputs": [
    {
     "data": {
      "text/plain": [
       "((362000, 7), (452000, 7))"
      ]
     },
     "execution_count": 10,
     "metadata": {},
     "output_type": "execute_result"
    }
   ],
   "execution_count": 10
  },
  {
   "metadata": {
    "ExecuteTime": {
     "end_time": "2024-07-26T11:22:42.299739Z",
     "start_time": "2024-07-26T11:22:41.350781Z"
    }
   },
   "cell_type": "code",
   "source": [
    "#And the labels also need to be converted back to a dataframe\n",
    "train_y = pd.DataFrame(train_y, columns=['label'])\n",
    "val_y = pd.DataFrame(val_y, columns=['label'])\n",
    "test_y = pd.DataFrame(test_y, columns=['label'])    "
   ],
   "id": "dd62e08e8fe4bcb7",
   "outputs": [],
   "execution_count": 11
  },
  {
   "metadata": {
    "ExecuteTime": {
     "end_time": "2024-07-26T11:22:44.386479Z",
     "start_time": "2024-07-26T11:22:42.303253Z"
    }
   },
   "cell_type": "code",
   "source": [
    "# Get the unique labels\n",
    "unique_labels = np.unique(train_y)\n",
    "\n",
    "unique_labels"
   ],
   "id": "8ffbaa0e7faad4d1",
   "outputs": [
    {
     "data": {
      "text/plain": [
       "array([1, 3, 4, 5, 6, 7, 8], dtype=int64)"
      ]
     },
     "execution_count": 12,
     "metadata": {},
     "output_type": "execute_result"
    }
   ],
   "execution_count": 12
  },
  {
   "metadata": {
    "ExecuteTime": {
     "end_time": "2024-07-26T11:22:46.087824Z",
     "start_time": "2024-07-26T11:22:44.390487Z"
    }
   },
   "cell_type": "code",
   "source": [
    "# Zeros appear to be showing up in the data, they shouldnt. Lets check what records they are in\n",
    "train_y[train_y['label'] == 0]\n"
   ],
   "id": "7c3437c43bd0465e",
   "outputs": [
    {
     "data": {
      "text/plain": [
       "Empty DataFrame\n",
       "Columns: [label]\n",
       "Index: []"
      ],
      "text/html": [
       "<div>\n",
       "<style scoped>\n",
       "    .dataframe tbody tr th:only-of-type {\n",
       "        vertical-align: middle;\n",
       "    }\n",
       "\n",
       "    .dataframe tbody tr th {\n",
       "        vertical-align: top;\n",
       "    }\n",
       "\n",
       "    .dataframe thead th {\n",
       "        text-align: right;\n",
       "    }\n",
       "</style>\n",
       "<table border=\"1\" class=\"dataframe\">\n",
       "  <thead>\n",
       "    <tr style=\"text-align: right;\">\n",
       "      <th></th>\n",
       "      <th>label</th>\n",
       "    </tr>\n",
       "  </thead>\n",
       "  <tbody>\n",
       "  </tbody>\n",
       "</table>\n",
       "</div>"
      ]
     },
     "execution_count": 13,
     "metadata": {},
     "output_type": "execute_result"
    }
   ],
   "execution_count": 13
  },
  {
   "metadata": {
    "ExecuteTime": {
     "end_time": "2024-07-26T11:22:50.812925Z",
     "start_time": "2024-07-26T11:22:46.091838Z"
    }
   },
   "cell_type": "code",
   "source": [
    "# Now we need to sort the dataframes by the record number\n",
    "train_x.sort_index(inplace=True)\n",
    "test_x.sort_index(inplace=True)\n",
    "val_x.sort_index(inplace=True)"
   ],
   "id": "1f2b3187ce824820",
   "outputs": [],
   "execution_count": 14
  },
  {
   "metadata": {
    "ExecuteTime": {
     "end_time": "2024-07-26T11:22:52.717048Z",
     "start_time": "2024-07-26T11:22:50.816888Z"
    }
   },
   "cell_type": "code",
   "source": [
    "#Now that the data is sorted, we can remove the record number column and the timestamp column\n",
    "train_x.drop(columns=['timestamp'], inplace=True)\n",
    "test_x.drop(columns=['timestamp'], inplace=True)\n",
    "val_x.drop(columns=['timestamp'], inplace=True)"
   ],
   "id": "938dd17a84c1a9d",
   "outputs": [],
   "execution_count": 15
  },
  {
   "cell_type": "code",
   "id": "e9eae5f5134357ed",
   "metadata": {
    "ExecuteTime": {
     "end_time": "2024-07-26T11:22:53.655116Z",
     "start_time": "2024-07-26T11:22:52.723018Z"
    }
   },
   "source": [
    "# slice_size = 128\n",
    "# slices_in_df_1 = len(collector.get_dataframes()[0]) // slice_size\n",
    "# \n",
    "# print(len(train), len(val), len(test))"
   ],
   "outputs": [],
   "execution_count": 16
  },
  {
   "cell_type": "code",
   "id": "d8902301a8aa8019",
   "metadata": {
    "ExecuteTime": {
     "end_time": "2024-07-26T11:22:55.759343Z",
     "start_time": "2024-07-26T11:22:53.656124Z"
    }
   },
   "source": [
    "# Lets plot the data on a graph, colouring by whether it is train, val or test data\n",
    "# Plot the column for back_x\n",
    "plt.figure(figsize=(15, 5))\n",
    "# if (use_slices):\n",
    "#     train_slice = int(((slices_in_df_1 * train_split) * (1 - validation_split)) if validation_from_train else (slices_in_df_1 * (1 - test_split - validation_split)))\n",
    "#     for i, df in enumerate(train[:train_slice]):\n",
    "#         plt.plot(df['back_x'], label='Train', color='blue')\n",
    "#     \n",
    "#     val_slice = int((slices_in_df_1 * train_split) * validation_split) if validation_from_train else (slices_in_df_1 * validation_split)\n",
    "#     for i, df in enumerate(val[:val_slice]):\n",
    "#         plt.plot(df['back_x'], label='Val', color='orange')\n",
    "#     \n",
    "#     test_slice = int((slices_in_df_1 * test_split))\n",
    "#     for i, df in enumerate(test[:test_slice]):\n",
    "#         plt.plot(df['back_x'], label='Test', color='green')\n",
    "#         \n",
    "#     # Define a custom legend\n",
    "#     from matplotlib.lines import Line2D\n",
    "#     custom_lines = [Line2D([0], [0], color='blue', lw=2),\n",
    "#                     Line2D([0], [0], color='orange', lw=2),\n",
    "#                     Line2D([0], [0], color='green', lw=2)]\n",
    "#     plt.legend(custom_lines, ['Train', 'Val', 'Test'])\n",
    "# else:\n",
    "#     plt.plot(train[0]['back_x'], label='Train', color='blue')\n",
    "#     plt.plot(val[0]['back_x'], label='Val', color='orange')\n",
    "#     plt.plot(test[0]['back_x'], label='Test', color='green')\n",
    "#     plt.legend()\n",
    "\n",
    "plt.subplot2grid((1, 3), (0, 0))\n",
    "plt.plot(train_x['back_x'], label='Train', color='blue')\n",
    "plt.title('Train Data')\n",
    "\n",
    "plt.subplot2grid((1, 3), (0, 1))\n",
    "plt.plot(val_x['back_x'], label='Val', color='orange')\n",
    "plt.title('Validation Data')\n",
    "\n",
    "plt.subplot2grid((1, 3), (0, 2))\n",
    "plt.plot(test_x['back_x'], label='Test', color='green')\n",
    "plt.title('Test Data')\n",
    "    \n",
    "# plt.title(f'Example of train, val and test data for one subject (back_x) using the properties (test_split={test_split}, val_split={validation_split}, val_from_train={validation_from_train}, use_slices={use_slices})')\n",
    "plt.tight_layout()\n",
    "plt.show()"
   ],
   "outputs": [
    {
     "data": {
      "text/plain": [
       "<Figure size 1500x500 with 3 Axes>"
      ],
      "image/png": "[encoded data removed]"
     },
     "metadata": {},
     "output_type": "display_data"
    }
   ],
   "execution_count": 17
  },
  {
   "cell_type": "code",
   "id": "b115545c53094840",
   "metadata": {
    "ExecuteTime": {
     "end_time": "2024-07-26T11:22:56.879316Z",
     "start_time": "2024-07-26T11:22:55.762336Z"
    }
   },
   "source": [
    "# To use this ESN, we need to concatenate all of the training data into one large dataframe\n",
    "#train_df = pd.concat(train)"
   ],
   "outputs": [],
   "execution_count": 18
  },
  {
   "cell_type": "code",
   "id": "fbaf422a2e34b5d",
   "metadata": {
    "ExecuteTime": {
     "end_time": "2024-07-26T11:22:57.916143Z",
     "start_time": "2024-07-26T11:22:56.881305Z"
    }
   },
   "source": [
    "# Check the shape of the dataframe\n",
    "#train_df.shape\n",
    "train_x.shape"
   ],
   "outputs": [
    {
     "data": {
      "text/plain": [
       "(1446000, 6)"
      ]
     },
     "execution_count": 19,
     "metadata": {},
     "output_type": "execute_result"
    }
   ],
   "execution_count": 19
  },
  {
   "cell_type": "code",
   "id": "5c86ebcd442ba583",
   "metadata": {
    "ExecuteTime": {
     "end_time": "2024-07-26T11:22:58.913676Z",
     "start_time": "2024-07-26T11:22:57.919105Z"
    }
   },
   "source": [
    "# Let's split the data into input and output, where the input is the 6 columns ['back_x', 'back_y', 'back_z', 'thigh_x', 'thigh_y', 'thigh_z'] and the output is the label column 'label'\n",
    "# input_columns = ['back_x', 'back_y', 'back_z', 'thigh_x', 'thigh_y', 'thigh_z']\n",
    "# output_columns = ['label']\n",
    "# \n",
    "# X_train = train_df[input_columns].values\n",
    "# y_train = train_df[output_columns].values\n",
    "\n",
    "train_x.shape, train_y.shape"
   ],
   "outputs": [
    {
     "data": {
      "text/plain": [
       "((1446000, 6), (1446000, 1))"
      ]
     },
     "execution_count": 20,
     "metadata": {},
     "output_type": "execute_result"
    }
   ],
   "execution_count": 20
  },
  {
   "cell_type": "code",
   "id": "38e1622d5033b8d6",
   "metadata": {
    "ExecuteTime": {
     "end_time": "2024-07-26T11:22:59.954745Z",
     "start_time": "2024-07-26T11:22:58.914642Z"
    }
   },
   "source": [
    "# The label can be one of 7 values, so we need to one-hot encode it\n",
    "from sklearn.preprocessing import OneHotEncoder\n",
    "\n",
    "# The 7 values it can be are [1,3,4,5,6,7,8]\n",
    "\n",
    "# Create the encoder\n",
    "encoder = OneHotEncoder(categories='auto')\n",
    "\n",
    "# Fit the encoder to the labels\n",
    "encoder.fit(train_y)\n",
    "\n",
    "# Transform the labels\n",
    "y_train = encoder.transform(train_y).toarray()\n",
    "\n",
    "# Check the shape of the one-hot encoded labels\n",
    "y_train.shape\n"
   ],
   "outputs": [
    {
     "data": {
      "text/plain": [
       "(1446000, 7)"
      ]
     },
     "execution_count": 21,
     "metadata": {},
     "output_type": "execute_result"
    }
   ],
   "execution_count": 21
  },
  {
   "cell_type": "code",
   "id": "7dc99e6ca813ae49",
   "metadata": {
    "ExecuteTime": {
     "end_time": "2024-07-26T11:23:00.818486Z",
     "start_time": "2024-07-26T11:22:59.956709Z"
    }
   },
   "source": [
    "# Get the first few rows of the one-hot encoded labels\n",
    "y_train[:5]"
   ],
   "outputs": [
    {
     "data": {
      "text/plain": [
       "array([[0., 0., 0., 0., 0., 0., 1.],\n",
       "       [0., 0., 0., 0., 0., 0., 1.],\n",
       "       [0., 0., 0., 0., 0., 0., 1.],\n",
       "       [0., 0., 0., 0., 0., 0., 1.],\n",
       "       [0., 0., 0., 0., 0., 0., 1.]])"
      ]
     },
     "execution_count": 22,
     "metadata": {},
     "output_type": "execute_result"
    }
   ],
   "execution_count": 22
  },
  {
   "metadata": {
    "ExecuteTime": {
     "end_time": "2024-07-26T11:23:02.666148Z",
     "start_time": "2024-07-26T11:23:00.820490Z"
    }
   },
   "cell_type": "code",
   "source": [
    "# The x data should be normalised to between -1 and 1\n",
    "from sklearn.preprocessing import MinMaxScaler\n",
    "\n",
    "# Create the scaler\n",
    "scaler = MinMaxScaler(feature_range=(-1, 1))\n",
    "\n",
    "# Fit the scaler to the data\n",
    "scaler.fit(train_x)\n",
    "\n",
    "# Transform the data\n",
    "X_train = scaler.transform(train_x)\n",
    "\n",
    "# Check the shape of the normalised data\n",
    "X_train.shape"
   ],
   "id": "115b0c785297082a",
   "outputs": [
    {
     "data": {
      "text/plain": [
       "(1446000, 6)"
      ]
     },
     "execution_count": 23,
     "metadata": {},
     "output_type": "execute_result"
    }
   ],
   "execution_count": 23
  },
  {
   "metadata": {
    "ExecuteTime": {
     "end_time": "2024-07-26T11:23:04.571689Z",
     "start_time": "2024-07-26T11:23:02.668113Z"
    }
   },
   "cell_type": "code",
   "source": [
    "# Get the first few rows of the normalised data\n",
    "X_train[:5]"
   ],
   "id": "fd8ac424dd796175",
   "outputs": [
    {
     "data": {
      "text/plain": [
       "array([[ 0.419942  ,  0.09074898,  0.38619156,  0.22898885, -0.10051939,\n",
       "         0.30693275],\n",
       "       [ 0.42794747,  0.0819516 ,  0.38619156,  0.23239371, -0.10236891,\n",
       "         0.30629848],\n",
       "       [ 0.44073629,  0.08357592,  0.38619156,  0.23446254, -0.09440128,\n",
       "         0.30363444],\n",
       "       [ 0.43876069,  0.09318546,  0.38604736,  0.23304018, -0.08771438,\n",
       "         0.3064677 ],\n",
       "       [ 0.43127478,  0.1021181 ,  0.38749002,  0.22959225, -0.08335118,\n",
       "         0.31065403]])"
      ]
     },
     "execution_count": 24,
     "metadata": {},
     "output_type": "execute_result"
    }
   ],
   "execution_count": 24
  },
  {
   "cell_type": "code",
   "id": "fcfd870dc6e7424",
   "metadata": {
    "ExecuteTime": {
     "end_time": "2024-07-26T12:06:01.008729Z",
     "start_time": "2024-07-26T12:05:59.419357Z"
    }
   },
   "source": [
    "# Now we need to create the ESN\n",
    "\n",
    "# We can star by defining the input weights for the data\n",
    "\n",
    "# To do this, we will create a matrix of shape (n_neurons, n_features) where n_neurons is the number of neurons in the reservoir and n_features is the number of features in the input signal\n",
    "# We will then populate this matrix from a density function where elements are 1 for a value p, and 0 for a value of 1-p\n",
    "# This will give us a sparse matrix with a density of p\n",
    "\n",
    "n_features = 6\n",
    "density = 0.9\n",
    "n_neurons = 500\n",
    "\n",
    "# Generate the input weights\n",
    "input_weights = np.random.rand(n_neurons, n_features) < density\n",
    "\n",
    "# Check the shape of the input weights\n",
    "print(input_weights.shape)\n",
    "\n"
   ],
   "outputs": [
    {
     "name": "stdout",
     "output_type": "stream",
     "text": [
      "(500, 6)\n"
     ]
    }
   ],
   "execution_count": 44
  },
  {
   "cell_type": "code",
   "id": "da04bc2981f08416",
   "metadata": {
    "ExecuteTime": {
     "end_time": "2024-07-26T12:06:04.134562Z",
     "start_time": "2024-07-26T12:06:01.786639Z"
    }
   },
   "source": [
    "# Next, we initialise the ESN\n",
    "# We will use the BasicESN class from the reservoir.BasicESN module\n",
    "\n",
    "leakage_rate = 0.9\n",
    "spectral_radius = 0.9\n",
    "gamma = 1.0\n",
    "sparsity = 0.9\n",
    "W_in = input_weights\n",
    "\n",
    "esn = BasicESN(leakage_rate=leakage_rate, spectral_radius=spectral_radius, gamma=gamma, n_neurons=n_neurons, W_in=W_in, sparsity=sparsity)"
   ],
   "outputs": [
    {
     "name": "stdout",
     "output_type": "stream",
     "text": [
      "[]\n",
      "Is CUDA available: True\n",
      "BasicESN initialised with leakage_rate: 0.9, spectral_radius: 0.9, gamma: 1.0, n_neurons: 500, sparsity: 0.9\n"
     ]
    }
   ],
   "execution_count": 45
  },
  {
   "cell_type": "code",
   "id": "5a25e02e0a0d836d",
   "metadata": {
    "ExecuteTime": {
     "end_time": "2024-07-26T12:17:45.356677Z",
     "start_time": "2024-07-26T12:06:05.434031Z"
    }
   },
   "source": [
    "# Now we need to train the ESN\n",
    "# We will train the ESN using the training data\n",
    "\n",
    "# As a test, lets only take the first 1000 samples\n",
    "n_samples = 500000\n",
    "data_in = X_train\n",
    "data_out = y_train\n",
    "\n",
    "esn.fit(data_in, data_out)\n"
   ],
   "outputs": [
    {
     "name": "stderr",
     "output_type": "stream",
     "text": [
      "1450000it [10:34, 2285.47it/s]                             \n"
     ]
    },
    {
     "name": "stdout",
     "output_type": "stream",
     "text": [
      "Shape of previous_states: (1446000, 500)\n",
      "Reservoir state computed, fitting readout layer...\n",
      "Readout layer fitted.\n"
     ]
    }
   ],
   "execution_count": 46
  },
  {
   "metadata": {
    "ExecuteTime": {
     "end_time": "2024-07-26T12:17:47.668671Z",
     "start_time": "2024-07-26T12:17:45.392668Z"
    }
   },
   "cell_type": "code",
   "source": [
    "# Now we can use the ESN to predict the output for the test data\n",
    "\n",
    "# First we need to concatenate the test data into one large dataframe\n",
    "# test_df = pd.concat(test)\n",
    "# \n",
    "# # Check the shape of the dataframe\n",
    "# test_df.shape"
   ],
   "id": "e5a8be1dfbfce101",
   "outputs": [],
   "execution_count": 47
  },
  {
   "metadata": {
    "ExecuteTime": {
     "end_time": "2024-07-26T12:17:49.798318Z",
     "start_time": "2024-07-26T12:17:47.673674Z"
    }
   },
   "cell_type": "code",
   "source": [
    "# Split the data into input and output\n",
    "# X_test = test_df[input_columns].values\n",
    "# y_test = test_df[output_columns].values\n",
    "\n",
    "# One-hot encode the labels\n",
    "y_test = encoder.transform(test_y).toarray()\n",
    "\n",
    "# Normalise the input data\n",
    "X_test = scaler.transform(test_x)\n",
    "\n",
    "# Check the shape of the data\n",
    "X_test.shape, y_test.shape"
   ],
   "id": "9306683243e4cdf2",
   "outputs": [
    {
     "data": {
      "text/plain": [
       "((452000, 6), (452000, 7))"
      ]
     },
     "execution_count": 48,
     "metadata": {},
     "output_type": "execute_result"
    }
   ],
   "execution_count": 48
  },
  {
   "metadata": {
    "ExecuteTime": {
     "end_time": "2024-07-26T12:17:51.253353Z",
     "start_time": "2024-07-26T12:17:49.802320Z"
    }
   },
   "cell_type": "code",
   "source": [
    "# Get the first few rows of the data\n",
    "X_test[:5], y_test[:5]"
   ],
   "id": "a0c8e8797005ed02",
   "outputs": [
    {
     "data": {
      "text/plain": [
       "(array([[ 0.45290079,  0.10861482,  0.50624063,  0.23381606, -0.08178605,\n",
       "          0.33150096],\n",
       "        [ 0.45934716,  0.10861482,  0.50624063,  0.23381606, -0.08178605,\n",
       "          0.3314587 ],\n",
       "        [ 0.45945107,  0.10861482,  0.50624063,  0.23381606, -0.08178605,\n",
       "          0.33162774],\n",
       "        [ 0.45955498,  0.10861482,  0.50595222,  0.23381606, -0.08178605,\n",
       "          0.33437648],\n",
       "        [ 0.45924325,  0.10861482,  0.49700609,  0.23381606, -0.08178605,\n",
       "          0.33420726]]),\n",
       " array([[0., 0., 0., 0., 0., 1., 0.],\n",
       "        [0., 0., 0., 0., 0., 1., 0.],\n",
       "        [0., 0., 0., 0., 0., 1., 0.],\n",
       "        [0., 0., 0., 0., 0., 1., 0.],\n",
       "        [0., 0., 0., 0., 0., 1., 0.]]))"
      ]
     },
     "execution_count": 49,
     "metadata": {},
     "output_type": "execute_result"
    }
   ],
   "execution_count": 49
  },
  {
   "metadata": {
    "ExecuteTime": {
     "end_time": "2024-07-26T12:21:11.729305Z",
     "start_time": "2024-07-26T12:17:51.258352Z"
    }
   },
   "cell_type": "code",
   "source": [
    "# Now we can use the ESN to predict the output for the test data\n",
    "y_pred = esn.forward(X_test)\n",
    "\n",
    "# Check the shape of the predicted output\n",
    "y_pred.shape\n"
   ],
   "id": "4eb1bbea11d2032",
   "outputs": [
    {
     "name": "stderr",
     "output_type": "stream",
     "text": [
      "460000it [03:18, 2314.53it/s]                            \n"
     ]
    },
    {
     "name": "stdout",
     "output_type": "stream",
     "text": [
      "Shape of previous_states: (452000, 500)\n"
     ]
    },
    {
     "data": {
      "text/plain": [
       "(452000, 7)"
      ]
     },
     "execution_count": 50,
     "metadata": {},
     "output_type": "execute_result"
    }
   ],
   "execution_count": 50
  },
  {
   "metadata": {
    "ExecuteTime": {
     "end_time": "2024-07-26T12:21:13.676168Z",
     "start_time": "2024-07-26T12:21:11.731308Z"
    }
   },
   "cell_type": "code",
   "source": [
    "# Get the first few rows of the predicted output\n",
    "y_pred[:5]"
   ],
   "id": "b59385168f467714",
   "outputs": [
    {
     "data": {
      "text/plain": [
       "array([[ 3.5489851e-01,  4.6705708e-02, -2.7981985e-02, -1.5182251e-02,\n",
       "         7.4103570e-01, -7.1805632e-01,  6.1856818e-01],\n",
       "       [ 1.3000512e-01,  2.1258235e-02, -1.9325506e-02, -9.6453615e-03,\n",
       "         5.0389349e-01, -3.3737713e-01,  7.1117949e-01],\n",
       "       [-4.0301919e-02,  2.3575127e-03, -1.2090158e-02, -4.9641598e-03,\n",
       "         2.9688710e-01, -3.2566309e-02,  7.9067129e-01],\n",
       "       [-1.6216600e-01, -1.0711223e-02, -6.0286038e-03, -1.0081902e-03,\n",
       "         1.1899626e-01,  2.0242059e-01,  8.5848773e-01],\n",
       "       [-2.4404788e-01, -1.9282967e-02, -9.0892240e-04,  2.2927690e-03,\n",
       "        -3.1471014e-02,  3.7551308e-01,  9.1789728e-01]], dtype=float32)"
      ]
     },
     "execution_count": 51,
     "metadata": {},
     "output_type": "execute_result"
    }
   ],
   "execution_count": 51
  },
  {
   "metadata": {
    "ExecuteTime": {
     "end_time": "2024-07-26T12:21:14.611213Z",
     "start_time": "2024-07-26T12:21:13.681171Z"
    }
   },
   "cell_type": "code",
   "source": [
    "# The predicted output is a one-hot encoded array, so we need to decode it back to the original labels\n",
    "y_pred_decoded = encoder.inverse_transform(y_pred)\n",
    "\n",
    "# Check the shape of the decoded output\n",
    "y_pred_decoded.shape"
   ],
   "id": "e8e20d6d5a52856d",
   "outputs": [
    {
     "data": {
      "text/plain": [
       "(452000, 1)"
      ]
     },
     "execution_count": 52,
     "metadata": {},
     "output_type": "execute_result"
    }
   ],
   "execution_count": 52
  },
  {
   "metadata": {
    "ExecuteTime": {
     "end_time": "2024-07-26T12:21:15.515397Z",
     "start_time": "2024-07-26T12:21:14.614369Z"
    }
   },
   "cell_type": "code",
   "source": [
    "# Get the first few rows of the decoded output\n",
    "y_pred_decoded[:5]"
   ],
   "id": "e571742e1c413cc2",
   "outputs": [
    {
     "data": {
      "text/plain": [
       "array([[6],\n",
       "       [8],\n",
       "       [8],\n",
       "       [8],\n",
       "       [8]], dtype=int64)"
      ]
     },
     "execution_count": 53,
     "metadata": {},
     "output_type": "execute_result"
    }
   ],
   "execution_count": 53
  },
  {
   "metadata": {
    "ExecuteTime": {
     "end_time": "2024-07-26T12:21:16.562534Z",
     "start_time": "2024-07-26T12:21:15.518399Z"
    }
   },
   "cell_type": "code",
   "source": [
    "y_test_decoded = encoder.inverse_transform(y_test)\n",
    "\n",
    "# Check the shape of the decoded output\n",
    "y_test_decoded.shape"
   ],
   "id": "3deeb30dd9707b9e",
   "outputs": [
    {
     "data": {
      "text/plain": [
       "(452000, 1)"
      ]
     },
     "execution_count": 54,
     "metadata": {},
     "output_type": "execute_result"
    }
   ],
   "execution_count": 54
  },
  {
   "metadata": {
    "ExecuteTime": {
     "end_time": "2024-07-26T12:21:17.623667Z",
     "start_time": "2024-07-26T12:21:16.564531Z"
    }
   },
   "cell_type": "code",
   "source": "y_test_decoded[:5]",
   "id": "c6c7ccc56da713d7",
   "outputs": [
    {
     "data": {
      "text/plain": [
       "array([[7],\n",
       "       [7],\n",
       "       [7],\n",
       "       [7],\n",
       "       [7]], dtype=int64)"
      ]
     },
     "execution_count": 55,
     "metadata": {},
     "output_type": "execute_result"
    }
   ],
   "execution_count": 55
  },
  {
   "metadata": {
    "ExecuteTime": {
     "end_time": "2024-07-26T12:21:19.061885Z",
     "start_time": "2024-07-26T12:21:17.625668Z"
    }
   },
   "cell_type": "code",
   "source": [
    "# Now we can evaluate the accuracy of the ESN on the test data\n",
    "# Start by plotting the true label and the predicted label on a graph\n",
    "plt.figure(figsize=(15, 5))\n",
    "plt.plot(y_test_decoded[:10000], label='True', color='blue')\n",
    "plt.plot(y_pred_decoded[:10000], label='Predicted', color='orange')\n",
    "plt.legend()\n",
    "plt.title('True vs Predicted labels for the first 1000 samples of the test data')\n",
    "\n",
    "plt.tight_layout()\n",
    "plt.show()"
   ],
   "id": "35f5d59b51f3666d",
   "outputs": [
    {
     "data": {
      "text/plain": [
       "<Figure size 1500x500 with 1 Axes>"
      ],
      "image/png": "[encoded data removed]"
     },
     "metadata": {},
     "output_type": "display_data"
    }
   ],
   "execution_count": 56
  },
  {
   "metadata": {
    "ExecuteTime": {
     "end_time": "2024-07-26T12:21:20.136417Z",
     "start_time": "2024-07-26T12:21:19.063885Z"
    }
   },
   "cell_type": "code",
   "source": [
    "# Now we can calculate the accuracy of the ESN on the test data\n",
    "from sklearn.metrics import accuracy_score\n",
    "\n",
    "accuracy = accuracy_score(y_test_decoded, y_pred_decoded)\n",
    "\n",
    "accuracy"
   ],
   "id": "ffde2f6173c13f65",
   "outputs": [
    {
     "data": {
      "text/plain": [
       "0.49326106194690267"
      ]
     },
     "execution_count": 57,
     "metadata": {},
     "output_type": "execute_result"
    }
   ],
   "execution_count": 57
  },
  {
   "metadata": {
    "ExecuteTime": {
     "end_time": "2024-07-26T12:21:21.645356Z",
     "start_time": "2024-07-26T12:21:20.138392Z"
    }
   },
   "cell_type": "code",
   "source": [
    "# Now we can calculate the confusion matrix for the ESN on the test data\n",
    "from sklearn.metrics import confusion_matrix\n",
    "\n",
    "conf_matrix = confusion_matrix(y_test_decoded, y_pred_decoded)\n",
    "\n",
    "conf_matrix"
   ],
   "id": "d430391865fb428a",
   "outputs": [
    {
     "data": {
      "text/plain": [
       "array([[221414,      0,      0,      0,    181,   1729,     12],\n",
       "       [ 11585,      0,      0,      0,     47,    108,     79],\n",
       "       [  1304,      0,      0,      0,      0,      0,      0],\n",
       "       [  1527,      0,      0,      0,      0,      0,      0],\n",
       "       [ 78326,      0,      0,      0,      8,   1016,      0],\n",
       "       [ 92419,      0,      0,      0,      1,   1532,     51],\n",
       "       [ 40579,      0,      0,      0,      0,     82,      0]],\n",
       "      dtype=int64)"
      ]
     },
     "execution_count": 58,
     "metadata": {},
     "output_type": "execute_result"
    }
   ],
   "execution_count": 58
  },
  {
   "metadata": {
    "ExecuteTime": {
     "end_time": "2024-07-26T12:21:23.586091Z",
     "start_time": "2024-07-26T12:21:21.660355Z"
    }
   },
   "cell_type": "code",
   "source": [
    "# Now we can plot the confusion matrix\n",
    "# Our labels are \n",
    "# 1: walking\t\n",
    "# 3: shuffling\n",
    "# 4: stairs (ascending)\n",
    "# 5: stairs (descending)\n",
    "# 6: standing\n",
    "# 7: sitting\n",
    "# 8: lying\n",
    "# So we will use these labels for the x and y axis of the confusion matrix\n",
    "import seaborn as sns\n",
    "\n",
    "labels = ['walking', 'shuffling', 'stairs (ascending)', 'stairs (descending)', 'standing', 'sitting', 'lying']\n",
    "\n",
    "plt.figure(figsize=(10, 7))\n",
    "\n",
    "sns.heatmap(conf_matrix, annot=True, fmt='d', xticklabels=labels, yticklabels=labels, cmap='Blues')\n",
    "\n",
    "plt.xlabel('Predicted')\n",
    "plt.ylabel('True')\n",
    "\n",
    "plt.title('Confusion Matrix for the ESN on the test data')\n",
    "\n",
    "plt.tight_layout()\n",
    "plt.show()\n"
   ],
   "id": "d010e5be9564a796",
   "outputs": [
    {
     "data": {
      "text/plain": [
       "<Figure size 1000x700 with 2 Axes>"
      ],
      "image/png": "[encoded data removed]"
     },
     "metadata": {},
     "output_type": "display_data"
    }
   ],
   "execution_count": 59
  },
  {
   "metadata": {
    "ExecuteTime": {
     "end_time": "2024-07-26T12:21:24.905820Z",
     "start_time": "2024-07-26T12:21:23.588540Z"
    }
   },
   "cell_type": "code",
   "source": [
    "# Now we can calculate the precision, recall and f1-score for the ESN on the test data\n",
    "from sklearn.metrics import classification_report\n",
    "\n",
    "report = classification_report(y_test_decoded, y_pred_decoded, target_names=labels)\n",
    "\n",
    "print(report)"
   ],
   "id": "72e46a656729c9fa",
   "outputs": [
    {
     "name": "stderr",
     "output_type": "stream",
     "text": [
      "C:\\Users\\mail\\anaconda3\\envs\\training\\lib\\site-packages\\sklearn\\metrics\\_classification.py:1469: UndefinedMetricWarning: Precision and F-score are ill-defined and being set to 0.0 in labels with no predicted samples. Use `zero_division` parameter to control this behavior.\n",
      "  _warn_prf(average, modifier, msg_start, len(result))\n",
      "C:\\Users\\mail\\anaconda3\\envs\\training\\lib\\site-packages\\sklearn\\metrics\\_classification.py:1469: UndefinedMetricWarning: Precision and F-score are ill-defined and being set to 0.0 in labels with no predicted samples. Use `zero_division` parameter to control this behavior.\n",
      "  _warn_prf(average, modifier, msg_start, len(result))\n"
     ]
    },
    {
     "name": "stdout",
     "output_type": "stream",
     "text": [
      "                     precision    recall  f1-score   support\n",
      "\n",
      "            walking       0.50      0.99      0.66    223336\n",
      "          shuffling       0.00      0.00      0.00     11819\n",
      " stairs (ascending)       0.00      0.00      0.00      1304\n",
      "stairs (descending)       0.00      0.00      0.00      1527\n",
      "           standing       0.03      0.00      0.00     79350\n",
      "            sitting       0.34      0.02      0.03     94003\n",
      "              lying       0.00      0.00      0.00     40661\n",
      "\n",
      "           accuracy                           0.49    452000\n",
      "          macro avg       0.12      0.14      0.10    452000\n",
      "       weighted avg       0.32      0.49      0.33    452000\n",
      "\n"
     ]
    },
    {
     "name": "stderr",
     "output_type": "stream",
     "text": [
      "C:\\Users\\mail\\anaconda3\\envs\\training\\lib\\site-packages\\sklearn\\metrics\\_classification.py:1469: UndefinedMetricWarning: Precision and F-score are ill-defined and being set to 0.0 in labels with no predicted samples. Use `zero_division` parameter to control this behavior.\n",
      "  _warn_prf(average, modifier, msg_start, len(result))\n"
     ]
    }
   ],
   "execution_count": 60
  },
  {
   "metadata": {
    "ExecuteTime": {
     "end_time": "2024-07-26T12:21:26.446181Z",
     "start_time": "2024-07-26T12:21:24.908824Z"
    }
   },
   "cell_type": "code",
   "source": [
    "# Now, we prepare the validation data\n",
    "# val_df = pd.concat(val)\n",
    "# \n",
    "# X_val = val_df[input_columns].values\n",
    "# y_val = val_df[output_columns].values\n",
    "\n",
    "y_val = encoder.transform(val_y).toarray()\n",
    "\n",
    "X_val = scaler.transform(val_x)\n",
    "\n",
    "X_val.shape, y_val.shape"
   ],
   "id": "2f1170f152cb84e1",
   "outputs": [
    {
     "data": {
      "text/plain": [
       "((362000, 6), (362000, 7))"
      ]
     },
     "execution_count": 61,
     "metadata": {},
     "output_type": "execute_result"
    }
   ],
   "execution_count": 61
  },
  {
   "metadata": {
    "ExecuteTime": {
     "end_time": "2024-07-26T12:21:27.458013Z",
     "start_time": "2024-07-26T12:21:26.448182Z"
    }
   },
   "cell_type": "code",
   "source": "y_val_decoded = encoder.inverse_transform(y_val)",
   "id": "5a05744ceb8c765e",
   "outputs": [],
   "execution_count": 62
  },
  {
   "metadata": {
    "ExecuteTime": {
     "end_time": "2024-07-24T17:57:15.120423Z",
     "start_time": "2024-07-24T17:57:13.936611Z"
    }
   },
   "cell_type": "code",
   "source": "run_radii = False",
   "id": "d0fdceb019b9491d",
   "outputs": [],
   "execution_count": 121
  },
  {
   "metadata": {
    "ExecuteTime": {
     "end_time": "2024-07-24T17:57:16.313027Z",
     "start_time": "2024-07-24T17:57:15.122650Z"
    }
   },
   "cell_type": "code",
   "source": [
    "# Now that there is a working version, we can optimise the hyperparameters\n",
    "from sklearn.metrics import mean_squared_error\n",
    "\n",
    "# The number of neurons will be fixed at 500\n",
    "n_neurons = 500\n",
    "\n",
    "density = 0.1\n",
    "leakage_rate = 0.3\n",
    "spectral_radius = 0.9\n",
    "gamma = 1.\n",
    "sparsity = 0.1\n",
    "\n",
    "input_weights = np.random.rand(n_neurons, n_features) < density\n",
    "W_in = input_weights\n",
    "\n",
    "# We will first try to optimise the spectral radius\n",
    "# In our implementation, the spectral radius is used to scale the reservoir weights\n",
    "# It is a value between 0 and 1\n",
    "# A value of 1 will mean that the reservoir weights are not scaled\n",
    "# A value of 0 will mean that the reservoir weights are all 0\n",
    "rseed = 1234\n",
    "spectral_radii = [0.005, 0.05, 0.1, 0.2, 0.3, 0.4, 0.5, 0.6, 0.7, 0.8, 0.9, 0.95]\n",
    "\n",
    "# We will train the ESN on the training data and evaluate it on the validation data\n",
    "radii_scores = []\n",
    "if run_radii:\n",
    "    # There are 12 spectral radii to test, so let's parallelise the process\n",
    "    def evaluate_spectral_radius(radius):\n",
    "        esn = BasicESN(leakage_rate=leakage_rate, spectral_radius=radius, gamma=gamma, n_neurons=n_neurons, W_in=W_in, sparsity=sparsity, is_optimising=False)\n",
    "        esn.fit(data_in, data_out)\n",
    "    \n",
    "        y_pred = esn.forward(X_val)\n",
    "        y_pred_decoded = encoder.inverse_transform(y_pred)\n",
    "    \n",
    "        # Calculate the NRMSE\n",
    "        # The NRMSE is the normalised root mean squared error\n",
    "        # It is calculated as the RMSE divided by the range of the true values\n",
    "    \n",
    "        nrmse = np.sqrt(mean_squared_error(y_val_decoded, y_pred_decoded)) / (y_val_decoded.max() - y_val_decoded.min())\n",
    "    \n",
    "        radii_scores.append(nrmse)\n",
    "    \n",
    "        # Return the radius and the NRMSE via joblib\n",
    "        print(f'Spectral Radius: {radius}, NRMSE: {nrmse}')\n",
    "        \n",
    "        return {'radius': radius, 'nrmse': nrmse}\n",
    "    \n",
    "    #with tqdm_joblib(tqdm(desc=\"Spectral Radius\", total=len(spectral_radii))) as progress_bar:\n",
    "        #results = Parallel(n_jobs=4)(delayed(evaluate_spectral_radius)(radius) for radius in spectral_radii)\n",
    "    results = []\n",
    "    for radius in spectral_radii:\n",
    "        print(f'Running for radius: {radius}')\n",
    "        results.append(evaluate_spectral_radius(radius))\n",
    "else:\n",
    "    # Previously run results so that we don't need to re-run the optimisation process\n",
    "    results = [{'radius': 0.005, 'nrmse': 0.5853647857997589}, {'radius': 0.05, 'nrmse': 0.5853647857997589}, {'radius': 0.1, 'nrmse': 0.5853722579885483}, {'radius': 0.2, 'nrmse': 0.5853844061176998}, {'radius': 0.3, 'nrmse': 0.5854029652726788}, {'radius': 0.4, 'nrmse': 0.5856335317893582}, {'radius': 0.5, 'nrmse': 0.585374523730174}, {'radius': 0.6, 'nrmse': 0.5854994151984787}, {'radius': 0.7, 'nrmse': 0.5852805604040272}, {'radius': 0.8, 'nrmse': 0.5850737300892936}, {'radius': 0.9, 'nrmse': 0.5848970779861485}, {'radius': 0.95, 'nrmse': 0.5847869690487514}]"
   ],
   "id": "667e67be915b579e",
   "outputs": [],
   "execution_count": 122
  },
  {
   "metadata": {
    "ExecuteTime": {
     "end_time": "2024-07-24T17:57:17.397482Z",
     "start_time": "2024-07-24T17:57:16.316060Z"
    }
   },
   "cell_type": "code",
   "source": "print(results)",
   "id": "73d3da5878760620",
   "outputs": [
    {
     "name": "stdout",
     "output_type": "stream",
     "text": [
      "[{'radius': 0.005, 'nrmse': 0.5853647857997589}, {'radius': 0.05, 'nrmse': 0.5853647857997589}, {'radius': 0.1, 'nrmse': 0.5853722579885483}, {'radius': 0.2, 'nrmse': 0.5853844061176998}, {'radius': 0.3, 'nrmse': 0.5854029652726788}, {'radius': 0.4, 'nrmse': 0.5856335317893582}, {'radius': 0.5, 'nrmse': 0.585374523730174}, {'radius': 0.6, 'nrmse': 0.5854994151984787}, {'radius': 0.7, 'nrmse': 0.5852805604040272}, {'radius': 0.8, 'nrmse': 0.5850737300892936}, {'radius': 0.9, 'nrmse': 0.5848970779861485}, {'radius': 0.95, 'nrmse': 0.5847869690487514}]\n"
     ]
    }
   ],
   "execution_count": 123
  },
  {
   "metadata": {
    "ExecuteTime": {
     "end_time": "2024-07-24T17:57:18.901963Z",
     "start_time": "2024-07-24T17:57:17.400532Z"
    }
   },
   "cell_type": "code",
   "source": [
    "# Now we can plot the NRMSE for each spectral radius\n",
    "radii = [result['radius'] for result in results]\n",
    "nrmse = [result['nrmse'] for result in results]\n",
    "\n",
    "plt.figure(figsize=(10, 7))\n",
    "plt.plot(radii, nrmse, marker='o')\n",
    "\n",
    "plt.xlabel('Spectral Radius')\n",
    "plt.ylabel('NRMSE')\n",
    "plt.title('NRMSE for different Spectral Radii')\n",
    "\n",
    "plt.tight_layout()\n",
    "plt.show()"
   ],
   "id": "fc4afd605aead321",
   "outputs": [
    {
     "data": {
      "text/plain": [
       "<Figure size 1000x700 with 1 Axes>"
      ],
      "image/png": "[encoded data removed]"
     },
     "metadata": {},
     "output_type": "display_data"
    }
   ],
   "execution_count": 124
  },
  {
   "metadata": {
    "ExecuteTime": {
     "end_time": "2024-07-24T17:57:19.992091Z",
     "start_time": "2024-07-24T17:57:18.903928Z"
    }
   },
   "cell_type": "code",
   "source": [
    "# Get the best spectral radius\n",
    "best_radius = results[np.argmin(nrmse)]['radius']\n",
    "\n",
    "print(f'Best Spectral Radius: {best_radius}')"
   ],
   "id": "c15ae7ff6cb0205f",
   "outputs": [
    {
     "name": "stdout",
     "output_type": "stream",
     "text": [
      "Best Spectral Radius: 0.95\n"
     ]
    }
   ],
   "execution_count": 125
  },
  {
   "metadata": {
    "ExecuteTime": {
     "end_time": "2024-07-24T17:57:21.142460Z",
     "start_time": "2024-07-24T17:57:19.994120Z"
    }
   },
   "cell_type": "code",
   "source": "run_leakage = False",
   "id": "8d380f0e8a8d642e",
   "outputs": [],
   "execution_count": 126
  },
  {
   "metadata": {
    "ExecuteTime": {
     "end_time": "2024-07-24T20:58:52.220496Z",
     "start_time": "2024-07-24T17:57:21.146457Z"
    }
   },
   "cell_type": "code",
   "source": [
    "# Now that there is a working version, we can optimise the hyperparameters\n",
    "from sklearn.metrics import mean_squared_error\n",
    "\n",
    "# The number of neurons will be fixed at 500\n",
    "n_neurons = 500\n",
    "\n",
    "density = 0.1\n",
    "leakage_rate = 0.3\n",
    "spectral_radius = 0.95\n",
    "gamma = 1.\n",
    "sparsity = 0.1\n",
    "\n",
    "input_weights = np.random.rand(n_neurons, n_features) < density\n",
    "W_in = input_weights\n",
    "\n",
    "# Now we will optimise the leakage rate\n",
    "# The leakage rate is a value between 0 and 1 and is used to determine how much of the previous state of the reservoir is retained\n",
    "# A value of 0 will mean that none of the previous state is retained\n",
    "# A value of 1 will mean that all of the previous state is retained and no new information is added\n",
    "leakage_rates = [0.01, 0.05, 0.1, 0.2, 0.3, 0.4, 0.5, 0.6, 0.7, 0.8, 0.9, 0.95, 0.99]\n",
    "\n",
    "# We will train the ESN on the training data and evaluate it on the validation data\n",
    "leakage_scores = []\n",
    "\n",
    "if run_leakage:\n",
    "    # There are 13 leakage rates to test, so let's parallelise the process\n",
    "    def evaluate_leakage_rate(rate):\n",
    "        esn = BasicESN(leakage_rate=rate, spectral_radius=spectral_radius, gamma=gamma, n_neurons=n_neurons, W_in=W_in, sparsity=sparsity, is_optimising=False)\n",
    "        esn.fit(data_in, data_out)\n",
    "        \n",
    "        y_pred = esn.forward(X_val)\n",
    "        \n",
    "        y_pred_decoded = encoder.inverse_transform(y_pred)\n",
    "        \n",
    "        # Calculate the NRMSE\n",
    "        # The NRMSE is the normalised root mean squared error\n",
    "        # It is calculated as the RMSE divided by the range of the true values\n",
    "        \n",
    "        nrmse = np.sqrt(mean_squared_error(y_val_decoded, y_pred_decoded)) / (y_val_decoded.max() - y_val_decoded.min())\n",
    "        \n",
    "        leakage_scores.append(nrmse)\n",
    "        \n",
    "        # Return the rate and the NRMSE via joblib\n",
    "        print(f'Leakage Rate: {rate}, NRMSE: {nrmse}')\n",
    "        \n",
    "        return {'rate': rate, 'nrmse': nrmse}\n",
    "    \n",
    "    # with tqdm_joblib(tqdm(desc=\"Leakage Rate\", total=len(leakage_rates))) as progress_bar:\n",
    "    #     results = Parallel(n_jobs=4)(delayed(evaluate_leakage_rate)(rate) for rate in leakage_rates)\n",
    "    results = []\n",
    "    for rate in leakage_rates:\n",
    "        print(f'Running for rate: {rate}')\n",
    "        results.append(evaluate_leakage_rate(rate))\n",
    "else:\n",
    "    #results = [{'rate': 0.01, 'nrmse': 0.25124190818488}, {'rate': 0.05, 'nrmse': 0.2681906893923783}, {'rate': 0.1, 'nrmse': 0.26706317039377186}, {'rate': 0.2, 'nrmse': 0.24336720609682508}, {'rate': 0.3, 'nrmse': 0.24555088370120406}, {'rate': 0.4, 'nrmse': 0.2319308621095861}, {'rate': 0.5, 'nrmse': 0.22497402886748671}, {'rate': 0.6, 'nrmse': 0.20125566822625374}, {'rate': 0.7, 'nrmse': 0.19946100171160389}, {'rate': 0.8, 'nrmse': 0.19053586646013923}, {'rate': 0.9, 'nrmse': 0.1741566448003967}, {'rate': 0.95, 'nrmse': 0.18456934433880887}, {'rate': 0.99, 'nrmse': 0.19656424015426976}]\n",
    "    results = [{'rate': 0.01, 'nrmse': 0.5848190581494312}, {'rate': 0.05, 'nrmse': 0.5847409313840034}, {'rate': 0.1, 'nrmse': 0.5848642694280468}, {'rate': 0.2, 'nrmse': 0.5847439234597631}, {'rate': 0.3, 'nrmse': 0.5847674251998481}, {'rate': 0.4, 'nrmse': 0.5849034464929598}, {'rate': 0.5, 'nrmse': 0.5845712749461299}, {'rate': 0.6, 'nrmse': 0.5846512102576803}, {'rate': 0.7, 'nrmse': 0.584546365332783}, {'rate': 0.8, 'nrmse': 0.5845145509302848}, {'rate': 0.9, 'nrmse': 0.5849402087904814}, {'rate': 0.95, 'nrmse': 0.5847656396798547}, {'rate': 0.99, 'nrmse': 0.5806604040885573}]\n"
   ],
   "id": "7d9790a8b6e03528",
   "outputs": [
    {
     "name": "stdout",
     "output_type": "stream",
     "text": [
      "Running for rate: 0.01\n",
      "[]\n",
      "Is CUDA available: True\n",
      "BasicESN initialised with leakage_rate: 0.01, spectral_radius: 0.95, gamma: 1.0, n_neurons: 500, sparsity: 0.1\n"
     ]
    },
    {
     "name": "stderr",
     "output_type": "stream",
     "text": [
      "1450000it [11:22, 2123.01it/s]                             \n"
     ]
    },
    {
     "name": "stdout",
     "output_type": "stream",
     "text": [
      "Shape of previous_states: (1446144, 500)\n",
      "Reservoir state computed, fitting readout layer...\n"
     ]
    },
    {
     "name": "stderr",
     "output_type": "stream",
     "text": [
      "C:\\Users\\mail\\anaconda3\\envs\\training\\lib\\site-packages\\sklearn\\linear_model\\_ridge.py:211: LinAlgWarning: Ill-conditioned matrix (rcond=1.64358e-08): result may not be accurate.\n",
      "  return linalg.solve(A, Xy, assume_a=\"pos\", overwrite_a=True).T\n"
     ]
    },
    {
     "name": "stdout",
     "output_type": "stream",
     "text": [
      "Readout layer fitted.\n"
     ]
    },
    {
     "name": "stderr",
     "output_type": "stream",
     "text": [
      "370000it [02:40, 2309.41it/s]                            \n"
     ]
    },
    {
     "name": "stdout",
     "output_type": "stream",
     "text": [
      "Shape of previous_states: (361600, 500)\n",
      "Leakage Rate: 0.01, NRMSE: 0.5848190581494312\n",
      "Running for rate: 0.05\n",
      "[]\n",
      "Is CUDA available: True\n",
      "BasicESN initialised with leakage_rate: 0.05, spectral_radius: 0.95, gamma: 1.0, n_neurons: 500, sparsity: 0.1\n"
     ]
    },
    {
     "name": "stderr",
     "output_type": "stream",
     "text": [
      "1450000it [10:59, 2197.29it/s]                             \n"
     ]
    },
    {
     "name": "stdout",
     "output_type": "stream",
     "text": [
      "Shape of previous_states: (1446144, 500)\n",
      "Reservoir state computed, fitting readout layer...\n"
     ]
    },
    {
     "name": "stderr",
     "output_type": "stream",
     "text": [
      "C:\\Users\\mail\\anaconda3\\envs\\training\\lib\\site-packages\\sklearn\\linear_model\\_ridge.py:211: LinAlgWarning: Ill-conditioned matrix (rcond=8.27374e-09): result may not be accurate.\n",
      "  return linalg.solve(A, Xy, assume_a=\"pos\", overwrite_a=True).T\n"
     ]
    },
    {
     "name": "stdout",
     "output_type": "stream",
     "text": [
      "Readout layer fitted.\n"
     ]
    },
    {
     "name": "stderr",
     "output_type": "stream",
     "text": [
      "370000it [02:47, 2208.23it/s]                            \n"
     ]
    },
    {
     "name": "stdout",
     "output_type": "stream",
     "text": [
      "Shape of previous_states: (361600, 500)\n",
      "Leakage Rate: 0.05, NRMSE: 0.5847409313840034\n",
      "Running for rate: 0.1\n",
      "[]\n",
      "Is CUDA available: True\n",
      "BasicESN initialised with leakage_rate: 0.1, spectral_radius: 0.95, gamma: 1.0, n_neurons: 500, sparsity: 0.1\n"
     ]
    },
    {
     "name": "stderr",
     "output_type": "stream",
     "text": [
      "1450000it [10:53, 2217.82it/s]                             \n"
     ]
    },
    {
     "name": "stdout",
     "output_type": "stream",
     "text": [
      "Shape of previous_states: (1446144, 500)\n",
      "Reservoir state computed, fitting readout layer...\n"
     ]
    },
    {
     "name": "stderr",
     "output_type": "stream",
     "text": [
      "C:\\Users\\mail\\anaconda3\\envs\\training\\lib\\site-packages\\sklearn\\linear_model\\_ridge.py:211: LinAlgWarning: Ill-conditioned matrix (rcond=1.09947e-08): result may not be accurate.\n",
      "  return linalg.solve(A, Xy, assume_a=\"pos\", overwrite_a=True).T\n"
     ]
    },
    {
     "name": "stdout",
     "output_type": "stream",
     "text": [
      "Readout layer fitted.\n"
     ]
    },
    {
     "name": "stderr",
     "output_type": "stream",
     "text": [
      "370000it [02:46, 2221.73it/s]                            \n"
     ]
    },
    {
     "name": "stdout",
     "output_type": "stream",
     "text": [
      "Shape of previous_states: (361600, 500)\n",
      "Leakage Rate: 0.1, NRMSE: 0.5848642694280468\n",
      "Running for rate: 0.2\n",
      "[]\n",
      "Is CUDA available: True\n",
      "BasicESN initialised with leakage_rate: 0.2, spectral_radius: 0.95, gamma: 1.0, n_neurons: 500, sparsity: 0.1\n"
     ]
    },
    {
     "name": "stderr",
     "output_type": "stream",
     "text": [
      "1450000it [10:42, 2257.38it/s]                             \n"
     ]
    },
    {
     "name": "stdout",
     "output_type": "stream",
     "text": [
      "Shape of previous_states: (1446144, 500)\n",
      "Reservoir state computed, fitting readout layer...\n"
     ]
    },
    {
     "name": "stderr",
     "output_type": "stream",
     "text": [
      "C:\\Users\\mail\\anaconda3\\envs\\training\\lib\\site-packages\\sklearn\\linear_model\\_ridge.py:211: LinAlgWarning: Ill-conditioned matrix (rcond=7.47438e-09): result may not be accurate.\n",
      "  return linalg.solve(A, Xy, assume_a=\"pos\", overwrite_a=True).T\n"
     ]
    },
    {
     "name": "stdout",
     "output_type": "stream",
     "text": [
      "Readout layer fitted.\n"
     ]
    },
    {
     "name": "stderr",
     "output_type": "stream",
     "text": [
      "370000it [02:48, 2200.89it/s]                            \n"
     ]
    },
    {
     "name": "stdout",
     "output_type": "stream",
     "text": [
      "Shape of previous_states: (361600, 500)\n",
      "Leakage Rate: 0.2, NRMSE: 0.5847439234597631\n",
      "Running for rate: 0.3\n",
      "[]\n",
      "Is CUDA available: True\n",
      "BasicESN initialised with leakage_rate: 0.3, spectral_radius: 0.95, gamma: 1.0, n_neurons: 500, sparsity: 0.1\n"
     ]
    },
    {
     "name": "stderr",
     "output_type": "stream",
     "text": [
      "1450000it [10:28, 2307.41it/s]                             \n"
     ]
    },
    {
     "name": "stdout",
     "output_type": "stream",
     "text": [
      "Shape of previous_states: (1446144, 500)\n",
      "Reservoir state computed, fitting readout layer...\n"
     ]
    },
    {
     "name": "stderr",
     "output_type": "stream",
     "text": [
      "C:\\Users\\mail\\anaconda3\\envs\\training\\lib\\site-packages\\sklearn\\linear_model\\_ridge.py:211: LinAlgWarning: Ill-conditioned matrix (rcond=7.77548e-09): result may not be accurate.\n",
      "  return linalg.solve(A, Xy, assume_a=\"pos\", overwrite_a=True).T\n"
     ]
    },
    {
     "name": "stdout",
     "output_type": "stream",
     "text": [
      "Readout layer fitted.\n"
     ]
    },
    {
     "name": "stderr",
     "output_type": "stream",
     "text": [
      "370000it [02:46, 2219.36it/s]                            \n"
     ]
    },
    {
     "name": "stdout",
     "output_type": "stream",
     "text": [
      "Shape of previous_states: (361600, 500)\n",
      "Leakage Rate: 0.3, NRMSE: 0.5847674251998481\n",
      "Running for rate: 0.4\n",
      "[]\n",
      "Is CUDA available: True\n",
      "BasicESN initialised with leakage_rate: 0.4, spectral_radius: 0.95, gamma: 1.0, n_neurons: 500, sparsity: 0.1\n"
     ]
    },
    {
     "name": "stderr",
     "output_type": "stream",
     "text": [
      "1450000it [10:55, 2211.47it/s]                             \n"
     ]
    },
    {
     "name": "stdout",
     "output_type": "stream",
     "text": [
      "Shape of previous_states: (1446144, 500)\n",
      "Reservoir state computed, fitting readout layer...\n"
     ]
    },
    {
     "name": "stderr",
     "output_type": "stream",
     "text": [
      "C:\\Users\\mail\\anaconda3\\envs\\training\\lib\\site-packages\\sklearn\\linear_model\\_ridge.py:211: LinAlgWarning: Ill-conditioned matrix (rcond=5.21264e-09): result may not be accurate.\n",
      "  return linalg.solve(A, Xy, assume_a=\"pos\", overwrite_a=True).T\n"
     ]
    },
    {
     "name": "stdout",
     "output_type": "stream",
     "text": [
      "Readout layer fitted.\n"
     ]
    },
    {
     "name": "stderr",
     "output_type": "stream",
     "text": [
      "370000it [02:50, 2173.66it/s]                            \n"
     ]
    },
    {
     "name": "stdout",
     "output_type": "stream",
     "text": [
      "Shape of previous_states: (361600, 500)\n",
      "Leakage Rate: 0.4, NRMSE: 0.5849034464929598\n",
      "Running for rate: 0.5\n",
      "[]\n",
      "Is CUDA available: True\n",
      "BasicESN initialised with leakage_rate: 0.5, spectral_radius: 0.95, gamma: 1.0, n_neurons: 500, sparsity: 0.1\n"
     ]
    },
    {
     "name": "stderr",
     "output_type": "stream",
     "text": [
      "1450000it [11:03, 2185.43it/s]                             \n"
     ]
    },
    {
     "name": "stdout",
     "output_type": "stream",
     "text": [
      "Shape of previous_states: (1446144, 500)\n",
      "Reservoir state computed, fitting readout layer...\n"
     ]
    },
    {
     "name": "stderr",
     "output_type": "stream",
     "text": [
      "C:\\Users\\mail\\anaconda3\\envs\\training\\lib\\site-packages\\sklearn\\linear_model\\_ridge.py:211: LinAlgWarning: Ill-conditioned matrix (rcond=3.70486e-09): result may not be accurate.\n",
      "  return linalg.solve(A, Xy, assume_a=\"pos\", overwrite_a=True).T\n"
     ]
    },
    {
     "name": "stdout",
     "output_type": "stream",
     "text": [
      "Readout layer fitted.\n"
     ]
    },
    {
     "name": "stderr",
     "output_type": "stream",
     "text": [
      "370000it [02:52, 2147.67it/s]                            \n"
     ]
    },
    {
     "name": "stdout",
     "output_type": "stream",
     "text": [
      "Shape of previous_states: (361600, 500)\n",
      "Leakage Rate: 0.5, NRMSE: 0.5845712749461299\n",
      "Running for rate: 0.6\n",
      "[]\n",
      "Is CUDA available: True\n",
      "BasicESN initialised with leakage_rate: 0.6, spectral_radius: 0.95, gamma: 1.0, n_neurons: 500, sparsity: 0.1\n"
     ]
    },
    {
     "name": "stderr",
     "output_type": "stream",
     "text": [
      "1450000it [11:15, 2146.13it/s]                             \n"
     ]
    },
    {
     "name": "stdout",
     "output_type": "stream",
     "text": [
      "Shape of previous_states: (1446144, 500)\n",
      "Reservoir state computed, fitting readout layer...\n"
     ]
    },
    {
     "name": "stderr",
     "output_type": "stream",
     "text": [
      "C:\\Users\\mail\\anaconda3\\envs\\training\\lib\\site-packages\\sklearn\\linear_model\\_ridge.py:211: LinAlgWarning: Ill-conditioned matrix (rcond=1.19898e-09): result may not be accurate.\n",
      "  return linalg.solve(A, Xy, assume_a=\"pos\", overwrite_a=True).T\n"
     ]
    },
    {
     "name": "stdout",
     "output_type": "stream",
     "text": [
      "Readout layer fitted.\n"
     ]
    },
    {
     "name": "stderr",
     "output_type": "stream",
     "text": [
      "370000it [02:45, 2233.53it/s]                            \n"
     ]
    },
    {
     "name": "stdout",
     "output_type": "stream",
     "text": [
      "Shape of previous_states: (361600, 500)\n",
      "Leakage Rate: 0.6, NRMSE: 0.5846512102576803\n",
      "Running for rate: 0.7\n",
      "[]\n",
      "Is CUDA available: True\n",
      "BasicESN initialised with leakage_rate: 0.7, spectral_radius: 0.95, gamma: 1.0, n_neurons: 500, sparsity: 0.1\n"
     ]
    },
    {
     "name": "stderr",
     "output_type": "stream",
     "text": [
      "1450000it [10:54, 2216.02it/s]                             \n"
     ]
    },
    {
     "name": "stdout",
     "output_type": "stream",
     "text": [
      "Shape of previous_states: (1446144, 500)\n",
      "Reservoir state computed, fitting readout layer...\n"
     ]
    },
    {
     "name": "stderr",
     "output_type": "stream",
     "text": [
      "C:\\Users\\mail\\anaconda3\\envs\\training\\lib\\site-packages\\sklearn\\linear_model\\_ridge.py:211: LinAlgWarning: Ill-conditioned matrix (rcond=2.15089e-09): result may not be accurate.\n",
      "  return linalg.solve(A, Xy, assume_a=\"pos\", overwrite_a=True).T\n"
     ]
    },
    {
     "name": "stdout",
     "output_type": "stream",
     "text": [
      "Readout layer fitted.\n"
     ]
    },
    {
     "name": "stderr",
     "output_type": "stream",
     "text": [
      "370000it [02:44, 2254.66it/s]                            \n"
     ]
    },
    {
     "name": "stdout",
     "output_type": "stream",
     "text": [
      "Shape of previous_states: (361600, 500)\n",
      "Leakage Rate: 0.7, NRMSE: 0.584546365332783\n",
      "Running for rate: 0.8\n",
      "[]\n",
      "Is CUDA available: True\n",
      "BasicESN initialised with leakage_rate: 0.8, spectral_radius: 0.95, gamma: 1.0, n_neurons: 500, sparsity: 0.1\n"
     ]
    },
    {
     "name": "stderr",
     "output_type": "stream",
     "text": [
      "1450000it [10:57, 2205.30it/s]                             \n"
     ]
    },
    {
     "name": "stdout",
     "output_type": "stream",
     "text": [
      "Shape of previous_states: (1446144, 500)\n",
      "Reservoir state computed, fitting readout layer...\n"
     ]
    },
    {
     "name": "stderr",
     "output_type": "stream",
     "text": [
      "C:\\Users\\mail\\anaconda3\\envs\\training\\lib\\site-packages\\sklearn\\linear_model\\_ridge.py:211: LinAlgWarning: Ill-conditioned matrix (rcond=7.94493e-10): result may not be accurate.\n",
      "  return linalg.solve(A, Xy, assume_a=\"pos\", overwrite_a=True).T\n"
     ]
    },
    {
     "name": "stdout",
     "output_type": "stream",
     "text": [
      "Readout layer fitted.\n"
     ]
    },
    {
     "name": "stderr",
     "output_type": "stream",
     "text": [
      "370000it [02:44, 2251.71it/s]                            \n"
     ]
    },
    {
     "name": "stdout",
     "output_type": "stream",
     "text": [
      "Shape of previous_states: (361600, 500)\n",
      "Leakage Rate: 0.8, NRMSE: 0.5845145509302848\n",
      "Running for rate: 0.9\n",
      "[]\n",
      "Is CUDA available: True\n",
      "BasicESN initialised with leakage_rate: 0.9, spectral_radius: 0.95, gamma: 1.0, n_neurons: 500, sparsity: 0.1\n"
     ]
    },
    {
     "name": "stderr",
     "output_type": "stream",
     "text": [
      "1450000it [11:02, 2189.04it/s]                             \n"
     ]
    },
    {
     "name": "stdout",
     "output_type": "stream",
     "text": [
      "Shape of previous_states: (1446144, 500)\n",
      "Reservoir state computed, fitting readout layer...\n"
     ]
    },
    {
     "name": "stderr",
     "output_type": "stream",
     "text": [
      "C:\\Users\\mail\\anaconda3\\envs\\training\\lib\\site-packages\\sklearn\\linear_model\\_ridge.py:211: LinAlgWarning: Ill-conditioned matrix (rcond=6.18668e-11): result may not be accurate.\n",
      "  return linalg.solve(A, Xy, assume_a=\"pos\", overwrite_a=True).T\n"
     ]
    },
    {
     "name": "stdout",
     "output_type": "stream",
     "text": [
      "Readout layer fitted.\n"
     ]
    },
    {
     "name": "stderr",
     "output_type": "stream",
     "text": [
      "370000it [02:48, 2199.38it/s]                            \n"
     ]
    },
    {
     "name": "stdout",
     "output_type": "stream",
     "text": [
      "Shape of previous_states: (361600, 500)\n",
      "Leakage Rate: 0.9, NRMSE: 0.5849402087904814\n",
      "Running for rate: 0.95\n",
      "[]\n",
      "Is CUDA available: True\n",
      "BasicESN initialised with leakage_rate: 0.95, spectral_radius: 0.95, gamma: 1.0, n_neurons: 500, sparsity: 0.1\n"
     ]
    },
    {
     "name": "stderr",
     "output_type": "stream",
     "text": [
      "1450000it [10:59, 2197.74it/s]                             \n"
     ]
    },
    {
     "name": "stdout",
     "output_type": "stream",
     "text": [
      "Shape of previous_states: (1446144, 500)\n",
      "Reservoir state computed, fitting readout layer...\n"
     ]
    },
    {
     "name": "stderr",
     "output_type": "stream",
     "text": [
      "C:\\Users\\mail\\anaconda3\\envs\\training\\lib\\site-packages\\sklearn\\linear_model\\_ridge.py:211: LinAlgWarning: Ill-conditioned matrix (rcond=1.09829e-09): result may not be accurate.\n",
      "  return linalg.solve(A, Xy, assume_a=\"pos\", overwrite_a=True).T\n"
     ]
    },
    {
     "name": "stdout",
     "output_type": "stream",
     "text": [
      "Readout layer fitted.\n"
     ]
    },
    {
     "name": "stderr",
     "output_type": "stream",
     "text": [
      "370000it [02:44, 2243.35it/s]                            \n"
     ]
    },
    {
     "name": "stdout",
     "output_type": "stream",
     "text": [
      "Shape of previous_states: (361600, 500)\n",
      "Leakage Rate: 0.95, NRMSE: 0.5847656396798547\n",
      "Running for rate: 0.99\n",
      "[]\n",
      "Is CUDA available: True\n",
      "BasicESN initialised with leakage_rate: 0.99, spectral_radius: 0.95, gamma: 1.0, n_neurons: 500, sparsity: 0.1\n"
     ]
    },
    {
     "name": "stderr",
     "output_type": "stream",
     "text": [
      "1450000it [11:36, 2080.72it/s]                             \n"
     ]
    },
    {
     "name": "stdout",
     "output_type": "stream",
     "text": [
      "Shape of previous_states: (1446144, 500)\n",
      "Reservoir state computed, fitting readout layer...\n"
     ]
    },
    {
     "name": "stderr",
     "output_type": "stream",
     "text": [
      "C:\\Users\\mail\\anaconda3\\envs\\training\\lib\\site-packages\\sklearn\\linear_model\\_ridge.py:211: LinAlgWarning: Ill-conditioned matrix (rcond=9.2687e-11): result may not be accurate.\n",
      "  return linalg.solve(A, Xy, assume_a=\"pos\", overwrite_a=True).T\n"
     ]
    },
    {
     "name": "stdout",
     "output_type": "stream",
     "text": [
      "Readout layer fitted.\n"
     ]
    },
    {
     "name": "stderr",
     "output_type": "stream",
     "text": [
      "370000it [02:50, 2173.74it/s]                            \n"
     ]
    },
    {
     "name": "stdout",
     "output_type": "stream",
     "text": [
      "Shape of previous_states: (361600, 500)\n",
      "Leakage Rate: 0.99, NRMSE: 0.5806604040885573\n"
     ]
    }
   ],
   "execution_count": 127
  },
  {
   "metadata": {
    "ExecuteTime": {
     "end_time": "2024-07-24T20:58:54.705013Z",
     "start_time": "2024-07-24T20:58:52.226509Z"
    }
   },
   "cell_type": "code",
   "source": "print(results)\n",
   "id": "20f07e2a51e462f5",
   "outputs": [
    {
     "name": "stdout",
     "output_type": "stream",
     "text": [
      "[{'rate': 0.01, 'nrmse': 0.5848190581494312}, {'rate': 0.05, 'nrmse': 0.5847409313840034}, {'rate': 0.1, 'nrmse': 0.5848642694280468}, {'rate': 0.2, 'nrmse': 0.5847439234597631}, {'rate': 0.3, 'nrmse': 0.5847674251998481}, {'rate': 0.4, 'nrmse': 0.5849034464929598}, {'rate': 0.5, 'nrmse': 0.5845712749461299}, {'rate': 0.6, 'nrmse': 0.5846512102576803}, {'rate': 0.7, 'nrmse': 0.584546365332783}, {'rate': 0.8, 'nrmse': 0.5845145509302848}, {'rate': 0.9, 'nrmse': 0.5849402087904814}, {'rate': 0.95, 'nrmse': 0.5847656396798547}, {'rate': 0.99, 'nrmse': 0.5806604040885573}]\n"
     ]
    }
   ],
   "execution_count": 128
  },
  {
   "metadata": {
    "ExecuteTime": {
     "end_time": "2024-07-24T20:58:56.637006Z",
     "start_time": "2024-07-24T20:58:54.708013Z"
    }
   },
   "cell_type": "code",
   "source": [
    "# Now we can plot the NRMSE for each leakage rate\n",
    "rates = [result['rate'] for result in results]\n",
    "nrmse = [result['nrmse'] for result in results]\n",
    "\n",
    "plt.figure(figsize=(10, 7))\n",
    "plt.plot(rates, nrmse, marker='o')\n",
    "    \n",
    "plt.xlabel('Leakage Rate')\n",
    "plt.ylabel('NRMSE')\n",
    "plt.title('NRMSE for different Leakage Rates')\n",
    "\n",
    "plt.tight_layout()\n",
    "plt.show()"
   ],
   "id": "ff5475ee1efae37b",
   "outputs": [
    {
     "data": {
      "text/plain": [
       "<Figure size 1000x700 with 1 Axes>"
      ],
      "image/png": "[encoded data removed]"
     },
     "metadata": {},
     "output_type": "display_data"
    }
   ],
   "execution_count": 129
  },
  {
   "metadata": {
    "ExecuteTime": {
     "end_time": "2024-07-24T20:58:58.039743Z",
     "start_time": "2024-07-24T20:58:56.641013Z"
    }
   },
   "cell_type": "code",
   "source": [
    "# Get the best leakage rate\n",
    "best_rate = results[np.argmin(nrmse)]['rate']\n",
    "\n",
    "print(f'Best Leakage Rate: {best_rate}')"
   ],
   "id": "a1e1e8055b795372",
   "outputs": [
    {
     "name": "stdout",
     "output_type": "stream",
     "text": [
      "Best Leakage Rate: 0.99\n"
     ]
    }
   ],
   "execution_count": 130
  },
  {
   "metadata": {
    "ExecuteTime": {
     "end_time": "2024-07-24T20:58:59.328255Z",
     "start_time": "2024-07-24T20:58:58.043260Z"
    }
   },
   "cell_type": "code",
   "source": "run_gamma = True",
   "id": "95c629b9b35b8a92",
   "outputs": [],
   "execution_count": 131
  },
  {
   "metadata": {
    "ExecuteTime": {
     "end_time": "2024-07-24T23:29:51.902487Z",
     "start_time": "2024-07-24T20:58:59.331257Z"
    }
   },
   "cell_type": "code",
   "source": [
    "# Now we can optimise the gamma parameter\n",
    "# The gamma parameter is used to scale the input weights\n",
    "# It is a value between 0 and 1\n",
    "# A value of 1 will mean that the input weights are not scaled\n",
    "# A value of 0 will mean that the input weights are all 0\n",
    "\n",
    "# The number of neurons will be fixed at 500\n",
    "n_neurons = 500\n",
    "\n",
    "density = 0.1\n",
    "leakage_rate = best_rate\n",
    "spectral_radius = best_radius\n",
    "gamma = 1\n",
    "sparsity = 0.1\n",
    "\n",
    "input_weights = np.random.rand(n_neurons, n_features) < density\n",
    "\n",
    "W_in = input_weights\n",
    "\n",
    "# We will optimise the gamma parameter\n",
    "\n",
    "gammas = [0.01, 0.05, 0.1, 0.2, 0.3, 0.4, 0.5, 0.6, 0.7, 0.8, 0.9, 0.95, 0.99]\n",
    "\n",
    "# We will train the ESN on the training data and evaluate it on the validation data\n",
    "gamma_scores = []\n",
    "\n",
    "if run_gamma:\n",
    "    # There are 13 gamma values to test, so let's parallelise the process\n",
    "    def evaluate_gamma(gamma):\n",
    "        esn = BasicESN(leakage_rate=leakage_rate, spectral_radius=spectral_radius, gamma=gamma, n_neurons=n_neurons, W_in=W_in, sparsity=sparsity, is_optimising=False)\n",
    "        esn.fit(data_in, data_out)\n",
    "        \n",
    "        y_pred = esn.forward(X_val)\n",
    "        \n",
    "        y_pred_decoded = encoder.inverse_transform(y_pred)\n",
    "        \n",
    "        # Calculate the NRMSE\n",
    "        # The NRMSE is the normalised root mean squared error\n",
    "        # It is calculated as the RMSE divided by the range of the true values\n",
    "        \n",
    "        nrmse = np.sqrt(mean_squared_error(y_val_decoded, y_pred_decoded)) / (y_val_decoded.max() - y_val_decoded.min())\n",
    "        \n",
    "        gamma_scores.append(nrmse)\n",
    "        \n",
    "        # Return the gamma and the NRMSE via joblib\n",
    "        print(f'Gamma: {gamma}, NRMSE: {nrmse}')\n",
    "        \n",
    "        return {'gamma': gamma, 'nrmse': nrmse}\n",
    "    \n",
    "    # with tqdm_joblib(tqdm(desc=\"Gamma\", total=len(gammas))) as progress_bar:\n",
    "    #     results = Parallel(n_jobs=4)(delayed(evaluate_gamma)(gamma) for gamma in gammas)\n",
    "    results = []\n",
    "    for gamma in gammas:\n",
    "        print(f'Running for gamma: {gamma}')\n",
    "        results.append(evaluate_gamma(gamma))\n",
    "        \n",
    "else:\n",
    "    results = [{'gamma': 0.01, 'nrmse': 0.3349602855101908}, {'gamma': 0.05, 'nrmse': 0.33045212706131855}, {'gamma': 0.1, 'nrmse': 0.3290671066122628}, {'gamma': 0.2, 'nrmse': 0.29955513273731876}, {'gamma': 0.3, 'nrmse': 0.24673740826225551}, {'gamma': 0.4, 'nrmse': 0.22749927728185315}, {'gamma': 0.5, 'nrmse': 0.22418029881240797}, {'gamma': 0.6, 'nrmse': 0.2155434353574596}, {'gamma': 0.7, 'nrmse': 0.21459169317536275}, {'gamma': 0.8, 'nrmse': 0.19456340750175669}, {'gamma': 0.9, 'nrmse': 0.18447620141525248}, {'gamma': 0.95, 'nrmse': 0.18382599604128477}, {'gamma': 0.99, 'nrmse': 0.18044621192767088}]"
   ],
   "id": "24fd7eef1a1af8d8",
   "outputs": [
    {
     "name": "stdout",
     "output_type": "stream",
     "text": [
      "Running for gamma: 0.01\n",
      "[]\n",
      "Is CUDA available: True\n",
      "BasicESN initialised with leakage_rate: 0.99, spectral_radius: 0.95, gamma: 0.01, n_neurons: 500, sparsity: 0.1\n"
     ]
    },
    {
     "name": "stderr",
     "output_type": "stream",
     "text": [
      "1450000it [11:01, 2190.98it/s]                             \n"
     ]
    },
    {
     "name": "stdout",
     "output_type": "stream",
     "text": [
      "Shape of previous_states: (1446144, 500)\n",
      "Reservoir state computed, fitting readout layer...\n",
      "Readout layer fitted.\n"
     ]
    },
    {
     "name": "stderr",
     "output_type": "stream",
     "text": [
      "370000it [02:47, 2207.97it/s]                            \n"
     ]
    },
    {
     "name": "stdout",
     "output_type": "stream",
     "text": [
      "Shape of previous_states: (361600, 500)\n",
      "Gamma: 0.01, NRMSE: 0.5854556025840681\n",
      "Running for gamma: 0.05\n",
      "[]\n",
      "Is CUDA available: True\n",
      "BasicESN initialised with leakage_rate: 0.99, spectral_radius: 0.95, gamma: 0.05, n_neurons: 500, sparsity: 0.1\n"
     ]
    },
    {
     "name": "stderr",
     "output_type": "stream",
     "text": [
      "1450000it [11:02, 2188.37it/s]                             \n"
     ]
    },
    {
     "name": "stdout",
     "output_type": "stream",
     "text": [
      "Shape of previous_states: (1446144, 500)\n",
      "Reservoir state computed, fitting readout layer...\n",
      "Readout layer fitted.\n"
     ]
    },
    {
     "name": "stderr",
     "output_type": "stream",
     "text": [
      "370000it [02:51, 2162.61it/s]                            \n"
     ]
    },
    {
     "name": "stdout",
     "output_type": "stream",
     "text": [
      "Shape of previous_states: (361600, 500)\n",
      "Gamma: 0.05, NRMSE: 0.5840714797077347\n",
      "Running for gamma: 0.1\n",
      "[]\n",
      "Is CUDA available: True\n",
      "BasicESN initialised with leakage_rate: 0.99, spectral_radius: 0.95, gamma: 0.1, n_neurons: 500, sparsity: 0.1\n"
     ]
    },
    {
     "name": "stderr",
     "output_type": "stream",
     "text": [
      "1450000it [11:04, 2182.98it/s]                             \n"
     ]
    },
    {
     "name": "stdout",
     "output_type": "stream",
     "text": [
      "Shape of previous_states: (1446144, 500)\n",
      "Reservoir state computed, fitting readout layer...\n",
      "Readout layer fitted.\n"
     ]
    },
    {
     "name": "stderr",
     "output_type": "stream",
     "text": [
      "370000it [02:32, 2426.78it/s]                            \n"
     ]
    },
    {
     "name": "stdout",
     "output_type": "stream",
     "text": [
      "Shape of previous_states: (361600, 500)\n",
      "Gamma: 0.1, NRMSE: 0.5843880969062177\n",
      "Running for gamma: 0.2\n",
      "[]\n",
      "Is CUDA available: True\n",
      "BasicESN initialised with leakage_rate: 0.99, spectral_radius: 0.95, gamma: 0.2, n_neurons: 500, sparsity: 0.1\n"
     ]
    },
    {
     "name": "stderr",
     "output_type": "stream",
     "text": [
      "1450000it [11:03, 2186.96it/s]                             \n"
     ]
    },
    {
     "name": "stdout",
     "output_type": "stream",
     "text": [
      "Shape of previous_states: (1446144, 500)\n",
      "Reservoir state computed, fitting readout layer...\n"
     ]
    },
    {
     "name": "stderr",
     "output_type": "stream",
     "text": [
      "C:\\Users\\mail\\anaconda3\\envs\\training\\lib\\site-packages\\sklearn\\linear_model\\_ridge.py:211: LinAlgWarning: Ill-conditioned matrix (rcond=4.71316e-08): result may not be accurate.\n",
      "  return linalg.solve(A, Xy, assume_a=\"pos\", overwrite_a=True).T\n"
     ]
    },
    {
     "name": "stdout",
     "output_type": "stream",
     "text": [
      "Readout layer fitted.\n"
     ]
    },
    {
     "name": "stderr",
     "output_type": "stream",
     "text": [
      "370000it [02:48, 2190.95it/s]                            \n"
     ]
    },
    {
     "name": "stdout",
     "output_type": "stream",
     "text": [
      "Shape of previous_states: (361600, 500)\n",
      "Gamma: 0.2, NRMSE: 0.5850074073862375\n",
      "Running for gamma: 0.3\n",
      "[]\n",
      "Is CUDA available: True\n",
      "BasicESN initialised with leakage_rate: 0.99, spectral_radius: 0.95, gamma: 0.3, n_neurons: 500, sparsity: 0.1\n"
     ]
    },
    {
     "name": "stderr",
     "output_type": "stream",
     "text": [
      "1450000it [11:11, 2160.76it/s]                             \n"
     ]
    },
    {
     "name": "stdout",
     "output_type": "stream",
     "text": [
      "Shape of previous_states: (1446144, 500)\n",
      "Reservoir state computed, fitting readout layer...\n"
     ]
    },
    {
     "name": "stderr",
     "output_type": "stream",
     "text": [
      "C:\\Users\\mail\\anaconda3\\envs\\training\\lib\\site-packages\\sklearn\\linear_model\\_ridge.py:211: LinAlgWarning: Ill-conditioned matrix (rcond=3.24176e-08): result may not be accurate.\n",
      "  return linalg.solve(A, Xy, assume_a=\"pos\", overwrite_a=True).T\n"
     ]
    },
    {
     "name": "stdout",
     "output_type": "stream",
     "text": [
      "Readout layer fitted.\n"
     ]
    },
    {
     "name": "stderr",
     "output_type": "stream",
     "text": [
      "370000it [02:47, 2204.66it/s]                            \n"
     ]
    },
    {
     "name": "stdout",
     "output_type": "stream",
     "text": [
      "Shape of previous_states: (361600, 500)\n",
      "Gamma: 0.3, NRMSE: 0.5859336046014636\n",
      "Running for gamma: 0.4\n",
      "[]\n",
      "Is CUDA available: True\n",
      "BasicESN initialised with leakage_rate: 0.99, spectral_radius: 0.95, gamma: 0.4, n_neurons: 500, sparsity: 0.1\n"
     ]
    },
    {
     "name": "stderr",
     "output_type": "stream",
     "text": [
      "1450000it [11:21, 2128.51it/s]                             \n"
     ]
    },
    {
     "name": "stdout",
     "output_type": "stream",
     "text": [
      "Shape of previous_states: (1446144, 500)\n",
      "Reservoir state computed, fitting readout layer...\n"
     ]
    },
    {
     "name": "stderr",
     "output_type": "stream",
     "text": [
      "C:\\Users\\mail\\anaconda3\\envs\\training\\lib\\site-packages\\sklearn\\linear_model\\_ridge.py:211: LinAlgWarning: Ill-conditioned matrix (rcond=2.09132e-08): result may not be accurate.\n",
      "  return linalg.solve(A, Xy, assume_a=\"pos\", overwrite_a=True).T\n"
     ]
    },
    {
     "name": "stdout",
     "output_type": "stream",
     "text": [
      "Readout layer fitted.\n"
     ]
    },
    {
     "name": "stderr",
     "output_type": "stream",
     "text": [
      "370000it [02:53, 2127.58it/s]                            \n"
     ]
    },
    {
     "name": "stdout",
     "output_type": "stream",
     "text": [
      "Shape of previous_states: (361600, 500)\n",
      "Gamma: 0.4, NRMSE: 0.585580187618638\n",
      "Running for gamma: 0.5\n",
      "[]\n",
      "Is CUDA available: True\n",
      "BasicESN initialised with leakage_rate: 0.99, spectral_radius: 0.95, gamma: 0.5, n_neurons: 500, sparsity: 0.1\n"
     ]
    },
    {
     "name": "stderr",
     "output_type": "stream",
     "text": [
      "1450000it [11:19, 2135.22it/s]                             \n"
     ]
    },
    {
     "name": "stdout",
     "output_type": "stream",
     "text": [
      "Shape of previous_states: (1446144, 500)\n",
      "Reservoir state computed, fitting readout layer...\n"
     ]
    },
    {
     "name": "stderr",
     "output_type": "stream",
     "text": [
      "C:\\Users\\mail\\anaconda3\\envs\\training\\lib\\site-packages\\sklearn\\linear_model\\_ridge.py:211: LinAlgWarning: Ill-conditioned matrix (rcond=1.5413e-08): result may not be accurate.\n",
      "  return linalg.solve(A, Xy, assume_a=\"pos\", overwrite_a=True).T\n"
     ]
    },
    {
     "name": "stdout",
     "output_type": "stream",
     "text": [
      "Readout layer fitted.\n"
     ]
    },
    {
     "name": "stderr",
     "output_type": "stream",
     "text": [
      "370000it [03:02, 2031.20it/s]                            \n"
     ]
    },
    {
     "name": "stdout",
     "output_type": "stream",
     "text": [
      "Shape of previous_states: (361600, 500)\n",
      "Gamma: 0.5, NRMSE: 0.5854421544903384\n",
      "Running for gamma: 0.6\n",
      "[]\n",
      "Is CUDA available: True\n",
      "BasicESN initialised with leakage_rate: 0.99, spectral_radius: 0.95, gamma: 0.6, n_neurons: 500, sparsity: 0.1\n"
     ]
    },
    {
     "name": "stderr",
     "output_type": "stream",
     "text": [
      "1450000it [11:42, 2063.36it/s]                             \n"
     ]
    },
    {
     "name": "stdout",
     "output_type": "stream",
     "text": [
      "Shape of previous_states: (1446144, 500)\n",
      "Reservoir state computed, fitting readout layer...\n"
     ]
    },
    {
     "name": "stderr",
     "output_type": "stream",
     "text": [
      "C:\\Users\\mail\\anaconda3\\envs\\training\\lib\\site-packages\\sklearn\\linear_model\\_ridge.py:211: LinAlgWarning: Ill-conditioned matrix (rcond=5.91343e-09): result may not be accurate.\n",
      "  return linalg.solve(A, Xy, assume_a=\"pos\", overwrite_a=True).T\n"
     ]
    },
    {
     "name": "stdout",
     "output_type": "stream",
     "text": [
      "Readout layer fitted.\n"
     ]
    },
    {
     "name": "stderr",
     "output_type": "stream",
     "text": [
      "370000it [03:04, 2006.64it/s]                            \n"
     ]
    },
    {
     "name": "stdout",
     "output_type": "stream",
     "text": [
      "Shape of previous_states: (361600, 500)\n",
      "Gamma: 0.6, NRMSE: 0.5851278438450581\n",
      "Running for gamma: 0.7\n",
      "[]\n",
      "Is CUDA available: True\n",
      "BasicESN initialised with leakage_rate: 0.99, spectral_radius: 0.95, gamma: 0.7, n_neurons: 500, sparsity: 0.1\n"
     ]
    },
    {
     "name": "stderr",
     "output_type": "stream",
     "text": [
      "1450000it [17:57, 1345.22it/s]                             \n"
     ]
    },
    {
     "name": "stdout",
     "output_type": "stream",
     "text": [
      "Shape of previous_states: (1446144, 500)\n",
      "Reservoir state computed, fitting readout layer...\n"
     ]
    },
    {
     "name": "stderr",
     "output_type": "stream",
     "text": [
      "C:\\Users\\mail\\anaconda3\\envs\\training\\lib\\site-packages\\sklearn\\linear_model\\_ridge.py:211: LinAlgWarning: Ill-conditioned matrix (rcond=3.63658e-09): result may not be accurate.\n",
      "  return linalg.solve(A, Xy, assume_a=\"pos\", overwrite_a=True).T\n"
     ]
    },
    {
     "name": "stdout",
     "output_type": "stream",
     "text": [
      "Readout layer fitted.\n"
     ]
    },
    {
     "name": "stderr",
     "output_type": "stream",
     "text": [
      "370000it [03:13, 1908.23it/s]                            \n"
     ]
    },
    {
     "name": "stdout",
     "output_type": "stream",
     "text": [
      "Shape of previous_states: (361600, 500)\n",
      "Gamma: 0.7, NRMSE: 0.5850239043537814\n",
      "Running for gamma: 0.8\n",
      "[]\n",
      "Is CUDA available: True\n",
      "BasicESN initialised with leakage_rate: 0.99, spectral_radius: 0.95, gamma: 0.8, n_neurons: 500, sparsity: 0.1\n"
     ]
    },
    {
     "name": "stderr",
     "output_type": "stream",
     "text": [
      "1450000it [11:37, 2079.28it/s]                             \n"
     ]
    },
    {
     "name": "stdout",
     "output_type": "stream",
     "text": [
      "Shape of previous_states: (1446144, 500)\n",
      "Reservoir state computed, fitting readout layer...\n"
     ]
    },
    {
     "name": "stderr",
     "output_type": "stream",
     "text": [
      "C:\\Users\\mail\\anaconda3\\envs\\training\\lib\\site-packages\\sklearn\\linear_model\\_ridge.py:211: LinAlgWarning: Ill-conditioned matrix (rcond=5.21605e-09): result may not be accurate.\n",
      "  return linalg.solve(A, Xy, assume_a=\"pos\", overwrite_a=True).T\n"
     ]
    },
    {
     "name": "stdout",
     "output_type": "stream",
     "text": [
      "Readout layer fitted.\n"
     ]
    },
    {
     "name": "stderr",
     "output_type": "stream",
     "text": [
      "370000it [03:13, 1916.53it/s]                            \n"
     ]
    },
    {
     "name": "stdout",
     "output_type": "stream",
     "text": [
      "Shape of previous_states: (361600, 500)\n",
      "Gamma: 0.8, NRMSE: 0.5834327480066849\n",
      "Running for gamma: 0.9\n",
      "[]\n",
      "Is CUDA available: True\n",
      "BasicESN initialised with leakage_rate: 0.99, spectral_radius: 0.95, gamma: 0.9, n_neurons: 500, sparsity: 0.1\n"
     ]
    },
    {
     "name": "stderr",
     "output_type": "stream",
     "text": [
      "  6%|▌         | 80000/1446144 [00:36<10:18, 2207.91it/s] \n"
     ]
    },
    {
     "ename": "KeyboardInterrupt",
     "evalue": "",
     "output_type": "error",
     "traceback": [
      "\u001B[1;31m---------------------------------------------------------------------------\u001B[0m",
      "\u001B[1;31mKeyboardInterrupt\u001B[0m                         Traceback (most recent call last)",
      "Cell \u001B[1;32mIn[132], line 55\u001B[0m\n\u001B[0;32m     53\u001B[0m     \u001B[38;5;28;01mfor\u001B[39;00m gamma \u001B[38;5;129;01min\u001B[39;00m gammas:\n\u001B[0;32m     54\u001B[0m         \u001B[38;5;28mprint\u001B[39m(\u001B[38;5;124mf\u001B[39m\u001B[38;5;124m'\u001B[39m\u001B[38;5;124mRunning for gamma: \u001B[39m\u001B[38;5;132;01m{\u001B[39;00mgamma\u001B[38;5;132;01m}\u001B[39;00m\u001B[38;5;124m'\u001B[39m)\n\u001B[1;32m---> 55\u001B[0m         results\u001B[38;5;241m.\u001B[39mappend(\u001B[43mevaluate_gamma\u001B[49m\u001B[43m(\u001B[49m\u001B[43mgamma\u001B[49m\u001B[43m)\u001B[49m)\n\u001B[0;32m     57\u001B[0m \u001B[38;5;28;01melse\u001B[39;00m:\n\u001B[0;32m     58\u001B[0m     results \u001B[38;5;241m=\u001B[39m [{\u001B[38;5;124m'\u001B[39m\u001B[38;5;124mgamma\u001B[39m\u001B[38;5;124m'\u001B[39m: \u001B[38;5;241m0.01\u001B[39m, \u001B[38;5;124m'\u001B[39m\u001B[38;5;124mnrmse\u001B[39m\u001B[38;5;124m'\u001B[39m: \u001B[38;5;241m0.3349602855101908\u001B[39m}, {\u001B[38;5;124m'\u001B[39m\u001B[38;5;124mgamma\u001B[39m\u001B[38;5;124m'\u001B[39m: \u001B[38;5;241m0.05\u001B[39m, \u001B[38;5;124m'\u001B[39m\u001B[38;5;124mnrmse\u001B[39m\u001B[38;5;124m'\u001B[39m: \u001B[38;5;241m0.33045212706131855\u001B[39m}, {\u001B[38;5;124m'\u001B[39m\u001B[38;5;124mgamma\u001B[39m\u001B[38;5;124m'\u001B[39m: \u001B[38;5;241m0.1\u001B[39m, \u001B[38;5;124m'\u001B[39m\u001B[38;5;124mnrmse\u001B[39m\u001B[38;5;124m'\u001B[39m: \u001B[38;5;241m0.3290671066122628\u001B[39m}, {\u001B[38;5;124m'\u001B[39m\u001B[38;5;124mgamma\u001B[39m\u001B[38;5;124m'\u001B[39m: \u001B[38;5;241m0.2\u001B[39m, \u001B[38;5;124m'\u001B[39m\u001B[38;5;124mnrmse\u001B[39m\u001B[38;5;124m'\u001B[39m: \u001B[38;5;241m0.29955513273731876\u001B[39m}, {\u001B[38;5;124m'\u001B[39m\u001B[38;5;124mgamma\u001B[39m\u001B[38;5;124m'\u001B[39m: \u001B[38;5;241m0.3\u001B[39m, \u001B[38;5;124m'\u001B[39m\u001B[38;5;124mnrmse\u001B[39m\u001B[38;5;124m'\u001B[39m: \u001B[38;5;241m0.24673740826225551\u001B[39m}, {\u001B[38;5;124m'\u001B[39m\u001B[38;5;124mgamma\u001B[39m\u001B[38;5;124m'\u001B[39m: \u001B[38;5;241m0.4\u001B[39m, \u001B[38;5;124m'\u001B[39m\u001B[38;5;124mnrmse\u001B[39m\u001B[38;5;124m'\u001B[39m: \u001B[38;5;241m0.22749927728185315\u001B[39m}, {\u001B[38;5;124m'\u001B[39m\u001B[38;5;124mgamma\u001B[39m\u001B[38;5;124m'\u001B[39m: \u001B[38;5;241m0.5\u001B[39m, \u001B[38;5;124m'\u001B[39m\u001B[38;5;124mnrmse\u001B[39m\u001B[38;5;124m'\u001B[39m: \u001B[38;5;241m0.22418029881240797\u001B[39m}, {\u001B[38;5;124m'\u001B[39m\u001B[38;5;124mgamma\u001B[39m\u001B[38;5;124m'\u001B[39m: \u001B[38;5;241m0.6\u001B[39m, \u001B[38;5;124m'\u001B[39m\u001B[38;5;124mnrmse\u001B[39m\u001B[38;5;124m'\u001B[39m: \u001B[38;5;241m0.2155434353574596\u001B[39m}, {\u001B[38;5;124m'\u001B[39m\u001B[38;5;124mgamma\u001B[39m\u001B[38;5;124m'\u001B[39m: \u001B[38;5;241m0.7\u001B[39m, \u001B[38;5;124m'\u001B[39m\u001B[38;5;124mnrmse\u001B[39m\u001B[38;5;124m'\u001B[39m: \u001B[38;5;241m0.21459169317536275\u001B[39m}, {\u001B[38;5;124m'\u001B[39m\u001B[38;5;124mgamma\u001B[39m\u001B[38;5;124m'\u001B[39m: \u001B[38;5;241m0.8\u001B[39m, \u001B[38;5;124m'\u001B[39m\u001B[38;5;124mnrmse\u001B[39m\u001B[38;5;124m'\u001B[39m: \u001B[38;5;241m0.19456340750175669\u001B[39m}, {\u001B[38;5;124m'\u001B[39m\u001B[38;5;124mgamma\u001B[39m\u001B[38;5;124m'\u001B[39m: \u001B[38;5;241m0.9\u001B[39m, \u001B[38;5;124m'\u001B[39m\u001B[38;5;124mnrmse\u001B[39m\u001B[38;5;124m'\u001B[39m: \u001B[38;5;241m0.18447620141525248\u001B[39m}, {\u001B[38;5;124m'\u001B[39m\u001B[38;5;124mgamma\u001B[39m\u001B[38;5;124m'\u001B[39m: \u001B[38;5;241m0.95\u001B[39m, \u001B[38;5;124m'\u001B[39m\u001B[38;5;124mnrmse\u001B[39m\u001B[38;5;124m'\u001B[39m: \u001B[38;5;241m0.18382599604128477\u001B[39m}, {\u001B[38;5;124m'\u001B[39m\u001B[38;5;124mgamma\u001B[39m\u001B[38;5;124m'\u001B[39m: \u001B[38;5;241m0.99\u001B[39m, \u001B[38;5;124m'\u001B[39m\u001B[38;5;124mnrmse\u001B[39m\u001B[38;5;124m'\u001B[39m: \u001B[38;5;241m0.18044621192767088\u001B[39m}]\n",
      "Cell \u001B[1;32mIn[132], line 31\u001B[0m, in \u001B[0;36mevaluate_gamma\u001B[1;34m(gamma)\u001B[0m\n\u001B[0;32m     29\u001B[0m \u001B[38;5;28;01mdef\u001B[39;00m \u001B[38;5;21mevaluate_gamma\u001B[39m(gamma):\n\u001B[0;32m     30\u001B[0m     esn \u001B[38;5;241m=\u001B[39m BasicESN(leakage_rate\u001B[38;5;241m=\u001B[39mleakage_rate, spectral_radius\u001B[38;5;241m=\u001B[39mspectral_radius, gamma\u001B[38;5;241m=\u001B[39mgamma, n_neurons\u001B[38;5;241m=\u001B[39mn_neurons, W_in\u001B[38;5;241m=\u001B[39mW_in, sparsity\u001B[38;5;241m=\u001B[39msparsity, is_optimising\u001B[38;5;241m=\u001B[39m\u001B[38;5;28;01mFalse\u001B[39;00m)\n\u001B[1;32m---> 31\u001B[0m     \u001B[43mesn\u001B[49m\u001B[38;5;241;43m.\u001B[39;49m\u001B[43mfit\u001B[49m\u001B[43m(\u001B[49m\u001B[43mdata_in\u001B[49m\u001B[43m,\u001B[49m\u001B[43m \u001B[49m\u001B[43mdata_out\u001B[49m\u001B[43m)\u001B[49m\n\u001B[0;32m     33\u001B[0m     y_pred \u001B[38;5;241m=\u001B[39m esn\u001B[38;5;241m.\u001B[39mforward(X_val)\n\u001B[0;32m     35\u001B[0m     y_pred_decoded \u001B[38;5;241m=\u001B[39m encoder\u001B[38;5;241m.\u001B[39minverse_transform(y_pred)\n",
      "File \u001B[1;32mD:\\Pycharm\\COM6906-Dissertation\\model\\reservoir\\BasicESNCuda.py:158\u001B[0m, in \u001B[0;36mfit\u001B[1;34m(self, x, y, x_val, y_val)\u001B[0m\n\u001B[0;32m    155\u001B[0m     train_weights = [class_weights[i] for i in y_class]\n\u001B[0;32m    156\u001B[0m     val_weights = [class_weights[i] for i in y_val_class]\n\u001B[1;32m--> 158\u001B[0m # Compute the reservoir state\n\u001B[0;32m    159\u001B[0m state = self.compute_reservoir_state(x)\n\u001B[0;32m    161\u001B[0m print(\"Reservoir state computed, fitting readout layer...\")\n",
      "File \u001B[1;32mD:\\Pycharm\\COM6906-Dissertation\\model\\reservoir\\BasicESNCuda.py:116\u001B[0m, in \u001B[0;36mBasicESNCuda.compute_reservoir_state\u001B[1;34m(self, x)\u001B[0m\n\u001B[0;32m    114\u001B[0m \u001B[38;5;28;01mif\u001B[39;00m \u001B[38;5;129;01mnot\u001B[39;00m \u001B[38;5;28mself\u001B[39m\u001B[38;5;241m.\u001B[39mis_optimising:\n\u001B[0;32m    115\u001B[0m     \u001B[38;5;28;01mwith\u001B[39;00m tqdm(total\u001B[38;5;241m=\u001B[39mx\u001B[38;5;241m.\u001B[39mshape[\u001B[38;5;241m0\u001B[39m]) \u001B[38;5;28;01mas\u001B[39;00m pbar:\n\u001B[1;32m--> 116\u001B[0m         previous_states \u001B[38;5;241m=\u001B[39m \u001B[38;5;28;43mself\u001B[39;49m\u001B[38;5;241;43m.\u001B[39;49m\u001B[43mrecurrent_unit\u001B[49m\u001B[43m(\u001B[49m\u001B[43mx\u001B[49m\u001B[43m,\u001B[49m\u001B[43m \u001B[49m\u001B[43mpbar\u001B[49m\u001B[43m)\u001B[49m\n\u001B[0;32m    117\u001B[0m \u001B[38;5;28;01melse\u001B[39;00m:\n\u001B[0;32m    118\u001B[0m     previous_states \u001B[38;5;241m=\u001B[39m \u001B[38;5;28mself\u001B[39m\u001B[38;5;241m.\u001B[39mrecurrent_unit(x)\n",
      "File \u001B[1;32mD:\\Pycharm\\COM6906-Dissertation\\model\\reservoir\\BasicESNCuda.py:85\u001B[0m, in \u001B[0;36mBasicESNCuda.recurrent_unit\u001B[1;34m(self, x, pbar)\u001B[0m\n\u001B[0;32m     82\u001B[0m \u001B[38;5;28;01mwith\u001B[39;00m torch\u001B[38;5;241m.\u001B[39mno_grad():\n\u001B[0;32m     83\u001B[0m     \u001B[38;5;28;01mfor\u001B[39;00m i \u001B[38;5;129;01min\u001B[39;00m \u001B[38;5;28mrange\u001B[39m(x\u001B[38;5;241m.\u001B[39mshape[\u001B[38;5;241m0\u001B[39m]):\n\u001B[0;32m     84\u001B[0m         non_linear \u001B[38;5;241m=\u001B[39m torch\u001B[38;5;241m.\u001B[39mtanh(\n\u001B[1;32m---> 85\u001B[0m             (\u001B[38;5;28mself\u001B[39m\u001B[38;5;241m.\u001B[39mgamma \u001B[38;5;241m*\u001B[39m torch\u001B[38;5;241m.\u001B[39mmatmul(\u001B[38;5;28mself\u001B[39m\u001B[38;5;241m.\u001B[39mW_in, \u001B[43mx_cuda\u001B[49m\u001B[43m[\u001B[49m\u001B[43mi\u001B[49m\u001B[43m]\u001B[49m\u001B[38;5;241;43m.\u001B[39;49m\u001B[43mreshape\u001B[49m\u001B[43m(\u001B[49m\u001B[38;5;241;43m-\u001B[39;49m\u001B[38;5;241;43m1\u001B[39;49m\u001B[43m,\u001B[49m\u001B[43m \u001B[49m\u001B[38;5;241;43m1\u001B[39;49m\u001B[43m)\u001B[49m)) \u001B[38;5;241m+\u001B[39m (\u001B[38;5;28mself\u001B[39m\u001B[38;5;241m.\u001B[39mspectral_radius \u001B[38;5;241m*\u001B[39m torch\u001B[38;5;241m.\u001B[39mmatmul(\u001B[38;5;28mself\u001B[39m\u001B[38;5;241m.\u001B[39mW_res, state)))\n\u001B[0;32m     87\u001B[0m         state \u001B[38;5;241m=\u001B[39m torch\u001B[38;5;241m.\u001B[39madd(torch\u001B[38;5;241m.\u001B[39mmul(state, \u001B[38;5;28mself\u001B[39m\u001B[38;5;241m.\u001B[39mleakage_rate), torch\u001B[38;5;241m.\u001B[39mmul((\u001B[38;5;241m1\u001B[39m \u001B[38;5;241m-\u001B[39m \u001B[38;5;28mself\u001B[39m\u001B[38;5;241m.\u001B[39mleakage_rate), non_linear))\n\u001B[0;32m     89\u001B[0m         previous_states_cuda[i] \u001B[38;5;241m=\u001B[39m state\u001B[38;5;241m.\u001B[39mravel()\n",
      "\u001B[1;31mKeyboardInterrupt\u001B[0m: "
     ]
    }
   ],
   "execution_count": 132
  },
  {
   "metadata": {
    "ExecuteTime": {
     "end_time": "2024-07-24T23:29:51.909492Z",
     "start_time": "2024-07-24T23:29:51.908492Z"
    }
   },
   "cell_type": "code",
   "source": "print(results)",
   "id": "8b9835fe39b7199b",
   "outputs": [],
   "execution_count": null
  },
  {
   "metadata": {
    "ExecuteTime": {
     "end_time": "2024-07-24T23:29:51.913493Z",
     "start_time": "2024-07-24T23:29:51.912491Z"
    }
   },
   "cell_type": "code",
   "source": [
    "# Now we can plot the NRMSE for each gamma value\n",
    "gammas = [result['gamma'] for result in results]\n",
    "nrmse = [result['nrmse'] for result in results]\n",
    "\n",
    "plt.figure(figsize=(10, 7))\n",
    "plt.plot(gammas, nrmse, marker='o')\n",
    "\n",
    "plt.xlabel('Gamma')\n",
    "plt.ylabel('NRMSE')\n",
    "plt.title('NRMSE for different Gamma values')\n",
    "\n",
    "plt.tight_layout()\n",
    "plt.show()"
   ],
   "id": "b46b74b032460c2a",
   "outputs": [],
   "execution_count": null
  },
  {
   "metadata": {},
   "cell_type": "code",
   "source": [
    "# Get the best gamma value\n",
    "best_gamma = results[np.argmin(nrmse)]['gamma']\n",
    "\n",
    "print(f'Best Gamma: {best_gamma}')"
   ],
   "id": "d225c089f868be66",
   "outputs": [],
   "execution_count": null
  },
  {
   "metadata": {},
   "cell_type": "code",
   "source": "run_density = True",
   "id": "3875e29f85d500a6",
   "outputs": [],
   "execution_count": null
  },
  {
   "metadata": {},
   "cell_type": "code",
   "source": [
    "# Now we can optimise the density parameter\n",
    "# The density parameter is used to determine the sparsity of the input weights\n",
    "# It is a value between 0 and 1\n",
    "# A value of 1 will mean that all of the input weights are 1\n",
    "# A value of 0 will mean that all of the input weights are 0\n",
    "\n",
    "# The number of neurons will be fixed at 500\n",
    "n_neurons = 500\n",
    "\n",
    "density = 0.1\n",
    "leakage_rate = best_rate\n",
    "spectral_radius = best_radius\n",
    "gamma = best_gamma\n",
    "sparsity = 0.1\n",
    "\n",
    "input_weights = np.random.rand(n_neurons, n_features) < density\n",
    "\n",
    "W_in = input_weights\n",
    "\n",
    "# We will optimise the density parameter\n",
    "\n",
    "densities = [0.01, 0.05, 0.1, 0.2, 0.3, 0.4, 0.5, 0.6, 0.7, 0.8, 0.9, 0.95]\n",
    "\n",
    "# We will train the ESN on the training data and evaluate it on the validation data\n",
    "density_scores = []\n",
    "\n",
    "if run_density:\n",
    "    # There are 13 density values to test, so let's parallelise the process\n",
    "    def evaluate_density(density):\n",
    "        input_weights = np.random.rand(n_neurons, n_features) < density\n",
    "        W_in = input_weights\n",
    "        \n",
    "        esn = BasicESN(leakage_rate=leakage_rate, spectral_radius=spectral_radius, gamma=gamma, n_neurons=n_neurons, W_in=W_in,\n",
    "                          sparsity=sparsity, is_optimising=True)\n",
    "        esn.fit(data_in, data_out)\n",
    "        \n",
    "        y_pred = esn.forward(X_val)\n",
    "        \n",
    "        y_pred_decoded = encoder.inverse_transform(y_pred)\n",
    "        \n",
    "        # Calculate the NRMSE\n",
    "        # The NRMSE is the normalised root mean squared error\n",
    "        # It is calculated as the RMSE divided by the range of the true values\n",
    "        \n",
    "        nrmse = np.sqrt(mean_squared_error(y_val_decoded, y_pred_decoded)) / (y_val_decoded.max() - y_val_decoded.min())\n",
    "        \n",
    "        density_scores.append(nrmse)\n",
    "        \n",
    "        # Return the density and the NRMSE via joblib\n",
    "        print(f'Density: {density}, NRMSE: {nrmse}')\n",
    "        \n",
    "        return {'density': density, 'nrmse': nrmse}\n",
    "    \n",
    "    # with tqdm_joblib(tqdm(desc=\"Density\", total=len(densities))) as progress_bar:\n",
    "    #     results = Parallel(n_jobs=4)(delayed(evaluate_density)(density) for density in densities)\n",
    "    results = []\n",
    "    for density in densities:\n",
    "        print(f'Running for density: {density}')\n",
    "        results.append(evaluate_density(density))\n",
    "        \n",
    "else:\n",
    "    results = [{'density': 0.01, 'nrmse': 0.23353197949175228}, {'density': 0.05, 'nrmse': 0.21794291184600953}, {'density': 0.1, 'nrmse': 0.17650854637966737}, {'density': 0.2, 'nrmse': 0.1499906587161872}, {'density': 0.3, 'nrmse': 0.15278724892963502}, {'density': 0.4, 'nrmse': 0.13531609959415156}, {'density': 0.5, 'nrmse': 0.13072468336037607}, {'density': 0.6, 'nrmse': 0.14543399578391006}, {'density': 0.7, 'nrmse': 0.13741609370096877}, {'density': 0.8, 'nrmse': 0.14272817051782377}, {'density': 0.9, 'nrmse': 0.14367831433239842}, {'density': 0.95, 'nrmse': 0.14945441480562682}]"
   ],
   "id": "7f79dbdbde341cc",
   "outputs": [],
   "execution_count": null
  },
  {
   "metadata": {},
   "cell_type": "code",
   "source": "print(results)",
   "id": "5f953e904f2e279",
   "outputs": [],
   "execution_count": null
  },
  {
   "metadata": {},
   "cell_type": "code",
   "source": [
    "# Now we can plot the NRMSE for each density value\n",
    "densities = [result['density'] for result in results]\n",
    "nrmse = [result['nrmse'] for result in results]\n",
    "\n",
    "plt.figure(figsize=(10, 7))\n",
    "plt.plot(densities, nrmse, marker='o')\n",
    "\n",
    "plt.xlabel('Density')\n",
    "plt.ylabel('NRMSE')\n",
    "plt.title('NRMSE for different Density values')\n",
    "\n",
    "plt.tight_layout()\n",
    "plt.show()"
   ],
   "id": "1f265687082f56e1",
   "outputs": [],
   "execution_count": null
  },
  {
   "metadata": {},
   "cell_type": "code",
   "source": [
    "# Get the best density value\n",
    "best_density = results[np.argmin(nrmse)]['density']\n",
    "\n",
    "print(f'Best Density: {best_density}')"
   ],
   "id": "7ae1e7a2f67a1d48",
   "outputs": [],
   "execution_count": null
  },
  {
   "metadata": {},
   "cell_type": "code",
   "source": "run_neurons = False",
   "id": "38aa3a037bf81e81",
   "outputs": [],
   "execution_count": null
  },
  {
   "metadata": {},
   "cell_type": "code",
   "source": [
    "# Now we can optimise the number of neurons\n",
    "# The number of neurons is the number of nodes in the reservoir\n",
    "\n",
    "n_neurons = 500\n",
    "\n",
    "density = best_density\n",
    "leakage_rate = best_rate\n",
    "spectral_radius = best_radius\n",
    "gamma = best_gamma\n",
    "sparsity = 0.1\n",
    "\n",
    "input_weights = np.random.rand(n_neurons, n_features) < density\n",
    "\n",
    "W_in = input_weights\n",
    "\n",
    "# We will optimise the number of neurons\n",
    "\n",
    "neurons = [100, 250, 500, 750, 1000]\n",
    "\n",
    "# We will train the ESN on the training data and evaluate it on the validation data\n",
    "\n",
    "neuron_scores = []\n",
    "\n",
    "if run_neurons:\n",
    "    # There are 5 neuron values to test, so let's parallelise the process\n",
    "    def evaluate_neurons(n_neurons):\n",
    "        input_weights = np.random.rand(n_neurons, n_features) < density\n",
    "        W_in = input_weights\n",
    "        \n",
    "        esn = BasicESN(leakage_rate=leakage_rate, spectral_radius=spectral_radius, gamma=gamma, n_neurons=n_neurons, W_in=W_in,\n",
    "                            sparsity=sparsity, is_optimising=False)\n",
    "        esn.fit(data_in, data_out)\n",
    "        \n",
    "        y_pred = esn.forward(X_val)\n",
    "        \n",
    "        y_pred_decoded = encoder.inverse_transform(y_pred)\n",
    "        \n",
    "        # Calculate the NRMSE\n",
    "        # The NRMSE is the normalised root mean squared error\n",
    "        # It is calculated as the RMSE divided by the range of the true values\n",
    "        \n",
    "        nrmse = np.sqrt(mean_squared_error(y_val_decoded, y_pred_decoded)) / (y_val_decoded.max() - y_val_decoded.min())\n",
    "        \n",
    "        neuron_scores.append(nrmse)\n",
    "        \n",
    "        # Return the number of neurons and the NRMSE via joblib\n",
    "        print(f'Neurons: {n_neurons}, NRMSE: {nrmse}')\n",
    "        \n",
    "        return {'neurons': n_neurons, 'nrmse': nrmse}\n",
    "    \n",
    "    # with tqdm_joblib(tqdm(desc=\"Neurons\", total=len(neurons))) as progress_bar:\n",
    "    #     results = Parallel(n_jobs=5)(delayed(evaluate_neurons)(n_neurons) for n_neurons in neurons)\n",
    "    results = []\n",
    "    for n_neurons in neurons:\n",
    "        print(f'Running for neurons: {n_neurons}')\n",
    "        results.append(evaluate_neurons(n_neurons))\n",
    "        \n",
    "else:\n",
    "    results = [{'neurons': 100, 'nrmse': 0.18322173124370597}, {'neurons': 250, 'nrmse': 0.15066900805978828}, {'neurons': 500, 'nrmse': 0.1361232530363811}, {'neurons': 750, 'nrmse': 0.12739381499580593}, {'neurons': 1000, 'nrmse': 0.12691977638276095}]"
   ],
   "id": "c4599dae89ab12b3",
   "outputs": [],
   "execution_count": null
  },
  {
   "metadata": {},
   "cell_type": "code",
   "source": "print(results)",
   "id": "de9ee9bd0b60ce20",
   "outputs": [],
   "execution_count": null
  },
  {
   "metadata": {},
   "cell_type": "code",
   "source": [
    "# Now we can plot the NRMSE for each number of neurons\n",
    "\n",
    "neurons = [result['neurons'] for result in results]\n",
    "nrmse = [result['nrmse'] for result in results]\n",
    "\n",
    "plt.figure(figsize=(10, 7))\n",
    "plt.plot(neurons, nrmse, marker='o')\n",
    "\n",
    "plt.xlabel('Number of Neurons')\n",
    "plt.ylabel('NRMSE')\n",
    "\n",
    "plt.title('NRMSE for different Number of Neurons')\n",
    "\n",
    "plt.tight_layout()\n",
    "plt.show()"
   ],
   "id": "f8e7b8b2cb40a8c8",
   "outputs": [],
   "execution_count": null
  },
  {
   "metadata": {},
   "cell_type": "code",
   "source": [
    "# Get the best number of neurons\n",
    "best_neurons = results[np.argmin(nrmse)]['neurons']\n",
    "\n",
    "print(f'Best Number of Neurons: {best_neurons}')"
   ],
   "id": "92fe036600593c36",
   "outputs": [],
   "execution_count": null
  },
  {
   "metadata": {},
   "cell_type": "code",
   "source": [
    "# Looking at the graph, there is diminishing returns after 500 neurons, but to check, lets calculate the change in NRMSE for each number of neurons\n",
    "\n",
    "# Calculate the change in NRMSE for each number of neurons as a percentage of the previous value\n",
    "nrmse_change = [((nrmse[i] - nrmse[i-1]) / nrmse[i-1]) * 100 for i in range(1, len(nrmse))]\n",
    "\n",
    "print(nrmse_change)"
   ],
   "id": "5d7cd5ccd2071e54",
   "outputs": [],
   "execution_count": null
  },
  {
   "metadata": {},
   "cell_type": "code",
   "source": [
    "# The difference between 1000 and 750 neurons is only 0.4%, so we will use less neurons to reduce computation time\n",
    "# The best number of neurons is 750, however this leads to significant computation time\n",
    "# We will use 500 neurons instead\n",
    "best_neurons = 500"
   ],
   "id": "24421f91f3d9850c",
   "outputs": [],
   "execution_count": null
  },
  {
   "metadata": {},
   "cell_type": "code",
   "source": "run_weights = True",
   "id": "60f24f02701e33bd",
   "outputs": [],
   "execution_count": null
  },
  {
   "metadata": {},
   "cell_type": "code",
   "source": [
    "# Next, we can try different input weight sampling methods\n",
    "# The input weights are the weights between the input and the reservoir\n",
    "\n",
    "n_neurons = best_neurons\n",
    "\n",
    "density = best_density\n",
    "leakage_rate = best_rate\n",
    "spectral_radius = best_radius\n",
    "gamma = best_gamma\n",
    "sparsity = 0.1\n",
    "\n",
    "input_weights = np.random.rand(n_neurons, n_features) < density\n",
    "\n",
    "W_in = input_weights\n",
    "\n",
    "# We will optimise the input weight sampling method\n",
    "\n",
    "weight_methods = ['0/1', 'normal', 'uniform', '-1/1']\n",
    "\n",
    "# We will train the ESN on the training data and evaluate it on the validation data\n",
    "weight_scores = []\n",
    "\n",
    "if run_weights:\n",
    "    # There are 4 weight methods to test, so let's parallelise the process\n",
    "    def evaluate_weight_method(method):\n",
    "        # Let's set a seed for reproducibility\n",
    "        np.random.seed(1234)\n",
    "        \n",
    "        if method == '0/1':\n",
    "            input_weights = np.random.rand(n_neurons, n_features) < density\n",
    "        elif method == 'normal':\n",
    "            input_weights = np.random.normal(0, 1, (n_neurons, n_features))\n",
    "        elif method == 'uniform':\n",
    "            input_weights = np.random.uniform(-1, 1, (n_neurons, n_features))\n",
    "        elif method == '-1/1':\n",
    "            input_weights = np.random.uniform(-1, 1, (n_neurons, n_features)) < density\n",
    "        \n",
    "        W_in = input_weights\n",
    "        \n",
    "        esn = BasicESN(leakage_rate=leakage_rate, spectral_radius=spectral_radius, gamma=gamma, n_neurons=n_neurons, W_in=W_in, sparsity=sparsity, is_optimising=False)\n",
    "        esn.fit(data_in, data_out)\n",
    "        \n",
    "        y_pred = esn.forward(X_val)\n",
    "        \n",
    "        y_pred_decoded = encoder.inverse_transform(y_pred)\n",
    "        \n",
    "        # Calculate the NRMSE\n",
    "        # The NRMSE is the normalised root mean squared error\n",
    "        # It is calculated as the RMSE divided by the range of the true values\n",
    "        \n",
    "        nrmse = np.sqrt(mean_squared_error(y_val_decoded, y_pred_decoded)) / (y_val_decoded.max() - y_val_decoded.min())\n",
    "        \n",
    "        weight_scores.append(nrmse)\n",
    "        \n",
    "        # Return the method and the NRMSE via joblib\n",
    "        print(f'Method: {method}, NRMSE: {nrmse}')\n",
    "        \n",
    "        return {'method': method, 'nrmse': nrmse}\n",
    "    \n",
    "    # with tqdm_joblib(tqdm(desc=\"Weight Method\", total=len(weight_methods))) as progress_bar:\n",
    "    #     results = Parallel(n_jobs=4)(delayed(evaluate_weight_method)(method) for method in weight_methods)\n",
    "    results = []\n",
    "    for method in weight_methods:\n",
    "        print(f'Running for method: {method}')\n",
    "        results.append(evaluate_weight_method(method))\n",
    "        \n",
    "else:\n",
    "    results = [{'method': '0/1', 'nrmse': 0.14073219709693063}, {'method': 'normal', 'nrmse': 0.13132028435177762}, {'method': 'uniform', 'nrmse': 0.14063271688341764}, {'method': '-1/1', 'nrmse': 0.13572163315383687}]"
   ],
   "id": "b2a8c87664fcb673",
   "outputs": [],
   "execution_count": null
  },
  {
   "metadata": {},
   "cell_type": "code",
   "source": "print(results)",
   "id": "e8020280758e4261",
   "outputs": [],
   "execution_count": null
  },
  {
   "metadata": {},
   "cell_type": "code",
   "source": [
    "# Now we can plot the NRMSE for each weight method\n",
    "methods = [result['method'] for result in results]\n",
    "nrmse = [result['nrmse'] for result in results]\n",
    "\n",
    "plt.figure(figsize=(10, 7))\n",
    "plt.bar(methods, nrmse)\n",
    "\n",
    "plt.xlabel('Weight Method')\n",
    "plt.ylabel('NRMSE')\n",
    "plt.title('NRMSE for different Weight Methods')\n",
    "\n",
    "plt.tight_layout()\n",
    "plt.show()"
   ],
   "id": "8ad2ca828730d8d7",
   "outputs": [],
   "execution_count": null
  },
  {
   "metadata": {},
   "cell_type": "code",
   "source": [
    "# Get the best weight method\n",
    "best_method = results[np.argmin(nrmse)]['method']\n",
    "\n",
    "print(f'Best Weight Method: {best_method}')"
   ],
   "id": "626df2f6e664144a",
   "outputs": [],
   "execution_count": null
  },
  {
   "metadata": {},
   "cell_type": "code",
   "source": "run_sparsity = True",
   "id": "7a258314b36c0854",
   "outputs": [],
   "execution_count": null
  },
  {
   "metadata": {},
   "cell_type": "code",
   "source": [
    "# Finally, we can optimise the sparsity parameter\n",
    "# The sparsity parameter is used to determine the sparsity of the reservoir weights\n",
    "# It is a value between 0 and 1\n",
    "# A value of 1 will mean that all reservoir weights are connected\n",
    "# A value of 0 will mean that no reservoir weights are connected\n",
    "\n",
    "# The number of neurons will be fixed at 500\n",
    "n_neurons = best_neurons\n",
    "\n",
    "density = best_density\n",
    "leakage_rate = best_rate\n",
    "spectral_radius = best_radius\n",
    "gamma = best_gamma\n",
    "sparsity = 0.1\n",
    "\n",
    "input_weights = generate_input_weights(n_neurons, n_features, density, best_method)\n",
    "\n",
    "W_in = input_weights\n",
    "\n",
    "# We will optimise the sparsity parameter\n",
    "\n",
    "sparsities = [0.01, 0.05, 0.1, 0.2, 0.3, 0.4, 0.5, 0.6, 0.7, 0.8, 0.9, 0.95]\n",
    "\n",
    "# We will train the ESN on the training data and evaluate it on the validation data\n",
    "sparsity_scores = []\n",
    "\n",
    "if run_sparsity:\n",
    "    # There are 13 sparsity values to test, so let's parallelise the process\n",
    "    def evaluate_sparsity(sparsity):\n",
    "        esn = BasicESN(leakage_rate=leakage_rate, spectral_radius=spectral_radius, gamma=gamma, n_neurons=n_neurons, W_in=W_in, sparsity=sparsity, is_optimising=False)\n",
    "        \n",
    "        esn.fit(data_in, data_out)\n",
    "        \n",
    "        y_pred = esn.forward(X_val)\n",
    "        \n",
    "        y_pred_decoded = encoder.inverse_transform(y_pred)\n",
    "        \n",
    "        # Calculate the NRMSE\n",
    "        \n",
    "        nrmse = np.sqrt(mean_squared_error(y_val_decoded, y_pred_decoded)) / (y_val_decoded.max() - y_val_decoded.min())\n",
    "        \n",
    "        sparsity_scores.append(nrmse)\n",
    "        \n",
    "        # Return the sparsity and the NRMSE via joblib\n",
    "        print(f'Sparsity: {sparsity}, NRMSE: {nrmse}')\n",
    "        \n",
    "        return {'sparsity': sparsity, 'nrmse': nrmse}\n",
    "    \n",
    "    # with tqdm_joblib(tqdm(desc=\"Sparsity\", total=len(sparsities))) as progress_bar:\n",
    "    #     results = Parallel(n_jobs=4)(delayed(evaluate_sparsity)(sparsity) for sparsity in sparsities)\n",
    "    results = []\n",
    "    for sparsity in sparsities:\n",
    "        print(f'Running for sparsity: {sparsity}')\n",
    "        results.append(evaluate_sparsity(sparsity))\n",
    "        \n",
    "else:\n",
    "    results = [{'sparsity': 0.01, 'nrmse': 0.13029135072379394}, {'sparsity': 0.05, 'nrmse': 0.13565649139847283}, {'sparsity': 0.1, 'nrmse': 0.13149778509577562}, {'sparsity': 0.2, 'nrmse': 0.1303334301330403}, {'sparsity': 0.3, 'nrmse': 0.13096549852897035}, {'sparsity': 0.4, 'nrmse': 0.12841601100974473}, {'sparsity': 0.5, 'nrmse': 0.1275029829269864}, {'sparsity': 0.6, 'nrmse': 0.1293289216233986}, {'sparsity': 0.7, 'nrmse': 0.13077851430315893}, {'sparsity': 0.8, 'nrmse': 0.12445118495281327}, {'sparsity': 0.9, 'nrmse': 0.1299768951059773}, {'sparsity': 0.95, 'nrmse': 0.130972372456204}]"
   ],
   "id": "46f15591d44ed44a",
   "outputs": [],
   "execution_count": null
  },
  {
   "metadata": {},
   "cell_type": "code",
   "source": "print(results)",
   "id": "3a145cf99eb5f0a8",
   "outputs": [],
   "execution_count": null
  },
  {
   "metadata": {},
   "cell_type": "code",
   "source": [
    "# Now we can plot the NRMSE for each sparsity value\n",
    "sparsities = [result['sparsity'] for result in results]\n",
    "nrmse = [result['nrmse'] for result in results]\n",
    "\n",
    "plt.figure(figsize=(10, 7))\n",
    "plt.plot(sparsities, nrmse, marker='o')\n",
    "\n",
    "plt.xlabel('Sparsity')\n",
    "plt.ylabel('NRMSE')\n",
    "plt.title('NRMSE for different Sparsity values')\n",
    "\n",
    "plt.tight_layout()\n",
    "plt.show()"
   ],
   "id": "4e65b0c3bbf182",
   "outputs": [],
   "execution_count": null
  },
  {
   "metadata": {},
   "cell_type": "code",
   "source": [
    "# Get the best sparsity value\n",
    "best_sparsity = results[np.argmin(nrmse)]['sparsity']\n",
    "\n",
    "print(f'Best Sparsity: {best_sparsity}')"
   ],
   "id": "9529f36a0c55e938",
   "outputs": [],
   "execution_count": null
  },
  {
   "metadata": {},
   "cell_type": "code",
   "source": [
    "from sklearn.utils import compute_class_weight\n",
    "\n",
    "# Now that all the hyperparameters have been optimised, we can now apply them to the ESN, along with class weights\n",
    "# The class weights are used to balance the classes in the training data\n",
    "\n",
    "dataset = collector.get_collected_data()\n",
    "\n",
    "labels = dataset['label'].values\n",
    "\n",
    "# Calculate the class weights\n",
    "class_weights = compute_class_weight('balanced', classes=np.unique(labels), y=labels)\n",
    "\n",
    "# Print the class weight for each class and the labels\n",
    "\n",
    "weight_map = {label: weight for label, weight in zip(np.unique(labels), class_weights)}\n",
    "\n",
    "for label, weight in weight_map.items():\n",
    "    print(f'Class: {label}, Weight: {weight}')\n",
    "    "
   ],
   "id": "349af364614dd04e",
   "outputs": [],
   "execution_count": null
  },
  {
   "metadata": {},
   "cell_type": "code",
   "source": [
    "# Now we can train the ESN on the training data with the optimised hyperparameters and the class weights\n",
    "n_neurons = best_neurons\n",
    "\n",
    "density = best_density\n",
    "leakage_rate = best_rate\n",
    "spectral_radius = best_radius\n",
    "gamma = best_gamma\n",
    "sparsity = best_sparsity\n",
    "\n",
    "input_weights = generate_input_weights(n_neurons, n_features, density, best_method)\n",
    "\n",
    "W_in = input_weights\n",
    "\n",
    "esn = BasicESN(leakage_rate=leakage_rate, spectral_radius=spectral_radius, gamma=gamma, n_neurons=n_neurons, W_in=W_in, sparsity=sparsity, class_weights=class_weights)\n",
    "\n",
    "esn.fit(data_in, data_out, x_val=X_val, y_val=y_val)"
   ],
   "id": "9ba24393ca5a61d",
   "outputs": [],
   "execution_count": null
  },
  {
   "metadata": {},
   "cell_type": "code",
   "source": [
    "# Now we can evaluate the ESN on the test data\n",
    "y_pred = esn.forward(X_test)\n",
    "\n",
    "y_pred_decoded = encoder.inverse_transform(y_pred)"
   ],
   "id": "d21dbc2e670677b7",
   "outputs": [],
   "execution_count": null
  },
  {
   "metadata": {},
   "cell_type": "code",
   "source": [
    "\n",
    "accuracy = accuracy_score(y_test_decoded, y_pred_decoded)\n",
    "\n",
    "conf_matrix = confusion_matrix(y_test_decoded, y_pred_decoded)\n",
    "\n",
    "# The labels are\n",
    "# 1: walking\n",
    "# 3: shuffling\n",
    "# 4: stairs (ascending)\n",
    "# 5: stairs (descending)\n",
    "# 6: standing\n",
    "# 7: sitting\n",
    "# 8: lying\n",
    "# So we will use these labels for the classification report\n",
    "label_names = ['walking', 'shuffling', 'stairs (ascending)', 'stairs (descending)', 'standing', 'sitting', 'lying']\n",
    "\n",
    "report = classification_report(y_test_decoded, y_pred_decoded, target_names=label_names)\n",
    "\n",
    "print(f'Accuracy: {accuracy}')\n",
    "print(f'Confusion Matrix: {conf_matrix}')\n",
    "print(f'Report: {report}')"
   ],
   "id": "975ed67e7285fb67",
   "outputs": [],
   "execution_count": null
  },
  {
   "metadata": {},
   "cell_type": "code",
   "source": [
    "# Now we can plot the confusion matrix\n",
    "plt.figure(figsize=(10, 7))\n",
    "\n",
    "sns.heatmap(conf_matrix, annot=True, fmt='d', xticklabels=label_names, yticklabels=label_names, cmap='Blues')\n",
    "\n",
    "plt.xlabel('Predicted')\n",
    "plt.ylabel('True')\n",
    "\n",
    "plt.title('Confusion Matrix for the ESN on the test data')\n",
    "    \n",
    "plt.tight_layout()\n",
    "plt.show()"
   ],
   "id": "8b0b84993ecbeca1",
   "outputs": [],
   "execution_count": null
  },
  {
   "metadata": {},
   "cell_type": "code",
   "source": [
    "# The confusion matrix is tricky to interpret, as there is a serious class imbalance\n",
    "# To get a better idea of the performance of the ESN, we can plot the normalised confusion matrix\n",
    "norm_conf_matrix = conf_matrix / conf_matrix.sum(axis=1)[:, np.newaxis]\n",
    "\n",
    "plt.figure(figsize=(10, 7))\n",
    "\n",
    "sns.heatmap(norm_conf_matrix, annot=True, fmt='.2f', xticklabels=label_names, yticklabels=label_names, cmap='Blues')\n",
    "\n",
    "plt.xlabel('Predicted')\n",
    "plt.ylabel('True')\n",
    "\n",
    "plt.title('Normalised Confusion Matrix for the ESN on the test data')\n",
    "\n",
    "plt.tight_layout()\n",
    "plt.show()"
   ],
   "id": "873ee13bb52bc4a",
   "outputs": [],
   "execution_count": null
  },
  {
   "metadata": {},
   "cell_type": "code",
   "source": [
    "# After looking at the normalised confusion matrix, we can see that the ESN is performing well on the test data, but there is room for improvement\n",
    "# Especially in some of the classes with less data"
   ],
   "id": "b29c5b4247d4f54f",
   "outputs": [],
   "execution_count": null
  },
  {
   "metadata": {},
   "cell_type": "code",
   "source": [
    "# Let's plot the ground truth and the predicted labels for the test data on two subplots\n",
    "\n",
    "plt.figure(figsize=(25, 15))\n",
    "\n",
    "plt.subplot2grid((2, 1), (0, 0))\n",
    "plt.plot(y_test_decoded, label='True')\n",
    "plt.title('True Labels')\n",
    "plt.xlabel('Sample')\n",
    "\n",
    "plt.subplot2grid((2, 1), (1, 0))\n",
    "plt.plot(y_pred_decoded, label='Predicted')\n",
    "plt.title('Predicted Labels')\n",
    "plt.xlabel('Sample')\n",
    "\n",
    "plt.tight_layout()\n",
    "plt.show()"
   ],
   "id": "2932148b7e47abc",
   "outputs": [],
   "execution_count": null
  },
  {
   "metadata": {},
   "cell_type": "code",
   "source": [
    "# Pickle the ESN for later use in case we need to use it\n",
    "import pickle\n",
    "\n",
    "with open('basicESN_har70.pkl', 'wb') as f:\n",
    "    pickle.dump(esn, f)"
   ],
   "id": "66b0e0a795ccd9e9",
   "outputs": [],
   "execution_count": null
  }
 ],
 "metadata": {
  "kernelspec": {
   "display_name": "Python 3 (ipykernel)",
   "language": "python",
   "name": "python3"
  },
  "language_info": {
   "codemirror_mode": {
    "name": "ipython",
    "version": 3
   },
   "file_extension": ".py",
   "mimetype": "text/x-python",
   "name": "python",
   "nbconvert_exporter": "python",
   "pygments_lexer": "ipython3",
   "version": "3.8.18"
  }
 },
 "nbformat": 4,
 "nbformat_minor": 5
}
