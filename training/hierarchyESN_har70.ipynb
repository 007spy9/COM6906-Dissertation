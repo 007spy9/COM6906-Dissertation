{
 "cells": [
  {
   "cell_type": "code",
   "id": "5e906190049577ae",
   "metadata": {
    "collapsed": true,
    "jupyter": {
     "outputs_hidden": true
    },
    "ExecuteTime": {
     "end_time": "2024-08-09T12:05:52.976041Z",
     "start_time": "2024-08-09T12:05:52.961462Z"
    }
   },
   "source": [
    "import collections\n",
    "# Prepare paths to local utilities\n",
    "import os\n",
    "import sys\n",
    "import pickle\n",
    "\n",
    "import matplotlib\n",
    "import numpy as np\n",
    "import pandas as pd\n",
    "import matplotlib.pyplot as plt"
   ],
   "outputs": [],
   "execution_count": 1
  },
  {
   "metadata": {
    "ExecuteTime": {
     "end_time": "2024-08-09T12:05:52.991588Z",
     "start_time": "2024-08-09T12:05:52.977493Z"
    }
   },
   "cell_type": "code",
   "source": [
    "is_kaggle = (os.environ.get(\"PWD\", \"\") == \"/kaggle/working\")\n",
    "print(f\"Are we running in Kaggle? {is_kaggle}\")"
   ],
   "id": "4a99ca66e6996930",
   "outputs": [
    {
     "name": "stdout",
     "output_type": "stream",
     "text": [
      "Are we running in Kaggle? False\n"
     ]
    }
   ],
   "execution_count": 2
  },
  {
   "metadata": {
    "ExecuteTime": {
     "end_time": "2024-08-09T12:06:10.424776Z",
     "start_time": "2024-08-09T12:05:52.993002Z"
    }
   },
   "cell_type": "code",
   "source": [
    "if not is_kaggle:\n",
    "    models_path = os.path.abspath(os.path.join('..', 'model'))\n",
    "    utils_path = os.path.abspath(os.path.join('..', 'util'))\n",
    "    sys.path.append(models_path)\n",
    "    sys.path.append(utils_path)\n",
    "\n",
    "    %load_ext autoreload\n",
    "    %autoreload 2\n",
    "\n",
    "    from download.DataDownloader import DataDownloader\n",
    "    from collect.DataframeCollector import DataframeCollector\n",
    "    from collect.TestSetSplitter import TestSetSplitter\n",
    "    from collect.DatasetPreparation import DatasetPreparation\n",
    "    from processing.DataPreprocessor import DataPreprocessor\n",
    "    from reservoir.HierarchyESNCuda import HierarchyESNCuda as HierarchyESN\n",
    "    from reservoir.ESNUtil import generate_input_weights\n",
    "\n",
    "else:\n",
    "    from datadownloader.datadownloader import DataDownloader\n",
    "    from dataframecollector.dataframecollector import DataframeCollector\n",
    "    from testsetsplitter.testsetsplitter import TestSetSplitter\n",
    "    from hierarchyesn.HierarchyESNCuda import HierarchyESNCuda as HierarchyESN\n",
    "    from esnutil.esnutil import generate_input_weights"
   ],
   "id": "3418d1e5aedfb19c",
   "outputs": [],
   "execution_count": 3
  },
  {
   "metadata": {
    "ExecuteTime": {
     "end_time": "2024-08-09T12:06:11.034377Z",
     "start_time": "2024-08-09T12:06:10.426280Z"
    }
   },
   "cell_type": "code",
   "source": [
    "import joblib\n",
    "from joblib import Parallel, delayed\n",
    "from tqdm import tqdm\n",
    "import contextlib\n",
    "\n",
    "\n",
    "@contextlib.contextmanager\n",
    "def tqdm_joblib(tqdm_object):\n",
    "    '''\n",
    "    Context manager to patch joblib to report into tqdm progress bar given as argument\n",
    "    :param tqdm_object: The tqdm progress bar\n",
    "    '''\n",
    "\n",
    "    class TqdmBatchCompletionCallback(joblib.parallel.BatchCompletionCallBack):\n",
    "\n",
    "        def __call__(self, *args, **kwargs):\n",
    "            tqdm_object.update(n=self.batch_size)\n",
    "            return super().__call__(*args, **kwargs)\n",
    "\n",
    "    old_batch_callback = joblib.parallel.BatchCompletionCallBack\n",
    "    joblib.parallel.BatchCompletionCallBack = TqdmBatchCompletionCallback\n",
    "\n",
    "    try:\n",
    "        yield tqdm_object\n",
    "    finally:\n",
    "        joblib.parallel.BatchCompletionCallBack = old_batch_callback\n",
    "        tqdm_object.close()"
   ],
   "id": "fc45ffa58e990b43",
   "outputs": [],
   "execution_count": 4
  },
  {
   "metadata": {
    "ExecuteTime": {
     "end_time": "2024-08-09T12:06:25.192124Z",
     "start_time": "2024-08-09T12:06:11.035431Z"
    }
   },
   "cell_type": "code",
   "source": [
    "data_preparation = DatasetPreparation()\n",
    "\n",
    "input_features = ['back_x', 'back_y', 'back_z', 'thigh_x', 'thigh_y', 'thigh_z']\n",
    "output_features = ['label']\n",
    "\n",
    "data_preparation.prepare_dataset('har70plus', input_features, output_features)"
   ],
   "id": "74a69b3d78826367",
   "outputs": [
    {
     "name": "stdout",
     "output_type": "stream",
     "text": [
      "Dataset already downloaded\n",
      "Discovered  18  csv files in  E:\\PyCharm\\COM6906-Dissertation\\data\\har70plus\n",
      "Loading the csv files into dataframes\n",
      "Loaded  18  dataframes\n",
      "Concatenating the dataframes\n",
      "Data shape:  [(103860, 9), (131367, 9), (116413, 9), (150758, 9), (87006, 9), (122714, 9), (120125, 9), (130494, 9), (121763, 9), (122061, 9), (128063, 9), (119310, 9), (123599, 9), (101510, 9), (153517, 9), (138278, 9), (147045, 9), (141714, 9)]\n",
      "Number of frames in training set: 17\n",
      "Number of frames in validation set: 17\n",
      "Number of frames in testing set: 18\n",
      "X_train shape: (1357646, 6), Y_train shape: (1357646,)\n",
      "X_val shape: (339404, 6), Y_val shape: (339404,)\n",
      "X_test shape: (562547, 6), Y_test shape: (562547,)\n",
      "Y_train encoded shape: (1357646, 7)\n",
      "Y_val encoded shape: (339404, 7)\n",
      "Y_test encoded shape: (562547, 7)\n",
      "Y_train decoded shape: (1357646, 1)\n",
      "Y_val decoded shape: (339404, 1)\n",
      "Y_test decoded shape: (562547, 1)\n",
      "X_train scaled shape: (1357646, 6)\n",
      "X_val scaled shape: (339404, 6)\n",
      "X_test scaled shape: (562547, 6)\n",
      "Class: 1, Weight: 0.2990790164739866\n",
      "Class: 3, Weight: 4.886608305255555\n",
      "Class: 4, Weight: 70.78937969924812\n",
      "Class: 5, Weight: 64.84523331228836\n",
      "Class: 6, Weight: 0.7721461803556264\n",
      "Class: 7, Weight: 0.6676972510788485\n",
      "Class: 8, Weight: 1.5887213012401267\n",
      "Dataset preparation complete.\n"
     ]
    }
   ],
   "execution_count": 5
  },
  {
   "cell_type": "code",
   "id": "d8902301a8aa8019",
   "metadata": {
    "ExecuteTime": {
     "end_time": "2024-08-09T12:06:27.441156Z",
     "start_time": "2024-08-09T12:06:25.194125Z"
    }
   },
   "source": [
    "# Lets plot the data on a graph, colouring by whether it is train, val or test data\n",
    "# Plot the column for back_x\n",
    "\n",
    "train_set, val_set, test_set = data_preparation.get_sets()\n",
    "\n",
    "plt.figure(figsize=(15, 5))\n",
    "\n",
    "plt.plot(train_set[0]['back_x'], label='Train', color='blue')\n",
    "plt.plot(val_set[0]['back_x'], label='Val', color='orange')\n",
    "plt.plot(test_set[0]['back_x'], label='Test', color='green')\n",
    "plt.legend()\n",
    "\n",
    "plt.title(f'Example of train, val and test data for one subject (back_x)')\n",
    "plt.tight_layout()\n",
    "plt.show()"
   ],
   "outputs": [
    {
     "data": {
      "text/plain": [
       "<Figure size 1500x500 with 1 Axes>"
      ],
      "image/png": "[encoded data removed]"
     },
     "metadata": {},
     "output_type": "display_data"
    }
   ],
   "execution_count": 6
  },
  {
   "cell_type": "code",
   "id": "fcfd870dc6e7424",
   "metadata": {
    "ExecuteTime": {
     "end_time": "2024-08-09T12:06:28.062851Z",
     "start_time": "2024-08-09T12:06:27.442658Z"
    }
   },
   "source": [
    "# Now we need to create the ESN\n",
    "\n",
    "# We can star by defining the input weights for the data\n",
    "\n",
    "# We will initially start by drawing on the best hyperparameters from the previous experiments\n",
    "# To recap, the best hyperparameters were:\n",
    "# Best Neurons: 500\n",
    "# Best Density: 0.2\n",
    "# Best Leakage Rate: 0.8\n",
    "# Best Spectral Radius: 0.999\n",
    "# Best Gamma: 0.999\n",
    "# Best Method: uniform\n",
    "# Best Sparsity: 0.8\n",
    "# As we have two reservoirs, we will define the first reservoir the same as with the previous experiments\n",
    "#  and the second reservoir will have smaller values in order to encourage the second reservoir to learn more from the first reservoir\n",
    "\n",
    "# To do this, we will create a matrix of shape (n_neurons, n_features) where n_neurons is the number of neurons in the reservoir and n_features is the number of features in the input signal\n",
    "# We will then populate this matrix from a density function where elements are 1 for a value p, and 0 for a value of 1-p\n",
    "# This will give us a sparse matrix with a density of p\n",
    "\n",
    "n_features = 6\n",
    "density_1 = 0.2\n",
    "density_2 = 0.5\n",
    "\n",
    "weight_distribution_1 = 'uniform'\n",
    "weight_distribution_2 = 'uniform'\n",
    "\n",
    "# To keep things consistent, we will keep the total number of neurons the same as the previous experiments, so 500 total\n",
    "# To begin with, we will split this evenly between the two reservoirs\n",
    "n_neurons_1 = 250\n",
    "n_neurons_2 = 250\n",
    "\n",
    "# Generate the input weights\n",
    "input_weights_1 = generate_input_weights(n_neurons_1, n_features, density_1, weight_distribution_1, seed=42)\n",
    "\n",
    "# Check the shape of the input weights\n",
    "print(f'Res1 Input weights shape: {input_weights_1.shape}')\n",
    "\n",
    "input_weights_2 = generate_input_weights(n_neurons_2, n_features, density_2, weight_distribution_2, seed=42)\n",
    "\n",
    "# Check the shape of the input weights\n",
    "print(f'Res2 Input weights shape: {input_weights_2.shape}')\n"
   ],
   "outputs": [
    {
     "name": "stdout",
     "output_type": "stream",
     "text": [
      "Res1 Input weights shape: (250, 6)\n",
      "Res2 Input weights shape: (250, 6)\n"
     ]
    }
   ],
   "execution_count": 7
  },
  {
   "cell_type": "code",
   "id": "da04bc2981f08416",
   "metadata": {
    "ExecuteTime": {
     "end_time": "2024-08-09T12:06:29.169798Z",
     "start_time": "2024-08-09T12:06:28.064351Z"
    }
   },
   "source": [
    "# Next, we initialise the ESN\n",
    "\n",
    "class_weights = data_preparation.get_class_weights()\n",
    "\n",
    "leakage_rate_1 = 0.8\n",
    "spectral_radius_1 = 0.999\n",
    "gamma_1 = 0.999\n",
    "W_in_1 = input_weights_1\n",
    "\n",
    "leakage_rate_2 = 0.5  # Lower leakage rate for the second reservoir\n",
    "spectral_radius_2 = 0.8  # Lower spectral radius for the second reservoir\n",
    "gamma_2 = 0.8  # Lower gamma for the second reservoir\n",
    "W_in_2 = input_weights_2\n",
    "\n",
    "esn = HierarchyESN(leakage_rate_1=leakage_rate_1, spectral_radius_1=spectral_radius_1, gamma_1=gamma_1, W_in_1=W_in_1,\n",
    "                   n_neurons_1=n_neurons_1,\n",
    "                   leakage_rate_2=leakage_rate_2, spectral_radius_2=spectral_radius_2, gamma_2=gamma_2, W_in_2=W_in_2,\n",
    "                   n_neurons_2=n_neurons_2,\n",
    "                   class_weights=class_weights, seed=42)"
   ],
   "outputs": [
    {
     "name": "stdout",
     "output_type": "stream",
     "text": [
      "[]\n",
      "Is CUDA available: True\n",
      "HierarchyESN initialised with leakage_rate_1: 0.8, spectral_radius_1: 0.999, gamma_1: 0.999, n_neurons_1: 250, leakage_rate_2: 0.5, spectral_radius_2: 0.8, gamma_2: 0.8, n_neurons_2: 250\n"
     ]
    }
   ],
   "execution_count": 8
  },
  {
   "cell_type": "code",
   "id": "5a25e02e0a0d836d",
   "metadata": {
    "jupyter": {
     "is_executing": true
    },
    "ExecuteTime": {
     "start_time": "2024-08-09T12:06:29.176813Z"
    }
   },
   "source": [
    "# Now we need to train the ESN\n",
    "# We will train the ESN using the training data\n",
    "\n",
    "X_train_scaled, y_train_encoded = data_preparation.get_preprocessed_data('train')\n",
    "X_val_scaled, y_val_encoded = data_preparation.get_preprocessed_data('val')\n",
    "X_test_scaled, y_test_encoded = data_preparation.get_preprocessed_data('test')\n",
    "\n",
    "# As a test, lets only take the first 1000 samples\n",
    "n_samples = 500000\n",
    "data_in = X_train_scaled\n",
    "data_out = y_train_encoded\n",
    "\n",
    "baseline_pickle = 'hierarchyESN_har70_baseline.pkl'\n",
    "\n",
    "# If a pickle file exists for this baseline, we will load the ESN from the pickle file instead of training it\n",
    "if not os.path.exists(baseline_pickle):\n",
    "    esn.fit(data_in, data_out, x_val=X_val_scaled, y_val=y_val_encoded)\n",
    "\n",
    "    # Save the ESN to a pickle file\n",
    "    with open(baseline_pickle, 'wb') as f:\n",
    "        pickle.dump(esn, f)\n",
    "else:\n",
    "    # Load the ESN from the pickle file\n",
    "    with open(baseline_pickle, 'rb') as f:\n",
    "        esn = pickle.load(f)\n"
   ],
   "outputs": [
    {
     "name": "stderr",
     "output_type": "stream",
     "text": [
      "  1%|          | 10000/1357646 [00:00<00:32, 41006.41it/s]"
     ]
    }
   ],
   "execution_count": null
  },
  {
   "metadata": {
    "jupyter": {
     "is_executing": true
    }
   },
   "cell_type": "code",
   "source": [
    "# Now we can use the ESN to predict the output for the test data\n",
    "y_pred = esn.forward(X_test_scaled)\n",
    "\n",
    "# Check the shape of the predicted output\n",
    "y_pred.shape\n"
   ],
   "id": "4eb1bbea11d2032",
   "outputs": [],
   "execution_count": null
  },
  {
   "metadata": {
    "jupyter": {
     "is_executing": true
    }
   },
   "cell_type": "code",
   "source": [
    "# Get the first few rows of the predicted output\n",
    "y_pred[:5]"
   ],
   "id": "b59385168f467714",
   "outputs": [],
   "execution_count": null
  },
  {
   "metadata": {
    "jupyter": {
     "is_executing": true
    }
   },
   "cell_type": "code",
   "source": [
    "# The predicted output is a one-hot encoded array, so we need to decode it back to the original labels\n",
    "y_pred_decoded = data_preparation.get_encoder().inverse_transform(y_pred)\n",
    "\n",
    "# Check the shape of the decoded output\n",
    "y_pred_decoded.shape"
   ],
   "id": "e8e20d6d5a52856d",
   "outputs": [],
   "execution_count": null
  },
  {
   "metadata": {
    "jupyter": {
     "is_executing": true
    }
   },
   "cell_type": "code",
   "source": [
    "# Get the first few rows of the decoded output\n",
    "y_pred_decoded[:5]"
   ],
   "id": "e571742e1c413cc2",
   "outputs": [],
   "execution_count": null
  },
  {
   "metadata": {
    "jupyter": {
     "is_executing": true
    }
   },
   "cell_type": "code",
   "source": [
    "# Now we can evaluate the accuracy of the ESN on the test data\n",
    "# Start by plotting the true label and the predicted label on a graph\n",
    "\n",
    "y_test_decoded = data_preparation.get_decoded_labels('test')\n",
    "\n",
    "plt.figure(figsize=(15, 5))\n",
    "plt.plot(y_test_decoded[:10000], label='True', color='blue')\n",
    "plt.plot(y_pred_decoded[:10000], label='Predicted', color='orange')\n",
    "plt.legend()\n",
    "plt.title('True vs Predicted labels for the first 1000 samples of the test data')\n",
    "\n",
    "plt.tight_layout()\n",
    "plt.show()"
   ],
   "id": "35f5d59b51f3666d",
   "outputs": [],
   "execution_count": null
  },
  {
   "metadata": {
    "jupyter": {
     "is_executing": true
    }
   },
   "cell_type": "code",
   "source": [
    "# Now we can calculate the accuracy of the ESN on the test data\n",
    "from sklearn.metrics import accuracy_score\n",
    "\n",
    "accuracy = accuracy_score(y_test_decoded, y_pred_decoded)\n",
    "\n",
    "accuracy"
   ],
   "id": "ffde2f6173c13f65",
   "outputs": [],
   "execution_count": null
  },
  {
   "metadata": {
    "jupyter": {
     "is_executing": true
    }
   },
   "cell_type": "code",
   "source": [
    "# Now we can calculate the confusion matrix for the ESN on the test data\n",
    "from sklearn.metrics import confusion_matrix\n",
    "\n",
    "conf_matrix = confusion_matrix(y_test_decoded, y_pred_decoded)\n",
    "\n",
    "conf_matrix"
   ],
   "id": "d430391865fb428a",
   "outputs": [],
   "execution_count": null
  },
  {
   "metadata": {
    "jupyter": {
     "is_executing": true
    }
   },
   "cell_type": "code",
   "source": [
    "# Now we can plot the confusion matrix\n",
    "# Our labels are \n",
    "# 1: walking\t\n",
    "# 3: shuffling\n",
    "# 4: stairs (ascending)\n",
    "# 5: stairs (descending)\n",
    "# 6: standing\n",
    "# 7: sitting\n",
    "# 8: lying\n",
    "# So we will use these labels for the x and y axis of the confusion matrix\n",
    "import seaborn as sns\n",
    "\n",
    "labels = ['walking', 'shuffling', 'stairs (ascending)', 'stairs (descending)', 'standing', 'sitting', 'lying']\n",
    "\n",
    "plt.figure(figsize=(10, 7))\n",
    "\n",
    "sns.heatmap(conf_matrix, annot=True, fmt='d', xticklabels=labels, yticklabels=labels, cmap='Blues')\n",
    "\n",
    "plt.xlabel('Predicted')\n",
    "plt.ylabel('True')\n",
    "\n",
    "plt.title('Confusion Matrix for the ESN on the test data')\n",
    "\n",
    "plt.tight_layout()\n",
    "plt.show()\n"
   ],
   "id": "d010e5be9564a796",
   "outputs": [],
   "execution_count": null
  },
  {
   "metadata": {
    "jupyter": {
     "is_executing": true
    }
   },
   "cell_type": "code",
   "source": [
    "# Let's print a normalised confusion matrix as there is a class imbalance\n",
    "conf_matrix_norm = conf_matrix / conf_matrix.sum(axis=1)[:, np.newaxis]\n",
    "\n",
    "plt.figure(figsize=(10, 7))\n",
    "\n",
    "sns.heatmap(conf_matrix_norm, annot=True, fmt='.2f', xticklabels=labels, yticklabels=labels, cmap='Blues')\n",
    "\n",
    "plt.xlabel('Predicted')\n",
    "plt.ylabel('True')\n",
    "\n",
    "plt.title('Normalised Confusion Matrix for the ESN on the test data')\n",
    "\n",
    "plt.tight_layout()\n",
    "plt.show()"
   ],
   "id": "bf680ec74980c06b",
   "outputs": [],
   "execution_count": null
  },
  {
   "metadata": {
    "jupyter": {
     "is_executing": true
    }
   },
   "cell_type": "code",
   "source": [
    "# Now we can calculate the precision, recall and f1-score for the ESN on the test data\n",
    "from sklearn.metrics import classification_report\n",
    "\n",
    "report = classification_report(y_test_decoded, y_pred_decoded, target_names=labels)\n",
    "\n",
    "print(report)"
   ],
   "id": "72e46a656729c9fa",
   "outputs": [],
   "execution_count": null
  },
  {
   "metadata": {
    "jupyter": {
     "is_executing": true
    }
   },
   "cell_type": "code",
   "source": [
    "# We can see that this is already performing quite well with the two reservoirs using different hyperparameters\n",
    "# Let's try and optimise this further by using hyperopt to find the best hyperparameters for the ESN\n",
    "# We will start by defining the hyperparameter space\n",
    "from hyperopt import hp\n",
    "from sklearn.metrics import mean_squared_error\n",
    "\n",
    "total_neurons = 500\n",
    "\n",
    "weight_distribution_options = ['uniform', 'normal', '0/1', '-1/1']\n",
    "\n",
    "space = {\n",
    "    'leakage_rate_1': hp.uniform('leakage_rate_1', 0, 1),\n",
    "    'spectral_radius_1': hp.uniform('spectral_radius_1', 0, 1),\n",
    "    'gamma_1': hp.uniform('gamma_1', 0, 1),\n",
    "    'density_1': hp.uniform('density_1', 0, 1),\n",
    "\n",
    "    'leakage_rate_2': hp.uniform('leakage_rate_2', 0, 1),\n",
    "    'spectral_radius_2': hp.uniform('spectral_radius_2', 0, 1),\n",
    "    'gamma_2': hp.uniform('gamma_2', 0, 1),\n",
    "    'density_2': hp.uniform('density_2', 0, 1),\n",
    "\n",
    "    # The number of neurons should be between 100 and 500, and n_neurons_1 + n_neurons_2 = 500\n",
    "    # The upper bound is set to the total - 100 to ensure that each reservoir has at least 100 neurons\n",
    "    'n_neurons_1': hp.uniformint('n_neurons_1', 100, total_neurons - 100),\n",
    "    # We will set n_neurons_2 = 500 - n_neurons_1\n",
    "\n",
    "    'weight_distribution_1': hp.choice('weight_distribution_1', weight_distribution_options),\n",
    "    'weight_distribution_2': hp.choice('weight_distribution_2', weight_distribution_options),\n",
    "}\n",
    "\n",
    "# We will also define the objective function\n",
    "from hyperopt import STATUS_OK\n",
    "\n",
    "\n",
    "def objective(params):\n",
    "    # Generate the input weights\n",
    "    n_features = 6\n",
    "\n",
    "    input_weights_1 = generate_input_weights(params['n_neurons_1'], n_features, params['density_1'],\n",
    "                                             params['weight_distribution_1'], seed=42)\n",
    "    input_weights_2 = generate_input_weights(params['n_neurons_2'], n_features, params['density_2'],\n",
    "                                             params['weight_distribution_2'], seed=42)\n",
    "\n",
    "    n_neurons_1 = params['n_neurons_1']\n",
    "    n_neurons_2 = total_neurons - n_neurons_1\n",
    "\n",
    "    # Create the ESN\n",
    "    esn = HierarchyESN(leakage_rate_1=params['leakage_rate_1'], spectral_radius_1=params['spectral_radius_1'],\n",
    "                       gamma_1=params['gamma_1'], W_in_1=input_weights_1, n_neurons_1=n_neurons_1,\n",
    "                       leakage_rate_2=params['leakage_rate_2'], spectral_radius_2=params['spectral_radius_2'],\n",
    "                       gamma_2=params['gamma_2'], W_in_2=input_weights_2, n_neurons_2=n_neurons_2,\n",
    "                       class_weights=class_weights, seed=42, is_optimising=True)\n",
    "\n",
    "    # Fit the ESN\n",
    "    esn.fit(data_in, data_out, x_val=X_val_scaled, y_val=y_val_encoded)\n",
    "\n",
    "    # Predict the output\n",
    "    y_pred = esn.forward(X_test_scaled)\n",
    "\n",
    "    # Decode the output\n",
    "    y_pred_decoded = data_preparation.get_encoder().inverse_transform(y_pred)\n",
    "\n",
    "    # Calculate the nmrse\n",
    "    nmrse = np.sqrt(mean_squared_error(y_test_decoded, y_pred_decoded)) / (y_pred_decoded.max() - y_pred_decoded.min())\n",
    "\n",
    "    return {'loss': nmrse, 'status': STATUS_OK}"
   ],
   "id": "fcfb0b8e4ecaaa4d",
   "outputs": [],
   "execution_count": null
  },
  {
   "metadata": {
    "jupyter": {
     "is_executing": true
    }
   },
   "cell_type": "code",
   "source": "run_hierarchy_optimisation = True",
   "id": "4988563f10a6cc23",
   "outputs": [],
   "execution_count": null
  },
  {
   "metadata": {
    "jupyter": {
     "is_executing": true
    }
   },
   "cell_type": "code",
   "source": [
    "# Now we can run the hyperparameter optimisation\n",
    "if run_hierarchy_optimisation:\n",
    "    from hyperopt import fmin, tpe, Trials\n",
    "\n",
    "    n_iterations = 50\n",
    "\n",
    "    trials = Trials()\n",
    "\n",
    "    best = fmin(fn=objective, space=space, algo=tpe.suggest, max_evals=n_iterations, trials=trials)\n",
    "\n",
    "else:\n",
    "    best = {}"
   ],
   "id": "dfddb64458e38d62",
   "outputs": [],
   "execution_count": null
  },
  {
   "metadata": {
    "jupyter": {
     "is_executing": true
    }
   },
   "cell_type": "code",
   "source": "print(best)",
   "id": "4521c9dbcbfe80c7",
   "outputs": [],
   "execution_count": null
  },
  {
   "metadata": {
    "jupyter": {
     "is_executing": true
    }
   },
   "cell_type": "code",
   "source": [
    "# Let's get the best hyperparameters\n",
    "best_leakage_rate_1 = best['leakage_rate_1']\n",
    "best_spectral_radius_1 = best['spectral_radius_1']\n",
    "best_gamma_1 = best['gamma_1']\n",
    "best_density_1 = best['density_1']\n",
    "\n",
    "best_leakage_rate_2 = best['leakage_rate_2']\n",
    "best_spectral_radius_2 = best['spectral_radius_2']\n",
    "best_gamma_2 = best['gamma_2']\n",
    "best_density_2 = best['density_2']\n",
    "\n",
    "best_n_neurons_1 = best['n_neurons_1']\n",
    "best_n_neurons_2 = total_neurons - best_n_neurons_1\n",
    "\n",
    "best_weight_distribution_1 = weight_distribution_options[best['weight_distribution_1']]\n",
    "best_weight_distribution_2 = weight_distribution_options[best['weight_distribution_2']]"
   ],
   "id": "567f495b778a0075",
   "outputs": [],
   "execution_count": null
  },
  {
   "metadata": {
    "jupyter": {
     "is_executing": true
    }
   },
   "cell_type": "code",
   "source": [
    "# Now we can create the ESN with the best hyperparameters\n",
    "# If we are running the optimisation, or the pickle file does not exist, we will create the ESN with the best hyperparameters\n",
    "# Otherwise, we will load the ESN from the pickle file\n",
    "\n",
    "optimised_pickle = 'hierarchyESN_har70_optimised.pkl'\n",
    "\n",
    "if run_hierarchy_optimisation or not os.path.exists(optimised_pickle):\n",
    "    input_weights_1 = generate_input_weights(best_n_neurons_1, n_features, best_density_1, best_weight_distribution_1,\n",
    "                                             seed=42)\n",
    "    input_weights_2 = generate_input_weights(best_n_neurons_2, n_features, best_density_2, best_weight_distribution_2,\n",
    "                                             seed=42)\n",
    "\n",
    "    esn = HierarchyESN(leakage_rate_1=best_leakage_rate_1, spectral_radius_1=best_spectral_radius_1,\n",
    "                       gamma_1=best_gamma_1,\n",
    "                       W_in_1=input_weights_1, n_neurons_1=best_n_neurons_1,\n",
    "                       leakage_rate_2=best_leakage_rate_2, spectral_radius_2=best_spectral_radius_2,\n",
    "                       gamma_2=best_gamma_2,\n",
    "                       W_in_2=input_weights_2, n_neurons_2=best_n_neurons_2,\n",
    "                       class_weights=class_weights, seed=42)\n",
    "\n",
    "    # Fit the ESN\n",
    "    esn.fit(data_in, data_out, x_val=X_val_scaled, y_val=y_val_encoded)\n",
    "\n",
    "    # Let's also pickle the best ESN for future use\n",
    "    with open(optimised_pickle, 'wb') as f:\n",
    "        pickle.dump(esn, f)\n",
    "\n",
    "else:\n",
    "    # Load the ESN from the pickle file\n",
    "    with open(optimised_pickle, 'rb') as f:\n",
    "        esn = pickle.load(f)\n"
   ],
   "id": "52345437f2ee7e85",
   "outputs": [],
   "execution_count": null
  },
  {
   "metadata": {
    "jupyter": {
     "is_executing": true
    }
   },
   "cell_type": "code",
   "source": [
    "# Predict the output\n",
    "y_pred = esn.forward(X_test_scaled)\n",
    "\n",
    "# Decode the output\n",
    "y_pred_decoded = data_preparation.get_encoder().inverse_transform(y_pred)\n",
    "\n",
    "# Calculate the nmrse\n",
    "nmrse = np.sqrt(mean_squared_error(y_test_decoded, y_pred_decoded)) / (y_pred_decoded.max() - y_pred_decoded.min())\n",
    "\n",
    "print(f'Optimised NMRSE: {nmrse}')"
   ],
   "id": "4edb09b83f7205ea",
   "outputs": [],
   "execution_count": null
  },
  {
   "metadata": {
    "jupyter": {
     "is_executing": true
    }
   },
   "cell_type": "code",
   "source": [
    "# Let's plot the confusion matrix for the best ESN\n",
    "conf_matrix = confusion_matrix(y_test_decoded, y_pred_decoded)\n",
    "\n",
    "plt.figure(figsize=(10, 7))\n",
    "\n",
    "sns.heatmap(conf_matrix, annot=True, fmt='d', xticklabels=labels, yticklabels=labels, cmap='Blues')\n",
    "\n",
    "plt.xlabel('Predicted')\n",
    "plt.ylabel('True')\n",
    "\n",
    "plt.title('Confusion Matrix for the HierarchyESN on the test data')\n",
    "\n",
    "plt.tight_layout()\n",
    "plt.show()"
   ],
   "id": "80486bfb6a9a05db",
   "outputs": [],
   "execution_count": null
  },
  {
   "metadata": {
    "jupyter": {
     "is_executing": true
    }
   },
   "cell_type": "code",
   "source": [
    "# Let's plot the normalised confusion matrix for the best ESN\n",
    "conf_matrix_norm = conf_matrix / conf_matrix.sum(axis=1)[:, np.newaxis]\n",
    "\n",
    "plt.figure(figsize=(10, 7))\n",
    "\n",
    "sns.heatmap(conf_matrix_norm, annot=True, fmt='.2f', xticklabels=labels, yticklabels=labels, cmap='Blues')\n",
    "\n",
    "plt.xlabel('Predicted')\n",
    "plt.ylabel('True')\n",
    "\n",
    "plt.title('Normalised Confusion Matrix for the HierarchyESN on the test data')\n",
    "\n",
    "plt.tight_layout()\n",
    "plt.show()"
   ],
   "id": "d071bf6562700c9",
   "outputs": [],
   "execution_count": null
  },
  {
   "metadata": {
    "jupyter": {
     "is_executing": true
    }
   },
   "cell_type": "code",
   "source": [
    "# Let's print the classification report for the best ESN\n",
    "report = classification_report(y_test_decoded, y_pred_decoded, target_names=labels)\n",
    "\n",
    "print(report)"
   ],
   "id": "f7f605a086f28205",
   "outputs": [],
   "execution_count": null
  },
  {
   "metadata": {
    "jupyter": {
     "is_executing": true
    }
   },
   "cell_type": "code",
   "source": [
    "# Let's also try applying some of the preprocessing techniques used in prior experiments to see if we can improve the performance of the ESN further\n",
    "data_preprocessor = DataPreprocessor()\n",
    "\n",
    "# The data preprocessor object provides access to different data preprocessing methods\n",
    "# The available methods are:\n",
    "# - buffered_windows(window_size, x, y)\n",
    "# - exponential_moving_average(alpha, x, y)\n",
    "# - fourier_smoothing(x, threshold)\n",
    "# - pipeline(step_names, x, y)\n",
    "# - get_available_steps()"
   ],
   "id": "93b5e623c11ffef4",
   "outputs": [],
   "execution_count": null
  },
  {
   "metadata": {
    "jupyter": {
     "is_executing": true
    }
   },
   "cell_type": "code",
   "source": "run_window_optimisation = True",
   "id": "538a4569fe5b40b4",
   "outputs": [],
   "execution_count": null
  },
  {
   "metadata": {
    "jupyter": {
     "is_executing": true
    }
   },
   "cell_type": "code",
   "source": [
    "# Let's start by applying the buffered windows method to the data\n",
    "# For these experiments, we will use the previously found best hyperparameters above\n",
    "\n",
    "window_sizes = [10, 50, 100, 500]\n",
    "\n",
    "window_scores = []\n",
    "\n",
    "if run_window_optimisation:\n",
    "    for window_size in window_sizes:\n",
    "        print(f'Window Size: {window_size}')\n",
    "        X_train_windowed, y_train_windowed = data_preprocessor.buffered_windows(window_size, X_train_scaled,\n",
    "                                                                                y_train_encoded)\n",
    "        X_val_windowed, y_val_windowed = data_preprocessor.buffered_windows(window_size, X_val_scaled, y_val_encoded)\n",
    "        X_test_windowed, y_test_windowed = data_preprocessor.buffered_windows(window_size, X_test_scaled,\n",
    "                                                                              y_test_encoded)\n",
    "\n",
    "        esn = HierarchyESN(leakage_rate_1=best_leakage_rate_1, spectral_radius_1=best_spectral_radius_1,\n",
    "                           gamma_1=best_gamma_1,\n",
    "                           W_in_1=input_weights_1, n_neurons_1=best_n_neurons_1,\n",
    "                           leakage_rate_2=best_leakage_rate_2, spectral_radius_2=best_spectral_radius_2,\n",
    "                           gamma_2=best_gamma_2,\n",
    "                           W_in_2=input_weights_2, n_neurons_2=best_n_neurons_2,\n",
    "                           class_weights=class_weights, seed=42)\n",
    "\n",
    "        # Fit the ESN\n",
    "        esn.fit(X_train_windowed, y_train_windowed, x_val=X_val_windowed, y_val=y_val_windowed)\n",
    "\n",
    "        # Predict the output\n",
    "        y_pred = esn.forward(X_test_windowed)\n",
    "\n",
    "        # Decode the output\n",
    "        # We need to decode the output as it is one-hot encoded\n",
    "        # But the windowed data is in the shape of (n_samples//window_size, n_classes * window_size), we need to reshape it to (n_samples, n_classes)\n",
    "        y_test_resized = y_test_windowed.reshape(-1, y_test_windowed.shape[-1])\n",
    "        y_pred_resized = y_pred.reshape(-1, y_pred.shape[-1])\n",
    "\n",
    "        y_test_decoded = data_preparation.get_encoder().inverse_transform(y_test_resized)\n",
    "        y_pred_decoded = data_preparation.get_encoder().inverse_transform(y_pred_resized)\n",
    "\n",
    "        # Calculate the nmrse\n",
    "        nmrse = np.sqrt(mean_squared_error(y_test_decoded, y_pred_decoded)) / (\n",
    "                    y_pred_decoded.max() - y_pred_decoded.min())\n",
    "\n",
    "        window_scores.append({'window_size': window_size, 'nmrse': nmrse})\n",
    "\n",
    "        print(f'Window Size: {window_size}, NMRSE: {nmrse}')\n",
    "\n",
    "    else:\n",
    "        window_scores = []"
   ],
   "id": "4695ee824ea9959e",
   "outputs": [],
   "execution_count": null
  },
  {
   "metadata": {
    "jupyter": {
     "is_executing": true
    }
   },
   "cell_type": "code",
   "source": "print(window_scores)",
   "id": "ec53d943660f8c84",
   "outputs": [],
   "execution_count": null
  },
  {
   "metadata": {
    "jupyter": {
     "is_executing": true
    }
   },
   "cell_type": "code",
   "source": [
    "# Let's plot the NMRSE for the different window sizes\n",
    "sizes = [score['window_size'] for score in window_scores]\n",
    "nmrses = [score['nmrse'] for score in window_scores]\n",
    "\n",
    "plt.figure(figsize=(10, 7))\n",
    "\n",
    "plt.plot(sizes, nmrses, marker='o')\n",
    "\n",
    "plt.xlabel('Window Size')\n",
    "plt.ylabel('NMRSE')\n",
    "\n",
    "plt.title('NMRSE for different window sizes')\n",
    "\n",
    "plt.tight_layout()\n",
    "plt.show()"
   ],
   "id": "5255360000caa562",
   "outputs": [],
   "execution_count": null
  },
  {
   "metadata": {
    "jupyter": {
     "is_executing": true
    }
   },
   "cell_type": "code",
   "source": [
    "# Get the best window size\n",
    "best_window_size = window_scores[np.argmin(nmrses)]['window_size']\n",
    "\n",
    "print(f'Best Window Size: {best_window_size}')"
   ],
   "id": "eec3d8f4c2c4686b",
   "outputs": [],
   "execution_count": null
  },
  {
   "metadata": {
    "jupyter": {
     "is_executing": true
    }
   },
   "cell_type": "code",
   "source": "run_emas_optimisation = True",
   "id": "e081014ea43ac168",
   "outputs": [],
   "execution_count": null
  },
  {
   "metadata": {
    "jupyter": {
     "is_executing": true
    }
   },
   "cell_type": "code",
   "source": [
    "# Let's try applying the exponential moving average smoothing method to the data\n",
    "# For these experiments, we will use the previously found best hyperparameters above\n",
    "\n",
    "alphas = [0.001, 0.01, 0.1, 0.5, 0.7, 0.8, 0.9, 0.95, 0.99, 0.999]\n",
    "\n",
    "ema_scores = []\n",
    "\n",
    "if run_emas_optimisation:\n",
    "    for alpha in alphas:\n",
    "        print(f'Alpha: {alpha}')\n",
    "        X_train_ema, y_train_ema = data_preprocessor.exponential_moving_average(alpha, X_train_scaled, y_train_encoded)\n",
    "        X_val_ema, y_val_ema = data_preprocessor.exponential_moving_average(alpha, X_val_scaled, y_val_encoded)\n",
    "        X_test_ema, y_test_ema = data_preprocessor.exponential_moving_average(alpha, X_test_scaled, y_test_encoded)\n",
    "\n",
    "        esn = HierarchyESN(leakage_rate_1=best_leakage_rate_1, spectral_radius_1=best_spectral_radius_1,\n",
    "                           gamma_1=best_gamma_1,\n",
    "                           W_in_1=input_weights_1, n_neurons_1=best_n_neurons_1,\n",
    "                           leakage_rate_2=best_leakage_rate_2, spectral_radius_2=best_spectral_radius_2,\n",
    "                           gamma_2=best_gamma_2,\n",
    "                           W_in_2=input_weights_2, n_neurons_2=best_n_neurons_2,\n",
    "                           class_weights=class_weights, seed=42)\n",
    "\n",
    "        # Fit the ESN\n",
    "        esn.fit(X_train_ema, y_train_ema, x_val=X_val_ema, y_val=y_val_ema)\n",
    "\n",
    "        # Predict the output\n",
    "        y_pred = esn.forward(X_test_ema)\n",
    "\n",
    "        # Decode the output\n",
    "        y_test_decoded = data_preparation.get_encoder().inverse_transform(y_test_ema)\n",
    "        y_pred_decoded = data_preparation.get_encoder().inverse_transform(y_pred)\n",
    "\n",
    "        # Calculate the nmrse\n",
    "        nmrse = np.sqrt(mean_squared_error(y_test_decoded, y_pred_decoded)) / (\n",
    "                    y_pred_decoded.max() - y_pred_decoded.min())\n",
    "\n",
    "        ema_scores.append({'alpha': alpha, 'nmrse': nmrse})\n",
    "\n",
    "        print(f'Alpha: {alpha}, NMRSE: {nmrse}')\n",
    "\n",
    "    else:\n",
    "        ema_scores = []"
   ],
   "id": "2c47735300e7cbad",
   "outputs": [],
   "execution_count": null
  },
  {
   "metadata": {
    "jupyter": {
     "is_executing": true
    }
   },
   "cell_type": "code",
   "source": "print(ema_scores)",
   "id": "4e278b1cb0e39b75",
   "outputs": [],
   "execution_count": null
  },
  {
   "metadata": {
    "jupyter": {
     "is_executing": true
    }
   },
   "cell_type": "code",
   "source": [
    "# Let's plot the NMRSE for the different alphas\n",
    "alphas = [score['alpha'] for score in ema_scores]\n",
    "nmrses = [score['nmrse'] for score in ema_scores]\n",
    "\n",
    "plt.figure(figsize=(10, 7))\n",
    "\n",
    "plt.plot(alphas, nmrses, marker='o')\n",
    "\n",
    "plt.xlabel('Alpha')\n",
    "plt.ylabel('NMRSE')\n",
    "\n",
    "plt.title('NMRSE for different alphas')\n",
    "\n",
    "plt.tight_layout()\n",
    "plt.show()"
   ],
   "id": "27e5be562358d9ee",
   "outputs": [],
   "execution_count": null
  },
  {
   "metadata": {
    "jupyter": {
     "is_executing": true
    }
   },
   "cell_type": "code",
   "source": [
    "# Get the best alpha\n",
    "best_alpha = ema_scores[np.argmin(nmrses)]['alpha']\n",
    "\n",
    "print(f'Best Alpha: {best_alpha}')"
   ],
   "id": "43343cd28478e63",
   "outputs": [],
   "execution_count": null
  },
  {
   "metadata": {
    "jupyter": {
     "is_executing": true
    }
   },
   "cell_type": "code",
   "source": "run_fourier_optimisation = True",
   "id": "717740b740cdbd9c",
   "outputs": [],
   "execution_count": null
  },
  {
   "metadata": {
    "jupyter": {
     "is_executing": true
    }
   },
   "cell_type": "code",
   "source": [
    "# Let's try applying the fourier smoothing method to the data\n",
    "# For these experiments, we will use the previously found best hyperparameters above\n",
    "\n",
    "thresholds = [1e3, 1e2, 1e1, 1e0, 1e-1, 1e-2, 1e-3, 1e-4, 1e-5]\n",
    "\n",
    "fourier_scores = []\n",
    "\n",
    "if run_fourier_optimisation:\n",
    "    for threshold in thresholds:\n",
    "        print(f'Threshold: {threshold}')\n",
    "        X_train_fourier = data_preprocessor.fourier_smoothing(X_train_scaled, threshold)\n",
    "        X_val_fourier = data_preprocessor.fourier_smoothing(X_val_scaled, threshold)\n",
    "        X_test_fourier = data_preprocessor.fourier_smoothing(X_test_scaled, threshold)\n",
    "\n",
    "        esn = HierarchyESN(leakage_rate_1=best_leakage_rate_1, spectral_radius_1=best_spectral_radius_1,\n",
    "                           gamma_1=best_gamma_1,\n",
    "                           W_in_1=input_weights_1, n_neurons_1=best_n_neurons_1,\n",
    "                           leakage_rate_2=best_leakage_rate_2, spectral_radius_2=best_spectral_radius_2,\n",
    "                           gamma_2=best_gamma_2,\n",
    "                           W_in_2=input_weights_2, n_neurons_2=best_n_neurons_2,\n",
    "                           class_weights=class_weights, seed=42)\n",
    "\n",
    "        # Fit the ESN\n",
    "        esn.fit(X_train_fourier, y_train_encoded, x_val=X_val_fourier, y_val=y_val_encoded)\n",
    "\n",
    "        # Predict the output\n",
    "        y_pred = esn.forward(X_test_fourier)\n",
    "\n",
    "        # Decode the output\n",
    "        y_test_decoded = data_preparation.get_encoder().inverse_transform(y_test_encoded)\n",
    "        y_pred_decoded = data_preparation.get_encoder().inverse_transform(y_pred)\n",
    "\n",
    "        # Calculate the nmrse\n",
    "        nmrse = np.sqrt(mean_squared_error(y_test_decoded, y_pred_decoded)) / (\n",
    "                    y_pred_decoded.max() - y_pred_decoded.min())\n",
    "\n",
    "        fourier_scores.append({'threshold': threshold, 'nmrse': nmrse})\n",
    "\n",
    "        print(f'Threshold: {threshold}, NMRSE: {nmrse}')\n",
    "\n",
    "    else:\n",
    "        fourier_scores = []"
   ],
   "id": "9f78137b51119ea9",
   "outputs": [],
   "execution_count": null
  },
  {
   "metadata": {
    "jupyter": {
     "is_executing": true
    }
   },
   "cell_type": "code",
   "source": "print(fourier_scores)",
   "id": "4a686728ec2c238e",
   "outputs": [],
   "execution_count": null
  },
  {
   "metadata": {
    "jupyter": {
     "is_executing": true
    }
   },
   "cell_type": "code",
   "source": [
    "# Let's plot the NMRSE for the different thresholds\n",
    "thresholds = [score['threshold'] for score in fourier_scores]\n",
    "nmrses = [score['nmrse'] for score in fourier_scores]\n",
    "\n",
    "plt.figure(figsize=(10, 7))\n",
    "\n",
    "plt.plot(thresholds, nmrses, marker='o')\n",
    "\n",
    "plt.xlabel('Threshold')\n",
    "plt.ylabel('NMRSE')\n",
    "\n",
    "plt.title('NMRSE for different thresholds')\n",
    "\n",
    "plt.tight_layout()\n",
    "plt.show()"
   ],
   "id": "1a883a1ce7932c56",
   "outputs": [],
   "execution_count": null
  },
  {
   "metadata": {
    "jupyter": {
     "is_executing": true
    }
   },
   "cell_type": "code",
   "source": [
    "# Get the best threshold\n",
    "best_threshold = fourier_scores[np.argmin(nmrses)]['threshold']\n",
    "\n",
    "print(f'Best Threshold: {best_threshold}')"
   ],
   "id": "1e37472512ff3f93",
   "outputs": [],
   "execution_count": null
  },
  {
   "metadata": {
    "jupyter": {
     "is_executing": true
    }
   },
   "cell_type": "code",
   "source": "run_fourier_window_optimisation = True",
   "id": "dc70f23f5d6c002",
   "outputs": [],
   "execution_count": null
  },
  {
   "metadata": {
    "jupyter": {
     "is_executing": true
    }
   },
   "cell_type": "code",
   "source": [
    "# As with the previous baselines, we will apply the fourier smoothing method followed by the buffered windows method\n",
    "\n",
    "window_sizes = [10, 50, 100, 500]\n",
    "thresholds = [1e3, 1e2, 1e1, 1e0, 1e-1, 1e-2, 1e-3, 1e-4, 1e-5]\n",
    "\n",
    "pipeline_steps = ['fourier_smoothing', 'buffered_windows']\n",
    "\n",
    "fourier_window_scores = []\n",
    "\n",
    "if run_fourier_window_optimisation:\n",
    "    for threshold in thresholds:\n",
    "        for window_size in window_sizes:\n",
    "            print(f'Threshold: {threshold}, Window Size: {window_size}')\n",
    "\n",
    "            pipeline_params = [threshold, window_size]\n",
    "\n",
    "            x_train_windowed_fourier, y_train_windowed_fourier = data_preprocessor.pipeline(pipeline_steps,\n",
    "                                                                                            X_train_scaled,\n",
    "                                                                                            y_train_encoded,\n",
    "                                                                                            pipeline_params)\n",
    "\n",
    "            x_val_windowed_fourier, y_val_windowed_fourier = data_preprocessor.pipeline(pipeline_steps, X_val_scaled,\n",
    "                                                                                        y_val_encoded, pipeline_params)\n",
    "\n",
    "            x_test_windowed_fourier, y_test_windowed_fourier = data_preprocessor.pipeline(pipeline_steps, X_test_scaled,\n",
    "                                                                                          y_test_encoded,\n",
    "                                                                                          pipeline_params)\n",
    "\n",
    "            esn = HierarchyESN(leakage_rate_1=best_leakage_rate_1, spectral_radius_1=best_spectral_radius_1,\n",
    "                               gamma_1=best_gamma_1,\n",
    "                               W_in_1=input_weights_1, n_neurons_1=best_n_neurons_1,\n",
    "                               leakage_rate_2=best_leakage_rate_2, spectral_radius_2=best_spectral_radius_2,\n",
    "                               gamma_2=best_gamma_2,\n",
    "                               W_in_2=input_weights_2, n_neurons_2=best_n_neurons_2,\n",
    "                               class_weights=class_weights, seed=42)\n",
    "\n",
    "            # Fit the ESN\n",
    "            esn.fit(x_train_windowed_fourier, y_train_windowed_fourier, x_val=x_val_windowed_fourier,\n",
    "                    y_val=y_val_windowed_fourier)\n",
    "\n",
    "            # Predict the output\n",
    "            y_pred = esn.forward(x_test_windowed_fourier)\n",
    "\n",
    "            # Decode the output\n",
    "            # We need to decode the output as it is one-hot encoded\n",
    "            # But the windowed data is in the shape of (n_samples//window_size, n_classes * window_size), we need to reshape it to (n_samples, n_classes)\n",
    "            y_test_resized = y_test_windowed_fourier.reshape(-1, y_test_windowed_fourier.shape[-1])\n",
    "            y_pred_resized = y_pred.reshape(-1, y_pred.shape[-1])\n",
    "\n",
    "            y_test_decoded = data_preparation.get_encoder().inverse_transform(y_test_resized)\n",
    "            y_pred_decoded = data_preparation.get_encoder().inverse_transform(y_pred_resized)\n",
    "\n",
    "            # Calculate the nmrse\n",
    "            nmrse = np.sqrt(mean_squared_error(y_test_decoded, y_pred_decoded)) / (\n",
    "                        y_pred_decoded.max() - y_pred_decoded.min())\n",
    "\n",
    "            fourier_window_scores.append({'threshold': threshold, 'window_size': window_size, 'nmrse': nmrse})\n",
    "\n",
    "            print(f'Threshold: {threshold}, Window Size: {window_size}, NMRSE: {nmrse}')\n",
    "\n",
    "else:\n",
    "    fourier_window_scores = []"
   ],
   "id": "a2097560c601600c",
   "outputs": [],
   "execution_count": null
  },
  {
   "metadata": {
    "jupyter": {
     "is_executing": true
    }
   },
   "cell_type": "code",
   "source": "print(fourier_window_scores)",
   "id": "7ece11e72d4dd702",
   "outputs": [],
   "execution_count": null
  },
  {
   "metadata": {
    "jupyter": {
     "is_executing": true
    }
   },
   "cell_type": "code",
   "source": [
    "# Let's plot the NMRSE for the different thresholds per window size\n",
    "# The results are in an array of dictionaries, so we need to extract the data into a format that can be plotted\n",
    "# We will create a dictionary where the keys are the window sizes, and the values are the NMRSEs for the different thresholds\n",
    "\n",
    "window_scores_dict = {window_size: [] for window_size in window_sizes}\n",
    "\n",
    "for score in fourier_window_scores:\n",
    "    window_size = score['window_size']\n",
    "    threshold = score['threshold']\n",
    "    nmrse = score['nmrse']\n",
    "\n",
    "    window_scores_dict[window_size].append({'threshold': threshold, 'nmrse': nmrse})\n",
    "\n",
    "# Now we can plot the NMRSE for the different thresholds per window size\n",
    "plt.figure(figsize=(15, 10))\n",
    "\n",
    "for window_size, scores in window_scores_dict.items():\n",
    "    thresholds = [score['threshold'] for score in scores]\n",
    "    nmrses = [score['nmrse'] for score in scores]\n",
    "\n",
    "    plt.plot(thresholds, nmrses, marker='o', label=f'Window Size: {window_size}')\n",
    "\n",
    "plt.xlabel('Threshold')\n",
    "plt.ylabel('NMRSE')\n",
    "plt.xscale('log')\n",
    "plt.legend()\n",
    "\n",
    "plt.title('NMRSE for different thresholds per window size')\n",
    "\n",
    "plt.tight_layout()\n",
    "plt.show()"
   ],
   "id": "7554722d06d3a46b",
   "outputs": [],
   "execution_count": null
  },
  {
   "metadata": {
    "jupyter": {
     "is_executing": true
    }
   },
   "cell_type": "code",
   "source": [
    "# Get the best threshold and window size\n",
    "best_threshold_window = fourier_window_scores[np.argmin([score['nmrse'] for score in fourier_window_scores])]\n",
    "best_threshold = best_threshold_window['threshold']\n",
    "best_window_size = best_threshold_window['window_size']\n",
    "\n",
    "print(f'Best Threshold: {best_threshold}, Best Window Size: {best_window_size}')"
   ],
   "id": "6eeb5b73ea4ae33d",
   "outputs": [],
   "execution_count": null
  },
  {
   "metadata": {
    "jupyter": {
     "is_executing": true
    }
   },
   "cell_type": "code",
   "source": [
    "# Now let's train the best version of each of these preprocessing methods and evaluate the performance\n",
    "\n",
    "window_pickle = 'hierarchyESN_har70_window.pkl'\n",
    "\n",
    "X_train_windowed, y_train_windowed = data_preprocessor.buffered_windows(best_window_size, X_train_scaled,\n",
    "                                                                        y_train_encoded)\n",
    "X_val_windowed, y_val_windowed = data_preprocessor.buffered_windows(best_window_size, X_val_scaled, y_val_encoded)\n",
    "X_test_windowed, y_test_windowed = data_preprocessor.buffered_windows(best_window_size, X_test_scaled, y_test_encoded)\n",
    "\n",
    "if run_window_optimisation or not os.path.exists(window_pickle):\n",
    "\n",
    "    input_weights_1 = generate_input_weights(best_n_neurons_1, n_features, best_density_1, best_weight_distribution_1,\n",
    "                                             seed=42)\n",
    "    input_weights_2 = generate_input_weights(best_n_neurons_2, n_features, best_density_2, best_weight_distribution_2,\n",
    "                                             seed=42)\n",
    "\n",
    "    esn = HierarchyESN(leakage_rate_1=best_leakage_rate_1, spectral_radius_1=best_spectral_radius_1,\n",
    "                       gamma_1=best_gamma_1,\n",
    "                       W_in_1=input_weights_1, n_neurons_1=best_n_neurons_1,\n",
    "                       leakage_rate_2=best_leakage_rate_2, spectral_radius_2=best_spectral_radius_2,\n",
    "                       gamma_2=best_gamma_2,\n",
    "                       W_in_2=input_weights_2, n_neurons_2=best_n_neurons_2,\n",
    "                       class_weights=class_weights, seed=42)\n",
    "\n",
    "    # Fit the ESN\n",
    "    esn.fit(X_train_windowed, y_train_windowed, x_val=X_val_windowed, y_val=y_val_windowed)\n",
    "\n",
    "    # Let's also pickle the best ESN for future use\n",
    "    with open(window_pickle, 'wb') as f:\n",
    "        pickle.dump(esn, f)\n",
    "\n",
    "else:\n",
    "    # Load the ESN from the pickle file\n",
    "    with open(window_pickle, 'rb') as f:\n",
    "        esn = pickle.load(f)\n",
    "\n",
    "# Predict the output\n",
    "y_pred = esn.forward(X_test_windowed)\n",
    "\n",
    "# Decode the output\n",
    "# We need to decode the output as it is one-hot encoded\n",
    "# But the windowed data is in the shape of (n_samples//window_size, n_classes * window_size), we need to reshape it to (n_samples, n_classes)\n",
    "y_test_resized = y_test_windowed.reshape(-1, y_test_windowed.shape[-1])\n",
    "y_pred_resized = y_pred.reshape(-1, y_pred.shape[-1])\n",
    "\n",
    "y_test_decoded_window = data_preparation.get_encoder().inverse_transform(y_test_resized)\n",
    "y_pred_decoded_window = data_preparation.get_encoder().inverse_transform(y_pred_resized)\n",
    "\n",
    "# Calculate the nmrse\n",
    "nmrse = np.sqrt(mean_squared_error(y_test_decoded_window, y_pred_decoded_window)) / (\n",
    "            y_pred_decoded_window.max() - y_pred_decoded_window.min())\n",
    "\n",
    "print(f'Windowed NMRSE: {nmrse}')"
   ],
   "id": "41c6d40a6a6a134b",
   "outputs": [],
   "execution_count": null
  },
  {
   "metadata": {
    "jupyter": {
     "is_executing": true
    }
   },
   "cell_type": "code",
   "source": [
    "ema_pickle = 'hierarchyESN_har70_ema.pkl'\n",
    "\n",
    "X_train_ema, y_train_ema = data_preprocessor.exponential_moving_average(best_alpha, X_train_scaled, y_train_encoded)\n",
    "X_val_ema, y_val_ema = data_preprocessor.exponential_moving_average(best_alpha, X_val_scaled, y_val_encoded)\n",
    "X_test_ema, y_test_ema = data_preprocessor.exponential_moving_average(best_alpha, X_test_scaled, y_test_encoded)\n",
    "\n",
    "if run_emas_optimisation or not os.path.exists(ema_pickle):\n",
    "\n",
    "    input_weights_1 = generate_input_weights(best_n_neurons_1, n_features, best_density_1, best_weight_distribution_1,\n",
    "                                             seed=42)\n",
    "    input_weights_2 = generate_input_weights(best_n_neurons_2, n_features, best_density_2, best_weight_distribution_2,\n",
    "                                             seed=42)\n",
    "\n",
    "    esn = HierarchyESN(leakage_rate_1=best_leakage_rate_1, spectral_radius_1=best_spectral_radius_1,\n",
    "                       gamma_1=best_gamma_1,\n",
    "                       W_in_1=input_weights_1, n_neurons_1=best_n_neurons_1,\n",
    "                       leakage_rate_2=best_leakage_rate_2, spectral_radius_2=best_spectral_radius_2,\n",
    "                       gamma_2=best_gamma_2,\n",
    "                       W_in_2=input_weights_2, n_neurons_2=best_n_neurons_2,\n",
    "                       class_weights=class_weights, seed=42)\n",
    "\n",
    "    # Fit the ESN\n",
    "    esn.fit(X_train_ema, y_train_ema, x_val=X_val_ema, y_val=y_val_ema)\n",
    "\n",
    "    # Let's also pickle the best ESN for future use\n",
    "    with open(ema_pickle, 'wb') as f:\n",
    "        pickle.dump(esn, f)\n",
    "            \n",
    "else:\n",
    "    # Load the ESN from the pickle file\n",
    "    with open(ema_pickle, 'rb') as f:\n",
    "        esn = pickle.load(f)\n",
    "\n",
    "# Predict the output\n",
    "y_pred = esn.forward(X_test_ema)\n",
    "\n",
    "# Decode the output\n",
    "y_test_decoded_ema = data_preparation.get_decoder().inverse_transform(y_test_ema)\n",
    "y_pred_decoded_ema = data_preparation.get_decoder().inverse_transform(y_pred)\n",
    "\n",
    "# Calculate the nmrse\n",
    "nmrse = np.sqrt(mean_squared_error(y_test_decoded_ema, y_pred_decoded_ema)) / (\n",
    "            y_pred_decoded_ema.max() - y_pred_decoded_ema.min())\n",
    "\n",
    "print(f'EMA NMRSE: {nmrse}')"
   ],
   "id": "c214935a4c899138",
   "outputs": [],
   "execution_count": null
  },
  {
   "metadata": {
    "jupyter": {
     "is_executing": true
    }
   },
   "cell_type": "code",
   "source": [
    "fourier_pickle = 'hierarchyESN_har70_fourier.pkl'\n",
    "\n",
    "X_train_fourier = data_preprocessor.fourier_smoothing(X_train_scaled, best_threshold)\n",
    "X_val_fourier = data_preprocessor.fourier_smoothing(X_val_scaled, best_threshold)\n",
    "X_test_fourier = data_preprocessor.fourier_smoothing(X_test_scaled, best_threshold)\n",
    "\n",
    "if run_fourier_optimisation or not os.path.exists(fourier_pickle):\n",
    "    input_weights_1 = generate_input_weights(best_n_neurons_1, n_features, best_density_1, best_weight_distribution_1,\n",
    "                                             seed=42)\n",
    "    input_weights_2 = generate_input_weights(best_n_neurons_2, n_features, best_density_2, best_weight_distribution_2,\n",
    "                                             seed=42)\n",
    "\n",
    "    esn = HierarchyESN(leakage_rate_1=best_leakage_rate_1, spectral_radius_1=best_spectral_radius_1,\n",
    "                       gamma_1=best_gamma_1,\n",
    "                       W_in_1=input_weights_1, n_neurons_1=best_n_neurons_1,\n",
    "                       leakage_rate_2=best_leakage_rate_2, spectral_radius_2=best_spectral_radius_2,\n",
    "                       gamma_2=best_gamma_2,\n",
    "                       W_in_2=input_weights_2, n_neurons_2=best_n_neurons_2,\n",
    "                       class_weights=class_weights, seed=42)\n",
    "\n",
    "    # Fit the ESN\n",
    "    esn.fit(X_train_fourier, y_train_encoded, x_val=X_val_fourier, y_val=y_val_encoded)\n",
    "\n",
    "    # Let's also pickle the best ESN for future use\n",
    "    with open(fourier_pickle, 'wb') as f:\n",
    "        pickle.dump(esn, f)\n",
    "        \n",
    "else:\n",
    "    # Load the ESN from the pickle file\n",
    "    with open(fourier_pickle, 'rb') as f:\n",
    "        esn = pickle.load(f)\n",
    "        \n",
    "# Predict the output\n",
    "y_pred = esn.forward(X_test_fourier)\n",
    "\n",
    "# Decode the output\n",
    "y_test_decoded_fourier = data_preparation.get_decoder().inverse_transform(y_test_encoded)\n",
    "y_pred_decoded_fourier = data_preparation.get_decoder().inverse_transform(y_pred)\n",
    "\n",
    "# Calculate the nmrse\n",
    "nmrse = np.sqrt(mean_squared_error(y_test_decoded_fourier, y_pred_decoded_fourier)) / (\n",
    "            y_pred_decoded_fourier.max() - y_pred_decoded_fourier.min())\n",
    "\n",
    "print(f'Fourier NMRSE: {nmrse}')\n"
   ],
   "id": "f6b8d14309842150",
   "outputs": [],
   "execution_count": null
  },
  {
   "metadata": {
    "jupyter": {
     "is_executing": true
    }
   },
   "cell_type": "code",
   "source": [
    "fourier_window_pickle = 'hierarchyESN_har70_fourier_window.pkl'\n",
    "\n",
    "pipeline_steps = ['fourier_smoothing', 'buffered_windows']\n",
    "\n",
    "pipeline_params = [best_threshold, best_window_size]\n",
    "\n",
    "x_train_windowed_fourier, y_train_windowed_fourier = data_preprocessor.pipeline(pipeline_steps, X_train_scaled,\n",
    "                                                                                y_train_encoded, pipeline_params)\n",
    "\n",
    "x_val_windowed_fourier, y_val_windowed_fourier = data_preprocessor.pipeline(pipeline_steps, X_val_scaled,\n",
    "                                                                            y_val_encoded, pipeline_params)\n",
    "\n",
    "x_test_windowed_fourier, y_test_windowed_fourier = data_preprocessor.pipeline(pipeline_steps, X_test_scaled,\n",
    "                                                                              y_test_encoded, pipeline_params)\n",
    "\n",
    "if run_fourier_window_optimisation or not os.path.exists(fourier_window_pickle):\n",
    "\n",
    "    input_weights_1 = generate_input_weights(best_n_neurons_1, n_features, best_density_1, best_weight_distribution_1, seed=42)\n",
    "    input_weights_2 = generate_input_weights(best_n_neurons_2, n_features, best_density_2, best_weight_distribution_2, seed=42)\n",
    "\n",
    "    esn = HierarchyESN(leakage_rate_1=best_leakage_rate_1, spectral_radius_1=best_spectral_radius_1,\n",
    "                       gamma_1=best_gamma_1,\n",
    "                       W_in_1=input_weights_1, n_neurons_1=best_n_neurons_1,\n",
    "                       leakage_rate_2=best_leakage_rate_2, spectral_radius_2=best_spectral_radius_2,\n",
    "                       gamma_2=best_gamma_2,\n",
    "                       W_in_2=input_weights_2, n_neurons_2=best_n_neurons_2,\n",
    "                       class_weights=class_weights, seed=42)\n",
    "\n",
    "    # Fit the ESN\n",
    "    esn.fit(x_train_windowed_fourier, y_train_windowed_fourier, x_val=x_val_windowed_fourier,\n",
    "            y_val=y_val_windowed_fourier)\n",
    "\n",
    "    # Let's also pickle the best ESN for future use\n",
    "    with open(fourier_window_pickle, 'wb') as f:\n",
    "        pickle.dump(esn, f)\n",
    "        \n",
    "else:\n",
    "    # Load the ESN from the pickle file\n",
    "    with open(fourier_window_pickle, 'rb') as f:\n",
    "        esn = pickle.load(f)\n",
    "        \n",
    "# Predict the output\n",
    "y_pred = esn.forward(x_test_windowed_fourier)\n",
    "\n",
    "# Decode the output\n",
    "# We need to decode the output as it is one-hot encoded\n",
    "# But the windowed data is in the shape of (n_samples//window_size, n_classes * window_size), we need to reshape it to (n_samples, n_classes)\n",
    "y_test_resized = y_test_windowed_fourier.reshape(-1, y_test_windowed_fourier.shape[-1])\n",
    "y_pred_resized = y_pred.reshape(-1, y_pred.shape[-1])\n",
    "\n",
    "y_test_decoded_fourier_window = data_preparation.get_encoder().inverse_transform(y_test_resized)\n",
    "y_pred_decoded_fourier_window = data_preparation.get_encoder().inverse_transform(y_pred_resized)\n",
    "\n",
    "# Calculate the nmrse\n",
    "nmrse = np.sqrt(mean_squared_error(y_test_decoded_fourier_window, y_pred_decoded_fourier_window)) / (\n",
    "            y_pred_decoded_fourier_window.max() - y_pred_decoded_fourier_window.min())\n",
    "\n",
    "print(f'Fourier Windowed NMRSE: {nmrse}')"
   ],
   "id": "52f5fbc87434b937",
   "outputs": [],
   "execution_count": null
  },
  {
   "metadata": {
    "jupyter": {
     "is_executing": true
    }
   },
   "cell_type": "code",
   "source": [
    "# Let's now plot the confusion matrix for the best version of each of these preprocessing methods\n",
    "plt.figure(figsize=(20, 14))\n",
    "\n",
    "conf_matrix_windowed = confusion_matrix(y_test_decoded_window, y_pred_decoded_window)\n",
    "conf_matrix_ema = confusion_matrix(y_test_decoded_ema, y_pred_decoded_ema)\n",
    "conf_matrix_fourier = confusion_matrix(y_test_decoded_fourier, y_pred_decoded_fourier)\n",
    "conf_matrix_fourier_window = confusion_matrix(y_test_decoded_fourier_window, y_pred_decoded_fourier_window)\n",
    "\n",
    "plt.subplot(2, 2, 1)\n",
    "sns.heatmap(conf_matrix_windowed, annot=True, fmt='d', xticklabels=labels, yticklabels=labels, cmap='Blues')\n",
    "plt.xlabel('Predicted')\n",
    "plt.ylabel('True')\n",
    "plt.title('Windowed Confusion Matrix')\n",
    "\n",
    "plt.subplot(2, 2, 2)\n",
    "sns.heatmap(conf_matrix_ema, annot=True, fmt='d', xticklabels=labels, yticklabels=labels, cmap='Blues')\n",
    "plt.xlabel('Predicted')\n",
    "plt.ylabel('True')\n",
    "plt.title('EMA Confusion Matrix')\n",
    "\n",
    "plt.subplot(2, 2, 3)\n",
    "sns.heatmap(conf_matrix_fourier, annot=True, fmt='d', xticklabels=labels, yticklabels=labels, cmap='Blues')\n",
    "plt.xlabel('Predicted')\n",
    "plt.ylabel('True')\n",
    "plt.title('Fourier Confusion Matrix')\n",
    "\n",
    "plt.subplot(2, 2, 4)\n",
    "sns.heatmap(conf_matrix_fourier_window, annot=True, fmt='d', xticklabels=labels, yticklabels=labels, cmap='Blues')\n",
    "plt.xlabel('Predicted')\n",
    "plt.ylabel('True')\n",
    "plt.title('Fourier Windowed Confusion Matrix')\n",
    "\n",
    "plt.tight_layout()\n",
    "plt.show()"
   ],
   "id": "61cabfffe655443a",
   "outputs": [],
   "execution_count": null
  },
  {
   "metadata": {
    "jupyter": {
     "is_executing": true
    }
   },
   "cell_type": "code",
   "source": [
    "# Let's plot the normalised confusion matrix for the best version of each of these preprocessing methods\n",
    "\n",
    "conf_matrix_windowed_norm = conf_matrix_windowed / conf_matrix_windowed.sum(axis=1)[:, np.newaxis]\n",
    "conf_matrix_ema_norm = conf_matrix_ema / conf_matrix_ema.sum(axis=1)[:, np.newaxis]\n",
    "conf_matrix_fourier_norm = conf_matrix_fourier / conf_matrix_fourier.sum(axis=1)[:, np.newaxis]\n",
    "conf_matrix_fourier_window_norm = conf_matrix_fourier_window / conf_matrix_fourier_window.sum(axis=1)[:, np.newaxis]\n",
    "\n",
    "plt.figure(figsize=(20, 14))\n",
    "\n",
    "plt.subplot(2, 2, 1)\n",
    "sns.heatmap(conf_matrix_windowed_norm, annot=True, fmt='.2f', xticklabels=labels, yticklabels=labels, cmap='Blues')\n",
    "plt.xlabel('Predicted')\n",
    "plt.ylabel('True')\n",
    "plt.title('Normalised Windowed Confusion Matrix')\n",
    "\n",
    "plt.subplot(2, 2, 2)\n",
    "sns.heatmap(conf_matrix_ema_norm, annot=True, fmt='.2f', xticklabels=labels, yticklabels=labels, cmap='Blues')\n",
    "plt.xlabel('Predicted')\n",
    "plt.ylabel('True')\n",
    "plt.title('Normalised EMA Confusion Matrix')\n",
    "\n",
    "plt.subplot(2, 2, 3)\n",
    "sns.heatmap(conf_matrix_fourier_norm, annot=True, fmt='.2f', xticklabels=labels, yticklabels=labels, cmap='Blues')\n",
    "plt.xlabel('Predicted')\n",
    "plt.ylabel('True')\n",
    "plt.title('Normalised Fourier Confusion Matrix')\n",
    "\n",
    "plt.subplot(2, 2, 4)\n",
    "sns.heatmap(conf_matrix_fourier_window_norm, annot=True, fmt='.2f', xticklabels=labels, yticklabels=labels, cmap='Blues')\n",
    "plt.xlabel('Predicted')\n",
    "plt.ylabel('True')\n",
    "plt.title('Normalised Fourier Windowed Confusion Matrix')\n",
    "\n",
    "plt.tight_layout()\n",
    "plt.show()"
   ],
   "id": "428759c8e4352a29",
   "outputs": [],
   "execution_count": null
  },
  {
   "metadata": {
    "jupyter": {
     "is_executing": true
    }
   },
   "cell_type": "code",
   "source": [
    "# Let's print the classification report for the best version of each of these preprocessing methods\n",
    "\n",
    "report_windowed = classification_report(y_test_decoded_window, y_pred_decoded_window, target_names=labels)\n",
    "report_ema = classification_report(y_test_decoded_ema, y_pred_decoded_ema, target_names=labels)\n",
    "report_fourier = classification_report(y_test_decoded_fourier, y_pred_decoded_fourier, target_names=labels)\n",
    "report_fourier_windowed = classification_report(y_test_decoded_fourier_window, y_pred_decoded_fourier_window, target_names=labels)\n",
    "\n",
    "print('Windowed Classification Report')\n",
    "print(report_windowed)\n",
    "print('-' * 100)\n",
    "\n",
    "print('EMA Classification Report')\n",
    "print(report_ema)\n",
    "print('-' * 100)\n",
    "\n",
    "print('Fourier Classification Report')\n",
    "print(report_fourier)\n",
    "print('-' * 100)\n",
    "\n",
    "print('Fourier Windowed Classification Report')\n",
    "print(report_fourier_windowed)"
   ],
   "id": "af280910a4d313dc",
   "outputs": [],
   "execution_count": null
  },
  {
   "metadata": {
    "jupyter": {
     "is_executing": true
    }
   },
   "cell_type": "code",
   "source": "",
   "id": "f751cc675b02f4cd",
   "outputs": [],
   "execution_count": null
  }
 ],
 "metadata": {
  "kernelspec": {
   "display_name": "Python 3 (ipykernel)",
   "language": "python",
   "name": "python3"
  },
  "language_info": {
   "codemirror_mode": {
    "name": "ipython",
    "version": 3
   },
   "file_extension": ".py",
   "mimetype": "text/x-python",
   "name": "python",
   "nbconvert_exporter": "python",
   "pygments_lexer": "ipython3",
   "version": "3.8.18"
  }
 },
 "nbformat": 4,
 "nbformat_minor": 5
}
