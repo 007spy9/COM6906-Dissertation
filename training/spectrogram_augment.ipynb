{
 "cells": [
  {
   "cell_type": "code",
   "id": "a30b91307f841cb3",
   "metadata": {
    "ExecuteTime": {
     "end_time": "2024-08-16T16:18:08.026355Z",
     "start_time": "2024-08-16T16:18:07.807537Z"
    }
   },
   "source": [
    "import collections\n",
    "# Prepare paths to local utilities\n",
    "import os\n",
    "import sys\n",
    "\n",
    "import matplotlib\n",
    "import numpy as np\n",
    "import pandas as pd\n",
    "import matplotlib.pyplot as plt\n",
    "import pickle\n",
    "\n",
    "from sklearn.metrics import mean_squared_error"
   ],
   "outputs": [],
   "execution_count": 1
  },
  {
   "metadata": {
    "ExecuteTime": {
     "end_time": "2024-08-16T16:18:08.041880Z",
     "start_time": "2024-08-16T16:18:08.032874Z"
    }
   },
   "cell_type": "code",
   "source": [
    "is_kaggle = (os.environ.get(\"PWD\", \"\") == \"/kaggle/working\")\n",
    "print(f\"Are we running in Kaggle? {is_kaggle}\")"
   ],
   "id": "b7629987d792cdb8",
   "outputs": [
    {
     "name": "stdout",
     "output_type": "stream",
     "text": [
      "Are we running in Kaggle? False\n"
     ]
    }
   ],
   "execution_count": 2
  },
  {
   "metadata": {
    "ExecuteTime": {
     "end_time": "2024-08-16T16:18:17.288214Z",
     "start_time": "2024-08-16T16:18:08.130602Z"
    }
   },
   "cell_type": "code",
   "source": [
    "if not is_kaggle:\n",
    "    models_path = os.path.abspath(os.path.join('..', 'model'))\n",
    "    utils_path = os.path.abspath(os.path.join('..', 'util'))\n",
    "    sys.path.append(models_path)\n",
    "    sys.path.append(utils_path)\n",
    "\n",
    "    %load_ext autoreload\n",
    "    %autoreload 2\n",
    "\n",
    "    from download.DataDownloader import DataDownloader\n",
    "    from collect.DataframeCollector import DataframeCollector\n",
    "    from collect.TestSetSplitter import TestSetSplitter\n",
    "    from collect.DatasetPreparation import DatasetPreparation\n",
    "    from processing.DataPreprocessor import DataPreprocessor\n",
    "    from reservoir.BasicESNCuda import BasicESNCuda as BasicESN\n",
    "    from reservoir.HierarchyESNCuda import HierarchyESNCuda as HierarchyESN\n",
    "    from reservoir.ThreeHierarchyESNCuda import ThreeHierarchyESNCuda as ThreeHierarchyESN\n",
    "    from reservoir.ESNUtil import generate_input_weights\n",
    "\n",
    "else:\n",
    "    from datadownloader.datadownloader import DataDownloader\n",
    "    from dataframecollector.dataframecollector import DataframeCollector\n",
    "    from testsetsplitter.testsetsplitter import TestSetSplitter\n",
    "    from datasetpreparation.datasetpreparation import DatasetPreparation\n",
    "    from datapreprocessor.datapreprocessor import DataPreprocessor\n",
    "    from basicesncuda.basicesncuda import BasicESNCuda as BasicESN\n",
    "    from esnutil.esnutil import generate_input_weights"
   ],
   "id": "9c0a1fb30eea365e",
   "outputs": [],
   "execution_count": 3
  },
  {
   "metadata": {
    "ExecuteTime": {
     "end_time": "2024-08-16T16:18:17.956379Z",
     "start_time": "2024-08-16T16:18:17.305747Z"
    }
   },
   "cell_type": "code",
   "source": [
    "import joblib\n",
    "from joblib import Parallel, delayed\n",
    "from tqdm import tqdm\n",
    "import contextlib\n",
    "\n",
    "\n",
    "@contextlib.contextmanager\n",
    "def tqdm_joblib(tqdm_object):\n",
    "    '''\n",
    "    Context manager to patch joblib to report into tqdm progress bar given as argument\n",
    "    :param tqdm_object: The tqdm progress bar\n",
    "    '''\n",
    "\n",
    "    class TqdmBatchCompletionCallback(joblib.parallel.BatchCompletionCallBack):\n",
    "\n",
    "        def __call__(self, *args, **kwargs):\n",
    "            tqdm_object.update(n=self.batch_size)\n",
    "            return super().__call__(*args, **kwargs)\n",
    "\n",
    "    old_batch_callback = joblib.parallel.BatchCompletionCallBack\n",
    "    joblib.parallel.BatchCompletionCallBack = TqdmBatchCompletionCallback\n",
    "\n",
    "    try:\n",
    "        yield tqdm_object\n",
    "    finally:\n",
    "        joblib.parallel.BatchCompletionCallBack = old_batch_callback\n",
    "        tqdm_object.close()"
   ],
   "id": "4452285ac02dfb5",
   "outputs": [],
   "execution_count": 4
  },
  {
   "metadata": {
    "ExecuteTime": {
     "end_time": "2024-08-16T16:18:32.570852Z",
     "start_time": "2024-08-16T16:18:17.974066Z"
    }
   },
   "cell_type": "code",
   "source": [
    "data_preparation = DatasetPreparation()\n",
    "\n",
    "input_features = ['back_x', 'back_y', 'back_z', 'thigh_x', 'thigh_y', 'thigh_z']\n",
    "output_features = ['label']\n",
    "\n",
    "data_preparation.prepare_dataset('har70plus', input_features, output_features)\n",
    "\n",
    "X_train, y_train = data_preparation.get_raw_data('train')\n",
    "X_val, y_val = data_preparation.get_raw_data('val')\n",
    "X_test, y_test = data_preparation.get_raw_data('test')\n",
    "\n",
    "X_train_scaled, y_train_encoded = data_preparation.get_preprocessed_data('train')\n",
    "X_val_scaled, y_val_encoded = data_preparation.get_preprocessed_data('val')\n",
    "X_test_scaled, y_test_encoded = data_preparation.get_preprocessed_data('test')\n",
    "\n",
    "class_weights = data_preparation.get_class_weights()\n",
    "\n",
    "data_preprocessor = DataPreprocessor()"
   ],
   "id": "a11e968e287329a1",
   "outputs": [
    {
     "name": "stdout",
     "output_type": "stream",
     "text": [
      "Dataset already downloaded\n",
      "Discovered  18  csv files in  E:\\PyCharm\\COM6906-Dissertation\\data\\har70plus\n",
      "Loading the csv files into dataframes\n",
      "Loaded  18  dataframes\n",
      "Concatenating the dataframes\n",
      "Data shape:  [(103860, 9), (131367, 9), (116413, 9), (150758, 9), (87006, 9), (122714, 9), (120125, 9), (130494, 9), (121763, 9), (122061, 9), (128063, 9), (119310, 9), (123599, 9), (101510, 9), (153517, 9), (138278, 9), (147045, 9), (141714, 9)]\n",
      "Number of frames in training set: 17\n",
      "Number of frames in validation set: 17\n",
      "Number of frames in testing set: 18\n",
      "X_train shape: (1357646, 6), Y_train shape: (1357646,)\n",
      "X_val shape: (339404, 6), Y_val shape: (339404,)\n",
      "X_test shape: (562547, 6), Y_test shape: (562547,)\n",
      "Y_train encoded shape: (1357646, 7)\n",
      "Y_val encoded shape: (339404, 7)\n",
      "Y_test encoded shape: (562547, 7)\n",
      "Y_train decoded shape: (1357646, 1)\n",
      "Y_val decoded shape: (339404, 1)\n",
      "Y_test decoded shape: (562547, 1)\n",
      "X_train scaled shape: (1357646, 6)\n",
      "X_val scaled shape: (339404, 6)\n",
      "X_test scaled shape: (562547, 6)\n",
      "Class: 1, Weight: 0.2990790164739866\n",
      "Class: 3, Weight: 4.886608305255555\n",
      "Class: 4, Weight: 70.78937969924812\n",
      "Class: 5, Weight: 64.84523331228836\n",
      "Class: 6, Weight: 0.7721461803556264\n",
      "Class: 7, Weight: 0.6676972510788485\n",
      "Class: 8, Weight: 1.5887213012401267\n",
      "Dataset preparation complete.\n"
     ]
    }
   ],
   "execution_count": 5
  },
  {
   "metadata": {
    "ExecuteTime": {
     "end_time": "2024-08-16T16:18:33.207053Z",
     "start_time": "2024-08-16T16:18:32.588554Z"
    }
   },
   "cell_type": "code",
   "source": [
    "# The data preprocessor object provides access to different data preprocessing methods\n",
    "# The available methods are:\n",
    "# - buffered_windows(window_size, x, y)\n",
    "# - exponential_moving_average(alpha, x, y)\n",
    "# - fourier_smoothing(x, threshold)\n",
    "# - spectrogram_data(x, y, n_fft, stride, reshape)\n",
    "# - spectrogram_predictions_to_samples(y_pred, n_samples, n_fft, stride)\n",
    "# - pipeline(step_names, x, y)\n",
    "# - get_available_steps()\n",
    "\n",
    "# First, we will try a basicESN with the optimal hyperparameters found in the previous notebook along with the spectrogram_data preprocessing method\n",
    "\n",
    "# The optimal hyperparameters were:\n",
    "basic_n_neurons = 500\n",
    "basic_density = 0.2\n",
    "basic_leakage = 0.8\n",
    "basic_spectral_radius = 0.999\n",
    "basic_gamma = 0.999\n",
    "basic_sparsity = 0.8\n",
    "basic_input_weight_type = 'uniform'\n"
   ],
   "id": "9adf4ed7a72023ad",
   "outputs": [],
   "execution_count": 6
  },
  {
   "metadata": {
    "ExecuteTime": {
     "end_time": "2024-08-16T16:18:33.902414Z",
     "start_time": "2024-08-16T16:18:33.224643Z"
    }
   },
   "cell_type": "code",
   "source": "run_basic_optimal = True",
   "id": "47ebf9fe699952ae",
   "outputs": [],
   "execution_count": 7
  },
  {
   "metadata": {
    "ExecuteTime": {
     "end_time": "2024-08-16T16:28:21.393103Z",
     "start_time": "2024-08-16T16:23:50.477352Z"
    }
   },
   "cell_type": "code",
   "source": [
    "\n",
    "\n",
    "if run_basic_optimal:\n",
    "    n_ffts = [32, 64, 128]\n",
    "    strides = [16, 32, 64, 128]\n",
    "\n",
    "    basic_optimal_scores = []\n",
    "\n",
    "    for n_fft in n_ffts:\n",
    "        for stride in strides:\n",
    "            if stride > n_fft:\n",
    "                continue\n",
    "\n",
    "            x_train_spec, y_train_spec = data_preprocessor.spectrogram_data(X_train, y_train,\n",
    "                                                                            n_fft=n_fft, stride=stride,\n",
    "                                                                            encode_labels=True,\n",
    "                                                                            label_encoder=data_preparation.get_encoder())\n",
    "            x_val_spec, y_val_spec = data_preprocessor.spectrogram_data(X_val, y_val, n_fft=n_fft,\n",
    "                                                                        stride=stride,\n",
    "                                                                        encode_labels=True,\n",
    "                                                                        label_encoder=data_preparation.get_encoder())\n",
    "            x_test_spec, y_test_spec = data_preprocessor.spectrogram_data(X_test, y_test, n_fft=n_fft,\n",
    "                                                                          stride=stride,\n",
    "                                                                          encode_labels=True,\n",
    "                                                                          label_encoder=data_preparation.get_encoder())\n",
    "\n",
    "            # Generate input weights has parameters n_neurons, n_features, density, input_weight_type\n",
    "            input_weights = generate_input_weights(basic_n_neurons, x_train_spec.shape[1], basic_density,\n",
    "                                                   basic_input_weight_type, seed=42)\n",
    "\n",
    "            basic_esn = BasicESN(n_neurons=basic_n_neurons, leakage_rate=basic_leakage,\n",
    "                                 spectral_radius=basic_spectral_radius,\n",
    "                                 gamma=basic_gamma,\n",
    "                                 sparsity=basic_sparsity, W_in=input_weights, class_weights=class_weights, seed=42)\n",
    "\n",
    "            basic_esn.fit(x_train_spec, y_train_spec, x_val=x_val_spec, y_val=y_val_spec)\n",
    "\n",
    "            y_pred = basic_esn.forward(x_test_spec)\n",
    "\n",
    "            # Before we can score the model, we need to decode the one-hot encoded labels\n",
    "            # As we are using the spectrogram_data method, we need to convert the time frames back to samples\n",
    "            y_pred_samples = data_preprocessor.spectrogram_predictions_to_samples(y_pred, y_test_encoded.shape[0],\n",
    "                                                                                  n_fft, stride)\n",
    "\n",
    "            y_pred_decoded = data_preparation.get_encoder().inverse_transform(y_pred_samples)\n",
    "            y_test_decoded = data_preparation.get_encoder().inverse_transform(y_test_encoded)\n",
    "\n",
    "            # Calculate the NMRSE score\n",
    "            nrmse = np.sqrt(mean_squared_error(y_test_decoded, y_pred_decoded)) / (\n",
    "                    y_test_decoded.max() - y_test_decoded.min())\n",
    "\n",
    "            basic_optimal_scores.append({'n_fft': n_fft, 'stride': stride, 'nmrse': nrmse})\n",
    "\n",
    "            print(f\"n_fft: {n_fft}, stride: {stride}, NMRSE: {nrmse}\")\n",
    "\n",
    "else:\n",
    "    basic_optimal_scores = []"
   ],
   "id": "3ab9fd1560a8edec",
   "outputs": [
    {
     "name": "stdout",
     "output_type": "stream",
     "text": [
      "Spectrogram data shape: (84853, 102), (84853, 7)\n",
      "Spectrogram data shape: (21213, 102), (21213, 7)\n",
      "Spectrogram data shape: (35160, 102), (35160, 7)\n",
      "[]\n",
      "Is CUDA available: True\n",
      "BasicESN initialised with leakage_rate: 0.8, spectral_radius: 0.999, gamma: 0.999, n_neurons: 500, sparsity: 0.8\n"
     ]
    },
    {
     "name": "stderr",
     "output_type": "stream",
     "text": [
      "100%|██████████| 84853/84853 [00:24<00:00, 3441.08it/s]\n"
     ]
    },
    {
     "name": "stdout",
     "output_type": "stream",
     "text": [
      "Shape of previous_states: (84853, 500)\n",
      "Reservoir state computed, fitting readout layer...\n",
      "Validation data provided, scoring readout layer based on validation data...\n"
     ]
    },
    {
     "name": "stderr",
     "output_type": "stream",
     "text": [
      "100%|██████████| 21213/21213 [00:05<00:00, 3576.22it/s]\n"
     ]
    },
    {
     "name": "stdout",
     "output_type": "stream",
     "text": [
      "Shape of previous_states: (21213, 500)\n",
      "Alpha: 1e-05, Score: 0.29211041179134056\n",
      "Alpha: 5.994842503189409e-05, Score: 0.30356072333379724\n"
     ]
    },
    {
     "name": "stderr",
     "output_type": "stream",
     "text": [
      "C:\\Users\\mail\\anaconda3\\envs\\training\\lib\\site-packages\\sklearn\\linear_model\\_ridge.py:200: LinAlgWarning: Ill-conditioned matrix (rcond=1.01321e-11): result may not be accurate.\n",
      "  return linalg.solve(A, Xy, assume_a=\"pos\", overwrite_a=True).T\n"
     ]
    },
    {
     "name": "stdout",
     "output_type": "stream",
     "text": [
      "Alpha: 0.00035938136638046257, Score: 0.30397176105650175\n"
     ]
    },
    {
     "name": "stderr",
     "output_type": "stream",
     "text": [
      "C:\\Users\\mail\\anaconda3\\envs\\training\\lib\\site-packages\\sklearn\\linear_model\\_ridge.py:200: LinAlgWarning: Ill-conditioned matrix (rcond=6.05598e-11): result may not be accurate.\n",
      "  return linalg.solve(A, Xy, assume_a=\"pos\", overwrite_a=True).T\n"
     ]
    },
    {
     "name": "stdout",
     "output_type": "stream",
     "text": [
      "Alpha: 0.0021544346900318843, Score: 0.3041269188382433\n"
     ]
    },
    {
     "name": "stderr",
     "output_type": "stream",
     "text": [
      "C:\\Users\\mail\\anaconda3\\envs\\training\\lib\\site-packages\\sklearn\\linear_model\\_ridge.py:200: LinAlgWarning: Ill-conditioned matrix (rcond=4.52783e-10): result may not be accurate.\n",
      "  return linalg.solve(A, Xy, assume_a=\"pos\", overwrite_a=True).T\n"
     ]
    },
    {
     "name": "stdout",
     "output_type": "stream",
     "text": [
      "Alpha: 0.01291549665014884, Score: 0.30453971847209677\n"
     ]
    },
    {
     "name": "stderr",
     "output_type": "stream",
     "text": [
      "C:\\Users\\mail\\anaconda3\\envs\\training\\lib\\site-packages\\sklearn\\linear_model\\_ridge.py:200: LinAlgWarning: Ill-conditioned matrix (rcond=2.26193e-09): result may not be accurate.\n",
      "  return linalg.solve(A, Xy, assume_a=\"pos\", overwrite_a=True).T\n"
     ]
    },
    {
     "name": "stdout",
     "output_type": "stream",
     "text": [
      "Alpha: 0.0774263682681127, Score: 0.3052610598745736\n"
     ]
    },
    {
     "name": "stderr",
     "output_type": "stream",
     "text": [
      "C:\\Users\\mail\\anaconda3\\envs\\training\\lib\\site-packages\\sklearn\\linear_model\\_ridge.py:200: LinAlgWarning: Ill-conditioned matrix (rcond=1.12645e-08): result may not be accurate.\n",
      "  return linalg.solve(A, Xy, assume_a=\"pos\", overwrite_a=True).T\n"
     ]
    },
    {
     "name": "stdout",
     "output_type": "stream",
     "text": [
      "Alpha: 0.4641588833612782, Score: 0.30667371566463186\n"
     ]
    },
    {
     "name": "stderr",
     "output_type": "stream",
     "text": [
      "C:\\Users\\mail\\anaconda3\\envs\\training\\lib\\site-packages\\sklearn\\linear_model\\_ridge.py:200: LinAlgWarning: Ill-conditioned matrix (rcond=5.61507e-08): result may not be accurate.\n",
      "  return linalg.solve(A, Xy, assume_a=\"pos\", overwrite_a=True).T\n"
     ]
    },
    {
     "name": "stdout",
     "output_type": "stream",
     "text": [
      "Alpha: 2.782559402207126, Score: 0.30913267980945197\n",
      "Alpha: 16.68100537200059, Score: 0.3131172323766384\n",
      "Alpha: 100.0, Score: 0.31809304511054975\n",
      "Best alpha: 100.0\n",
      "Readout layer fitted.\n"
     ]
    },
    {
     "name": "stderr",
     "output_type": "stream",
     "text": [
      "100%|██████████| 35160/35160 [00:09<00:00, 3558.17it/s]\n"
     ]
    },
    {
     "name": "stdout",
     "output_type": "stream",
     "text": [
      "Shape of previous_states: (35160, 500)\n",
      "Cumulative samples shape: (562547, 7)\n",
      "n_fft: 32, stride: 16, NMRSE: 0.2280657272340775\n",
      "Spectrogram data shape: (42427, 102), (42427, 7)\n",
      "Spectrogram data shape: (10607, 102), (10607, 7)\n",
      "Spectrogram data shape: (17580, 102), (17580, 7)\n",
      "[]\n",
      "Is CUDA available: True\n",
      "BasicESN initialised with leakage_rate: 0.8, spectral_radius: 0.999, gamma: 0.999, n_neurons: 500, sparsity: 0.8\n"
     ]
    },
    {
     "name": "stderr",
     "output_type": "stream",
     "text": [
      "100%|██████████| 42427/42427 [00:11<00:00, 3561.92it/s]\n"
     ]
    },
    {
     "name": "stdout",
     "output_type": "stream",
     "text": [
      "Shape of previous_states: (42427, 500)\n",
      "Reservoir state computed, fitting readout layer...\n",
      "Validation data provided, scoring readout layer based on validation data...\n"
     ]
    },
    {
     "name": "stderr",
     "output_type": "stream",
     "text": [
      "100%|██████████| 10607/10607 [00:03<00:00, 3469.03it/s]\n"
     ]
    },
    {
     "name": "stdout",
     "output_type": "stream",
     "text": [
      "Shape of previous_states: (10607, 500)\n",
      "Alpha: 1e-05, Score: 0.2510989416719584\n",
      "Alpha: 5.994842503189409e-05, Score: 0.2678344583490647\n",
      "Alpha: 0.00035938136638046257, Score: 0.2684259034419193\n",
      "Alpha: 0.0021544346900318843, Score: 0.26820060378009675\n"
     ]
    },
    {
     "name": "stderr",
     "output_type": "stream",
     "text": [
      "C:\\Users\\mail\\anaconda3\\envs\\training\\lib\\site-packages\\sklearn\\linear_model\\_ridge.py:200: LinAlgWarning: Ill-conditioned matrix (rcond=7.8856e-11): result may not be accurate.\n",
      "  return linalg.solve(A, Xy, assume_a=\"pos\", overwrite_a=True).T\n",
      "C:\\Users\\mail\\anaconda3\\envs\\training\\lib\\site-packages\\sklearn\\linear_model\\_ridge.py:200: LinAlgWarning: Ill-conditioned matrix (rcond=6.04551e-10): result may not be accurate.\n",
      "  return linalg.solve(A, Xy, assume_a=\"pos\", overwrite_a=True).T\n"
     ]
    },
    {
     "name": "stdout",
     "output_type": "stream",
     "text": [
      "Alpha: 0.01291549665014884, Score: 0.27194403118726923\n",
      "Alpha: 0.0774263682681127, Score: 0.2752524496314778\n"
     ]
    },
    {
     "name": "stderr",
     "output_type": "stream",
     "text": [
      "C:\\Users\\mail\\anaconda3\\envs\\training\\lib\\site-packages\\sklearn\\linear_model\\_ridge.py:200: LinAlgWarning: Ill-conditioned matrix (rcond=3.14616e-09): result may not be accurate.\n",
      "  return linalg.solve(A, Xy, assume_a=\"pos\", overwrite_a=True).T\n",
      "C:\\Users\\mail\\anaconda3\\envs\\training\\lib\\site-packages\\sklearn\\linear_model\\_ridge.py:200: LinAlgWarning: Ill-conditioned matrix (rcond=2.02183e-08): result may not be accurate.\n",
      "  return linalg.solve(A, Xy, assume_a=\"pos\", overwrite_a=True).T\n"
     ]
    },
    {
     "name": "stdout",
     "output_type": "stream",
     "text": [
      "Alpha: 0.4641588833612782, Score: 0.27943732661740733\n",
      "Alpha: 2.782559402207126, Score: 0.28479895009173\n",
      "Alpha: 16.68100537200059, Score: 0.2915919973006454\n",
      "Alpha: 100.0, Score: 0.2992104288864229\n",
      "Best alpha: 100.0\n",
      "Readout layer fitted.\n"
     ]
    },
    {
     "name": "stderr",
     "output_type": "stream",
     "text": [
      "100%|██████████| 17580/17580 [00:05<00:00, 3487.99it/s]\n"
     ]
    },
    {
     "name": "stdout",
     "output_type": "stream",
     "text": [
      "Shape of previous_states: (17580, 500)\n",
      "Cumulative samples shape: (562547, 7)\n",
      "n_fft: 32, stride: 32, NMRSE: 0.2582511147320702\n",
      "Spectrogram data shape: (84853, 198), (84853, 7)\n",
      "Spectrogram data shape: (21213, 198), (21213, 7)\n",
      "Spectrogram data shape: (35160, 198), (35160, 7)\n",
      "[]\n",
      "Is CUDA available: True\n",
      "BasicESN initialised with leakage_rate: 0.8, spectral_radius: 0.999, gamma: 0.999, n_neurons: 500, sparsity: 0.8\n"
     ]
    },
    {
     "name": "stderr",
     "output_type": "stream",
     "text": [
      "100%|██████████| 84853/84853 [00:23<00:00, 3592.51it/s]\n"
     ]
    },
    {
     "name": "stdout",
     "output_type": "stream",
     "text": [
      "Shape of previous_states: (84853, 500)\n",
      "Reservoir state computed, fitting readout layer...\n",
      "Validation data provided, scoring readout layer based on validation data...\n"
     ]
    },
    {
     "name": "stderr",
     "output_type": "stream",
     "text": [
      "100%|██████████| 21213/21213 [00:05<00:00, 3567.17it/s]\n"
     ]
    },
    {
     "name": "stdout",
     "output_type": "stream",
     "text": [
      "Shape of previous_states: (21213, 500)\n",
      "Alpha: 1e-05, Score: -0.05737330208626671\n",
      "Alpha: 5.994842503189409e-05, Score: 0.24992379691709946\n",
      "Alpha: 0.00035938136638046257, Score: 0.3003447031499477\n",
      "Alpha: 0.0021544346900318843, Score: 0.3023153887137684\n",
      "Alpha: 0.01291549665014884, Score: 0.30233630079039375\n"
     ]
    },
    {
     "name": "stderr",
     "output_type": "stream",
     "text": [
      "C:\\Users\\mail\\anaconda3\\envs\\training\\lib\\site-packages\\sklearn\\linear_model\\_ridge.py:200: LinAlgWarning: Ill-conditioned matrix (rcond=1.50577e-09): result may not be accurate.\n",
      "  return linalg.solve(A, Xy, assume_a=\"pos\", overwrite_a=True).T\n"
     ]
    },
    {
     "name": "stdout",
     "output_type": "stream",
     "text": [
      "Alpha: 0.0774263682681127, Score: 0.30207843144983304\n"
     ]
    },
    {
     "name": "stderr",
     "output_type": "stream",
     "text": [
      "C:\\Users\\mail\\anaconda3\\envs\\training\\lib\\site-packages\\sklearn\\linear_model\\_ridge.py:200: LinAlgWarning: Ill-conditioned matrix (rcond=1.03082e-08): result may not be accurate.\n",
      "  return linalg.solve(A, Xy, assume_a=\"pos\", overwrite_a=True).T\n"
     ]
    },
    {
     "name": "stdout",
     "output_type": "stream",
     "text": [
      "Alpha: 0.4641588833612782, Score: 0.3023208496016266\n"
     ]
    },
    {
     "name": "stderr",
     "output_type": "stream",
     "text": [
      "C:\\Users\\mail\\anaconda3\\envs\\training\\lib\\site-packages\\sklearn\\linear_model\\_ridge.py:200: LinAlgWarning: Ill-conditioned matrix (rcond=5.69706e-08): result may not be accurate.\n",
      "  return linalg.solve(A, Xy, assume_a=\"pos\", overwrite_a=True).T\n"
     ]
    },
    {
     "name": "stdout",
     "output_type": "stream",
     "text": [
      "Alpha: 2.782559402207126, Score: 0.30216384083155706\n",
      "Alpha: 16.68100537200059, Score: 0.3024205747962035\n",
      "Alpha: 100.0, Score: 0.30306107282062317\n",
      "Best alpha: 100.0\n",
      "Readout layer fitted.\n"
     ]
    },
    {
     "name": "stderr",
     "output_type": "stream",
     "text": [
      "100%|██████████| 35160/35160 [00:09<00:00, 3565.71it/s]\n"
     ]
    },
    {
     "name": "stdout",
     "output_type": "stream",
     "text": [
      "Shape of previous_states: (35160, 500)\n",
      "Cumulative samples shape: (562547, 7)\n",
      "n_fft: 64, stride: 16, NMRSE: 0.27527477016579643\n",
      "Spectrogram data shape: (42427, 198), (42427, 7)\n",
      "Spectrogram data shape: (10607, 198), (10607, 7)\n",
      "Spectrogram data shape: (17580, 198), (17580, 7)\n",
      "[]\n",
      "Is CUDA available: True\n",
      "BasicESN initialised with leakage_rate: 0.8, spectral_radius: 0.999, gamma: 0.999, n_neurons: 500, sparsity: 0.8\n"
     ]
    },
    {
     "name": "stderr",
     "output_type": "stream",
     "text": [
      "100%|██████████| 42427/42427 [00:11<00:00, 3600.06it/s]\n"
     ]
    },
    {
     "name": "stdout",
     "output_type": "stream",
     "text": [
      "Shape of previous_states: (42427, 500)\n",
      "Reservoir state computed, fitting readout layer...\n",
      "Validation data provided, scoring readout layer based on validation data...\n"
     ]
    },
    {
     "name": "stderr",
     "output_type": "stream",
     "text": [
      "100%|██████████| 10607/10607 [00:03<00:00, 3505.72it/s]\n"
     ]
    },
    {
     "name": "stdout",
     "output_type": "stream",
     "text": [
      "Shape of previous_states: (10607, 500)\n",
      "Alpha: 1e-05, Score: 0.28183024911890414\n",
      "Alpha: 5.994842503189409e-05, Score: 0.28201459491634034\n",
      "Alpha: 0.00035938136638046257, Score: 0.2821478135469521\n",
      "Alpha: 0.0021544346900318843, Score: 0.28223855013854643\n",
      "Alpha: 0.01291549665014884, Score: 0.28242914845724304\n",
      "Alpha: 0.0774263682681127, Score: 0.2822406067301872\n"
     ]
    },
    {
     "name": "stderr",
     "output_type": "stream",
     "text": [
      "C:\\Users\\mail\\anaconda3\\envs\\training\\lib\\site-packages\\sklearn\\linear_model\\_ridge.py:200: LinAlgWarning: Ill-conditioned matrix (rcond=1.97083e-09): result may not be accurate.\n",
      "  return linalg.solve(A, Xy, assume_a=\"pos\", overwrite_a=True).T\n",
      "C:\\Users\\mail\\anaconda3\\envs\\training\\lib\\site-packages\\sklearn\\linear_model\\_ridge.py:200: LinAlgWarning: Ill-conditioned matrix (rcond=2.19264e-08): result may not be accurate.\n",
      "  return linalg.solve(A, Xy, assume_a=\"pos\", overwrite_a=True).T\n"
     ]
    },
    {
     "name": "stdout",
     "output_type": "stream",
     "text": [
      "Alpha: 0.4641588833612782, Score: 0.28335737457748617\n",
      "Alpha: 2.782559402207126, Score: 0.28459774547726907\n",
      "Alpha: 16.68100537200059, Score: 0.28615671737652454\n",
      "Alpha: 100.0, Score: 0.28905155807699273\n",
      "Best alpha: 100.0\n",
      "Readout layer fitted.\n"
     ]
    },
    {
     "name": "stderr",
     "output_type": "stream",
     "text": [
      "100%|██████████| 17580/17580 [00:05<00:00, 3489.77it/s]\n"
     ]
    },
    {
     "name": "stdout",
     "output_type": "stream",
     "text": [
      "Shape of previous_states: (17580, 500)\n",
      "Cumulative samples shape: (562547, 7)\n",
      "n_fft: 64, stride: 32, NMRSE: 0.28840790202385225\n",
      "Spectrogram data shape: (21214, 198), (21214, 7)\n",
      "Spectrogram data shape: (5304, 198), (5304, 7)\n",
      "Spectrogram data shape: (8790, 198), (8790, 7)\n",
      "[]\n",
      "Is CUDA available: True\n",
      "BasicESN initialised with leakage_rate: 0.8, spectral_radius: 0.999, gamma: 0.999, n_neurons: 500, sparsity: 0.8\n"
     ]
    },
    {
     "name": "stderr",
     "output_type": "stream",
     "text": [
      "100%|██████████| 21214/21214 [00:06<00:00, 3528.22it/s]\n"
     ]
    },
    {
     "name": "stdout",
     "output_type": "stream",
     "text": [
      "Shape of previous_states: (21214, 500)\n",
      "Reservoir state computed, fitting readout layer...\n",
      "Validation data provided, scoring readout layer based on validation data...\n"
     ]
    },
    {
     "name": "stderr",
     "output_type": "stream",
     "text": [
      "100%|██████████| 5304/5304 [00:01<00:00, 3276.77it/s]\n"
     ]
    },
    {
     "name": "stdout",
     "output_type": "stream",
     "text": [
      "Shape of previous_states: (5304, 500)\n",
      "Alpha: 1e-05, Score: 0.20409740718190794\n",
      "Alpha: 5.994842503189409e-05, Score: 0.24861642726836278\n",
      "Alpha: 0.00035938136638046257, Score: 0.2495852881509637\n",
      "Alpha: 0.0021544346900318843, Score: 0.25004996195125406\n",
      "Alpha: 0.01291549665014884, Score: 0.25274167216913784\n",
      "Alpha: 0.0774263682681127, Score: 0.255208936960832\n",
      "Alpha: 0.4641588833612782, Score: 0.26013620580189895\n"
     ]
    },
    {
     "name": "stderr",
     "output_type": "stream",
     "text": [
      "C:\\Users\\mail\\anaconda3\\envs\\training\\lib\\site-packages\\sklearn\\linear_model\\_ridge.py:200: LinAlgWarning: Ill-conditioned matrix (rcond=7.62471e-10): result may not be accurate.\n",
      "  return linalg.solve(A, Xy, assume_a=\"pos\", overwrite_a=True).T\n",
      "C:\\Users\\mail\\anaconda3\\envs\\training\\lib\\site-packages\\sklearn\\linear_model\\_ridge.py:200: LinAlgWarning: Ill-conditioned matrix (rcond=6.36172e-09): result may not be accurate.\n",
      "  return linalg.solve(A, Xy, assume_a=\"pos\", overwrite_a=True).T\n",
      "C:\\Users\\mail\\anaconda3\\envs\\training\\lib\\site-packages\\sklearn\\linear_model\\_ridge.py:200: LinAlgWarning: Ill-conditioned matrix (rcond=3.76359e-08): result may not be accurate.\n",
      "  return linalg.solve(A, Xy, assume_a=\"pos\", overwrite_a=True).T\n"
     ]
    },
    {
     "name": "stdout",
     "output_type": "stream",
     "text": [
      "Alpha: 2.782559402207126, Score: 0.2632387650962288\n",
      "Alpha: 16.68100537200059, Score: 0.2672034958679075\n",
      "Alpha: 100.0, Score: 0.2719994186803034\n",
      "Best alpha: 100.0\n",
      "Readout layer fitted.\n"
     ]
    },
    {
     "name": "stderr",
     "output_type": "stream",
     "text": [
      "100%|██████████| 8790/8790 [00:02<00:00, 3407.87it/s]\n"
     ]
    },
    {
     "name": "stdout",
     "output_type": "stream",
     "text": [
      "Shape of previous_states: (8790, 500)\n",
      "Cumulative samples shape: (562547, 7)\n",
      "n_fft: 64, stride: 64, NMRSE: 0.2921680882260777\n",
      "Spectrogram data shape: (84853, 390), (84853, 7)\n",
      "Spectrogram data shape: (21213, 390), (21213, 7)\n",
      "Spectrogram data shape: (35160, 390), (35160, 7)\n",
      "[]\n",
      "Is CUDA available: True\n",
      "BasicESN initialised with leakage_rate: 0.8, spectral_radius: 0.999, gamma: 0.999, n_neurons: 500, sparsity: 0.8\n"
     ]
    },
    {
     "name": "stderr",
     "output_type": "stream",
     "text": [
      "100%|██████████| 84853/84853 [00:24<00:00, 3498.73it/s]\n"
     ]
    },
    {
     "name": "stdout",
     "output_type": "stream",
     "text": [
      "Shape of previous_states: (84853, 500)\n",
      "Reservoir state computed, fitting readout layer...\n",
      "Validation data provided, scoring readout layer based on validation data...\n"
     ]
    },
    {
     "name": "stderr",
     "output_type": "stream",
     "text": [
      "100%|██████████| 21213/21213 [00:06<00:00, 3532.72it/s]\n"
     ]
    },
    {
     "name": "stdout",
     "output_type": "stream",
     "text": [
      "Shape of previous_states: (21213, 500)\n",
      "Alpha: 1e-05, Score: 0.2530362439698336\n",
      "Alpha: 5.994842503189409e-05, Score: 0.25303804782430867\n",
      "Alpha: 0.00035938136638046257, Score: 0.253041377602369\n",
      "Alpha: 0.0021544346900318843, Score: 0.25305946533750806\n"
     ]
    },
    {
     "name": "stderr",
     "output_type": "stream",
     "text": [
      "C:\\Users\\mail\\anaconda3\\envs\\training\\lib\\site-packages\\sklearn\\linear_model\\_ridge.py:200: LinAlgWarning: Ill-conditioned matrix (rcond=1.25086e-10): result may not be accurate.\n",
      "  return linalg.solve(A, Xy, assume_a=\"pos\", overwrite_a=True).T\n"
     ]
    },
    {
     "name": "stdout",
     "output_type": "stream",
     "text": [
      "Alpha: 0.01291549665014884, Score: 0.25218350522884136\n"
     ]
    },
    {
     "name": "stderr",
     "output_type": "stream",
     "text": [
      "C:\\Users\\mail\\anaconda3\\envs\\training\\lib\\site-packages\\sklearn\\linear_model\\_ridge.py:200: LinAlgWarning: Ill-conditioned matrix (rcond=1.73468e-09): result may not be accurate.\n",
      "  return linalg.solve(A, Xy, assume_a=\"pos\", overwrite_a=True).T\n"
     ]
    },
    {
     "name": "stdout",
     "output_type": "stream",
     "text": [
      "Alpha: 0.0774263682681127, Score: 0.2528341714561189\n"
     ]
    },
    {
     "name": "stderr",
     "output_type": "stream",
     "text": [
      "C:\\Users\\mail\\anaconda3\\envs\\training\\lib\\site-packages\\sklearn\\linear_model\\_ridge.py:200: LinAlgWarning: Ill-conditioned matrix (rcond=1.06211e-08): result may not be accurate.\n",
      "  return linalg.solve(A, Xy, assume_a=\"pos\", overwrite_a=True).T\n"
     ]
    },
    {
     "name": "stdout",
     "output_type": "stream",
     "text": [
      "Alpha: 0.4641588833612782, Score: 0.25369120343218476\n",
      "Alpha: 2.782559402207126, Score: 0.25466966554413945\n",
      "Alpha: 16.68100537200059, Score: 0.25585767137704635\n",
      "Alpha: 100.0, Score: 0.2577360157857726\n",
      "Best alpha: 100.0\n",
      "Readout layer fitted.\n"
     ]
    },
    {
     "name": "stderr",
     "output_type": "stream",
     "text": [
      "100%|██████████| 35160/35160 [00:10<00:00, 3474.63it/s]\n"
     ]
    },
    {
     "name": "stdout",
     "output_type": "stream",
     "text": [
      "Shape of previous_states: (35160, 500)\n",
      "Cumulative samples shape: (562547, 7)\n",
      "n_fft: 128, stride: 16, NMRSE: 0.31600511056423325\n",
      "Spectrogram data shape: (42427, 390), (42427, 7)\n",
      "Spectrogram data shape: (10607, 390), (10607, 7)\n",
      "Spectrogram data shape: (17580, 390), (17580, 7)\n",
      "[]\n",
      "Is CUDA available: True\n",
      "BasicESN initialised with leakage_rate: 0.8, spectral_radius: 0.999, gamma: 0.999, n_neurons: 500, sparsity: 0.8\n"
     ]
    },
    {
     "name": "stderr",
     "output_type": "stream",
     "text": [
      "100%|██████████| 42427/42427 [00:12<00:00, 3487.64it/s]\n"
     ]
    },
    {
     "name": "stdout",
     "output_type": "stream",
     "text": [
      "Shape of previous_states: (42427, 500)\n",
      "Reservoir state computed, fitting readout layer...\n",
      "Validation data provided, scoring readout layer based on validation data...\n"
     ]
    },
    {
     "name": "stderr",
     "output_type": "stream",
     "text": [
      "100%|██████████| 10607/10607 [00:03<00:00, 3437.75it/s]\n"
     ]
    },
    {
     "name": "stdout",
     "output_type": "stream",
     "text": [
      "Shape of previous_states: (10607, 500)\n",
      "Alpha: 1e-05, Score: 0.22847272761879553\n",
      "Alpha: 5.994842503189409e-05, Score: 0.22847811973216733\n",
      "Alpha: 0.00035938136638046257, Score: 0.22850958839735233\n",
      "Alpha: 0.0021544346900318843, Score: 0.22867581462455858\n",
      "Alpha: 0.01291549665014884, Score: 0.22930136282942776\n",
      "Alpha: 0.0774263682681127, Score: 0.23202091374928438\n"
     ]
    },
    {
     "name": "stderr",
     "output_type": "stream",
     "text": [
      "C:\\Users\\mail\\anaconda3\\envs\\training\\lib\\site-packages\\sklearn\\linear_model\\_ridge.py:200: LinAlgWarning: Ill-conditioned matrix (rcond=3.46755e-09): result may not be accurate.\n",
      "  return linalg.solve(A, Xy, assume_a=\"pos\", overwrite_a=True).T\n",
      "C:\\Users\\mail\\anaconda3\\envs\\training\\lib\\site-packages\\sklearn\\linear_model\\_ridge.py:200: LinAlgWarning: Ill-conditioned matrix (rcond=1.49762e-08): result may not be accurate.\n",
      "  return linalg.solve(A, Xy, assume_a=\"pos\", overwrite_a=True).T\n"
     ]
    },
    {
     "name": "stdout",
     "output_type": "stream",
     "text": [
      "Alpha: 0.4641588833612782, Score: 0.23431767984051935\n",
      "Alpha: 2.782559402207126, Score: 0.23668116002263168\n",
      "Alpha: 16.68100537200059, Score: 0.2398346756878215\n",
      "Alpha: 100.0, Score: 0.2439901981605054\n",
      "Best alpha: 100.0\n",
      "Readout layer fitted.\n"
     ]
    },
    {
     "name": "stderr",
     "output_type": "stream",
     "text": [
      "100%|██████████| 17580/17580 [00:05<00:00, 3313.20it/s]\n"
     ]
    },
    {
     "name": "stdout",
     "output_type": "stream",
     "text": [
      "Shape of previous_states: (17580, 500)\n",
      "Cumulative samples shape: (562547, 7)\n",
      "n_fft: 128, stride: 32, NMRSE: 0.3217979825871944\n",
      "Spectrogram data shape: (21214, 390), (21214, 7)\n",
      "Spectrogram data shape: (5304, 390), (5304, 7)\n",
      "Spectrogram data shape: (8790, 390), (8790, 7)\n",
      "[]\n",
      "Is CUDA available: True\n",
      "BasicESN initialised with leakage_rate: 0.8, spectral_radius: 0.999, gamma: 0.999, n_neurons: 500, sparsity: 0.8\n"
     ]
    },
    {
     "name": "stderr",
     "output_type": "stream",
     "text": [
      "100%|██████████| 21214/21214 [00:06<00:00, 3457.21it/s]\n"
     ]
    },
    {
     "name": "stdout",
     "output_type": "stream",
     "text": [
      "Shape of previous_states: (21214, 500)\n",
      "Reservoir state computed, fitting readout layer...\n",
      "Validation data provided, scoring readout layer based on validation data...\n"
     ]
    },
    {
     "name": "stderr",
     "output_type": "stream",
     "text": [
      "100%|██████████| 5304/5304 [00:01<00:00, 3160.13it/s]\n"
     ]
    },
    {
     "name": "stdout",
     "output_type": "stream",
     "text": [
      "Shape of previous_states: (5304, 500)\n",
      "Alpha: 1e-05, Score: 0.19424343390526685\n",
      "Alpha: 5.994842503189409e-05, Score: 0.19431041618939363\n",
      "Alpha: 0.00035938136638046257, Score: 0.1947006759934662\n",
      "Alpha: 0.0021544346900318843, Score: 0.19653735410462497\n",
      "Alpha: 0.01291549665014884, Score: 0.20132374617318585\n",
      "Alpha: 0.0774263682681127, Score: 0.20305465327014013\n"
     ]
    },
    {
     "name": "stderr",
     "output_type": "stream",
     "text": [
      "C:\\Users\\mail\\anaconda3\\envs\\training\\lib\\site-packages\\sklearn\\linear_model\\_ridge.py:200: LinAlgWarning: Ill-conditioned matrix (rcond=7.56835e-10): result may not be accurate.\n",
      "  return linalg.solve(A, Xy, assume_a=\"pos\", overwrite_a=True).T\n",
      "C:\\Users\\mail\\anaconda3\\envs\\training\\lib\\site-packages\\sklearn\\linear_model\\_ridge.py:200: LinAlgWarning: Ill-conditioned matrix (rcond=7.18146e-09): result may not be accurate.\n",
      "  return linalg.solve(A, Xy, assume_a=\"pos\", overwrite_a=True).T\n",
      "C:\\Users\\mail\\anaconda3\\envs\\training\\lib\\site-packages\\sklearn\\linear_model\\_ridge.py:200: LinAlgWarning: Ill-conditioned matrix (rcond=4.23156e-08): result may not be accurate.\n",
      "  return linalg.solve(A, Xy, assume_a=\"pos\", overwrite_a=True).T\n"
     ]
    },
    {
     "name": "stdout",
     "output_type": "stream",
     "text": [
      "Alpha: 0.4641588833612782, Score: 0.2065905335154774\n",
      "Alpha: 2.782559402207126, Score: 0.21111097887500363\n",
      "Alpha: 16.68100537200059, Score: 0.21878559034569184\n",
      "Alpha: 100.0, Score: 0.22902386257172092\n",
      "Best alpha: 100.0\n",
      "Readout layer fitted.\n"
     ]
    },
    {
     "name": "stderr",
     "output_type": "stream",
     "text": [
      "100%|██████████| 8790/8790 [00:02<00:00, 3386.95it/s]\n"
     ]
    },
    {
     "name": "stdout",
     "output_type": "stream",
     "text": [
      "Shape of previous_states: (8790, 500)\n",
      "Cumulative samples shape: (562547, 7)\n",
      "n_fft: 128, stride: 64, NMRSE: 0.3014533935065895\n",
      "Spectrogram data shape: (10607, 390), (10607, 7)\n",
      "Spectrogram data shape: (2652, 390), (2652, 7)\n",
      "Spectrogram data shape: (4395, 390), (4395, 7)\n",
      "[]\n",
      "Is CUDA available: True\n",
      "BasicESN initialised with leakage_rate: 0.8, spectral_radius: 0.999, gamma: 0.999, n_neurons: 500, sparsity: 0.8\n"
     ]
    },
    {
     "name": "stderr",
     "output_type": "stream",
     "text": [
      "100%|██████████| 10607/10607 [00:03<00:00, 3414.28it/s]\n"
     ]
    },
    {
     "name": "stdout",
     "output_type": "stream",
     "text": [
      "Shape of previous_states: (10607, 500)\n",
      "Reservoir state computed, fitting readout layer...\n",
      "Validation data provided, scoring readout layer based on validation data...\n"
     ]
    },
    {
     "name": "stderr",
     "output_type": "stream",
     "text": [
      "100%|██████████| 2652/2652 [00:00<00:00, 3051.02it/s]\n"
     ]
    },
    {
     "name": "stdout",
     "output_type": "stream",
     "text": [
      "Shape of previous_states: (2652, 500)\n",
      "Alpha: 1e-05, Score: 0.10673233011184302\n",
      "Alpha: 5.994842503189409e-05, Score: 0.10704970548001484\n",
      "Alpha: 0.00035938136638046257, Score: 0.11674661503839455\n",
      "Alpha: 0.0021544346900318843, Score: 0.13497775710995594\n",
      "Alpha: 0.01291549665014884, Score: 0.1390858628924964\n",
      "Alpha: 0.0774263682681127, Score: 0.14667493531288991\n",
      "Alpha: 0.4641588833612782, Score: 0.1472290766811098\n",
      "Alpha: 2.782559402207126, Score: 0.15440545086997354\n",
      "Alpha: 16.68100537200059, Score: 0.17415962850808375\n"
     ]
    },
    {
     "name": "stderr",
     "output_type": "stream",
     "text": [
      "C:\\Users\\mail\\anaconda3\\envs\\training\\lib\\site-packages\\sklearn\\linear_model\\_ridge.py:200: LinAlgWarning: Ill-conditioned matrix (rcond=8.22144e-10): result may not be accurate.\n",
      "  return linalg.solve(A, Xy, assume_a=\"pos\", overwrite_a=True).T\n",
      "C:\\Users\\mail\\anaconda3\\envs\\training\\lib\\site-packages\\sklearn\\linear_model\\_ridge.py:200: LinAlgWarning: Ill-conditioned matrix (rcond=1.04395e-08): result may not be accurate.\n",
      "  return linalg.solve(A, Xy, assume_a=\"pos\", overwrite_a=True).T\n"
     ]
    },
    {
     "name": "stdout",
     "output_type": "stream",
     "text": [
      "Alpha: 100.0, Score: 0.1982254919484449\n",
      "Best alpha: 100.0\n",
      "Readout layer fitted.\n"
     ]
    },
    {
     "name": "stderr",
     "output_type": "stream",
     "text": [
      "100%|██████████| 4395/4395 [00:01<00:00, 3144.08it/s]\n"
     ]
    },
    {
     "name": "stdout",
     "output_type": "stream",
     "text": [
      "Shape of previous_states: (4395, 500)\n",
      "Cumulative samples shape: (562547, 7)\n",
      "n_fft: 128, stride: 128, NMRSE: 0.3128999475893049\n"
     ]
    }
   ],
   "execution_count": 10
  },
  {
   "metadata": {
    "ExecuteTime": {
     "end_time": "2024-08-16T16:28:23.446115Z",
     "start_time": "2024-08-16T16:28:21.397609Z"
    }
   },
   "cell_type": "code",
   "source": "print(basic_optimal_scores)",
   "id": "cc39f80aa94bee20",
   "outputs": [
    {
     "name": "stdout",
     "output_type": "stream",
     "text": [
      "[{'n_fft': 32, 'stride': 16, 'nmrse': 0.2280657272340775}, {'n_fft': 32, 'stride': 32, 'nmrse': 0.2582511147320702}, {'n_fft': 64, 'stride': 16, 'nmrse': 0.27527477016579643}, {'n_fft': 64, 'stride': 32, 'nmrse': 0.28840790202385225}, {'n_fft': 64, 'stride': 64, 'nmrse': 0.2921680882260777}, {'n_fft': 128, 'stride': 16, 'nmrse': 0.31600511056423325}, {'n_fft': 128, 'stride': 32, 'nmrse': 0.3217979825871944}, {'n_fft': 128, 'stride': 64, 'nmrse': 0.3014533935065895}, {'n_fft': 128, 'stride': 128, 'nmrse': 0.3128999475893049}]\n"
     ]
    }
   ],
   "execution_count": 11
  },
  {
   "metadata": {
    "ExecuteTime": {
     "end_time": "2024-08-16T16:28:24.176313Z",
     "start_time": "2024-08-16T16:28:23.479380Z"
    }
   },
   "cell_type": "code",
   "source": [
    "# Let's plot the results to see if there is a clear winner\n",
    "# Get the best n_fft and stride values\n",
    "def reshape_nfft_scores(scores_list):\n",
    "    reshaped_list = []\n",
    "    current_nfft = scores_list[0]['n_fft']\n",
    "    current_list_scores = []\n",
    "    current_list_strides = []\n",
    "    for i in range(len(scores_list)):\n",
    "        if scores_list[i]['n_fft'] != current_nfft:\n",
    "            reshaped_list.append({\n",
    "                'n_fft': current_nfft,\n",
    "                'nmrses': current_list_scores,\n",
    "                'strides': current_list_strides\n",
    "            })\n",
    "            current_list_scores = []\n",
    "            current_list_strides = []\n",
    "            current_nfft = scores_list[i]['n_fft']\n",
    "\n",
    "        current_list_scores.append(scores_list[i]['nmrse'])\n",
    "        current_list_strides.append(scores_list[i]['stride'])\n",
    "    reshaped_list.append({\n",
    "        'n_fft': current_nfft,\n",
    "        'nmrses': current_list_scores,\n",
    "        'strides': current_list_strides\n",
    "    })\n",
    "\n",
    "    return reshaped_list"
   ],
   "id": "6eb07e0eefe34031",
   "outputs": [],
   "execution_count": 12
  },
  {
   "metadata": {
    "ExecuteTime": {
     "end_time": "2024-08-16T16:48:26.393687Z",
     "start_time": "2024-08-16T16:48:25.537876Z"
    }
   },
   "cell_type": "code",
   "source": [
    "def get_best_and_plot(reshaped_scores):\n",
    "    best_nfft = reshaped_scores[np.argmin([min(result['nmrses']) for result in reshaped_scores])]['n_fft']\n",
    "    best_stride = reshaped_scores[np.argmin([min(result['nmrses']) for result in reshaped_scores])]['strides'][\n",
    "        np.argmin(reshaped_scores[np.argmin([min(result['nmrses']) for result in reshaped_scores])]['nmrses'])]\n",
    "\n",
    "    print(f\"Best n_fft: {best_nfft}, Best stride: {best_nfft}\")  #%%\n",
    "\n",
    "    plt.figure(figsize=(10, 5))\n",
    "\n",
    "    for result in reshaped_scores:\n",
    "        plt.plot(result['strides'], result['nmrses'], marker='o', label=f\"n_fft: {result['n_fft']}\")\n",
    "\n",
    "    plt.xlabel('Stride')\n",
    "    plt.ylabel('Test score')\n",
    "    plt.title('Test score for each n_fft and stride value (anything outside the score range [-5, 1] is omitted)')\n",
    "    plt.xscale('log')\n",
    "    # Some of the values have terrible scores, and so can be omitted from the plot\n",
    "    #plt.ylim(-5, 1)\n",
    "    plt.legend()\n",
    "    plt.tight_layout()\n",
    "    plt.show()\n",
    "\n",
    "    return best_nfft, best_stride"
   ],
   "id": "fcf89ead5e56c32a",
   "outputs": [],
   "execution_count": 37
  },
  {
   "metadata": {
    "ExecuteTime": {
     "end_time": "2024-08-16T16:48:29.481992Z",
     "start_time": "2024-08-16T16:48:27.961594Z"
    }
   },
   "cell_type": "code",
   "source": [
    "basic_optimal_results_list_reshaped = reshape_nfft_scores(basic_optimal_scores)\n",
    "best_nfft_basic, best_stride_basic = get_best_and_plot(basic_optimal_results_list_reshaped)"
   ],
   "id": "9f66418eaa39920f",
   "outputs": [
    {
     "name": "stdout",
     "output_type": "stream",
     "text": [
      "Best n_fft: 32, Best stride: 32\n"
     ]
    },
    {
     "data": {
      "text/plain": [
       "<Figure size 1000x500 with 1 Axes>"
      ],
      "image/png": "[encoded data removed]"
     },
     "metadata": {},
     "output_type": "display_data"
    }
   ],
   "execution_count": 38
  },
  {
   "metadata": {
    "ExecuteTime": {
     "end_time": "2024-08-16T16:28:27.953974Z",
     "start_time": "2024-08-16T16:28:27.287806Z"
    }
   },
   "cell_type": "code",
   "source": [
    "# Next, we will try with the HierarchicalESN with the optimal hyperparameters found in the previous notebook along with the spectrogram_data preprocessing method\n",
    "\n",
    "# The optimal hyperparameters were:\n",
    "# Best Neurons 1: 400, Best Neurons 2: 100\n",
    "# Best Density 1: 0.7983216917715843, Best Density 2: 0.010877135881297934\n",
    "# Best Leakage Rate 1: 0.9318915931720418, Best Leakage Rate 2: 0.35101073644620073\n",
    "# Best Spectral Radius 1: 0.9819903553570943, Best Spectral Radius 2: 0.1404437385565157\n",
    "# Best Gamma 1: 0.9634809164294149, Best Gamma 2: 0.7797466776214464\n",
    "# Best Weight Distribution 1: uniform, Best Weight Distribution 2: 0/1\n",
    "# Best Sparsity 1: 0.8, Best Sparsity 2: 0.5\n",
    "hierarchy_n_neurons_1 = 400\n",
    "hierarchy_density_1 = 0.7983216917715843\n",
    "hierarchy_leakage_1 = 0.9318915931720418\n",
    "hierarchy_spectral_radius_1 = 0.9819903553570943\n",
    "hierarchy_gamma_1 = 0.9634809164294149\n",
    "hierarchy_sparsity_1 = 0.8\n",
    "hierarchy_input_weight_type_1 = 'uniform'\n",
    "\n",
    "hierarchy_n_neurons_2 = 100\n",
    "hierarchy_density_2 = 0.010877135881297934\n",
    "hierarchy_leakage_2 = 0.35101073644620073\n",
    "hierarchy_spectral_radius_2 = 0.1404437385565157\n",
    "hierarchy_gamma_2 = 0.7797466776214464\n",
    "hierarchy_sparsity_2 = 0.5\n",
    "hierarchy_input_weight_type_2 = 'uniform'"
   ],
   "id": "c9f84758ee335aa",
   "outputs": [],
   "execution_count": 15
  },
  {
   "metadata": {
    "ExecuteTime": {
     "end_time": "2024-08-16T16:28:29.713995Z",
     "start_time": "2024-08-16T16:28:27.987622Z"
    }
   },
   "cell_type": "code",
   "source": "run_hierarchical_optimal = True",
   "id": "c23b6064ba3bf6d6",
   "outputs": [],
   "execution_count": 16
  },
  {
   "metadata": {
    "ExecuteTime": {
     "end_time": "2024-08-16T16:36:48.068160Z",
     "start_time": "2024-08-16T16:28:29.747043Z"
    }
   },
   "cell_type": "code",
   "source": [
    "\n",
    "if run_hierarchical_optimal:\n",
    "    n_ffts = [32, 64, 128]\n",
    "    strides = [16, 32, 64, 128]\n",
    "\n",
    "    hierarchical_optimal_scores = []\n",
    "\n",
    "    for n_fft in n_ffts:\n",
    "        for stride in strides:\n",
    "            if stride > n_fft:\n",
    "                continue\n",
    "\n",
    "            x_train_spec, y_train_spec = data_preprocessor.spectrogram_data(X_train, y_train,\n",
    "                                                                            n_fft=n_fft, stride=stride,\n",
    "                                                                            encode_labels=True,\n",
    "                                                                            label_encoder=data_preparation.get_encoder())\n",
    "            x_val_spec, y_val_spec = data_preprocessor.spectrogram_data(X_val, y_val, n_fft=n_fft,\n",
    "                                                                        stride=stride,\n",
    "                                                                        encode_labels=True,\n",
    "                                                                        label_encoder=data_preparation.get_encoder())\n",
    "            x_test_spec, y_test_spec = data_preprocessor.spectrogram_data(X_test, y_test, n_fft=n_fft,\n",
    "                                                                          stride=stride,\n",
    "                                                                          encode_labels=True,\n",
    "                                                                          label_encoder=data_preparation.get_encoder())\n",
    "\n",
    "            # Generate input weights has parameters n_neurons, n_features, density, input_weight_type\n",
    "            input_weights_1 = generate_input_weights(hierarchy_n_neurons_1, x_train_spec.shape[1], hierarchy_density_1,\n",
    "                                                     hierarchy_input_weight_type_1, seed=42)\n",
    "            input_weights_2 = generate_input_weights(hierarchy_n_neurons_2, x_train_spec.shape[1], hierarchy_density_2,\n",
    "                                                     hierarchy_input_weight_type_2, seed=42)\n",
    "\n",
    "            hierarchical_esn = HierarchyESN(n_neurons_1=hierarchy_n_neurons_1, n_neurons_2=hierarchy_n_neurons_2,\n",
    "                                            leakage_rate_1=hierarchy_leakage_1,\n",
    "                                            leakage_rate_2=hierarchy_leakage_2,\n",
    "                                            spectral_radius_1=hierarchy_spectral_radius_1,\n",
    "                                            spectral_radius_2=hierarchy_spectral_radius_2,\n",
    "                                            gamma_1=hierarchy_gamma_1, gamma_2=hierarchy_gamma_2,\n",
    "                                            sparsity_1=hierarchy_sparsity_1, sparsity_2=hierarchy_sparsity_2,\n",
    "                                            W_in_1=input_weights_1,\n",
    "                                            W_in_2=input_weights_2,\n",
    "                                            class_weights=class_weights, seed=42)\n",
    "\n",
    "            hierarchical_esn.fit(x_train_spec, y_train_spec, x_val=x_val_spec, y_val=y_val_spec)\n",
    "\n",
    "            y_pred = hierarchical_esn.forward(x_test_spec)\n",
    "\n",
    "            # Before we can score the model, we need to decode the one-hot encoded labels\n",
    "            # As we are using the spectrogram_data method, we need to convert the time frames back to samples\n",
    "            y_pred_samples = data_preprocessor.spectrogram_predictions_to_samples(y_pred, y_test_encoded.shape[0],\n",
    "                                                                                  n_fft, stride)\n",
    "\n",
    "            y_pred_decoded = data_preparation.get_encoder().inverse_transform\n",
    "\n",
    "            y_pred_decoded = y_pred_decoded(y_pred_samples)\n",
    "            y_test_decoded = data_preparation.get_encoder().inverse_transform(y_test_encoded)\n",
    "\n",
    "            # Calculate the NMRSE score\n",
    "            nrmse = np.sqrt(mean_squared_error(y_test_decoded, y_pred_decoded)) / (\n",
    "                    y_test_decoded.max() - y_test_decoded.min())\n",
    "\n",
    "            hierarchical_optimal_scores.append({'n_fft': n_fft, 'stride': stride, 'nmrse': nrmse})\n",
    "\n",
    "            print(f\"n_fft: {n_fft}, stride: {stride}, NMRSE: {nrmse}\")\n",
    "else:\n",
    "    hierarchical_optimal_scores = []"
   ],
   "id": "6abe8b529ed808f6",
   "outputs": [
    {
     "name": "stdout",
     "output_type": "stream",
     "text": [
      "Spectrogram data shape: (84853, 102), (84853, 7)\n",
      "Spectrogram data shape: (21213, 102), (21213, 7)\n",
      "Spectrogram data shape: (35160, 102), (35160, 7)\n",
      "[]\n",
      "Is CUDA available: True\n",
      "HierarchyESN initialised with leakage_rate_1: 0.9318915931720418, spectral_radius_1: 0.9819903553570943, gamma_1: 0.9634809164294149, n_neurons_1: 400, leakage_rate_2: 0.35101073644620073, spectral_radius_2: 0.1404437385565157, gamma_2: 0.7797466776214464, n_neurons_2: 100\n"
     ]
    },
    {
     "name": "stderr",
     "output_type": "stream",
     "text": [
      "100%|██████████| 84853/84853 [00:50<00:00, 1672.10it/s]\n"
     ]
    },
    {
     "name": "stdout",
     "output_type": "stream",
     "text": [
      "Shape of previous_states: (84853, 500)\n",
      "Reservoir state computed, fitting readout layer...\n",
      "Validation data provided, fitting readout layer with validation data...\n"
     ]
    },
    {
     "name": "stderr",
     "output_type": "stream",
     "text": [
      "100%|██████████| 21213/21213 [00:12<00:00, 1687.53it/s]\n"
     ]
    },
    {
     "name": "stdout",
     "output_type": "stream",
     "text": [
      "Shape of previous_states: (21213, 500)\n",
      "Alpha: 1e-05, Score: 0.2698647472586209\n",
      "Alpha: 7.742636826811278e-05, Score: 0.2803303818445814\n",
      "Alpha: 0.0005994842503189409, Score: 0.2809652398056516\n",
      "Alpha: 0.004641588833612777, Score: 0.2818219240188292\n"
     ]
    },
    {
     "name": "stderr",
     "output_type": "stream",
     "text": [
      "C:\\Users\\mail\\anaconda3\\envs\\training\\lib\\site-packages\\sklearn\\linear_model\\_ridge.py:200: LinAlgWarning: Ill-conditioned matrix (rcond=3.9713e-10): result may not be accurate.\n",
      "  return linalg.solve(A, Xy, assume_a=\"pos\", overwrite_a=True).T\n"
     ]
    },
    {
     "name": "stdout",
     "output_type": "stream",
     "text": [
      "Alpha: 0.03593813663804626, Score: 0.2821846085337171\n"
     ]
    },
    {
     "name": "stderr",
     "output_type": "stream",
     "text": [
      "C:\\Users\\mail\\anaconda3\\envs\\training\\lib\\site-packages\\sklearn\\linear_model\\_ridge.py:200: LinAlgWarning: Ill-conditioned matrix (rcond=5.45678e-09): result may not be accurate.\n",
      "  return linalg.solve(A, Xy, assume_a=\"pos\", overwrite_a=True).T\n"
     ]
    },
    {
     "name": "stdout",
     "output_type": "stream",
     "text": [
      "Alpha: 0.2782559402207126, Score: 0.2862487785121873\n"
     ]
    },
    {
     "name": "stderr",
     "output_type": "stream",
     "text": [
      "C:\\Users\\mail\\anaconda3\\envs\\training\\lib\\site-packages\\sklearn\\linear_model\\_ridge.py:200: LinAlgWarning: Ill-conditioned matrix (rcond=4.78421e-08): result may not be accurate.\n",
      "  return linalg.solve(A, Xy, assume_a=\"pos\", overwrite_a=True).T\n"
     ]
    },
    {
     "name": "stdout",
     "output_type": "stream",
     "text": [
      "Alpha: 2.154434690031882, Score: 0.29134656781609436\n",
      "Alpha: 16.681005372000556, Score: 0.2992477072878458\n",
      "Alpha: 129.15496650148827, Score: 0.3108933019758712\n",
      "Alpha: 1000.0, Score: 0.3101160843211459\n",
      "Best alpha: 129.15496650148827\n",
      "Readout layer fitted.\n"
     ]
    },
    {
     "name": "stderr",
     "output_type": "stream",
     "text": [
      "100%|██████████| 35160/35160 [00:21<00:00, 1668.23it/s]\n"
     ]
    },
    {
     "name": "stdout",
     "output_type": "stream",
     "text": [
      "Shape of previous_states: (35160, 500)\n",
      "Cumulative samples shape: (562547, 7)\n",
      "n_fft: 32, stride: 16, NMRSE: 0.2530920784609683\n",
      "Spectrogram data shape: (42427, 102), (42427, 7)\n",
      "Spectrogram data shape: (10607, 102), (10607, 7)\n",
      "Spectrogram data shape: (17580, 102), (17580, 7)\n",
      "[]\n",
      "Is CUDA available: True\n",
      "HierarchyESN initialised with leakage_rate_1: 0.9318915931720418, spectral_radius_1: 0.9819903553570943, gamma_1: 0.9634809164294149, n_neurons_1: 400, leakage_rate_2: 0.35101073644620073, spectral_radius_2: 0.1404437385565157, gamma_2: 0.7797466776214464, n_neurons_2: 100\n"
     ]
    },
    {
     "name": "stderr",
     "output_type": "stream",
     "text": [
      "100%|██████████| 42427/42427 [00:25<00:00, 1664.65it/s]\n"
     ]
    },
    {
     "name": "stdout",
     "output_type": "stream",
     "text": [
      "Shape of previous_states: (42427, 500)\n",
      "Reservoir state computed, fitting readout layer...\n",
      "Validation data provided, fitting readout layer with validation data...\n"
     ]
    },
    {
     "name": "stderr",
     "output_type": "stream",
     "text": [
      "100%|██████████| 10607/10607 [00:06<00:00, 1638.50it/s]\n"
     ]
    },
    {
     "name": "stdout",
     "output_type": "stream",
     "text": [
      "Shape of previous_states: (10607, 500)\n",
      "Alpha: 1e-05, Score: 0.22312452534223073\n",
      "Alpha: 7.742636826811278e-05, Score: 0.24691403745649376\n",
      "Alpha: 0.0005994842503189409, Score: 0.2508474463858957\n",
      "Alpha: 0.004641588833612777, Score: 0.25498140711135375\n",
      "Alpha: 0.03593813663804626, Score: 0.2612350840599967\n"
     ]
    },
    {
     "name": "stderr",
     "output_type": "stream",
     "text": [
      "C:\\Users\\mail\\anaconda3\\envs\\training\\lib\\site-packages\\sklearn\\linear_model\\_ridge.py:200: LinAlgWarning: Ill-conditioned matrix (rcond=2.34121e-09): result may not be accurate.\n",
      "  return linalg.solve(A, Xy, assume_a=\"pos\", overwrite_a=True).T\n",
      "C:\\Users\\mail\\anaconda3\\envs\\training\\lib\\site-packages\\sklearn\\linear_model\\_ridge.py:200: LinAlgWarning: Ill-conditioned matrix (rcond=1.1074e-08): result may not be accurate.\n",
      "  return linalg.solve(A, Xy, assume_a=\"pos\", overwrite_a=True).T\n"
     ]
    },
    {
     "name": "stdout",
     "output_type": "stream",
     "text": [
      "Alpha: 0.2782559402207126, Score: 0.26899759150435043\n",
      "Alpha: 2.154434690031882, Score: 0.2748647764434515\n",
      "Alpha: 16.681005372000556, Score: 0.28386444462342225\n",
      "Alpha: 129.15496650148827, Score: 0.29346140095634393\n",
      "Alpha: 1000.0, Score: 0.28998578564373617\n",
      "Best alpha: 129.15496650148827\n",
      "Readout layer fitted.\n"
     ]
    },
    {
     "name": "stderr",
     "output_type": "stream",
     "text": [
      "100%|██████████| 17580/17580 [00:10<00:00, 1656.44it/s]\n"
     ]
    },
    {
     "name": "stdout",
     "output_type": "stream",
     "text": [
      "Shape of previous_states: (17580, 500)\n",
      "Cumulative samples shape: (562547, 7)\n",
      "n_fft: 32, stride: 32, NMRSE: 0.29123907060710824\n",
      "Spectrogram data shape: (84853, 198), (84853, 7)\n",
      "Spectrogram data shape: (21213, 198), (21213, 7)\n",
      "Spectrogram data shape: (35160, 198), (35160, 7)\n",
      "[]\n",
      "Is CUDA available: True\n",
      "HierarchyESN initialised with leakage_rate_1: 0.9318915931720418, spectral_radius_1: 0.9819903553570943, gamma_1: 0.9634809164294149, n_neurons_1: 400, leakage_rate_2: 0.35101073644620073, spectral_radius_2: 0.1404437385565157, gamma_2: 0.7797466776214464, n_neurons_2: 100\n"
     ]
    },
    {
     "name": "stderr",
     "output_type": "stream",
     "text": [
      "100%|██████████| 84853/84853 [00:50<00:00, 1667.80it/s]\n"
     ]
    },
    {
     "name": "stdout",
     "output_type": "stream",
     "text": [
      "Shape of previous_states: (84853, 500)\n",
      "Reservoir state computed, fitting readout layer...\n",
      "Validation data provided, fitting readout layer with validation data...\n"
     ]
    },
    {
     "name": "stderr",
     "output_type": "stream",
     "text": [
      "100%|██████████| 21213/21213 [00:12<00:00, 1666.87it/s]\n"
     ]
    },
    {
     "name": "stdout",
     "output_type": "stream",
     "text": [
      "Shape of previous_states: (21213, 500)\n",
      "Alpha: 1e-05, Score: 0.28209947324125556\n",
      "Alpha: 7.742636826811278e-05, Score: 0.2821091131914173\n",
      "Alpha: 0.0005994842503189409, Score: 0.2821582316023478\n",
      "Alpha: 0.004641588833612777, Score: 0.28234085599912245\n",
      "Alpha: 0.03593813663804626, Score: 0.28323644423927347\n"
     ]
    },
    {
     "name": "stderr",
     "output_type": "stream",
     "text": [
      "C:\\Users\\mail\\anaconda3\\envs\\training\\lib\\site-packages\\sklearn\\linear_model\\_ridge.py:200: LinAlgWarning: Ill-conditioned matrix (rcond=5.16442e-09): result may not be accurate.\n",
      "  return linalg.solve(A, Xy, assume_a=\"pos\", overwrite_a=True).T\n"
     ]
    },
    {
     "name": "stdout",
     "output_type": "stream",
     "text": [
      "Alpha: 0.2782559402207126, Score: 0.28526549963156084\n"
     ]
    },
    {
     "name": "stderr",
     "output_type": "stream",
     "text": [
      "C:\\Users\\mail\\anaconda3\\envs\\training\\lib\\site-packages\\sklearn\\linear_model\\_ridge.py:200: LinAlgWarning: Ill-conditioned matrix (rcond=3.65748e-08): result may not be accurate.\n",
      "  return linalg.solve(A, Xy, assume_a=\"pos\", overwrite_a=True).T\n"
     ]
    },
    {
     "name": "stdout",
     "output_type": "stream",
     "text": [
      "Alpha: 2.154434690031882, Score: 0.2868422852819101\n",
      "Alpha: 16.681005372000556, Score: 0.2897536662061576\n",
      "Alpha: 129.15496650148827, Score: 0.29326071702358997\n",
      "Alpha: 1000.0, Score: 0.291686133225587\n",
      "Best alpha: 129.15496650148827\n",
      "Readout layer fitted.\n"
     ]
    },
    {
     "name": "stderr",
     "output_type": "stream",
     "text": [
      "100%|██████████| 35160/35160 [00:21<00:00, 1663.80it/s]\n"
     ]
    },
    {
     "name": "stdout",
     "output_type": "stream",
     "text": [
      "Shape of previous_states: (35160, 500)\n",
      "Cumulative samples shape: (562547, 7)\n",
      "n_fft: 64, stride: 16, NMRSE: 0.2980216221109907\n",
      "Spectrogram data shape: (42427, 198), (42427, 7)\n",
      "Spectrogram data shape: (10607, 198), (10607, 7)\n",
      "Spectrogram data shape: (17580, 198), (17580, 7)\n",
      "[]\n",
      "Is CUDA available: True\n",
      "HierarchyESN initialised with leakage_rate_1: 0.9318915931720418, spectral_radius_1: 0.9819903553570943, gamma_1: 0.9634809164294149, n_neurons_1: 400, leakage_rate_2: 0.35101073644620073, spectral_radius_2: 0.1404437385565157, gamma_2: 0.7797466776214464, n_neurons_2: 100\n"
     ]
    },
    {
     "name": "stderr",
     "output_type": "stream",
     "text": [
      "100%|██████████| 42427/42427 [00:25<00:00, 1658.86it/s]\n"
     ]
    },
    {
     "name": "stdout",
     "output_type": "stream",
     "text": [
      "Shape of previous_states: (42427, 500)\n",
      "Reservoir state computed, fitting readout layer...\n",
      "Validation data provided, fitting readout layer with validation data...\n"
     ]
    },
    {
     "name": "stderr",
     "output_type": "stream",
     "text": [
      "100%|██████████| 10607/10607 [00:06<00:00, 1654.78it/s]\n"
     ]
    },
    {
     "name": "stdout",
     "output_type": "stream",
     "text": [
      "Shape of previous_states: (10607, 500)\n",
      "Alpha: 1e-05, Score: 0.25978591850134436\n",
      "Alpha: 7.742636826811278e-05, Score: 0.25975180627558575\n",
      "Alpha: 0.0005994842503189409, Score: 0.25992467670427727\n",
      "Alpha: 0.004641588833612777, Score: 0.2610109441959939\n",
      "Alpha: 0.03593813663804626, Score: 0.2630402277326587\n"
     ]
    },
    {
     "name": "stderr",
     "output_type": "stream",
     "text": [
      "C:\\Users\\mail\\anaconda3\\envs\\training\\lib\\site-packages\\sklearn\\linear_model\\_ridge.py:200: LinAlgWarning: Ill-conditioned matrix (rcond=1.22595e-09): result may not be accurate.\n",
      "  return linalg.solve(A, Xy, assume_a=\"pos\", overwrite_a=True).T\n",
      "C:\\Users\\mail\\anaconda3\\envs\\training\\lib\\site-packages\\sklearn\\linear_model\\_ridge.py:200: LinAlgWarning: Ill-conditioned matrix (rcond=1.17783e-08): result may not be accurate.\n",
      "  return linalg.solve(A, Xy, assume_a=\"pos\", overwrite_a=True).T\n"
     ]
    },
    {
     "name": "stdout",
     "output_type": "stream",
     "text": [
      "Alpha: 0.2782559402207126, Score: 0.26617536853395407\n",
      "Alpha: 2.154434690031882, Score: 0.26920924447484545\n",
      "Alpha: 16.681005372000556, Score: 0.27405836552795043\n",
      "Alpha: 129.15496650148827, Score: 0.2785148486127761\n",
      "Alpha: 1000.0, Score: 0.27457381498563793\n",
      "Best alpha: 129.15496650148827\n",
      "Readout layer fitted.\n"
     ]
    },
    {
     "name": "stderr",
     "output_type": "stream",
     "text": [
      "100%|██████████| 17580/17580 [00:10<00:00, 1632.62it/s]\n"
     ]
    },
    {
     "name": "stdout",
     "output_type": "stream",
     "text": [
      "Shape of previous_states: (17580, 500)\n",
      "Cumulative samples shape: (562547, 7)\n",
      "n_fft: 64, stride: 32, NMRSE: 0.2976431669543767\n",
      "Spectrogram data shape: (21214, 198), (21214, 7)\n",
      "Spectrogram data shape: (5304, 198), (5304, 7)\n",
      "Spectrogram data shape: (8790, 198), (8790, 7)\n",
      "[]\n",
      "Is CUDA available: True\n",
      "HierarchyESN initialised with leakage_rate_1: 0.9318915931720418, spectral_radius_1: 0.9819903553570943, gamma_1: 0.9634809164294149, n_neurons_1: 400, leakage_rate_2: 0.35101073644620073, spectral_radius_2: 0.1404437385565157, gamma_2: 0.7797466776214464, n_neurons_2: 100\n"
     ]
    },
    {
     "name": "stderr",
     "output_type": "stream",
     "text": [
      "100%|██████████| 21214/21214 [00:12<00:00, 1658.17it/s]\n"
     ]
    },
    {
     "name": "stdout",
     "output_type": "stream",
     "text": [
      "Shape of previous_states: (21214, 500)\n",
      "Reservoir state computed, fitting readout layer...\n",
      "Validation data provided, fitting readout layer with validation data...\n"
     ]
    },
    {
     "name": "stderr",
     "output_type": "stream",
     "text": [
      "100%|██████████| 5304/5304 [00:03<00:00, 1618.63it/s]\n"
     ]
    },
    {
     "name": "stdout",
     "output_type": "stream",
     "text": [
      "Shape of previous_states: (5304, 500)\n",
      "Alpha: 1e-05, Score: 0.21924884175751808\n",
      "Alpha: 7.742636826811278e-05, Score: 0.2242313831065026\n",
      "Alpha: 0.0005994842503189409, Score: 0.2243094981238174\n",
      "Alpha: 0.004641588833612777, Score: 0.21493258433037446\n",
      "Alpha: 0.03593813663804626, Score: 0.2303181060715147\n",
      "Alpha: 0.2782559402207126, Score: 0.2397689070777023\n"
     ]
    },
    {
     "name": "stderr",
     "output_type": "stream",
     "text": [
      "C:\\Users\\mail\\anaconda3\\envs\\training\\lib\\site-packages\\sklearn\\linear_model\\_ridge.py:200: LinAlgWarning: Ill-conditioned matrix (rcond=2.8756e-11): result may not be accurate.\n",
      "  return linalg.solve(A, Xy, assume_a=\"pos\", overwrite_a=True).T\n",
      "C:\\Users\\mail\\anaconda3\\envs\\training\\lib\\site-packages\\sklearn\\linear_model\\_ridge.py:200: LinAlgWarning: Ill-conditioned matrix (rcond=2.64934e-09): result may not be accurate.\n",
      "  return linalg.solve(A, Xy, assume_a=\"pos\", overwrite_a=True).T\n",
      "C:\\Users\\mail\\anaconda3\\envs\\training\\lib\\site-packages\\sklearn\\linear_model\\_ridge.py:200: LinAlgWarning: Ill-conditioned matrix (rcond=2.14067e-08): result may not be accurate.\n",
      "  return linalg.solve(A, Xy, assume_a=\"pos\", overwrite_a=True).T\n"
     ]
    },
    {
     "name": "stdout",
     "output_type": "stream",
     "text": [
      "Alpha: 2.154434690031882, Score: 0.2503727407962954\n",
      "Alpha: 16.681005372000556, Score: 0.26193754242034467\n",
      "Alpha: 129.15496650148827, Score: 0.2654184045638443\n",
      "Alpha: 1000.0, Score: 0.25456691494776085\n",
      "Best alpha: 129.15496650148827\n",
      "Readout layer fitted.\n"
     ]
    },
    {
     "name": "stderr",
     "output_type": "stream",
     "text": [
      "100%|██████████| 8790/8790 [00:05<00:00, 1616.31it/s]\n"
     ]
    },
    {
     "name": "stdout",
     "output_type": "stream",
     "text": [
      "Shape of previous_states: (8790, 500)\n",
      "Cumulative samples shape: (562547, 7)\n",
      "n_fft: 64, stride: 64, NMRSE: 0.29171128677913466\n",
      "Spectrogram data shape: (84853, 390), (84853, 7)\n",
      "Spectrogram data shape: (21213, 390), (21213, 7)\n",
      "Spectrogram data shape: (35160, 390), (35160, 7)\n",
      "[]\n",
      "Is CUDA available: True\n",
      "HierarchyESN initialised with leakage_rate_1: 0.9318915931720418, spectral_radius_1: 0.9819903553570943, gamma_1: 0.9634809164294149, n_neurons_1: 400, leakage_rate_2: 0.35101073644620073, spectral_radius_2: 0.1404437385565157, gamma_2: 0.7797466776214464, n_neurons_2: 100\n"
     ]
    },
    {
     "name": "stderr",
     "output_type": "stream",
     "text": [
      "100%|██████████| 84853/84853 [00:51<00:00, 1645.11it/s]\n"
     ]
    },
    {
     "name": "stdout",
     "output_type": "stream",
     "text": [
      "Shape of previous_states: (84853, 500)\n",
      "Reservoir state computed, fitting readout layer...\n",
      "Validation data provided, fitting readout layer with validation data...\n"
     ]
    },
    {
     "name": "stderr",
     "output_type": "stream",
     "text": [
      "100%|██████████| 21213/21213 [00:12<00:00, 1647.31it/s]\n"
     ]
    },
    {
     "name": "stdout",
     "output_type": "stream",
     "text": [
      "Shape of previous_states: (21213, 500)\n",
      "Alpha: 1e-05, Score: 0.22703779444861708\n",
      "Alpha: 7.742636826811278e-05, Score: 0.22705154828683252\n",
      "Alpha: 0.0005994842503189409, Score: 0.22707345864642156\n",
      "Alpha: 0.004641588833612777, Score: 0.22711789005336033\n"
     ]
    },
    {
     "name": "stderr",
     "output_type": "stream",
     "text": [
      "C:\\Users\\mail\\anaconda3\\envs\\training\\lib\\site-packages\\sklearn\\linear_model\\_ridge.py:200: LinAlgWarning: Ill-conditioned matrix (rcond=1.06123e-10): result may not be accurate.\n",
      "  return linalg.solve(A, Xy, assume_a=\"pos\", overwrite_a=True).T\n"
     ]
    },
    {
     "name": "stdout",
     "output_type": "stream",
     "text": [
      "Alpha: 0.03593813663804626, Score: 0.22586570116220925\n"
     ]
    },
    {
     "name": "stderr",
     "output_type": "stream",
     "text": [
      "C:\\Users\\mail\\anaconda3\\envs\\training\\lib\\site-packages\\sklearn\\linear_model\\_ridge.py:200: LinAlgWarning: Ill-conditioned matrix (rcond=5.26922e-09): result may not be accurate.\n",
      "  return linalg.solve(A, Xy, assume_a=\"pos\", overwrite_a=True).T\n"
     ]
    },
    {
     "name": "stdout",
     "output_type": "stream",
     "text": [
      "Alpha: 0.2782559402207126, Score: 0.22799189868220582\n"
     ]
    },
    {
     "name": "stderr",
     "output_type": "stream",
     "text": [
      "C:\\Users\\mail\\anaconda3\\envs\\training\\lib\\site-packages\\sklearn\\linear_model\\_ridge.py:200: LinAlgWarning: Ill-conditioned matrix (rcond=4.44892e-08): result may not be accurate.\n",
      "  return linalg.solve(A, Xy, assume_a=\"pos\", overwrite_a=True).T\n"
     ]
    },
    {
     "name": "stdout",
     "output_type": "stream",
     "text": [
      "Alpha: 2.154434690031882, Score: 0.22912229877406082\n",
      "Alpha: 16.681005372000556, Score: 0.23188043445439202\n",
      "Alpha: 129.15496650148827, Score: 0.238190760531861\n",
      "Alpha: 1000.0, Score: 0.24526233245812107\n",
      "Best alpha: 1000.0\n",
      "Readout layer fitted.\n"
     ]
    },
    {
     "name": "stderr",
     "output_type": "stream",
     "text": [
      "100%|██████████| 35160/35160 [00:21<00:00, 1644.48it/s]\n"
     ]
    },
    {
     "name": "stdout",
     "output_type": "stream",
     "text": [
      "Shape of previous_states: (35160, 500)\n",
      "Cumulative samples shape: (562547, 7)\n",
      "n_fft: 128, stride: 16, NMRSE: 0.30176804954540587\n",
      "Spectrogram data shape: (42427, 390), (42427, 7)\n",
      "Spectrogram data shape: (10607, 390), (10607, 7)\n",
      "Spectrogram data shape: (17580, 390), (17580, 7)\n",
      "[]\n",
      "Is CUDA available: True\n",
      "HierarchyESN initialised with leakage_rate_1: 0.9318915931720418, spectral_radius_1: 0.9819903553570943, gamma_1: 0.9634809164294149, n_neurons_1: 400, leakage_rate_2: 0.35101073644620073, spectral_radius_2: 0.1404437385565157, gamma_2: 0.7797466776214464, n_neurons_2: 100\n"
     ]
    },
    {
     "name": "stderr",
     "output_type": "stream",
     "text": [
      "100%|██████████| 42427/42427 [00:25<00:00, 1644.65it/s]\n"
     ]
    },
    {
     "name": "stdout",
     "output_type": "stream",
     "text": [
      "Shape of previous_states: (42427, 500)\n",
      "Reservoir state computed, fitting readout layer...\n",
      "Validation data provided, fitting readout layer with validation data...\n"
     ]
    },
    {
     "name": "stderr",
     "output_type": "stream",
     "text": [
      "100%|██████████| 10607/10607 [00:06<00:00, 1622.44it/s]\n"
     ]
    },
    {
     "name": "stdout",
     "output_type": "stream",
     "text": [
      "Shape of previous_states: (10607, 500)\n",
      "Alpha: 1e-05, Score: 0.197718094551704\n",
      "Alpha: 7.742636826811278e-05, Score: 0.19771733791774335\n",
      "Alpha: 0.0005994842503189409, Score: 0.197727985992402\n",
      "Alpha: 0.004641588833612777, Score: 0.19788192887455766\n",
      "Alpha: 0.03593813663804626, Score: 0.1980335854696849\n"
     ]
    },
    {
     "name": "stderr",
     "output_type": "stream",
     "text": [
      "C:\\Users\\mail\\anaconda3\\envs\\training\\lib\\site-packages\\sklearn\\linear_model\\_ridge.py:200: LinAlgWarning: Ill-conditioned matrix (rcond=8.97574e-10): result may not be accurate.\n",
      "  return linalg.solve(A, Xy, assume_a=\"pos\", overwrite_a=True).T\n",
      "C:\\Users\\mail\\anaconda3\\envs\\training\\lib\\site-packages\\sklearn\\linear_model\\_ridge.py:200: LinAlgWarning: Ill-conditioned matrix (rcond=1.27599e-08): result may not be accurate.\n",
      "  return linalg.solve(A, Xy, assume_a=\"pos\", overwrite_a=True).T\n"
     ]
    },
    {
     "name": "stdout",
     "output_type": "stream",
     "text": [
      "Alpha: 0.2782559402207126, Score: 0.20089408871620235\n",
      "Alpha: 2.154434690031882, Score: 0.20495227713275235\n",
      "Alpha: 16.681005372000556, Score: 0.21089034102933812\n",
      "Alpha: 129.15496650148827, Score: 0.2225808773879289\n",
      "Alpha: 1000.0, Score: 0.23223417358627074\n",
      "Best alpha: 1000.0\n",
      "Readout layer fitted.\n"
     ]
    },
    {
     "name": "stderr",
     "output_type": "stream",
     "text": [
      "100%|██████████| 17580/17580 [00:10<00:00, 1633.58it/s]\n"
     ]
    },
    {
     "name": "stdout",
     "output_type": "stream",
     "text": [
      "Shape of previous_states: (17580, 500)\n",
      "Cumulative samples shape: (562547, 7)\n",
      "n_fft: 128, stride: 32, NMRSE: 0.30302113166579275\n",
      "Spectrogram data shape: (21214, 390), (21214, 7)\n",
      "Spectrogram data shape: (5304, 390), (5304, 7)\n",
      "Spectrogram data shape: (8790, 390), (8790, 7)\n",
      "[]\n",
      "Is CUDA available: True\n",
      "HierarchyESN initialised with leakage_rate_1: 0.9318915931720418, spectral_radius_1: 0.9819903553570943, gamma_1: 0.9634809164294149, n_neurons_1: 400, leakage_rate_2: 0.35101073644620073, spectral_radius_2: 0.1404437385565157, gamma_2: 0.7797466776214464, n_neurons_2: 100\n"
     ]
    },
    {
     "name": "stderr",
     "output_type": "stream",
     "text": [
      "100%|██████████| 21214/21214 [00:13<00:00, 1626.53it/s]\n"
     ]
    },
    {
     "name": "stdout",
     "output_type": "stream",
     "text": [
      "Shape of previous_states: (21214, 500)\n",
      "Reservoir state computed, fitting readout layer...\n",
      "Validation data provided, fitting readout layer with validation data...\n"
     ]
    },
    {
     "name": "stderr",
     "output_type": "stream",
     "text": [
      "100%|██████████| 5304/5304 [00:03<00:00, 1600.51it/s]\n"
     ]
    },
    {
     "name": "stdout",
     "output_type": "stream",
     "text": [
      "Shape of previous_states: (5304, 500)\n",
      "Alpha: 1e-05, Score: 0.16799940806539387\n",
      "Alpha: 7.742636826811278e-05, Score: 0.16864502864566275\n",
      "Alpha: 0.0005994842503189409, Score: 0.17200748189441392\n",
      "Alpha: 0.004641588833612777, Score: 0.17800863296036176\n",
      "Alpha: 0.03593813663804626, Score: 0.18263619601443146\n",
      "Alpha: 0.2782559402207126, Score: 0.1857495398738869\n",
      "Alpha: 2.154434690031882, Score: 0.19045764515728347\n"
     ]
    },
    {
     "name": "stderr",
     "output_type": "stream",
     "text": [
      "C:\\Users\\mail\\anaconda3\\envs\\training\\lib\\site-packages\\sklearn\\linear_model\\_ridge.py:200: LinAlgWarning: Ill-conditioned matrix (rcond=3.03056e-09): result may not be accurate.\n",
      "  return linalg.solve(A, Xy, assume_a=\"pos\", overwrite_a=True).T\n",
      "C:\\Users\\mail\\anaconda3\\envs\\training\\lib\\site-packages\\sklearn\\linear_model\\_ridge.py:200: LinAlgWarning: Ill-conditioned matrix (rcond=2.30094e-08): result may not be accurate.\n",
      "  return linalg.solve(A, Xy, assume_a=\"pos\", overwrite_a=True).T\n"
     ]
    },
    {
     "name": "stdout",
     "output_type": "stream",
     "text": [
      "Alpha: 16.681005372000556, Score: 0.19961442344648744\n",
      "Alpha: 129.15496650148827, Score: 0.2149358912617377\n",
      "Alpha: 1000.0, Score: 0.21953907846996318\n",
      "Best alpha: 1000.0\n",
      "Readout layer fitted.\n"
     ]
    },
    {
     "name": "stderr",
     "output_type": "stream",
     "text": [
      "100%|██████████| 8790/8790 [00:05<00:00, 1598.22it/s]\n"
     ]
    },
    {
     "name": "stdout",
     "output_type": "stream",
     "text": [
      "Shape of previous_states: (8790, 500)\n",
      "Cumulative samples shape: (562547, 7)\n",
      "n_fft: 128, stride: 64, NMRSE: 0.31581798463468674\n",
      "Spectrogram data shape: (10607, 390), (10607, 7)\n",
      "Spectrogram data shape: (2652, 390), (2652, 7)\n",
      "Spectrogram data shape: (4395, 390), (4395, 7)\n",
      "[]\n",
      "Is CUDA available: True\n",
      "HierarchyESN initialised with leakage_rate_1: 0.9318915931720418, spectral_radius_1: 0.9819903553570943, gamma_1: 0.9634809164294149, n_neurons_1: 400, leakage_rate_2: 0.35101073644620073, spectral_radius_2: 0.1404437385565157, gamma_2: 0.7797466776214464, n_neurons_2: 100\n"
     ]
    },
    {
     "name": "stderr",
     "output_type": "stream",
     "text": [
      "100%|██████████| 10607/10607 [00:06<00:00, 1610.34it/s]\n"
     ]
    },
    {
     "name": "stdout",
     "output_type": "stream",
     "text": [
      "Shape of previous_states: (10607, 500)\n",
      "Reservoir state computed, fitting readout layer...\n",
      "Validation data provided, fitting readout layer with validation data...\n"
     ]
    },
    {
     "name": "stderr",
     "output_type": "stream",
     "text": [
      "100%|██████████| 2652/2652 [00:01<00:00, 1540.12it/s]\n"
     ]
    },
    {
     "name": "stdout",
     "output_type": "stream",
     "text": [
      "Shape of previous_states: (2652, 500)\n",
      "Alpha: 1e-05, Score: 0.10258361175611717\n",
      "Alpha: 7.742636826811278e-05, Score: 0.1043681712180001\n",
      "Alpha: 0.0005994842503189409, Score: 0.11441138835202154\n"
     ]
    },
    {
     "name": "stderr",
     "output_type": "stream",
     "text": [
      "C:\\Users\\mail\\anaconda3\\envs\\training\\lib\\site-packages\\sklearn\\linear_model\\_ridge.py:200: LinAlgWarning: Ill-conditioned matrix (rcond=3.10077e-10): result may not be accurate.\n",
      "  return linalg.solve(A, Xy, assume_a=\"pos\", overwrite_a=True).T\n",
      "C:\\Users\\mail\\anaconda3\\envs\\training\\lib\\site-packages\\sklearn\\linear_model\\_ridge.py:200: LinAlgWarning: Ill-conditioned matrix (rcond=6.40923e-09): result may not be accurate.\n",
      "  return linalg.solve(A, Xy, assume_a=\"pos\", overwrite_a=True).T\n",
      "C:\\Users\\mail\\anaconda3\\envs\\training\\lib\\site-packages\\sklearn\\linear_model\\_ridge.py:200: LinAlgWarning: Ill-conditioned matrix (rcond=3.94458e-08): result may not be accurate.\n",
      "  return linalg.solve(A, Xy, assume_a=\"pos\", overwrite_a=True).T\n"
     ]
    },
    {
     "name": "stdout",
     "output_type": "stream",
     "text": [
      "Alpha: 0.004641588833612777, Score: 0.1309748291087954\n",
      "Alpha: 0.03593813663804626, Score: 0.1525703372906382\n",
      "Alpha: 0.2782559402207126, Score: 0.1598454417415973\n",
      "Alpha: 2.154434690031882, Score: 0.17208059730699254\n",
      "Alpha: 16.681005372000556, Score: 0.18932858755215415\n",
      "Alpha: 129.15496650148827, Score: 0.20261970129714318\n",
      "Alpha: 1000.0, Score: 0.18831811356651246\n",
      "Best alpha: 129.15496650148827\n",
      "Readout layer fitted.\n"
     ]
    },
    {
     "name": "stderr",
     "output_type": "stream",
     "text": [
      "100%|██████████| 4395/4395 [00:02<00:00, 1581.17it/s]\n"
     ]
    },
    {
     "name": "stdout",
     "output_type": "stream",
     "text": [
      "Shape of previous_states: (4395, 500)\n",
      "Cumulative samples shape: (562547, 7)\n",
      "n_fft: 128, stride: 128, NMRSE: 0.32367900557654716\n"
     ]
    }
   ],
   "execution_count": 17
  },
  {
   "metadata": {
    "ExecuteTime": {
     "end_time": "2024-08-16T16:36:50.168238Z",
     "start_time": "2024-08-16T16:36:48.101121Z"
    }
   },
   "cell_type": "code",
   "source": "print(hierarchical_optimal_scores)",
   "id": "fbf70b41f85daa71",
   "outputs": [
    {
     "name": "stdout",
     "output_type": "stream",
     "text": [
      "[{'n_fft': 32, 'stride': 16, 'nmrse': 0.2530920784609683}, {'n_fft': 32, 'stride': 32, 'nmrse': 0.29123907060710824}, {'n_fft': 64, 'stride': 16, 'nmrse': 0.2980216221109907}, {'n_fft': 64, 'stride': 32, 'nmrse': 0.2976431669543767}, {'n_fft': 64, 'stride': 64, 'nmrse': 0.29171128677913466}, {'n_fft': 128, 'stride': 16, 'nmrse': 0.30176804954540587}, {'n_fft': 128, 'stride': 32, 'nmrse': 0.30302113166579275}, {'n_fft': 128, 'stride': 64, 'nmrse': 0.31581798463468674}, {'n_fft': 128, 'stride': 128, 'nmrse': 0.32367900557654716}]\n"
     ]
    }
   ],
   "execution_count": 18
  },
  {
   "metadata": {
    "ExecuteTime": {
     "end_time": "2024-08-16T16:48:41.594804Z",
     "start_time": "2024-08-16T16:48:40.017167Z"
    }
   },
   "cell_type": "code",
   "source": [
    "hierarchical_optimal_results_list_reshaped = reshape_nfft_scores(hierarchical_optimal_scores)\n",
    "best_nfft_hierarchical, best_stride_hierarchical = get_best_and_plot(hierarchical_optimal_results_list_reshaped)"
   ],
   "id": "9cd4eac482ffd453",
   "outputs": [
    {
     "name": "stdout",
     "output_type": "stream",
     "text": [
      "Best n_fft: 32, Best stride: 32\n"
     ]
    },
    {
     "data": {
      "text/plain": [
       "<Figure size 1000x500 with 1 Axes>"
      ],
      "image/png": "[encoded data removed]"
     },
     "metadata": {},
     "output_type": "display_data"
    }
   ],
   "execution_count": 39
  },
  {
   "metadata": {
    "ExecuteTime": {
     "end_time": "2024-08-16T16:36:52.060662Z",
     "start_time": "2024-08-16T16:36:51.364155Z"
    }
   },
   "cell_type": "code",
   "source": [
    "# Now, we will try with the threeHierarchicalESN with the optimal hyperparameters found in the previous notebook along with the spectrogram_data preprocessing method\n",
    "\n",
    "# The optimal hyperparameters were:\n",
    "# Best Neurons 1: 350, Best Neurons 2: 33, Best Neurons 3: 117\n",
    "# Best Density 1: 0.8098222387059135, Best Density 2: 0.750474862642194, Best Density 3: 0.7438124394609645\n",
    "# Best Leakage Rate 1: 0.9721196221438391, Best Leakage Rate 2: 0.5610244981317168, Best Leakage Rate 3: 0.6674647243532564\n",
    "# Best Spectral Radius 1: 0.9048794207552125, Best Spectral Radius 2: 0.0532568977054132, Best Spectral Radius 3: 0.13303480091978592\n",
    "# Best Gamma 1: 0.8008014185674769, Best Gamma 2: 0.1906404433300536, Best Gamma 3: 0.4754788170338825\n",
    "# Best Weight Distribution 1: uniform, Best Weight Distribution 2: uniform, Best Weight Distribution 3: 0/1\n",
    "# Best Sparsity 1: 0.302371243155928, Best Sparsity 2: 0.23013225478870247, Best Sparsity 3: 0.8292750282111857\n",
    "\n",
    "threeh_n_neurons_1 = 350\n",
    "threeh_density_1 = 0.8098222387059135\n",
    "threeh_leakage_1 = 0.9721196221438391\n",
    "threeh_spectral_radius_1 = 0.9048794207552125\n",
    "threeh_gamma_1 = 0.8008014185674769\n",
    "threeh_sparsity_1 = 0.302371243155928\n",
    "threeh_input_weight_type_1 = 'uniform'\n",
    "\n",
    "threeh_n_neurons_2 = 33\n",
    "threeh_density_2 = 0.750474862642194\n",
    "threeh_leakage_2 = 0.5610244981317168\n",
    "threeh_spectral_radius_2 = 0.0532568977054132\n",
    "threeh_gamma_2 = 0.1906404433300536\n",
    "threeh_sparsity_2 = 0.23013225478870247\n",
    "threeh_input_weight_type_2 = 'uniform'\n",
    "\n",
    "threeh_n_neurons_3 = 117\n",
    "threeh_density_3 = 0.7438124394609645\n",
    "threeh_leakage_3 = 0.6674647243532564\n",
    "threeh_spectral_radius_3 = 0.13303480091978592\n",
    "threeh_gamma_3 = 0.4754788170338825\n",
    "threeh_sparsity_3 = 0.8292750282111857\n",
    "threeh_input_weight_type_3 = 'uniform'"
   ],
   "id": "a39a02fc50fe6fd6",
   "outputs": [],
   "execution_count": 20
  },
  {
   "metadata": {
    "ExecuteTime": {
     "end_time": "2024-08-16T16:36:52.759201Z",
     "start_time": "2024-08-16T16:36:52.093415Z"
    }
   },
   "cell_type": "code",
   "source": "run_three_hierarchical_optimal = True",
   "id": "d5099ca6c67cc457",
   "outputs": [],
   "execution_count": 21
  },
  {
   "metadata": {
    "ExecuteTime": {
     "end_time": "2024-08-16T16:43:49.584724Z",
     "start_time": "2024-08-16T16:36:52.791828Z"
    }
   },
   "cell_type": "code",
   "source": [
    "\n",
    "if run_three_hierarchical_optimal:\n",
    "    n_ffts = [32, 64, 128]\n",
    "    strides = [16, 32, 64, 128]\n",
    "\n",
    "    three_hierarchical_optimal_scores = []\n",
    "\n",
    "    for n_fft in n_ffts:\n",
    "        for stride in strides:\n",
    "            if stride > n_fft:\n",
    "                continue\n",
    "\n",
    "            x_train_spec, y_train_spec = data_preprocessor.spectrogram_data(X_train, y_train,\n",
    "                                                                            n_fft=n_fft, stride=stride,\n",
    "                                                                            encode_labels=True,\n",
    "                                                                            label_encoder=data_preparation.get_encoder())\n",
    "            x_val_spec, y_val_spec = data_preprocessor.spectrogram_data(X_val, y_val, n_fft=n_fft,\n",
    "                                                                        stride=stride,\n",
    "                                                                        encode_labels=True,\n",
    "                                                                        label_encoder=data_preparation.get_encoder())\n",
    "            x_test_spec, y_test_spec = data_preprocessor.spectrogram_data(X_test, y_test, n_fft=n_fft,\n",
    "                                                                          stride=stride,\n",
    "                                                                          encode_labels=True,\n",
    "                                                                          label_encoder=data_preparation.get_encoder())\n",
    "\n",
    "            # Generate input weights has parameters n_neurons, n_features, density, input_weight_type\n",
    "            input_weights_1 = generate_input_weights(threeh_n_neurons_1, x_train_spec.shape[1], threeh_density_1,\n",
    "                                                     threeh_input_weight_type_1, seed=42)\n",
    "            input_weights_2 = generate_input_weights(threeh_n_neurons_2, x_train_spec.shape[1], threeh_density_2,\n",
    "                                                     threeh_input_weight_type_2, seed=42)\n",
    "            input_weights_3 = generate_input_weights(threeh_n_neurons_3, x_train_spec.shape[1], threeh_density_3,\n",
    "                                                     threeh_input_weight_type_3, seed=42)\n",
    "\n",
    "            three_hierarchical_esn = ThreeHierarchyESN(n_neurons_1=threeh_n_neurons_1, n_neurons_2=threeh_n_neurons_2,\n",
    "                                                       n_neurons_3=threeh_n_neurons_3,\n",
    "                                                       leakage_rate_1=threeh_leakage_1, leakage_rate_2=threeh_leakage_2,\n",
    "                                                       leakage_rate_3=threeh_leakage_3,\n",
    "                                                       spectral_radius_1=threeh_spectral_radius_1,\n",
    "                                                       spectral_radius_2=threeh_spectral_radius_2,\n",
    "                                                       spectral_radius_3=threeh_spectral_radius_3,\n",
    "                                                       gamma_1=threeh_gamma_1, gamma_2=threeh_gamma_2,\n",
    "                                                       gamma_3=threeh_gamma_3,\n",
    "                                                       sparsity_1=threeh_sparsity_1, sparsity_2=threeh_sparsity_2,\n",
    "                                                       sparsity_3=threeh_sparsity_3,\n",
    "                                                       W_in_1=input_weights_1, W_in_2=input_weights_2,\n",
    "                                                       W_in_3=input_weights_3,\n",
    "                                                       class_weights=class_weights, seed=42)\n",
    "\n",
    "            three_hierarchical_esn.fit(x_train_spec, y_train_spec, x_val=x_val_spec, y_val=y_val_spec)\n",
    "\n",
    "            y_pred = three_hierarchical_esn.forward(x_test_spec)\n",
    "\n",
    "            # Before we can score the model, we need to decode the one-hot encoded labels\n",
    "            # As we are using the spectrogram_data method, we need to convert the time frames back to samples\n",
    "            y_pred_samples = data_preprocessor.spectrogram_predictions_to_samples(y_pred, y_test_encoded.shape[0],\n",
    "                                                                                  n_fft, stride)\n",
    "\n",
    "            y_pred_decoded = data_preparation.get_encoder().inverse_transform(y_pred_samples)\n",
    "            y_test_decoded = data_preparation.get_encoder().inverse_transform(y_test_encoded)\n",
    "\n",
    "            # Calculate the NMRSE score\n",
    "            nrmse = np.sqrt(mean_squared_error(y_test_decoded, y_pred_decoded)) / (\n",
    "                    y_test_decoded.max() - y_test_decoded.min())\n",
    "\n",
    "            three_hierarchical_optimal_scores.append({'n_fft': n_fft, 'stride': stride, 'nmrse': nrmse})\n",
    "\n",
    "            print(f\"n_fft: {n_fft}, stride: {stride}, NMRSE: {nrmse}\")\n",
    "\n",
    "else:\n",
    "    three_hierarchical_optimal_scores = []"
   ],
   "id": "82df713d33c676bb",
   "outputs": [
    {
     "name": "stdout",
     "output_type": "stream",
     "text": [
      "Spectrogram data shape: (84853, 102), (84853, 7)\n",
      "Spectrogram data shape: (21213, 102), (21213, 7)\n",
      "Spectrogram data shape: (35160, 102), (35160, 7)\n",
      "[]\n",
      "Is CUDA available: True\n",
      "HierarchyESN initialised with leakage_rate_1: 0.9721196221438391, spectral_radius_1: 0.9048794207552125, gamma_1: 0.8008014185674769, n_neurons_1: 350, leakage_rate_2: 0.5610244981317168, spectral_radius_2: 0.0532568977054132, gamma_2: 0.1906404433300536, n_neurons_2: 33 and leakage_rate_3: 0.6674647243532564, spectral_radius_3: 0.13303480091978592, gamma_3: 0.4754788170338825, n_neurons_3: 117\n",
      "Step: 0/84853\n",
      "Step: 10000/84853\n",
      "Step: 20000/84853\n",
      "Step: 30000/84853\n",
      "Step: 40000/84853\n",
      "Step: 50000/84853\n",
      "Step: 60000/84853\n",
      "Step: 70000/84853\n",
      "Step: 4853/84853\n",
      "Shape of previous_states: (84853, 500)\n",
      "Reservoir state computed, fitting readout layer...\n",
      "Validation data provided, fitting readout layer with validation data...\n",
      "Step: 0/21213\n",
      "Step: 10000/21213\n",
      "Step: 1213/21213\n",
      "Shape of previous_states: (21213, 500)\n",
      "Alpha: 1e-05, Score: 0.23896842579790661\n",
      "Alpha: 7.742636826811278e-05, Score: 0.24019991255602532\n",
      "Alpha: 0.0005994842503189409, Score: 0.2413785022449242\n",
      "Alpha: 0.004641588833612777, Score: 0.24399484293057977\n",
      "Alpha: 0.03593813663804626, Score: 0.25176148731158626\n"
     ]
    },
    {
     "name": "stderr",
     "output_type": "stream",
     "text": [
      "C:\\Users\\mail\\anaconda3\\envs\\training\\lib\\site-packages\\sklearn\\linear_model\\_ridge.py:200: LinAlgWarning: Ill-conditioned matrix (rcond=5.26872e-09): result may not be accurate.\n",
      "  return linalg.solve(A, Xy, assume_a=\"pos\", overwrite_a=True).T\n"
     ]
    },
    {
     "name": "stdout",
     "output_type": "stream",
     "text": [
      "Alpha: 0.2782559402207126, Score: 0.26649395133629344\n"
     ]
    },
    {
     "name": "stderr",
     "output_type": "stream",
     "text": [
      "C:\\Users\\mail\\anaconda3\\envs\\training\\lib\\site-packages\\sklearn\\linear_model\\_ridge.py:200: LinAlgWarning: Ill-conditioned matrix (rcond=4.02197e-08): result may not be accurate.\n",
      "  return linalg.solve(A, Xy, assume_a=\"pos\", overwrite_a=True).T\n"
     ]
    },
    {
     "name": "stdout",
     "output_type": "stream",
     "text": [
      "Alpha: 2.154434690031882, Score: 0.27915924207069526\n",
      "Alpha: 16.681005372000556, Score: 0.2911048820319944\n",
      "Alpha: 129.15496650148827, Score: 0.3075651037829155\n",
      "Alpha: 1000.0, Score: 0.30987076961868176\n",
      "Best alpha: 1000.0\n",
      "Readout layer fitted.\n",
      "Step: 0/35160\n",
      "Step: 10000/35160\n",
      "Step: 20000/35160\n",
      "Step: 5160/35160\n",
      "Shape of previous_states: (35160, 500)\n",
      "Cumulative samples shape: (562547, 7)\n",
      "n_fft: 32, stride: 16, NMRSE: 0.2545069717583786\n",
      "Spectrogram data shape: (42427, 102), (42427, 7)\n",
      "Spectrogram data shape: (10607, 102), (10607, 7)\n",
      "Spectrogram data shape: (17580, 102), (17580, 7)\n",
      "[]\n",
      "Is CUDA available: True\n",
      "HierarchyESN initialised with leakage_rate_1: 0.9721196221438391, spectral_radius_1: 0.9048794207552125, gamma_1: 0.8008014185674769, n_neurons_1: 350, leakage_rate_2: 0.5610244981317168, spectral_radius_2: 0.0532568977054132, gamma_2: 0.1906404433300536, n_neurons_2: 33 and leakage_rate_3: 0.6674647243532564, spectral_radius_3: 0.13303480091978592, gamma_3: 0.4754788170338825, n_neurons_3: 117\n",
      "Step: 0/42427\n",
      "Step: 10000/42427\n",
      "Step: 20000/42427\n",
      "Step: 30000/42427\n",
      "Step: 2427/42427\n",
      "Shape of previous_states: (42427, 500)\n",
      "Reservoir state computed, fitting readout layer...\n",
      "Validation data provided, fitting readout layer with validation data...\n",
      "Step: 0/10607\n",
      "Step: 607/10607\n",
      "Shape of previous_states: (10607, 500)\n",
      "Alpha: 1e-05, Score: 0.06539224442939189\n",
      "Alpha: 7.742636826811278e-05, Score: 0.09677021125402989\n",
      "Alpha: 0.0005994842503189409, Score: 0.140830309118921\n",
      "Alpha: 0.004641588833612777, Score: 0.17525501239713664\n",
      "Alpha: 0.03593813663804626, Score: 0.2004332439548901\n"
     ]
    },
    {
     "name": "stderr",
     "output_type": "stream",
     "text": [
      "C:\\Users\\mail\\anaconda3\\envs\\training\\lib\\site-packages\\sklearn\\linear_model\\_ridge.py:200: LinAlgWarning: Ill-conditioned matrix (rcond=1.53477e-09): result may not be accurate.\n",
      "  return linalg.solve(A, Xy, assume_a=\"pos\", overwrite_a=True).T\n",
      "C:\\Users\\mail\\anaconda3\\envs\\training\\lib\\site-packages\\sklearn\\linear_model\\_ridge.py:200: LinAlgWarning: Ill-conditioned matrix (rcond=1.05393e-08): result may not be accurate.\n",
      "  return linalg.solve(A, Xy, assume_a=\"pos\", overwrite_a=True).T\n"
     ]
    },
    {
     "name": "stdout",
     "output_type": "stream",
     "text": [
      "Alpha: 0.2782559402207126, Score: 0.2332057802987665\n",
      "Alpha: 2.154434690031882, Score: 0.2557463221866804\n",
      "Alpha: 16.681005372000556, Score: 0.2757838494815821\n",
      "Alpha: 129.15496650148827, Score: 0.29446210186704336\n",
      "Alpha: 1000.0, Score: 0.290484188256131\n",
      "Best alpha: 129.15496650148827\n",
      "Readout layer fitted.\n",
      "Step: 0/17580\n",
      "Step: 7580/17580\n",
      "Shape of previous_states: (17580, 500)\n",
      "Cumulative samples shape: (562547, 7)\n",
      "n_fft: 32, stride: 32, NMRSE: 0.2726410886145234\n",
      "Spectrogram data shape: (84853, 198), (84853, 7)\n",
      "Spectrogram data shape: (21213, 198), (21213, 7)\n",
      "Spectrogram data shape: (35160, 198), (35160, 7)\n",
      "[]\n",
      "Is CUDA available: True\n",
      "HierarchyESN initialised with leakage_rate_1: 0.9721196221438391, spectral_radius_1: 0.9048794207552125, gamma_1: 0.8008014185674769, n_neurons_1: 350, leakage_rate_2: 0.5610244981317168, spectral_radius_2: 0.0532568977054132, gamma_2: 0.1906404433300536, n_neurons_2: 33 and leakage_rate_3: 0.6674647243532564, spectral_radius_3: 0.13303480091978592, gamma_3: 0.4754788170338825, n_neurons_3: 117\n",
      "Step: 0/84853\n",
      "Step: 10000/84853\n",
      "Step: 20000/84853\n",
      "Step: 30000/84853\n",
      "Step: 40000/84853\n",
      "Step: 50000/84853\n",
      "Step: 60000/84853\n",
      "Step: 70000/84853\n",
      "Step: 4853/84853\n",
      "Shape of previous_states: (84853, 500)\n",
      "Reservoir state computed, fitting readout layer...\n",
      "Validation data provided, fitting readout layer with validation data...\n",
      "Step: 0/21213\n",
      "Step: 10000/21213\n",
      "Step: 1213/21213\n",
      "Shape of previous_states: (21213, 500)\n",
      "Alpha: 1e-05, Score: 0.2383794735169291\n",
      "Alpha: 7.742636826811278e-05, Score: 0.23891348973794324\n",
      "Alpha: 0.0005994842503189409, Score: 0.23936906146179096\n",
      "Alpha: 0.004641588833612777, Score: 0.24130976800899226\n",
      "Alpha: 0.03593813663804626, Score: 0.2492797310681583\n"
     ]
    },
    {
     "name": "stderr",
     "output_type": "stream",
     "text": [
      "C:\\Users\\mail\\anaconda3\\envs\\training\\lib\\site-packages\\sklearn\\linear_model\\_ridge.py:200: LinAlgWarning: Ill-conditioned matrix (rcond=3.80702e-09): result may not be accurate.\n",
      "  return linalg.solve(A, Xy, assume_a=\"pos\", overwrite_a=True).T\n"
     ]
    },
    {
     "name": "stdout",
     "output_type": "stream",
     "text": [
      "Alpha: 0.2782559402207126, Score: 0.25851041626475\n"
     ]
    },
    {
     "name": "stderr",
     "output_type": "stream",
     "text": [
      "C:\\Users\\mail\\anaconda3\\envs\\training\\lib\\site-packages\\sklearn\\linear_model\\_ridge.py:200: LinAlgWarning: Ill-conditioned matrix (rcond=3.84221e-08): result may not be accurate.\n",
      "  return linalg.solve(A, Xy, assume_a=\"pos\", overwrite_a=True).T\n"
     ]
    },
    {
     "name": "stdout",
     "output_type": "stream",
     "text": [
      "Alpha: 2.154434690031882, Score: 0.26341211420338445\n",
      "Alpha: 16.681005372000556, Score: 0.2700587990103359\n",
      "Alpha: 129.15496650148827, Score: 0.2769678326844876\n",
      "Alpha: 1000.0, Score: 0.2781635538435649\n",
      "Best alpha: 1000.0\n",
      "Readout layer fitted.\n",
      "Step: 0/35160\n",
      "Step: 10000/35160\n",
      "Step: 20000/35160\n",
      "Step: 5160/35160\n",
      "Shape of previous_states: (35160, 500)\n",
      "Cumulative samples shape: (562547, 7)\n",
      "n_fft: 64, stride: 16, NMRSE: 0.2657438019225852\n",
      "Spectrogram data shape: (42427, 198), (42427, 7)\n",
      "Spectrogram data shape: (10607, 198), (10607, 7)\n",
      "Spectrogram data shape: (17580, 198), (17580, 7)\n",
      "[]\n",
      "Is CUDA available: True\n",
      "HierarchyESN initialised with leakage_rate_1: 0.9721196221438391, spectral_radius_1: 0.9048794207552125, gamma_1: 0.8008014185674769, n_neurons_1: 350, leakage_rate_2: 0.5610244981317168, spectral_radius_2: 0.0532568977054132, gamma_2: 0.1906404433300536, n_neurons_2: 33 and leakage_rate_3: 0.6674647243532564, spectral_radius_3: 0.13303480091978592, gamma_3: 0.4754788170338825, n_neurons_3: 117\n",
      "Step: 0/42427\n",
      "Step: 10000/42427\n",
      "Step: 20000/42427\n",
      "Step: 30000/42427\n",
      "Step: 2427/42427\n",
      "Shape of previous_states: (42427, 500)\n",
      "Reservoir state computed, fitting readout layer...\n",
      "Validation data provided, fitting readout layer with validation data...\n",
      "Step: 0/10607\n",
      "Step: 607/10607\n",
      "Shape of previous_states: (10607, 500)\n",
      "Alpha: 1e-05, Score: 0.20594054565537506\n",
      "Alpha: 7.742636826811278e-05, Score: 0.20753463254148316\n",
      "Alpha: 0.0005994842503189409, Score: 0.2128669078424573\n",
      "Alpha: 0.004641588833612777, Score: 0.2205183141604794\n",
      "Alpha: 0.03593813663804626, Score: 0.22853836148473022\n"
     ]
    },
    {
     "name": "stderr",
     "output_type": "stream",
     "text": [
      "C:\\Users\\mail\\anaconda3\\envs\\training\\lib\\site-packages\\sklearn\\linear_model\\_ridge.py:200: LinAlgWarning: Ill-conditioned matrix (rcond=6.65921e-10): result may not be accurate.\n",
      "  return linalg.solve(A, Xy, assume_a=\"pos\", overwrite_a=True).T\n",
      "C:\\Users\\mail\\anaconda3\\envs\\training\\lib\\site-packages\\sklearn\\linear_model\\_ridge.py:200: LinAlgWarning: Ill-conditioned matrix (rcond=8.29376e-09): result may not be accurate.\n",
      "  return linalg.solve(A, Xy, assume_a=\"pos\", overwrite_a=True).T\n"
     ]
    },
    {
     "name": "stdout",
     "output_type": "stream",
     "text": [
      "Alpha: 0.2782559402207126, Score: 0.236518592700287\n",
      "Alpha: 2.154434690031882, Score: 0.24361012032528406\n",
      "Alpha: 16.681005372000556, Score: 0.2550504560826788\n",
      "Alpha: 129.15496650148827, Score: 0.26510781885630175\n",
      "Alpha: 1000.0, Score: 0.26229014639562837\n",
      "Best alpha: 129.15496650148827\n",
      "Readout layer fitted.\n",
      "Step: 0/17580\n",
      "Step: 7580/17580\n",
      "Shape of previous_states: (17580, 500)\n",
      "Cumulative samples shape: (562547, 7)\n",
      "n_fft: 64, stride: 32, NMRSE: 0.27644257811793754\n",
      "Spectrogram data shape: (21214, 198), (21214, 7)\n",
      "Spectrogram data shape: (5304, 198), (5304, 7)\n",
      "Spectrogram data shape: (8790, 198), (8790, 7)\n",
      "[]\n",
      "Is CUDA available: True\n",
      "HierarchyESN initialised with leakage_rate_1: 0.9721196221438391, spectral_radius_1: 0.9048794207552125, gamma_1: 0.8008014185674769, n_neurons_1: 350, leakage_rate_2: 0.5610244981317168, spectral_radius_2: 0.0532568977054132, gamma_2: 0.1906404433300536, n_neurons_2: 33 and leakage_rate_3: 0.6674647243532564, spectral_radius_3: 0.13303480091978592, gamma_3: 0.4754788170338825, n_neurons_3: 117\n",
      "Step: 0/21214\n",
      "Step: 10000/21214\n",
      "Step: 1214/21214\n",
      "Shape of previous_states: (21214, 500)\n",
      "Reservoir state computed, fitting readout layer...\n",
      "Validation data provided, fitting readout layer with validation data...\n",
      "Step: 5304/5304\n",
      "Shape of previous_states: (5304, 500)\n",
      "Alpha: 1e-05, Score: 0.03430693763007765\n",
      "Alpha: 7.742636826811278e-05, Score: 0.03188666253568257\n",
      "Alpha: 0.0005994842503189409, Score: 0.0740761928463206\n",
      "Alpha: 0.004641588833612777, Score: 0.13053486551341278\n",
      "Alpha: 0.03593813663804626, Score: 0.16650153752121843\n",
      "Alpha: 0.2782559402207126, Score: 0.1927463976031293\n",
      "Alpha: 2.154434690031882, Score: 0.21938400618863135\n"
     ]
    },
    {
     "name": "stderr",
     "output_type": "stream",
     "text": [
      "C:\\Users\\mail\\anaconda3\\envs\\training\\lib\\site-packages\\sklearn\\linear_model\\_ridge.py:200: LinAlgWarning: Ill-conditioned matrix (rcond=2.43868e-09): result may not be accurate.\n",
      "  return linalg.solve(A, Xy, assume_a=\"pos\", overwrite_a=True).T\n",
      "C:\\Users\\mail\\anaconda3\\envs\\training\\lib\\site-packages\\sklearn\\linear_model\\_ridge.py:200: LinAlgWarning: Ill-conditioned matrix (rcond=2.53034e-08): result may not be accurate.\n",
      "  return linalg.solve(A, Xy, assume_a=\"pos\", overwrite_a=True).T\n"
     ]
    },
    {
     "name": "stdout",
     "output_type": "stream",
     "text": [
      "Alpha: 16.681005372000556, Score: 0.2438387375476321\n",
      "Alpha: 129.15496650148827, Score: 0.25108561080142505\n",
      "Alpha: 1000.0, Score: 0.23770259527348417\n",
      "Best alpha: 129.15496650148827\n",
      "Readout layer fitted.\n",
      "Step: 8790/8790\n",
      "Shape of previous_states: (8790, 500)\n",
      "Cumulative samples shape: (562547, 7)\n",
      "n_fft: 64, stride: 64, NMRSE: 0.29611911912856154\n",
      "Spectrogram data shape: (84853, 390), (84853, 7)\n",
      "Spectrogram data shape: (21213, 390), (21213, 7)\n",
      "Spectrogram data shape: (35160, 390), (35160, 7)\n",
      "[]\n",
      "Is CUDA available: True\n",
      "HierarchyESN initialised with leakage_rate_1: 0.9721196221438391, spectral_radius_1: 0.9048794207552125, gamma_1: 0.8008014185674769, n_neurons_1: 350, leakage_rate_2: 0.5610244981317168, spectral_radius_2: 0.0532568977054132, gamma_2: 0.1906404433300536, n_neurons_2: 33 and leakage_rate_3: 0.6674647243532564, spectral_radius_3: 0.13303480091978592, gamma_3: 0.4754788170338825, n_neurons_3: 117\n",
      "Step: 0/84853\n",
      "Step: 10000/84853\n",
      "Step: 20000/84853\n",
      "Step: 30000/84853\n",
      "Step: 40000/84853\n",
      "Step: 50000/84853\n",
      "Step: 60000/84853\n",
      "Step: 70000/84853\n",
      "Step: 4853/84853\n",
      "Shape of previous_states: (84853, 500)\n",
      "Reservoir state computed, fitting readout layer...\n",
      "Validation data provided, fitting readout layer with validation data...\n",
      "Step: 0/21213\n",
      "Step: 10000/21213\n",
      "Step: 1213/21213\n",
      "Shape of previous_states: (21213, 500)\n",
      "Alpha: 1e-05, Score: 0.206909330182629\n",
      "Alpha: 7.742636826811278e-05, Score: 0.20688504700820007\n",
      "Alpha: 0.0005994842503189409, Score: 0.2067566760820669\n",
      "Alpha: 0.004641588833612777, Score: 0.20661933089027157\n",
      "Alpha: 0.03593813663804626, Score: 0.20772182066850928\n"
     ]
    },
    {
     "name": "stderr",
     "output_type": "stream",
     "text": [
      "C:\\Users\\mail\\anaconda3\\envs\\training\\lib\\site-packages\\sklearn\\linear_model\\_ridge.py:200: LinAlgWarning: Ill-conditioned matrix (rcond=5.33529e-09): result may not be accurate.\n",
      "  return linalg.solve(A, Xy, assume_a=\"pos\", overwrite_a=True).T\n"
     ]
    },
    {
     "name": "stdout",
     "output_type": "stream",
     "text": [
      "Alpha: 0.2782559402207126, Score: 0.21050264124370113\n"
     ]
    },
    {
     "name": "stderr",
     "output_type": "stream",
     "text": [
      "C:\\Users\\mail\\anaconda3\\envs\\training\\lib\\site-packages\\sklearn\\linear_model\\_ridge.py:200: LinAlgWarning: Ill-conditioned matrix (rcond=4.04938e-08): result may not be accurate.\n",
      "  return linalg.solve(A, Xy, assume_a=\"pos\", overwrite_a=True).T\n"
     ]
    },
    {
     "name": "stdout",
     "output_type": "stream",
     "text": [
      "Alpha: 2.154434690031882, Score: 0.21434184526777722\n",
      "Alpha: 16.681005372000556, Score: 0.2188852686650443\n",
      "Alpha: 129.15496650148827, Score: 0.22572487049056456\n",
      "Alpha: 1000.0, Score: 0.2329435176240407\n",
      "Best alpha: 1000.0\n",
      "Readout layer fitted.\n",
      "Step: 0/35160\n",
      "Step: 10000/35160\n",
      "Step: 20000/35160\n",
      "Step: 5160/35160\n",
      "Shape of previous_states: (35160, 500)\n",
      "Cumulative samples shape: (562547, 7)\n",
      "n_fft: 128, stride: 16, NMRSE: 0.30035584265645404\n",
      "Spectrogram data shape: (42427, 390), (42427, 7)\n",
      "Spectrogram data shape: (10607, 390), (10607, 7)\n",
      "Spectrogram data shape: (17580, 390), (17580, 7)\n",
      "[]\n",
      "Is CUDA available: True\n",
      "HierarchyESN initialised with leakage_rate_1: 0.9721196221438391, spectral_radius_1: 0.9048794207552125, gamma_1: 0.8008014185674769, n_neurons_1: 350, leakage_rate_2: 0.5610244981317168, spectral_radius_2: 0.0532568977054132, gamma_2: 0.1906404433300536, n_neurons_2: 33 and leakage_rate_3: 0.6674647243532564, spectral_radius_3: 0.13303480091978592, gamma_3: 0.4754788170338825, n_neurons_3: 117\n",
      "Step: 0/42427\n",
      "Step: 10000/42427\n",
      "Step: 20000/42427\n",
      "Step: 30000/42427\n",
      "Step: 2427/42427\n",
      "Shape of previous_states: (42427, 500)\n",
      "Reservoir state computed, fitting readout layer...\n",
      "Validation data provided, fitting readout layer with validation data...\n",
      "Step: 0/10607\n",
      "Step: 607/10607\n",
      "Shape of previous_states: (10607, 500)\n",
      "Alpha: 1e-05, Score: 0.16598685875327912\n",
      "Alpha: 7.742636826811278e-05, Score: 0.16651375326858966\n",
      "Alpha: 0.0005994842503189409, Score: 0.16690208884900276\n",
      "Alpha: 0.004641588833612777, Score: 0.16910308307236585\n",
      "Alpha: 0.03593813663804626, Score: 0.17430429470577394\n"
     ]
    },
    {
     "name": "stderr",
     "output_type": "stream",
     "text": [
      "C:\\Users\\mail\\anaconda3\\envs\\training\\lib\\site-packages\\sklearn\\linear_model\\_ridge.py:200: LinAlgWarning: Ill-conditioned matrix (rcond=1.56429e-09): result may not be accurate.\n",
      "  return linalg.solve(A, Xy, assume_a=\"pos\", overwrite_a=True).T\n",
      "C:\\Users\\mail\\anaconda3\\envs\\training\\lib\\site-packages\\sklearn\\linear_model\\_ridge.py:200: LinAlgWarning: Ill-conditioned matrix (rcond=1.13942e-08): result may not be accurate.\n",
      "  return linalg.solve(A, Xy, assume_a=\"pos\", overwrite_a=True).T\n"
     ]
    },
    {
     "name": "stdout",
     "output_type": "stream",
     "text": [
      "Alpha: 0.2782559402207126, Score: 0.18509613231104405\n",
      "Alpha: 2.154434690031882, Score: 0.19413047249577486\n",
      "Alpha: 16.681005372000556, Score: 0.20335896128407333\n",
      "Alpha: 129.15496650148827, Score: 0.2169500559315181\n",
      "Alpha: 1000.0, Score: 0.22136384285334693\n",
      "Best alpha: 1000.0\n",
      "Readout layer fitted.\n",
      "Step: 0/17580\n",
      "Step: 7580/17580\n",
      "Shape of previous_states: (17580, 500)\n",
      "Cumulative samples shape: (562547, 7)\n",
      "n_fft: 128, stride: 32, NMRSE: 0.3129769813579676\n",
      "Spectrogram data shape: (21214, 390), (21214, 7)\n",
      "Spectrogram data shape: (5304, 390), (5304, 7)\n",
      "Spectrogram data shape: (8790, 390), (8790, 7)\n",
      "[]\n",
      "Is CUDA available: True\n",
      "HierarchyESN initialised with leakage_rate_1: 0.9721196221438391, spectral_radius_1: 0.9048794207552125, gamma_1: 0.8008014185674769, n_neurons_1: 350, leakage_rate_2: 0.5610244981317168, spectral_radius_2: 0.0532568977054132, gamma_2: 0.1906404433300536, n_neurons_2: 33 and leakage_rate_3: 0.6674647243532564, spectral_radius_3: 0.13303480091978592, gamma_3: 0.4754788170338825, n_neurons_3: 117\n",
      "Step: 0/21214\n",
      "Step: 10000/21214\n",
      "Step: 1214/21214\n",
      "Shape of previous_states: (21214, 500)\n",
      "Reservoir state computed, fitting readout layer...\n",
      "Validation data provided, fitting readout layer with validation data...\n",
      "Step: 5304/5304\n",
      "Shape of previous_states: (5304, 500)\n",
      "Alpha: 1e-05, Score: 0.10852929524489592\n",
      "Alpha: 7.742636826811278e-05, Score: 0.11519440277152604\n",
      "Alpha: 0.0005994842503189409, Score: 0.12727899185250696\n",
      "Alpha: 0.004641588833612777, Score: 0.14004420694030523\n",
      "Alpha: 0.03593813663804626, Score: 0.15299862667101718\n",
      "Alpha: 0.2782559402207126, Score: 0.16304229895975708\n"
     ]
    },
    {
     "name": "stderr",
     "output_type": "stream",
     "text": [
      "C:\\Users\\mail\\anaconda3\\envs\\training\\lib\\site-packages\\sklearn\\linear_model\\_ridge.py:200: LinAlgWarning: Ill-conditioned matrix (rcond=3.43268e-10): result may not be accurate.\n",
      "  return linalg.solve(A, Xy, assume_a=\"pos\", overwrite_a=True).T\n",
      "C:\\Users\\mail\\anaconda3\\envs\\training\\lib\\site-packages\\sklearn\\linear_model\\_ridge.py:200: LinAlgWarning: Ill-conditioned matrix (rcond=2.95737e-09): result may not be accurate.\n",
      "  return linalg.solve(A, Xy, assume_a=\"pos\", overwrite_a=True).T\n",
      "C:\\Users\\mail\\anaconda3\\envs\\training\\lib\\site-packages\\sklearn\\linear_model\\_ridge.py:200: LinAlgWarning: Ill-conditioned matrix (rcond=2.03907e-08): result may not be accurate.\n",
      "  return linalg.solve(A, Xy, assume_a=\"pos\", overwrite_a=True).T\n"
     ]
    },
    {
     "name": "stdout",
     "output_type": "stream",
     "text": [
      "Alpha: 2.154434690031882, Score: 0.17580975900245943\n",
      "Alpha: 16.681005372000556, Score: 0.19261816692180567\n",
      "Alpha: 129.15496650148827, Score: 0.2074285230607476\n",
      "Alpha: 1000.0, Score: 0.20098265856349742\n",
      "Best alpha: 129.15496650148827\n",
      "Readout layer fitted.\n",
      "Step: 8790/8790\n",
      "Shape of previous_states: (8790, 500)\n",
      "Cumulative samples shape: (562547, 7)\n",
      "n_fft: 128, stride: 64, NMRSE: 0.31921100773123817\n",
      "Spectrogram data shape: (10607, 390), (10607, 7)\n",
      "Spectrogram data shape: (2652, 390), (2652, 7)\n",
      "Spectrogram data shape: (4395, 390), (4395, 7)\n",
      "[]\n",
      "Is CUDA available: True\n",
      "HierarchyESN initialised with leakage_rate_1: 0.9721196221438391, spectral_radius_1: 0.9048794207552125, gamma_1: 0.8008014185674769, n_neurons_1: 350, leakage_rate_2: 0.5610244981317168, spectral_radius_2: 0.0532568977054132, gamma_2: 0.1906404433300536, n_neurons_2: 33 and leakage_rate_3: 0.6674647243532564, spectral_radius_3: 0.13303480091978592, gamma_3: 0.4754788170338825, n_neurons_3: 117\n",
      "Step: 0/10607\n",
      "Step: 607/10607\n",
      "Shape of previous_states: (10607, 500)\n",
      "Reservoir state computed, fitting readout layer...\n",
      "Validation data provided, fitting readout layer with validation data...\n",
      "Step: 2652/2652\n",
      "Shape of previous_states: (2652, 500)\n",
      "Alpha: 1e-05, Score: 0.0369038341865333\n",
      "Alpha: 7.742636826811278e-05, Score: 0.05160121901583029\n",
      "Alpha: 0.0005994842503189409, Score: 0.06980175873520324\n"
     ]
    },
    {
     "name": "stderr",
     "output_type": "stream",
     "text": [
      "C:\\Users\\mail\\anaconda3\\envs\\training\\lib\\site-packages\\sklearn\\linear_model\\_ridge.py:200: LinAlgWarning: Ill-conditioned matrix (rcond=1.20516e-10): result may not be accurate.\n",
      "  return linalg.solve(A, Xy, assume_a=\"pos\", overwrite_a=True).T\n",
      "C:\\Users\\mail\\anaconda3\\envs\\training\\lib\\site-packages\\sklearn\\linear_model\\_ridge.py:200: LinAlgWarning: Ill-conditioned matrix (rcond=6.26955e-09): result may not be accurate.\n",
      "  return linalg.solve(A, Xy, assume_a=\"pos\", overwrite_a=True).T\n",
      "C:\\Users\\mail\\anaconda3\\envs\\training\\lib\\site-packages\\sklearn\\linear_model\\_ridge.py:200: LinAlgWarning: Ill-conditioned matrix (rcond=4.03995e-08): result may not be accurate.\n",
      "  return linalg.solve(A, Xy, assume_a=\"pos\", overwrite_a=True).T\n"
     ]
    },
    {
     "name": "stdout",
     "output_type": "stream",
     "text": [
      "Alpha: 0.004641588833612777, Score: 0.05026937344889033\n",
      "Alpha: 0.03593813663804626, Score: 0.11145147859048514\n",
      "Alpha: 0.2782559402207126, Score: 0.1439910264585113\n",
      "Alpha: 2.154434690031882, Score: 0.17720467899653183\n",
      "Alpha: 16.681005372000556, Score: 0.18691464764936017\n",
      "Alpha: 129.15496650148827, Score: 0.18467307219071047\n",
      "Alpha: 1000.0, Score: 0.16328699052411969\n",
      "Best alpha: 16.681005372000556\n",
      "Readout layer fitted.\n",
      "Step: 4395/4395\n",
      "Shape of previous_states: (4395, 500)\n",
      "Cumulative samples shape: (562547, 7)\n",
      "n_fft: 128, stride: 128, NMRSE: 0.3558309570434513\n"
     ]
    }
   ],
   "execution_count": 22
  },
  {
   "metadata": {
    "ExecuteTime": {
     "end_time": "2024-08-16T16:43:51.707183Z",
     "start_time": "2024-08-16T16:43:49.636898Z"
    }
   },
   "cell_type": "code",
   "source": "print(three_hierarchical_optimal_scores)",
   "id": "c6ed171e1021f4dc",
   "outputs": [
    {
     "name": "stdout",
     "output_type": "stream",
     "text": [
      "[{'n_fft': 32, 'stride': 16, 'nmrse': 0.2545069717583786}, {'n_fft': 32, 'stride': 32, 'nmrse': 0.2726410886145234}, {'n_fft': 64, 'stride': 16, 'nmrse': 0.2657438019225852}, {'n_fft': 64, 'stride': 32, 'nmrse': 0.27644257811793754}, {'n_fft': 64, 'stride': 64, 'nmrse': 0.29611911912856154}, {'n_fft': 128, 'stride': 16, 'nmrse': 0.30035584265645404}, {'n_fft': 128, 'stride': 32, 'nmrse': 0.3129769813579676}, {'n_fft': 128, 'stride': 64, 'nmrse': 0.31921100773123817}, {'n_fft': 128, 'stride': 128, 'nmrse': 0.3558309570434513}]\n"
     ]
    }
   ],
   "execution_count": 23
  },
  {
   "metadata": {
    "ExecuteTime": {
     "end_time": "2024-08-16T16:48:52.783821Z",
     "start_time": "2024-08-16T16:48:50.297483Z"
    }
   },
   "cell_type": "code",
   "source": [
    "three_hierarchical_optimal_results_list_reshaped = reshape_nfft_scores(three_hierarchical_optimal_scores)\n",
    "best_nfft_three_hierarchical, best_stride_three_hierarchical = get_best_and_plot(\n",
    "    three_hierarchical_optimal_results_list_reshaped)"
   ],
   "id": "4665912344c67a44",
   "outputs": [
    {
     "name": "stdout",
     "output_type": "stream",
     "text": [
      "Best n_fft: 32, Best stride: 32\n"
     ]
    },
    {
     "data": {
      "text/plain": [
       "<Figure size 1000x500 with 1 Axes>"
      ],
      "image/png": "[encoded data removed]"
     },
     "metadata": {},
     "output_type": "display_data"
    }
   ],
   "execution_count": 40
  },
  {
   "metadata": {
    "ExecuteTime": {
     "end_time": "2024-08-16T16:44:42.087032Z",
     "start_time": "2024-08-16T16:43:52.960249Z"
    }
   },
   "cell_type": "code",
   "source": [
    "# Now we can try the best of each model and evaluate them on the test set\n",
    "# We will use the best n_fft and stride values found for each model\n",
    "basicESN_pickle = 'basicESN_har70_spectrogram.pkl'\n",
    "\n",
    "# First, the basicESN\n",
    "x_train_spec, y_train_spec = data_preprocessor.spectrogram_data(X_train, y_train, n_fft=best_nfft_basic,\n",
    "                                                                stride=best_stride_basic,\n",
    "                                                                encode_labels=True,\n",
    "                                                                label_encoder=data_preparation.get_encoder())\n",
    "x_val_spec, y_val_spec = data_preprocessor.spectrogram_data(X_val, y_val, n_fft=best_nfft_basic,\n",
    "                                                            stride=best_stride_basic,\n",
    "                                                            encode_labels=True,\n",
    "                                                            label_encoder=data_preparation.get_encoder())\n",
    "x_test_spec, y_test_spec = data_preprocessor.spectrogram_data(X_test, y_test, n_fft=best_nfft_basic,\n",
    "                                                              stride=best_stride_basic,\n",
    "                                                              encode_labels=True,\n",
    "                                                              label_encoder=data_preparation.get_encoder())\n",
    "\n",
    "if run_basic_optimal or not os.path.exists(basicESN_pickle):\n",
    "\n",
    "    input_weights = generate_input_weights(basic_n_neurons, x_train_spec.shape[1], basic_density,\n",
    "                                           basic_input_weight_type, seed=42)\n",
    "\n",
    "    basic_esn = BasicESN(n_neurons=basic_n_neurons, leakage_rate=basic_leakage, spectral_radius=basic_spectral_radius,\n",
    "                         gamma=basic_gamma,\n",
    "                         sparsity=basic_sparsity, W_in=input_weights, class_weights=class_weights, seed=42)\n",
    "\n",
    "    basic_esn.fit(x_train_spec, y_train_spec, x_val=x_val_spec, y_val=y_val_spec)\n",
    "\n",
    "    with open(basicESN_pickle, 'wb') as f:\n",
    "        pickle.dump(basic_esn, f)\n",
    "\n",
    "else:\n",
    "    with open(basicESN_pickle, 'rb') as f:\n",
    "        basic_esn = pickle.load(f)\n",
    "\n",
    "y_pred = basic_esn.forward(x_test_spec)\n",
    "\n",
    "# Before we can score the model, we need to decode the one-hot encoded labels\n",
    "# As we are using the spectrogram_data method, we need to convert the time frames back to samples\n",
    "y_pred_samples = data_preprocessor.spectrogram_predictions_to_samples(y_pred, y_test_encoded.shape[0], best_nfft_basic,\n",
    "                                                                      best_stride_basic)\n",
    "\n",
    "y_pred_decoded = data_preparation.get_encoder().inverse_transform(y_pred_samples)\n",
    "y_test_decoded = data_preparation.get_encoder().inverse_transform(y_test_encoded)\n",
    "\n",
    "# Calculate the NMRSE score\n",
    "nrmse = np.sqrt(mean_squared_error(y_test_decoded, y_pred_decoded)) / (y_test_decoded.max() - y_test_decoded.min())\n",
    "\n",
    "print(f\"BasicESN NMRSE: {nrmse}\")"
   ],
   "id": "ff7267a0b06f3b4c",
   "outputs": [
    {
     "name": "stdout",
     "output_type": "stream",
     "text": [
      "Spectrogram data shape: (84853, 102), (84853, 7)\n",
      "Spectrogram data shape: (21213, 102), (21213, 7)\n",
      "Spectrogram data shape: (35160, 102), (35160, 7)\n",
      "[]\n",
      "Is CUDA available: True\n",
      "BasicESN initialised with leakage_rate: 0.8, spectral_radius: 0.999, gamma: 0.999, n_neurons: 500, sparsity: 0.8\n"
     ]
    },
    {
     "name": "stderr",
     "output_type": "stream",
     "text": [
      "100%|██████████| 84853/84853 [00:24<00:00, 3491.29it/s]\n"
     ]
    },
    {
     "name": "stdout",
     "output_type": "stream",
     "text": [
      "Shape of previous_states: (84853, 500)\n",
      "Reservoir state computed, fitting readout layer...\n",
      "Validation data provided, scoring readout layer based on validation data...\n"
     ]
    },
    {
     "name": "stderr",
     "output_type": "stream",
     "text": [
      "100%|██████████| 21213/21213 [00:06<00:00, 3437.91it/s]\n"
     ]
    },
    {
     "name": "stdout",
     "output_type": "stream",
     "text": [
      "Shape of previous_states: (21213, 500)\n",
      "Alpha: 1e-05, Score: 0.29211041179134056\n",
      "Alpha: 5.994842503189409e-05, Score: 0.30356072333379724\n"
     ]
    },
    {
     "name": "stderr",
     "output_type": "stream",
     "text": [
      "C:\\Users\\mail\\anaconda3\\envs\\training\\lib\\site-packages\\sklearn\\linear_model\\_ridge.py:200: LinAlgWarning: Ill-conditioned matrix (rcond=1.01321e-11): result may not be accurate.\n",
      "  return linalg.solve(A, Xy, assume_a=\"pos\", overwrite_a=True).T\n"
     ]
    },
    {
     "name": "stdout",
     "output_type": "stream",
     "text": [
      "Alpha: 0.00035938136638046257, Score: 0.30397176105650175\n"
     ]
    },
    {
     "name": "stderr",
     "output_type": "stream",
     "text": [
      "C:\\Users\\mail\\anaconda3\\envs\\training\\lib\\site-packages\\sklearn\\linear_model\\_ridge.py:200: LinAlgWarning: Ill-conditioned matrix (rcond=6.05598e-11): result may not be accurate.\n",
      "  return linalg.solve(A, Xy, assume_a=\"pos\", overwrite_a=True).T\n"
     ]
    },
    {
     "name": "stdout",
     "output_type": "stream",
     "text": [
      "Alpha: 0.0021544346900318843, Score: 0.3041269188382433\n"
     ]
    },
    {
     "name": "stderr",
     "output_type": "stream",
     "text": [
      "C:\\Users\\mail\\anaconda3\\envs\\training\\lib\\site-packages\\sklearn\\linear_model\\_ridge.py:200: LinAlgWarning: Ill-conditioned matrix (rcond=4.52783e-10): result may not be accurate.\n",
      "  return linalg.solve(A, Xy, assume_a=\"pos\", overwrite_a=True).T\n"
     ]
    },
    {
     "name": "stdout",
     "output_type": "stream",
     "text": [
      "Alpha: 0.01291549665014884, Score: 0.30453971847209677\n"
     ]
    },
    {
     "name": "stderr",
     "output_type": "stream",
     "text": [
      "C:\\Users\\mail\\anaconda3\\envs\\training\\lib\\site-packages\\sklearn\\linear_model\\_ridge.py:200: LinAlgWarning: Ill-conditioned matrix (rcond=2.26193e-09): result may not be accurate.\n",
      "  return linalg.solve(A, Xy, assume_a=\"pos\", overwrite_a=True).T\n"
     ]
    },
    {
     "name": "stdout",
     "output_type": "stream",
     "text": [
      "Alpha: 0.0774263682681127, Score: 0.3052610598745736\n"
     ]
    },
    {
     "name": "stderr",
     "output_type": "stream",
     "text": [
      "C:\\Users\\mail\\anaconda3\\envs\\training\\lib\\site-packages\\sklearn\\linear_model\\_ridge.py:200: LinAlgWarning: Ill-conditioned matrix (rcond=1.12645e-08): result may not be accurate.\n",
      "  return linalg.solve(A, Xy, assume_a=\"pos\", overwrite_a=True).T\n"
     ]
    },
    {
     "name": "stdout",
     "output_type": "stream",
     "text": [
      "Alpha: 0.4641588833612782, Score: 0.30667371566463186\n"
     ]
    },
    {
     "name": "stderr",
     "output_type": "stream",
     "text": [
      "C:\\Users\\mail\\anaconda3\\envs\\training\\lib\\site-packages\\sklearn\\linear_model\\_ridge.py:200: LinAlgWarning: Ill-conditioned matrix (rcond=5.61507e-08): result may not be accurate.\n",
      "  return linalg.solve(A, Xy, assume_a=\"pos\", overwrite_a=True).T\n"
     ]
    },
    {
     "name": "stdout",
     "output_type": "stream",
     "text": [
      "Alpha: 2.782559402207126, Score: 0.30913267980945197\n",
      "Alpha: 16.68100537200059, Score: 0.3131172323766384\n",
      "Alpha: 100.0, Score: 0.31809304511054975\n",
      "Best alpha: 100.0\n",
      "Readout layer fitted.\n"
     ]
    },
    {
     "name": "stderr",
     "output_type": "stream",
     "text": [
      "100%|██████████| 35160/35160 [00:09<00:00, 3530.84it/s]\n"
     ]
    },
    {
     "name": "stdout",
     "output_type": "stream",
     "text": [
      "Shape of previous_states: (35160, 500)\n",
      "Cumulative samples shape: (562547, 7)\n",
      "BasicESN NMRSE: 0.2280657272340775\n"
     ]
    }
   ],
   "execution_count": 25
  },
  {
   "metadata": {
    "ExecuteTime": {
     "end_time": "2024-08-16T16:44:43.316297Z",
     "start_time": "2024-08-16T16:44:42.120042Z"
    }
   },
   "cell_type": "code",
   "source": [
    "# Create a classification report\n",
    "from sklearn.metrics import classification_report\n",
    "\n",
    "print(classification_report(y_test_decoded, y_pred_decoded))"
   ],
   "id": "ddf567ee5948a205",
   "outputs": [
    {
     "name": "stdout",
     "output_type": "stream",
     "text": [
      "              precision    recall  f1-score   support\n",
      "\n",
      "           1       0.97      0.80      0.88    346581\n",
      "           3       0.10      0.45      0.16     19640\n",
      "           4       0.19      0.44      0.27      2708\n",
      "           5       0.01      0.84      0.02       370\n",
      "           6       0.84      0.59      0.69    141796\n",
      "           7       0.97      0.92      0.95     43204\n",
      "           8       0.98      1.00      0.99      8248\n",
      "\n",
      "    accuracy                           0.74    562547\n",
      "   macro avg       0.58      0.72      0.56    562547\n",
      "weighted avg       0.90      0.74      0.81    562547\n",
      "\n"
     ]
    }
   ],
   "execution_count": 26
  },
  {
   "metadata": {
    "ExecuteTime": {
     "end_time": "2024-08-16T16:44:44.612145Z",
     "start_time": "2024-08-16T16:44:43.350760Z"
    }
   },
   "cell_type": "code",
   "source": [
    "# Print the confusion matrix\n",
    "from sklearn.metrics import confusion_matrix\n",
    "import seaborn as sns\n",
    "\n",
    "labels = ['walking', 'shuffling', 'stairs (ascending)', 'stairs (descending)', 'standing', 'sitting', 'lying']\n",
    "\n",
    "conf_matrix = confusion_matrix(y_test_decoded, y_pred_decoded)\n",
    "\n",
    "plt.figure(figsize=(10, 10))\n",
    "sns.heatmap(conf_matrix, annot=True, fmt='d', xticklabels=labels, yticklabels=labels, cmap='Blues')\n",
    "plt.xlabel('Predicted')\n",
    "plt.ylabel('True')\n",
    "plt.title('Windowed Confusion Matrix')\n",
    "plt.show()"
   ],
   "id": "857f9c3f58b4b9a2",
   "outputs": [
    {
     "data": {
      "text/plain": [
       "<Figure size 1000x1000 with 2 Axes>"
      ],
      "image/png": "[encoded data removed]"
     },
     "metadata": {},
     "output_type": "display_data"
    }
   ],
   "execution_count": 27
  },
  {
   "metadata": {
    "ExecuteTime": {
     "end_time": "2024-08-16T16:44:46.670817Z",
     "start_time": "2024-08-16T16:44:44.645114Z"
    }
   },
   "cell_type": "code",
   "source": [
    "# Now a normalised confusion matrix\n",
    "conf_matrix_norm = conf_matrix / conf_matrix.sum(axis=1)[:, np.newaxis]\n",
    "\n",
    "plt.figure(figsize=(10, 10))\n",
    "sns.heatmap(conf_matrix_norm, annot=True, fmt='.2f', xticklabels=labels, yticklabels=labels, cmap='Blues')\n",
    "plt.xlabel('Predicted')\n",
    "plt.ylabel('True')\n",
    "plt.title('Normalised Windowed Confusion Matrix')\n",
    "plt.show()"
   ],
   "id": "7a664054a58239c2",
   "outputs": [
    {
     "data": {
      "text/plain": [
       "<Figure size 1000x1000 with 2 Axes>"
      ],
      "image/png": "[encoded data removed]"
     },
     "metadata": {},
     "output_type": "display_data"
    }
   ],
   "execution_count": 28
  },
  {
   "metadata": {
    "ExecuteTime": {
     "end_time": "2024-08-16T16:46:23.320455Z",
     "start_time": "2024-08-16T16:44:46.703776Z"
    }
   },
   "cell_type": "code",
   "source": [
    "# Next, the HierarchicalESN\n",
    "hierarchicalESN_pickle = 'hierarchyESN_har70_spectrogram.pkl'\n",
    "\n",
    "x_train_spec, y_train_spec = data_preprocessor.spectrogram_data(X_train, y_train, n_fft=best_nfft_hierarchical,\n",
    "                                                                stride=best_stride_hierarchical,\n",
    "                                                                encode_labels=True,\n",
    "                                                                label_encoder=data_preparation.get_encoder())\n",
    "x_val_spec, y_val_spec = data_preprocessor.spectrogram_data(X_val, y_val, n_fft=best_nfft_hierarchical,\n",
    "                                                            stride=best_stride_hierarchical,\n",
    "                                                            encode_labels=True,\n",
    "                                                            label_encoder=data_preparation.get_encoder())\n",
    "\n",
    "x_test_spec, y_test_spec = data_preprocessor.spectrogram_data(X_test, y_test, n_fft=best_nfft_hierarchical,\n",
    "                                                              stride=best_stride_hierarchical,\n",
    "                                                              encode_labels=True,\n",
    "                                                              label_encoder=data_preparation.get_encoder())\n",
    "\n",
    "if run_hierarchical_optimal or not os.path.exists(hierarchicalESN_pickle):\n",
    "\n",
    "    input_weights_1 = generate_input_weights(hierarchy_n_neurons_1, x_train_spec.shape[1], hierarchy_density_1,\n",
    "                                             hierarchy_input_weight_type_1, seed=42)\n",
    "    input_weights_2 = generate_input_weights(hierarchy_n_neurons_2, x_train_spec.shape[1], hierarchy_density_2,\n",
    "                                             hierarchy_input_weight_type_2, seed=42)\n",
    "\n",
    "    hierarchical_esn = HierarchyESN(n_neurons_1=hierarchy_n_neurons_1, n_neurons_2=hierarchy_n_neurons_2,\n",
    "                                    leakage_rate_1=hierarchy_leakage_1,\n",
    "                                    leakage_rate_2=hierarchy_leakage_2,\n",
    "                                    spectral_radius_1=hierarchy_spectral_radius_1,\n",
    "                                    spectral_radius_2=hierarchy_spectral_radius_2,\n",
    "                                    gamma_1=hierarchy_gamma_1, gamma_2=hierarchy_gamma_2,\n",
    "                                    sparsity_1=hierarchy_sparsity_1, sparsity_2=hierarchy_sparsity_2,\n",
    "                                    W_in_1=input_weights_1,\n",
    "                                    W_in_2=input_weights_2,\n",
    "                                    class_weights=class_weights, seed=42)\n",
    "\n",
    "    hierarchical_esn.fit(x_train_spec, y_train_spec, x_val=x_val_spec, y_val=y_val_spec)\n",
    "\n",
    "    with open(hierarchicalESN_pickle, 'wb') as f:\n",
    "        pickle.dump(hierarchical_esn, f)\n",
    "\n",
    "else:\n",
    "    with open(hierarchicalESN_pickle, 'rb') as f:\n",
    "        hierarchical_esn = pickle.load(f)\n",
    "\n",
    "y_pred = hierarchical_esn.forward(x_test_spec)\n",
    "\n",
    "# Before we can score the model, we need to decode the one-hot encoded labels\n",
    "# As we are using the spectrogram_data method, we need to convert the time frames back to samples\n",
    "y_pred_samples = data_preprocessor.spectrogram_predictions_to_samples(y_pred, y_test_encoded.shape[0],\n",
    "                                                                      best_nfft_hierarchical, best_stride_hierarchical)\n",
    "\n",
    "y_pred_decoded = data_preparation.get_encoder().inverse_transform(y_pred_samples)\n",
    "y_test_decoded = data_preparation.get_encoder().inverse_transform(y_test_encoded)\n",
    "\n",
    "# Calculate the NMRSE score\n",
    "nrmse = np.sqrt(mean_squared_error(y_test_decoded, y_pred_decoded)) / (y_test_decoded.max() - y_test_decoded.min())\n",
    "\n",
    "print(f\"HierarchicalESN NMRSE: {nrmse}\")"
   ],
   "id": "d474e610c6a0c7fe",
   "outputs": [
    {
     "name": "stdout",
     "output_type": "stream",
     "text": [
      "Spectrogram data shape: (84853, 102), (84853, 7)\n",
      "Spectrogram data shape: (21213, 102), (21213, 7)\n",
      "Spectrogram data shape: (35160, 102), (35160, 7)\n",
      "[]\n",
      "Is CUDA available: True\n",
      "HierarchyESN initialised with leakage_rate_1: 0.9318915931720418, spectral_radius_1: 0.9819903553570943, gamma_1: 0.9634809164294149, n_neurons_1: 400, leakage_rate_2: 0.35101073644620073, spectral_radius_2: 0.1404437385565157, gamma_2: 0.7797466776214464, n_neurons_2: 100\n"
     ]
    },
    {
     "name": "stderr",
     "output_type": "stream",
     "text": [
      "100%|██████████| 84853/84853 [00:52<00:00, 1619.67it/s]\n"
     ]
    },
    {
     "name": "stdout",
     "output_type": "stream",
     "text": [
      "Shape of previous_states: (84853, 500)\n",
      "Reservoir state computed, fitting readout layer...\n",
      "Validation data provided, fitting readout layer with validation data...\n"
     ]
    },
    {
     "name": "stderr",
     "output_type": "stream",
     "text": [
      "100%|██████████| 21213/21213 [00:13<00:00, 1618.63it/s]\n"
     ]
    },
    {
     "name": "stdout",
     "output_type": "stream",
     "text": [
      "Shape of previous_states: (21213, 500)\n",
      "Alpha: 1e-05, Score: 0.2698647472586209\n",
      "Alpha: 7.742636826811278e-05, Score: 0.2803303818445814\n",
      "Alpha: 0.0005994842503189409, Score: 0.2809652398056516\n",
      "Alpha: 0.004641588833612777, Score: 0.2818219240188292\n"
     ]
    },
    {
     "name": "stderr",
     "output_type": "stream",
     "text": [
      "C:\\Users\\mail\\anaconda3\\envs\\training\\lib\\site-packages\\sklearn\\linear_model\\_ridge.py:200: LinAlgWarning: Ill-conditioned matrix (rcond=3.9713e-10): result may not be accurate.\n",
      "  return linalg.solve(A, Xy, assume_a=\"pos\", overwrite_a=True).T\n"
     ]
    },
    {
     "name": "stdout",
     "output_type": "stream",
     "text": [
      "Alpha: 0.03593813663804626, Score: 0.2821846085337171\n"
     ]
    },
    {
     "name": "stderr",
     "output_type": "stream",
     "text": [
      "C:\\Users\\mail\\anaconda3\\envs\\training\\lib\\site-packages\\sklearn\\linear_model\\_ridge.py:200: LinAlgWarning: Ill-conditioned matrix (rcond=5.45678e-09): result may not be accurate.\n",
      "  return linalg.solve(A, Xy, assume_a=\"pos\", overwrite_a=True).T\n"
     ]
    },
    {
     "name": "stdout",
     "output_type": "stream",
     "text": [
      "Alpha: 0.2782559402207126, Score: 0.2862487785121873\n"
     ]
    },
    {
     "name": "stderr",
     "output_type": "stream",
     "text": [
      "C:\\Users\\mail\\anaconda3\\envs\\training\\lib\\site-packages\\sklearn\\linear_model\\_ridge.py:200: LinAlgWarning: Ill-conditioned matrix (rcond=4.78421e-08): result may not be accurate.\n",
      "  return linalg.solve(A, Xy, assume_a=\"pos\", overwrite_a=True).T\n"
     ]
    },
    {
     "name": "stdout",
     "output_type": "stream",
     "text": [
      "Alpha: 2.154434690031882, Score: 0.29134656781609436\n",
      "Alpha: 16.681005372000556, Score: 0.2992477072878458\n",
      "Alpha: 129.15496650148827, Score: 0.3108933019758712\n",
      "Alpha: 1000.0, Score: 0.3101160843211459\n",
      "Best alpha: 129.15496650148827\n",
      "Readout layer fitted.\n"
     ]
    },
    {
     "name": "stderr",
     "output_type": "stream",
     "text": [
      "100%|██████████| 35160/35160 [00:21<00:00, 1611.41it/s]\n"
     ]
    },
    {
     "name": "stdout",
     "output_type": "stream",
     "text": [
      "Shape of previous_states: (35160, 500)\n",
      "Cumulative samples shape: (562547, 7)\n",
      "HierarchicalESN NMRSE: 0.2530920784609683\n"
     ]
    }
   ],
   "execution_count": 29
  },
  {
   "metadata": {
    "ExecuteTime": {
     "end_time": "2024-08-16T16:46:25.618103Z",
     "start_time": "2024-08-16T16:46:23.353674Z"
    }
   },
   "cell_type": "code",
   "source": [
    "# Create a classification report\n",
    "print(classification_report(y_test_decoded, y_pred_decoded))"
   ],
   "id": "c988b9d3741ef5ed",
   "outputs": [
    {
     "name": "stdout",
     "output_type": "stream",
     "text": [
      "              precision    recall  f1-score   support\n",
      "\n",
      "           1       0.95      0.77      0.85    346581\n",
      "           3       0.10      0.56      0.17     19640\n",
      "           4       0.12      0.39      0.19      2708\n",
      "           5       0.01      0.87      0.01       370\n",
      "           6       0.86      0.37      0.52    141796\n",
      "           7       0.99      0.92      0.95     43204\n",
      "           8       1.00      1.00      1.00      8248\n",
      "\n",
      "    accuracy                           0.68    562547\n",
      "   macro avg       0.58      0.70      0.53    562547\n",
      "weighted avg       0.90      0.68      0.75    562547\n",
      "\n"
     ]
    }
   ],
   "execution_count": 30
  },
  {
   "metadata": {
    "ExecuteTime": {
     "end_time": "2024-08-16T16:46:26.929961Z",
     "start_time": "2024-08-16T16:46:25.695206Z"
    }
   },
   "cell_type": "code",
   "source": [
    "# Print the confusion matrix\n",
    "conf_matrix = confusion_matrix(y_test_decoded, y_pred_decoded)\n",
    "\n",
    "plt.figure(figsize=(10, 10))\n",
    "sns.heatmap(conf_matrix, annot=True, fmt='d', xticklabels=labels, yticklabels=labels, cmap='Blues')\n",
    "plt.xlabel('Predicted')\n",
    "plt.ylabel('True')\n",
    "plt.title('Windowed Confusion Matrix')\n",
    "plt.show()"
   ],
   "id": "421b03ce362637f9",
   "outputs": [
    {
     "data": {
      "text/plain": [
       "<Figure size 1000x1000 with 2 Axes>"
      ],
      "image/png": "[encoded data removed]"
     },
     "metadata": {},
     "output_type": "display_data"
    }
   ],
   "execution_count": 31
  },
  {
   "metadata": {
    "ExecuteTime": {
     "end_time": "2024-08-16T16:46:27.955235Z",
     "start_time": "2024-08-16T16:46:26.963490Z"
    }
   },
   "cell_type": "code",
   "source": [
    "# Now a normalised confusion matrix\n",
    "conf_matrix_norm = conf_matrix / conf_matrix.sum(axis=1)[:, np.newaxis]\n",
    "\n",
    "plt.figure(figsize=(10, 10))\n",
    "sns.heatmap(conf_matrix_norm, annot=True, fmt='.2f', xticklabels=labels, yticklabels=labels, cmap='Blues')\n",
    "plt.xlabel('Predicted')\n",
    "plt.ylabel('True')\n",
    "plt.title('Normalised Windowed Confusion Matrix')\n",
    "plt.show()"
   ],
   "id": "99093529f79c20f7",
   "outputs": [
    {
     "data": {
      "text/plain": [
       "<Figure size 1000x1000 with 2 Axes>"
      ],
      "image/png": "[encoded data removed]"
     },
     "metadata": {},
     "output_type": "display_data"
    }
   ],
   "execution_count": 32
  },
  {
   "metadata": {
    "ExecuteTime": {
     "end_time": "2024-08-16T16:47:31.215072Z",
     "start_time": "2024-08-16T16:46:27.987915Z"
    }
   },
   "cell_type": "code",
   "source": [
    "# Finally, the ThreeHierarchyESN\n",
    "threeHierarchyESN_pickle = 'threeHierarchyESN_har70_spectrogram.pkl'\n",
    "\n",
    "x_train_spec, y_train_spec = data_preprocessor.spectrogram_data(X_train, y_train, n_fft=best_nfft_three_hierarchical,\n",
    "                                                                stride=best_stride_three_hierarchical,\n",
    "                                                                encode_labels=True,\n",
    "                                                                label_encoder=data_preparation.get_encoder())\n",
    "\n",
    "x_val_spec, y_val_spec = data_preprocessor.spectrogram_data(X_val, y_val, n_fft=best_nfft_three_hierarchical,\n",
    "                                                            stride=best_stride_three_hierarchical,\n",
    "                                                            encode_labels=True,\n",
    "                                                            label_encoder=data_preparation.get_encoder())\n",
    "\n",
    "x_test_spec, y_test_spec = data_preprocessor.spectrogram_data(X_test, y_test, n_fft=best_nfft_three_hierarchical,\n",
    "                                                              stride=best_stride_three_hierarchical,\n",
    "                                                              encode_labels=True,\n",
    "                                                              label_encoder=data_preparation.get_encoder())\n",
    "\n",
    "if run_three_hierarchical_optimal or not os.path.exists(threeHierarchyESN_pickle):\n",
    "\n",
    "    input_weights_1 = generate_input_weights(threeh_n_neurons_1, x_train_spec.shape[1], threeh_density_1,\n",
    "                                             threeh_input_weight_type_1, seed=42)\n",
    "    input_weights_2 = generate_input_weights(threeh_n_neurons_2, x_train_spec.shape[1], threeh_density_2,\n",
    "                                             threeh_input_weight_type_2, seed=42)\n",
    "    input_weights_3 = generate_input_weights(threeh_n_neurons_3, x_train_spec.shape[1], threeh_density_3,\n",
    "                                             threeh_input_weight_type_3, seed=42)\n",
    "\n",
    "    three_hierarchical_esn = ThreeHierarchyESN(n_neurons_1=threeh_n_neurons_1, n_neurons_2=threeh_n_neurons_2,\n",
    "                                               n_neurons_3=threeh_n_neurons_3,\n",
    "                                               leakage_rate_1=threeh_leakage_1, leakage_rate_2=threeh_leakage_2,\n",
    "                                               leakage_rate_3=threeh_leakage_3,\n",
    "                                               spectral_radius_1=threeh_spectral_radius_1,\n",
    "                                               spectral_radius_2=threeh_spectral_radius_2,\n",
    "                                               spectral_radius_3=threeh_spectral_radius_3,\n",
    "                                               gamma_1=threeh_gamma_1, gamma_2=threeh_gamma_2, gamma_3=threeh_gamma_3,\n",
    "                                               sparsity_1=threeh_sparsity_1, sparsity_2=threeh_sparsity_2,\n",
    "                                               sparsity_3=threeh_sparsity_3,\n",
    "                                               W_in_1=input_weights_1, W_in_2=input_weights_2, W_in_3=input_weights_3,\n",
    "                                               class_weights=class_weights, seed=42)\n",
    "\n",
    "    three_hierarchical_esn.fit(x_train_spec, y_train_spec, x_val=x_val_spec, y_val=y_val_spec)\n",
    "\n",
    "    with open(threeHierarchyESN_pickle, 'wb') as f:\n",
    "        pickle.dump(three_hierarchical_esn, f)\n",
    "\n",
    "else:\n",
    "    with open(threeHierarchyESN_pickle, 'rb') as f:\n",
    "        three_hierarchical_esn = pickle.load(f)\n",
    "\n",
    "y_pred = three_hierarchical_esn.forward(x_test_spec)\n",
    "\n",
    "# Before we can score the model, we need to decode the one-hot encoded labels\n",
    "# As we are using the spectrogram_data method, we need to convert the time frames back to samples\n",
    "y_pred_samples = data_preprocessor.spectrogram_predictions_to_samples(y_pred, y_test_encoded.shape[0],\n",
    "                                                                      best_nfft_three_hierarchical,\n",
    "                                                                      best_stride_three_hierarchical)\n",
    "\n",
    "y_pred_decoded = data_preparation.get_encoder().inverse_transform(y_pred_samples)\n",
    "y_test_decoded = data_preparation.get_encoder().inverse_transform(y_test_encoded)\n",
    "\n",
    "# Calculate the NMRSE score\n",
    "nrmse = np.sqrt(mean_squared_error(y_test_decoded, y_pred_decoded)) / (y_test_decoded.max() - y_test_decoded.min())\n",
    "\n",
    "print(f\"ThreeHierarchyESN NMRSE: {nrmse}\")"
   ],
   "id": "5fe6f06952b6dd26",
   "outputs": [
    {
     "name": "stdout",
     "output_type": "stream",
     "text": [
      "Spectrogram data shape: (84853, 102), (84853, 7)\n",
      "Spectrogram data shape: (21213, 102), (21213, 7)\n",
      "Spectrogram data shape: (35160, 102), (35160, 7)\n",
      "[]\n",
      "Is CUDA available: True\n",
      "HierarchyESN initialised with leakage_rate_1: 0.9721196221438391, spectral_radius_1: 0.9048794207552125, gamma_1: 0.8008014185674769, n_neurons_1: 350, leakage_rate_2: 0.5610244981317168, spectral_radius_2: 0.0532568977054132, gamma_2: 0.1906404433300536, n_neurons_2: 33 and leakage_rate_3: 0.6674647243532564, spectral_radius_3: 0.13303480091978592, gamma_3: 0.4754788170338825, n_neurons_3: 117\n",
      "Step: 0/84853\n",
      "Step: 10000/84853\n",
      "Step: 20000/84853\n",
      "Step: 30000/84853\n",
      "Step: 40000/84853\n",
      "Step: 50000/84853\n",
      "Step: 60000/84853\n",
      "Step: 70000/84853\n",
      "Step: 4853/84853\n",
      "Shape of previous_states: (84853, 500)\n",
      "Reservoir state computed, fitting readout layer...\n",
      "Validation data provided, fitting readout layer with validation data...\n",
      "Step: 0/21213\n",
      "Step: 10000/21213\n",
      "Step: 1213/21213\n",
      "Shape of previous_states: (21213, 500)\n",
      "Alpha: 1e-05, Score: 0.23775160512917962\n",
      "Alpha: 7.742636826811278e-05, Score: 0.24015025750507676\n",
      "Alpha: 0.0005994842503189409, Score: 0.24137968753014555\n",
      "Alpha: 0.004641588833612777, Score: 0.2439954570794092\n",
      "Alpha: 0.03593813663804626, Score: 0.251761646582877\n"
     ]
    },
    {
     "name": "stderr",
     "output_type": "stream",
     "text": [
      "C:\\Users\\mail\\anaconda3\\envs\\training\\lib\\site-packages\\sklearn\\linear_model\\_ridge.py:200: LinAlgWarning: Ill-conditioned matrix (rcond=5.27814e-09): result may not be accurate.\n",
      "  return linalg.solve(A, Xy, assume_a=\"pos\", overwrite_a=True).T\n"
     ]
    },
    {
     "name": "stdout",
     "output_type": "stream",
     "text": [
      "Alpha: 0.2782559402207126, Score: 0.26657381727826746\n"
     ]
    },
    {
     "name": "stderr",
     "output_type": "stream",
     "text": [
      "C:\\Users\\mail\\anaconda3\\envs\\training\\lib\\site-packages\\sklearn\\linear_model\\_ridge.py:200: LinAlgWarning: Ill-conditioned matrix (rcond=4.01994e-08): result may not be accurate.\n",
      "  return linalg.solve(A, Xy, assume_a=\"pos\", overwrite_a=True).T\n"
     ]
    },
    {
     "name": "stdout",
     "output_type": "stream",
     "text": [
      "Alpha: 2.154434690031882, Score: 0.2791747437382481\n",
      "Alpha: 16.681005372000556, Score: 0.2911068886149836\n",
      "Alpha: 129.15496650148827, Score: 0.30756611443384446\n",
      "Alpha: 1000.0, Score: 0.30987083312017255\n",
      "Best alpha: 1000.0\n",
      "Readout layer fitted.\n",
      "Step: 0/35160\n",
      "Step: 10000/35160\n",
      "Step: 20000/35160\n",
      "Step: 5160/35160\n",
      "Shape of previous_states: (35160, 500)\n",
      "Cumulative samples shape: (562547, 7)\n",
      "ThreeHierarchyESN NMRSE: 0.2545069717583786\n"
     ]
    }
   ],
   "execution_count": 33
  },
  {
   "metadata": {
    "ExecuteTime": {
     "end_time": "2024-08-16T16:47:32.445708Z",
     "start_time": "2024-08-16T16:47:31.248126Z"
    }
   },
   "cell_type": "code",
   "source": [
    "# Create a classification report\n",
    "print(classification_report(y_test_decoded, y_pred_decoded))"
   ],
   "id": "9bf63d472a7b530c",
   "outputs": [
    {
     "name": "stdout",
     "output_type": "stream",
     "text": [
      "              precision    recall  f1-score   support\n",
      "\n",
      "           1       0.95      0.75      0.84    346581\n",
      "           3       0.09      0.60      0.16     19640\n",
      "           4       0.16      0.37      0.22      2708\n",
      "           5       0.00      0.52      0.01       370\n",
      "           6       0.87      0.40      0.55    141796\n",
      "           7       0.99      0.92      0.95     43204\n",
      "           8       0.99      1.00      0.99      8248\n",
      "\n",
      "    accuracy                           0.67    562547\n",
      "   macro avg       0.58      0.65      0.53    562547\n",
      "weighted avg       0.90      0.67      0.75    562547\n",
      "\n"
     ]
    }
   ],
   "execution_count": 34
  },
  {
   "metadata": {
    "ExecuteTime": {
     "end_time": "2024-08-16T16:47:33.784596Z",
     "start_time": "2024-08-16T16:47:32.523031Z"
    }
   },
   "cell_type": "code",
   "source": [
    "# Print the confusion matrix\n",
    "conf_matrix = confusion_matrix(y_test_decoded, y_pred_decoded)\n",
    "\n",
    "plt.figure(figsize=(10, 10))\n",
    "sns.heatmap(conf_matrix, annot=True, fmt='d', xticklabels=labels, yticklabels=labels, cmap='Blues')\n",
    "plt.xlabel('Predicted')\n",
    "plt.ylabel('True')\n",
    "plt.title('Windowed Confusion Matrix')\n",
    "plt.show()"
   ],
   "id": "49c00c6350c8c1f8",
   "outputs": [
    {
     "data": {
      "text/plain": [
       "<Figure size 1000x1000 with 2 Axes>"
      ],
      "image/png": "[encoded data removed]"
     },
     "metadata": {},
     "output_type": "display_data"
    }
   ],
   "execution_count": 35
  },
  {
   "metadata": {
    "ExecuteTime": {
     "end_time": "2024-08-16T16:47:34.827084Z",
     "start_time": "2024-08-16T16:47:33.817574Z"
    }
   },
   "cell_type": "code",
   "source": [
    "# Now a normalised confusion matrix\n",
    "conf_matrix_norm = conf_matrix / conf_matrix.sum(axis=1)[:, np.newaxis]\n",
    "\n",
    "plt.figure(figsize=(10, 10))\n",
    "sns.heatmap(conf_matrix_norm, annot=True, fmt='.2f', xticklabels=labels, yticklabels=labels, cmap='Blues')\n",
    "plt.xlabel('Predicted')\n",
    "plt.ylabel('True')\n",
    "plt.title('Normalised Windowed Confusion Matrix')\n",
    "plt.show()"
   ],
   "id": "4e3a5877c1874239",
   "outputs": [
    {
     "data": {
      "text/plain": [
       "<Figure size 1000x1000 with 2 Axes>"
      ],
      "image/png": "[encoded data removed]"
     },
     "metadata": {},
     "output_type": "display_data"
    }
   ],
   "execution_count": 36
  },
  {
   "metadata": {
    "ExecuteTime": {
     "end_time": "2024-08-16T16:47:34.874185Z",
     "start_time": "2024-08-16T16:47:34.860004Z"
    }
   },
   "cell_type": "code",
   "source": "",
   "id": "3a5dbc4caef61af",
   "outputs": [],
   "execution_count": null
  }
 ],
 "metadata": {
  "kernelspec": {
   "display_name": "Python 3",
   "language": "python",
   "name": "python3"
  },
  "language_info": {
   "codemirror_mode": {
    "name": "ipython",
    "version": 2
   },
   "file_extension": ".py",
   "mimetype": "text/x-python",
   "name": "python",
   "nbconvert_exporter": "python",
   "pygments_lexer": "ipython2",
   "version": "2.7.6"
  }
 },
 "nbformat": 4,
 "nbformat_minor": 5
}
